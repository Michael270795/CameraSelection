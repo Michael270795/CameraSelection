{
 "cells": [
  {
   "cell_type": "code",
   "execution_count": 1,
   "metadata": {},
   "outputs": [
    {
     "data": {
      "text/html": [
       "        <script type=\"text/javascript\">\n",
       "        window.PlotlyConfig = {MathJaxConfig: 'local'};\n",
       "        if (window.MathJax) {MathJax.Hub.Config({SVG: {font: \"STIX-Web\"}});}\n",
       "        if (typeof require !== 'undefined') {\n",
       "        require.undef(\"plotly\");\n",
       "        requirejs.config({\n",
       "            paths: {\n",
       "                'plotly': ['https://cdn.plot.ly/plotly-latest.min']\n",
       "            }\n",
       "        });\n",
       "        require(['plotly'], function(Plotly) {\n",
       "            window._Plotly = Plotly;\n",
       "        });\n",
       "        }\n",
       "        </script>\n",
       "        "
      ]
     },
     "metadata": {},
     "output_type": "display_data"
    },
    {
     "data": {
      "text/html": [
       "        <script type=\"text/javascript\">\n",
       "        window.PlotlyConfig = {MathJaxConfig: 'local'};\n",
       "        if (window.MathJax) {MathJax.Hub.Config({SVG: {font: \"STIX-Web\"}});}\n",
       "        if (typeof require !== 'undefined') {\n",
       "        require.undef(\"plotly\");\n",
       "        requirejs.config({\n",
       "            paths: {\n",
       "                'plotly': ['https://cdn.plot.ly/plotly-latest.min']\n",
       "            }\n",
       "        });\n",
       "        require(['plotly'], function(Plotly) {\n",
       "            window._Plotly = Plotly;\n",
       "        });\n",
       "        }\n",
       "        </script>\n",
       "        "
      ]
     },
     "metadata": {},
     "output_type": "display_data"
    }
   ],
   "source": [
    "# Test other ipywidgets\n",
    "import ipywidgets as widgets\n",
    "# important install appmode: https://github.com/oschuett/appmode\n",
    "# http://buklijas.info/blog/2018/10/01/making-web-apps-with-jupyter-notebook/\n",
    "# install aldr for panda excel extension\n",
    "from IPython.display import clear_output\n",
    "\n",
    "\n",
    "#plotly import\n",
    "import plotly.express as px\n",
    "# import der plotly library\n",
    "import plotly as py\n",
    "from plotly.offline import iplot, init_notebook_mode\n",
    "import plotly.graph_objs as go\n",
    "import cufflinks\n",
    "#cufflinks.go_offline(connected=True)\n",
    "init_notebook_mode(connected=True)\n",
    "cufflinks.go_offline()\n",
    "# Set global theme\n",
    "cufflinks.set_config_file(world_readable=True, theme='pearl')\n",
    "# import pandas\n",
    "import pandas as pd\n",
    "# show unlimited rows and columns\n",
    "pd.options.display.max_columns = None\n",
    "pd.options.display.max_rows = None\n",
    "# increase max column length to \n",
    "pd.options.display.max_colwidth = 100\n",
    "# interact for interactive module\n",
    "from ipywidgets import interact, interact_manual, Layout\n",
    "from ipywidgets import TwoByTwoLayout, HBox, Label, VBox\n",
    "# math for xeil operation\n",
    "import math"
   ]
  },
  {
   "cell_type": "code",
   "execution_count": 2,
   "metadata": {},
   "outputs": [],
   "source": [
    "# creation of image and text elements for later light selection\n",
    "\n",
    "text_image1 = widgets.HTML(value='Beleuchtungsanordnung:')\n",
    "text_image2 = widgets.HTML(value='Beispielapplikation:')\n",
    "\n",
    "Dom = widgets.Image(\n",
    "    value=open(\"Data/images/Dom.png\", 'rb').read(),\n",
    "    format='png',\n",
    "    width=400,\n",
    "    height=400,\n",
    ")\n",
    "Dom_bsp = widgets.Image(\n",
    "    value=open(\"Data/images/Dom_bsp.png\", 'rb').read(),\n",
    "    format='png',\n",
    "    width=900,\n",
    "    height=400,\n",
    ")\n",
    "Dunkelfeldbeleuchtung = widgets.Image(\n",
    "    value=open(\"Data/images/Dunkelfeldbeleuchtung.png\", 'rb').read(),\n",
    "    format='png',\n",
    "    width=400,\n",
    "    height=400,\n",
    ")\n",
    "Dunkelfeldbeleuchtung_bsp = widgets.Image(\n",
    "    value=open(\"Data/images/Dunkelfeldbeleuchtung_bsp.png\", 'rb').read(),\n",
    "    format='png',\n",
    "    width=900,\n",
    "    height=400,\n",
    ")\n",
    "DunkelfeldDurchlicht = widgets.Image(\n",
    "    value=open(\"Data/images/DunkelfeldDurchlicht.png\", 'rb').read(),\n",
    "    format='png',\n",
    "    width=400,\n",
    "    height=400,\n",
    ")\n",
    "DunkelfeldDurchlicht_bsp = widgets.Image(\n",
    "    value=open(\"Data/images/DunkelfeldDurchlicht_bsp.png\", 'rb').read(),\n",
    "    format='png',\n",
    "    width=900,\n",
    "    height=400,\n",
    ")\n",
    "DunkelfeldTransmissiv = widgets.Image(\n",
    "    value=open(\"Data/images/DunkelfeldTransmissiv.png\", 'rb').read(),\n",
    "    format='png',\n",
    "    width=400,\n",
    "    height=400,\n",
    ")\n",
    "DunkelfeldTransmissiv_bsp = widgets.Image(\n",
    "    value=open(\"Data/images/DunkelfeldTransmissiv_bsp.png\", 'rb').read(),\n",
    "    format='png',\n",
    "    width=900,\n",
    "    height=400,\n",
    ")\n",
    "Durchlichtdiffus = widgets.Image(\n",
    "    value=open(\"Data/images/Durchlichtdiffus.png\", 'rb').read(),\n",
    "    format='png',\n",
    "    width=400,\n",
    "    height=400,\n",
    ")\n",
    "Durchlichtdiffus_bsp_refl = widgets.Image(\n",
    "    value=open(\"Data/images/Durchlichtdiffus_bsp_refl.png\", 'rb').read(),\n",
    "    format='png',\n",
    "    width=900,\n",
    "    height=400,\n",
    ")\n",
    "Durchlichtdiffus_bsp_transp = widgets.Image(\n",
    "    value=open(\"Data/images/Durchlichtdiffus_bsp_transp.png\", 'rb').read(),\n",
    "    format='png',\n",
    "    width=900,\n",
    "    height=400,\n",
    ")\n",
    "Flachdom = widgets.Image(\n",
    "    value=open(\"Data/images/Flachdom.png\", 'rb').read(),\n",
    "    format='png',\n",
    "    width=400,\n",
    "    height=400,\n",
    ")\n",
    "Hellfeldbeleuchtung = widgets.Image(\n",
    "    value=open(\"Data/images/Hellfeldbeleuchtung.png\", 'rb').read(),\n",
    "    format='png',\n",
    "    width=400,\n",
    "    height=400,\n",
    ")\n",
    "Hellfeldbeleuchtung_bsp = widgets.Image(\n",
    "    value=open(\"Data/images/Hellfeldbeleuchtung_bsp.png\", 'rb').read(),\n",
    "    format='png',\n",
    "    width=900,\n",
    "    height=400,\n",
    ")\n",
    "Homogenkoaxial = widgets.Image(\n",
    "    value=open(\"Data/images/Homogenkoaxial.png\", 'rb').read(),\n",
    "    format='png',\n",
    "    width=400,\n",
    "    height=400,\n",
    ")\n",
    "Homogenkoaxial_bsp = widgets.Image(\n",
    "    value=open(\"Data/images/Homogenkoaxial_bsp.png\", 'rb').read(),\n",
    "    format='png',\n",
    "    width=900,\n",
    "    height=400,\n",
    ")\n",
    "Standardkoaxial = widgets.Image(\n",
    "    value=open(\"Data/images/Standardkoaxial.png\", \"rb\").read(),\n",
    "    format='png',\n",
    "    width=400,\n",
    "    height=400,\n",
    ")\n",
    "Standardkoaxial_bsp = widgets.Image(\n",
    "    value=open(\"Data/images/Standardkoaxial_bsp.png\", 'rb').read(),\n",
    "    format='png',\n",
    "    width=900,\n",
    "    height=400,\n",
    ")\n",
    "TelezentrischHintergrund = widgets.Image(\n",
    "    value=open(\"Data/images/TelezentrischHintergrund.png\", \"rb\").read(),\n",
    "    format='png',\n",
    "    width=400,\n",
    "    height=400,\n",
    ")\n",
    "TelezentrischHintergrund_bsp = widgets.Image(\n",
    "    value=open(\"Data/images/TelezentrischHintergrund_bsp.png\", 'rb').read(),\n",
    "    format='png',\n",
    "    width=900,\n",
    "    height=400,\n",
    ")\n",
    "TelezentrischKoaxial = widgets.Image(\n",
    "    value=open(\"Data/images/TelezentrischKoaxial.png\", \"rb\").read(),\n",
    "    format='png',\n",
    "    width=400,\n",
    "    height=400,\n",
    ")\n",
    "TelezentrischKoaxial_bsp = widgets.Image(\n",
    "    value=open(\"Data/images/TelezentrischKoaxial_bsp.png\", 'rb').read(),\n",
    "    format='png',\n",
    "    width=900,\n",
    "    height=400,\n",
    ")   \n",
    "\n",
    "\n",
    "# combining relevant images\n",
    "def Hellfeld_fct():\n",
    "    #Hellfeld\n",
    "    display(widgets.HTML('<a href=\"https://www.stemmer-imaging.com/de-de/produkte/kategorie/led-ringleuchten/\" target=\"_blank\"><b>Hellfeldbeleuchtung</b></a>'),\n",
    "            HBox([VBox([text_image1, Hellfeldbeleuchtung]), VBox([text_image2, Hellfeldbeleuchtung_bsp])]))\n",
    "def Standardkoaxial_fct():\n",
    "    #Standard koaxial\n",
    "    display(widgets.HTML('<a href=\"https://www.stemmer-imaging.com/de-de/produkte/kategorie/led-koaxialbeleuchtungen/\" target=\"_blank\"><b>Koaxialbeleuchtung</b></a>'),\n",
    "            HBox([VBox([text_image1, Standardkoaxial]), VBox([text_image2, Standardkoaxial_bsp])]))\n",
    "def Homogenkoaxial_fct():\n",
    "    #Homogenkoaxial\n",
    "    display(widgets.HTML('<a href=\"https://www.stemmer-imaging.com/de-de/produkte/kategorie/led-koaxialbeleuchtungen/\" target=\"_blank\"><b>Koaxialbeleuchtung, homogen</b></a>'),\n",
    "            HBox([VBox([text_image1, Homogenkoaxial]), VBox([text_image2, Homogenkoaxial_bsp])]))\n",
    "def Dom_fct():\n",
    "    #Dom\n",
    "    display(widgets.HTML('<a href=\"https://www.stemmer-imaging.com/de-de/produkte/kategorie/led-dom-beleuchtungen/\" target=\"_blank\"><b>Dombeleuchtung</b></a>'),\n",
    "            HBox([VBox([text_image1, Dom]), VBox([text_image2, Dom_bsp])]))\n",
    "def Flachdom_fct():\n",
    "    # Flachdom\n",
    "    display(widgets.HTML('<a href=\"https://www.stemmer-imaging.com/de-de/produkte/serie/ccs-ldr2/\" target=\"_blank\"><b>Flachdom</b></a>'),\n",
    "            HBox([VBox([text_image1, Flachdom]), VBox([text_image2, Dom_bsp])]))\n",
    "def TelezentrischKoaxial_fct():\n",
    "    #Telezentrisch Koaxial\n",
    "    display(widgets.HTML('<a href=\"https://www.stemmer-imaging.com/de-de/produkte/kategorie/telezentrische-led-beleuchtungen/\" target=\"_blank\"><b>Koaxialbeleuchtung, Telezentrisch</b></a>'),\n",
    "            HBox([VBox([text_image1, TelezentrischKoaxial]), VBox([text_image2, TelezentrischKoaxial_bsp])]))\n",
    "def Dunkelfeldbeleuchtung_fct():\n",
    "    #Dunkelfeld\n",
    "    display(widgets.HTML('<a href=\"https://www.stemmer-imaging.com/de-de/produkte/kategorie/led-dunkelfeldbeleuchtungen/\" target=\"_blank\"><b>Dunkelfeld, Auflicht</b></a>'),\n",
    "            HBox([VBox([text_image1, Dunkelfeldbeleuchtung]), VBox([text_image2, Dunkelfeldbeleuchtung_bsp])]))\n",
    "def DunkelfeldDurchlicht_fct():\n",
    "    #Dunkelfeld Durchlicht\n",
    "    display(widgets.HTML('<a href=\"https://www.stemmer-imaging.com/de-de/produkte/kategorie/led-dunkelfeldbeleuchtungen/\" target=\"_blank\"><b>Dunkelfeld, Hintergrundbeleuchtung</b></a>'),\n",
    "            HBox([VBox([text_image1, DunkelfeldDurchlicht]), VBox([text_image2, DunkelfeldDurchlicht_bsp])]))\n",
    "def DunkelfeldTransmissiv_fct():\n",
    "    # Dunkelfeldtransmissiv\n",
    "    display(widgets.HTML('<a href=\"https://www.stemmer-imaging.com/de-de/produkte/kategorie/led-dunkelfeldbeleuchtungen/\" target=\"_blank\"><b>Dunkelfeld, Transmissiv</b></a>'),\n",
    "            HBox([VBox([text_image1, DunkelfeldTransmissiv]), VBox([text_image2, DunkelfeldTransmissiv_bsp])]))\n",
    "def Durchlichtdiffus_refl_fct():\n",
    "    # Durchlicht Diffus, reflektiv\n",
    "    display(widgets.HTML('<a href=\"https://www.stemmer-imaging.com/de-de/produkte/kategorie/led-leuchtfelder-fuer-durchlicht-anwendungen/\" target=\"_blank\"><b>Durchlicht, Diffus </b></a>'),\n",
    "            HBox([VBox([text_image1, Durchlichtdiffus]), VBox([text_image2, Durchlichtdiffus_bsp_refl])]))\n",
    "def Durchlichtdiffus_transp_fct():\n",
    "    # Durchlicht Diffus, transparent\n",
    "    display(widgets.HTML('<a href=\"https://www.stemmer-imaging.com/de-de/produkte/kategorie/led-leuchtfelder-fuer-durchlicht-anwendungen/\" target=\"_blank\"><b>Durchlicht, Diffus </b></a>'),\n",
    "            HBox([VBox([text_image1, Durchlichtdiffus]), VBox([text_image2, Durchlichtdiffus_bsp_transp])]))\n",
    "def TelezentrischHintergrund_fct():\n",
    "    #Telezentrisch Hintergrund\n",
    "    display(widgets.HTML('<a href=\"https://www.stemmer-imaging.com/de-de/produkte/kategorie/telezentrische-led-beleuchtungen/\" target=\"_blank\"><b>Durchlicht, Telezentrisch</b></a>'),\n",
    "            HBox([VBox([text_image1, TelezentrischHintergrund]), VBox([text_image2, TelezentrischHintergrund_bsp])]))\n",
    "def show_all_light():\n",
    "    Hellfeld_fct()\n",
    "    Standardkoaxial_fct()\n",
    "    Homogenkoaxial_fct()\n",
    "    Dom_fct()\n",
    "    Flachdom_fct()\n",
    "    TelezentrischKoaxial_fct()\n",
    "    Dunkelfeldbeleuchtung_fct()\n",
    "    DunkelfeldDurchlicht_fct()\n",
    "    DunkelfeldTransmissiv_fct()\n",
    "    Durchlichtdiffus_refl_fct()\n",
    "    Durchlichtdiffus_transp_fct()\n",
    "    TelezentrischHintergrund_fct()    "
   ]
  },
  {
   "cell_type": "markdown",
   "metadata": {},
   "source": [
    "# Entscheidungshilfe zur Anwendungsfall-spezifischen Auswahl von Hardware für industrielle Bildverarbeitung"
   ]
  },
  {
   "cell_type": "markdown",
   "metadata": {},
   "source": [
    "Die folgenden Fragen helfen Ihnen bei der Auwahl von Kamera, Objektiv und Beleuchtungsanordnung in Abhängigkeit Ihres individuellen Anwendungsfalls. In den Auswahlschritten 2) und 4) werden Ihnen in Abhängigkeit ihres Anwendungsfalls konkrete Produkte vorgeschlagen. Geeignete Produkte sind in den entsprechenden Tabellen nach Preisen sortiert, sodass Ihnen automatisch zunächst das günstigste geeignete Produkt vorgeschlagen wird. \n",
    "\n",
    "Zusätzliche Erklärungen zu den Fragestellungen finden Sie unter \"Info einblenden\"."
   ]
  },
  {
   "cell_type": "code",
   "execution_count": 3,
   "metadata": {},
   "outputs": [
    {
     "data": {
      "application/vnd.jupyter.widget-view+json": {
       "model_id": "6d07592bf5f5480588e3c7f3963ce113",
       "version_major": 2,
       "version_minor": 0
      },
      "text/plain": [
       "Button(description='Info einblenden', style=ButtonStyle(), tooltip='Click me')"
      ]
     },
     "metadata": {},
     "output_type": "display_data"
    }
   ],
   "source": [
    "intro = parallel = widgets.HTML(value='<b>Relevante Größen zur Spezifizierung des Anwendungsfalls:</b>')\n",
    "instruction = widgets.HTML('''\n",
    "<ul><li><strong>Sichtfeldgr&ouml;&szlig;e (Fragen 2.1 + 2.2)</strong>: Die Sichtfeldgr&ouml;&szlig;e beschreibt L&auml;nge und Breite des relevanten Objektes bzw. Objektbereiches aus Kameraperspektive. Ist ein Objekt in seiner Position variabel, so sollte die Sichtfeldgr&ouml;&szlig;e ausreichend &uuml;berdimensioniert sein, um das Objekt in jeder Position vollst&auml;ndig zu beinhalten.</li>\n",
    "<li><strong>Minimal ben&ouml;tigte Detailgr&ouml;&szlig;e (2.3):</strong> Hierbei ist zu spezifizieren, wie gro&szlig; das kleinste noch scharf aufzul&ouml;sende Detail ist. Handelt es sich etwa um eine Messanwendung mit einer ben&ouml;tigten Genauigkeit von 0,1 mm, so ist diese als minimal ben&ouml;tigte Detailgr&ouml;&szlig;e anzugeben.</li>\n",
    "<li><strong>Anzahl zu &uuml;berpr&uuml;fende Objekte pro Zeiteinheit (2.4):</strong> Die Bildaufnahmerate entspricht der Taktrate, mit welcher Objekte visuell zu kontrollieren sind. Sie h&auml;ngt von der Prozessintegration des BV-Systems in die Produktionslinie ab. Sollen etwa 120 Objekte pro Minute kontrolliert werden, so sind 2 Bilder pro Sekunde aufzunehmen (Unter der Annahme, dass von jedem Objekt ein Bild aufgenommen werden soll).</li>\n",
    "<li><strong>Objektgeschwindigkeit (2.5):</strong> Je nach Prozessintegration kann die Geschwindigkeit des Objektes relativ zur Kamera im Moment der Bildaufnahme gleich oder gr&ouml;&szlig;er null sein. Objektgeschwindigkeiten gr&ouml;&szlig;er null treten z. B. auf, wenn Objekte kontinuierlich auf einem Flie&szlig;band an der Kamera vorbeibewegt werden. Kameras mit Rolling Shutter Mechanismus sind f&uuml;r solche Anwendungen nicht geeignet. Zudem&nbsp;hat die Objektgeschwindigkeit&nbsp;Einfluss auf die maximal erlaubte Belichtungszeit</li>\n",
    "<li><strong>Kontrastumfang / Helligkeit (2.6):</strong> Der Kontrast bezeichnet das Verh&auml;ltnis von hellstem zu dunkelstem Farbwert, der in einem Bild wiedergegeben werden m&uuml;ssen. Bei Objekten mit einheitlicher Oberfl&auml;che ist dieser gering und f&uuml;r die Anwendung unkritisch. Ein hoher Kontrastumfang ist jedoch bei pr&auml;zisen Farbbestimmungen oder Anwendungen wichtig, bei denen im Sichtbereich sowohl stark reflektierende als auch stark absorbierende Oberfl&auml;chen vorkommen. In einem solchen Fall sollte die Auswahl \"Hoher Kontrast\" gew&auml;hlt werden. <br />Sind bei einem Anwendungsfall die Lichtverh&auml;ltnisse schlecht, d.h. es ist relativ dunkel, so sollte die Auswahl \"Wenig Licht\" getroffen werden. Dieser Fall ist in der industriellen Produktion jedoch selten gegeben, da normalerweise externe Beleuchtungssysteme verwendet werden.<br />Ist keiner dieser beiden Spezialf&auml;lle zutreffend, so ist die Auswahl \"Normal\" empfohlen. In Abh&auml;ngigkeit der getroffenen Auswahl werden Kameras bzgl. ihrer Pixelgr&ouml;&szlig;e selektiert.&nbsp;</li>\n",
    "<li><strong>Arbeitsabstand (4.1): </strong>Der Arbeitsabstand bezeichnet den Abstand zwischen Sch&auml;rfeebene des Objektes und Objektivfront. Dieser richtet sich nach r&auml;umlichen Einschr&auml;nkungen in der Produktionsumgebung (Wieviel Bauraum ist gegeben? Wie nah am Objekt kann man ein Kamerasystem installieren?). F&uuml;r den Anwendungsfall sind minimal und maximal erlaubter Arbeitsabstand zu spezifizieren.</li>\n",
    "<li><strong>Objekttiefe (4.2):&nbsp;</strong>Hierbei ist anzugeben, welcher Tiefenbereich des Objektes aus Kameraperspektive gleichm&auml;&szlig;ig scharf abzubilden ist (siehe Abbildung oben). Dabei ist zu beachten, dass lediglich f&uuml;r die Inspektionsaufgabe relevante Bereiche scharf dargestellt sein m&uuml;ssen.</li>\n",
    "<li><strong>Objektform (5.1): </strong>Hier&nbsp;ist zu spezifizieren, ob ein Objekt eine flache (z. B. M&uuml;nze) oder eine komplexere, dreidimensionale Form hat (z.&nbsp;B. Kugel oder Flasche)</li>\n",
    "<li><strong>Reflexionseigenschaften des Objektes (5.2): </strong>Im Rahmen der Auswahllogik ist vereinfacht lediglich zwischen Licht reflektierenden und Licht transmittierenden Objekten zu unterscheiden.</li>\n",
    "<li><strong>Helligkeit von (nicht-) parallelen Objektfl&auml;chen (5.3 + 5.4):</strong>&nbsp;Je nach Anwendungsfall sind unterschiedliche Merkmale eines Objektes f&uuml;r die visuelle Qualit&auml;tskontrolle relevant. Diese Merkmale k&ouml;nnen parallel zum Bildsensor liegen (z. B. Aufdruck einer flach liegenden Karte) oder aber nicht-parallel sein (z. B. Rundungen, Kanten oder Teilbereiche eines wellenf&ouml;rmigen Objekts). Relevante Merkmale sollten sich, falls m&ouml;glich, von nicht-relevanten Merkmalen abheben. Dazu m&uuml;ssen sich diese in ihren Helligkeitswerten unterscheiden (also heller oder dunkler als nicht-relevante Objektbereiche sein). Soll etwa ein Objekt vermessen werden, so ist es praktisch, wenn die Objektkanten (nicht-parallele Objektfl&auml;chen) sich vom Rest des Objektes auf dem Bild hell abheben. Parallele Objektfl&auml;chen sollten entsprechend dunkler dargestellt werden. Es kann jedoch ratsam sein, sowohl parallele als auch nicht-parallele Fl&auml;chen gleichm&auml;&szlig;ig hell abzubilden. Dies ist z. B. ratsam, wenn man den Aufdruck einer gewellten Verpackung auf dem Bild lesen k&ouml;nnen m&ouml;chte.</li>\n",
    "</ul>''')\n",
    "\n",
    "parallel = widgets.HTML(value='<center>Helle Darstellung von parallelen Flächen</center>')\n",
    "nonparallel = widgets.HTML(value='<center>Helle Darstellung von nicht-parallelen Flächen</center>')\n",
    "\n",
    "overview = widgets.Image(\n",
    "    value=open(\"Data/images/Erklaerung_Parameter.png\", 'rb').read(),\n",
    "    format='png',\n",
    "    width=764,\n",
    "    height=450,\n",
    ")\n",
    "info_b = widgets.Button(\n",
    "    description='Info einblenden',\n",
    "    disabled=False,\n",
    "    button_style='', # 'success', 'info', 'warning', 'danger' or ''\n",
    "    tooltip='Click me'\n",
    ")\n",
    "\n",
    "\n",
    "info_inactive = False\n",
    "\n",
    "            \n",
    "def Info_qb(change):\n",
    "    global info_inactive\n",
    "    if info_inactive:\n",
    "        clear_output(wait=True)\n",
    "        info_b.description='Info einblenden'\n",
    "        display(info_b) \n",
    "        info_inactive = False \n",
    "    else:        \n",
    "        clear_output(wait=True)\n",
    "        info_b.description='Info ausblenden'\n",
    "        display(info_b)\n",
    "        display(overview) \n",
    "        display(intro)\n",
    "        display(instruction)\n",
    "        display(HBox([VBox([parallel,Hellfeldbeleuchtung_bsp ]), VBox([nonparallel, Dunkelfeldbeleuchtung_bsp])]))\n",
    "        info_inactive = True \n",
    "    #Info_fct()        \n",
    "\n",
    "        \n",
    "info_b.on_click(Info_qb)\n",
    "display(info_b)"
   ]
  },
  {
   "cell_type": "markdown",
   "metadata": {},
   "source": [
    "## 1) Vorauswahl Kamera"
   ]
  },
  {
   "cell_type": "markdown",
   "metadata": {},
   "source": [
    "Bitte beantworten Sie die folgenden Fragen zur allgemeinen Charakterisierung des Anwendungsfalls:"
   ]
  },
  {
   "cell_type": "code",
   "execution_count": 4,
   "metadata": {},
   "outputs": [
    {
     "data": {
      "application/vnd.jupyter.widget-view+json": {
       "model_id": "fb053e01c3664502a3f582a871be7be7",
       "version_major": 2,
       "version_minor": 0
      },
      "text/plain": [
       "HTML(value='1) Sind die zu überprüfenden Merkmale im menschlich sichtbaren Spektralbereich erkennbar?')"
      ]
     },
     "metadata": {},
     "output_type": "display_data"
    },
    {
     "data": {
      "application/vnd.jupyter.widget-view+json": {
       "model_id": "d772b1b5b37340e897185b27acb213cb",
       "version_major": 2,
       "version_minor": 0
      },
      "text/plain": [
       "Dropdown(description='Antwort:', options=('Ja', 'Nein, sie könnten aber anhand ihrer chemischen Zusammensetzun…"
      ]
     },
     "metadata": {},
     "output_type": "display_data"
    },
    {
     "data": {
      "application/vnd.jupyter.widget-view+json": {
       "model_id": "81120cbc99274259a442aa45432de81c",
       "version_major": 2,
       "version_minor": 0
      },
      "text/plain": [
       "HTML(value='2) Bedarf es zur Bildanalyse Farbinformationen oder sind monochromatische Bilder (schwarz-weiß) au…"
      ]
     },
     "metadata": {},
     "output_type": "display_data"
    },
    {
     "data": {
      "application/vnd.jupyter.widget-view+json": {
       "model_id": "6e5d2dac1dbd44f2bd87aacf797a1655",
       "version_major": 2,
       "version_minor": 0
      },
      "text/plain": [
       "Dropdown(description='Antwort:', options=('Ja, monochromatische Bilder sind ausreichend.', 'Die Aufgabe bedarf…"
      ]
     },
     "metadata": {},
     "output_type": "display_data"
    },
    {
     "data": {
      "application/vnd.jupyter.widget-view+json": {
       "model_id": "0c0f59369ac3495ca21ce5ee1215db1d",
       "version_major": 2,
       "version_minor": 0
      },
      "text/plain": [
       "HTML(value='3) Soll ein 3D-Profil des Objekts erstellt werden oder ist ein 2D-Bild ausreichend?')"
      ]
     },
     "metadata": {},
     "output_type": "display_data"
    },
    {
     "data": {
      "application/vnd.jupyter.widget-view+json": {
       "model_id": "5e6a9680420c404289ff5c2aa98f79ae",
       "version_major": 2,
       "version_minor": 0
      },
      "text/plain": [
       "Dropdown(description='Antwort:', options=('Ein normales 2D-Bild reicht aus', 'Es soll ein 3D-Profil erstellt w…"
      ]
     },
     "metadata": {},
     "output_type": "display_data"
    },
    {
     "data": {
      "application/vnd.jupyter.widget-view+json": {
       "model_id": "010f4419197743cc8d9d5e330eeb10f3",
       "version_major": 2,
       "version_minor": 0
      },
      "text/plain": [
       "HTML(value='4) Ist das zu überprüfenden Objekt kontinuierlicher Art (Rollenware wie z. B. Folien oder Bleche) …"
      ]
     },
     "metadata": {},
     "output_type": "display_data"
    },
    {
     "data": {
      "application/vnd.jupyter.widget-view+json": {
       "model_id": "ae7dcaf99a8749569161116c98434c38",
       "version_major": 2,
       "version_minor": 0
      },
      "text/plain": [
       "Dropdown(description='Antwort:', options=('Nein', 'Ja'), value='Nein')"
      ]
     },
     "metadata": {},
     "output_type": "display_data"
    },
    {
     "data": {
      "application/vnd.jupyter.widget-view+json": {
       "model_id": "11a58cabb7ae4e919520bd1c80faca34",
       "version_major": 2,
       "version_minor": 0
      },
      "text/plain": [
       "HTML(value='5) Ist das zu überprüfende Objekt zylindrischer Art, und soll dessen komplette Mantelfläche überpr…"
      ]
     },
     "metadata": {},
     "output_type": "display_data"
    },
    {
     "data": {
      "application/vnd.jupyter.widget-view+json": {
       "model_id": "7817df7c36ce4f7bb0bed92e4810f5d5",
       "version_major": 2,
       "version_minor": 0
      },
      "text/plain": [
       "Dropdown(description='Antwort:', options=('Nein', 'Ja'), value='Nein')"
      ]
     },
     "metadata": {},
     "output_type": "display_data"
    },
    {
     "data": {
      "application/vnd.jupyter.widget-view+json": {
       "model_id": "95665a0714ae4aa896f9a76cb90c994c",
       "version_major": 2,
       "version_minor": 0
      },
      "text/plain": [
       "HTML(value='<b>Empfehlung: 2D Verarbeitung, monochromatisch')"
      ]
     },
     "metadata": {},
     "output_type": "display_data"
    },
    {
     "data": {
      "application/vnd.jupyter.widget-view+json": {
       "model_id": "56ce57c390ac455a983edb35f1f6d62f",
       "version_major": 2,
       "version_minor": 0
      },
      "text/plain": [
       "HTML(value='<b><br><br>')"
      ]
     },
     "metadata": {},
     "output_type": "display_data"
    }
   ],
   "source": [
    "# function image upload\n",
    "text1 = widgets.HTML(value='1) Sind die zu überprüfenden Merkmale im menschlich sichtbaren Spektralbereich erkennbar?')\n",
    "text2 = widgets.HTML(value='2) Bedarf es zur Bildanalyse Farbinformationen oder sind monochromatische Bilder (schwarz-weiß) ausreichend?')\n",
    "text3 = widgets.HTML(value='3) Soll ein 3D-Profil des Objekts erstellt werden oder ist ein 2D-Bild ausreichend?')\n",
    "text4 = widgets.HTML(value='4) Ist das zu überprüfenden Objekt kontinuierlicher Art (Rollenware wie z. B. Folien oder Bleche) und wird mit hoher Geschwindigkeit im Sichtfeld der Kamera bewegt?')\n",
    "text5 = widgets.HTML(value='5) Ist das zu überprüfende Objekt zylindrischer Art, und soll dessen komplette Mantelfläche überprüft werden (z.B. Etikett auf einer Flasche)?')\n",
    "doublebreak = widgets.HTML(value='<b><br><br>')\n",
    "\n",
    "options_q1=['Ja', 'Nein, sie könnten aber anhand ihrer chemischen Zusammensetzung differenziert werden.', 'Nein, die zu auflösende Detailgröße ist kleiner als 500nm.'] \n",
    "options_q2=['Ja, monochromatische Bilder sind ausreichend.', 'Die Aufgabe bedarf spezifischer Farbinformationen (d.h. relevante Farbmerkmale können nicht aus Grauwerten gewonnen werden).']\n",
    "options_q3=['Nein','Ja']\n",
    "options_q4=['Ein normales 2D-Bild reicht aus','Es soll ein 3D-Profil erstellt werden']\n",
    "\n",
    "colour = 'Monochrome' # important: referenced in other code samples\n",
    "\n",
    "q1 = widgets.Dropdown(\n",
    "    options= options_q1,\n",
    "    value=options_q1[0],\n",
    "    description='Antwort:',\n",
    "    disabled=False,\n",
    ")\n",
    "q2 = widgets.Dropdown(\n",
    "    options= options_q2,\n",
    "    value=options_q2[0],\n",
    "    description='Antwort:',\n",
    "    disabled=False,\n",
    ")\n",
    "q3 = widgets.Dropdown(\n",
    "    options= options_q4,\n",
    "    value=options_q4[0],\n",
    "    description='Antwort:',\n",
    "    disabled=False,\n",
    ")\n",
    "q4 = widgets.Dropdown(\n",
    "    options= options_q3,\n",
    "    value=options_q3[0],\n",
    "    description='Antwort:',\n",
    "    disabled=False,\n",
    ")\n",
    "q5 = widgets.Dropdown(\n",
    "    options= options_q3,\n",
    "    value=options_q3[0],\n",
    "    description='Antwort:',\n",
    "    disabled=False,\n",
    ")\n",
    "# decision logic\n",
    "def result():\n",
    "    global colour\n",
    "    r1 = q1.value\n",
    "    r2 = q2.value\n",
    "    r3 = q3.value\n",
    "    r4 = q4.value\n",
    "    r5 = q5.value\n",
    "       \n",
    "    if r3 == options_q4[1]: #3D\n",
    "        results = widgets.HTML(value='<b>Empfehlung: 3D Verarbeitung')\n",
    "    else:\n",
    "        if (r4 == options_q3[0] and r5 == options_q3[0]): #2D\n",
    "            #results = widgets.HTML(value='2D Verarbeitung')\n",
    "            if r1 == options_q1[0]: # human visible\n",
    "                if r2 == options_q2[0]: # mono\n",
    "                    results = widgets.HTML(value='<b>Empfehlung: 2D Verarbeitung, monochromatisch')\n",
    "                    colour = 'Monochrome'\n",
    "                else:\n",
    "                    results = widgets.HTML(value='<b>Empfehlung: 2D Verarbeitung, farbig')\n",
    "                    colour = 'Colour'\n",
    "            if r1 == options_q1[1]: # IR\n",
    "                results = widgets.HTML(value='<b>Empfehlung: 2D Verarbeitung, hyperspektral')\n",
    "            if r1 == options_q1[2]: # UV\n",
    "                results = widgets.HTML(value='<b>Empfehlung: 2D Verarbeitung, UV')\n",
    "        else: # 1D    \n",
    "            #results = widgets.HTML(value='1D Verarbeitung')\n",
    "            if r1 == options_q1[0]: # human visible\n",
    "                if r2 == options_q2[0]: # mono\n",
    "                    results = widgets.HTML(value='<b>Empfehlung: 1D Verarbeitung, monochromatisch')\n",
    "                    colour = 'Monochrome'\n",
    "                else:\n",
    "                    results = widgets.HTML(value='<b>Empfehlung: 1D Verarbeitung, farbig')\n",
    "                    colour = 'Colour'\n",
    "            if r1 == options_q1[1]: # IR\n",
    "                results = widgets.HTML(value='<b>Empfehlung: 1D Verarbeitung, hyperspektral')\n",
    "            if r1 == options_q1[2]: # UV\n",
    "                results = widgets.HTML(value='<b>Empfehlung: 1D Verarbeitung, UV')\n",
    "    #    \n",
    "    clear_output(wait=True)\n",
    "    display(text1, q1, text2, q2, text3, q3, text4, q4, text5, q5, results, doublebreak)\n",
    "           \n",
    "\n",
    "def on_change(change):\n",
    "    if change['type'] == 'change' and change['name'] == 'value':\n",
    "        result()\n",
    "\n",
    "\n",
    "#display(text1,q1,text2,q2,text3,q3,text4,q4,text5,q5)        \n",
    "\n",
    "#r1 = q1.value\n",
    "#r2 = q2.value\n",
    "#r3 = q3.value\n",
    "#r4 = q4.value\n",
    "#r5 = q5.value\n",
    "\n",
    "q1.observe(on_change)\n",
    "q2.observe(on_change)\n",
    "q3.observe(on_change)\n",
    "q4.observe(on_change)\n",
    "q5.observe(on_change)\n",
    "\n",
    "result()"
   ]
  },
  {
   "cell_type": "code",
   "execution_count": null,
   "metadata": {},
   "outputs": [],
   "source": []
  },
  {
   "cell_type": "code",
   "execution_count": null,
   "metadata": {},
   "outputs": [],
   "source": []
  },
  {
   "cell_type": "code",
   "execution_count": null,
   "metadata": {},
   "outputs": [],
   "source": []
  },
  {
   "cell_type": "markdown",
   "metadata": {},
   "source": [
    "## 2) Auswahl Kameramodell"
   ]
  },
  {
   "cell_type": "code",
   "execution_count": 5,
   "metadata": {},
   "outputs": [],
   "source": [
    "cameras = pd.read_excel('Data/cameras_v2.xls')\n",
    "cameras['Objektivanschluss'] = cameras['Objektivanschluss'].astype('str') "
   ]
  },
  {
   "cell_type": "markdown",
   "metadata": {},
   "source": [
    "Falls ihr Anwendungsfall für 2D-Bildverarbeitung geeignet ist, spezifizieren Sie bitte die folgenden Fragen zur Auswahl eines konkreten Kameramodells."
   ]
  },
  {
   "cell_type": "code",
   "execution_count": 32,
   "metadata": {
    "scrolled": false
   },
   "outputs": [
    {
     "data": {
      "application/vnd.jupyter.widget-view+json": {
       "model_id": "be483aefe2df4bb5b16209c6fd82befa",
       "version_major": 2,
       "version_minor": 0
      },
      "text/plain": [
       "HTML(value='<b>A) Spezifikation Anwendungsfall____________________________________________ </b>')"
      ]
     },
     "metadata": {},
     "output_type": "display_data"
    },
    {
     "data": {
      "application/vnd.jupyter.widget-view+json": {
       "model_id": "dbeb343b4f6f4c579698bca122afc698",
       "version_major": 2,
       "version_minor": 0
      },
      "text/plain": [
       "HTML(value='1) Wie groß ist das benötigte Sichtfeld in x-Richtung? (Objekt inkl. Randbereich)')"
      ]
     },
     "metadata": {},
     "output_type": "display_data"
    },
    {
     "data": {
      "application/vnd.jupyter.widget-view+json": {
       "model_id": "d5f0e302164c43779670bb8d113deca7",
       "version_major": 2,
       "version_minor": 0
      },
      "text/plain": [
       "BoundedFloatText(value=10.0, description='x-Wert [cm]', max=2000.0, min=0.1, step=1.0)"
      ]
     },
     "metadata": {},
     "output_type": "display_data"
    },
    {
     "data": {
      "application/vnd.jupyter.widget-view+json": {
       "model_id": "e8319b70750e43709f0106ecf1d5ffdd",
       "version_major": 2,
       "version_minor": 0
      },
      "text/plain": [
       "HTML(value='2) Wie groß ist das benötigte Sichtfeld in y-Richtung? (Objekt inkl. Randbereich)')"
      ]
     },
     "metadata": {},
     "output_type": "display_data"
    },
    {
     "data": {
      "application/vnd.jupyter.widget-view+json": {
       "model_id": "dc7e568766554d03877727864c7cfacf",
       "version_major": 2,
       "version_minor": 0
      },
      "text/plain": [
       "BoundedFloatText(value=12.0, description='y-Wert [cm]', max=1000.0, min=0.01, step=1.0)"
      ]
     },
     "metadata": {},
     "output_type": "display_data"
    },
    {
     "data": {
      "application/vnd.jupyter.widget-view+json": {
       "model_id": "3798642b07154d1d8a36aee505cfdd5a",
       "version_major": 2,
       "version_minor": 0
      },
      "text/plain": [
       "HTML(value='3) Wie groß ist das kleinste aufzulösende Detail des Objektes?')"
      ]
     },
     "metadata": {},
     "output_type": "display_data"
    },
    {
     "data": {
      "application/vnd.jupyter.widget-view+json": {
       "model_id": "713617e19bf24267be4a97118505f896",
       "version_major": 2,
       "version_minor": 0
      },
      "text/plain": [
       "BoundedFloatText(value=0.25, description='Wert [mm]', max=10.0, min=0.01, step=0.01)"
      ]
     },
     "metadata": {},
     "output_type": "display_data"
    },
    {
     "data": {
      "application/vnd.jupyter.widget-view+json": {
       "model_id": "a0513873325846d08aafd4ccbc1251ac",
       "version_major": 2,
       "version_minor": 0
      },
      "text/plain": [
       "HTML(value='4) Wie viele Bilder müssen maximal pro Sekunde gemacht werden?')"
      ]
     },
     "metadata": {},
     "output_type": "display_data"
    },
    {
     "data": {
      "application/vnd.jupyter.widget-view+json": {
       "model_id": "ebe1e7419fd246ce8db40c7c68cbac07",
       "version_major": 2,
       "version_minor": 0
      },
      "text/plain": [
       "BoundedFloatText(value=5.0, description='Wert [1/s]', max=5000.0, min=0.01, step=0.01)"
      ]
     },
     "metadata": {},
     "output_type": "display_data"
    },
    {
     "data": {
      "application/vnd.jupyter.widget-view+json": {
       "model_id": "a8496b57742f4eda8aa47b99eb87a2e1",
       "version_major": 2,
       "version_minor": 0
      },
      "text/plain": [
       "HTML(value='5) Bewegt sich das Objekt kontinuierlich fort (Fließmontage)? Falls ja, mit welcher Geschwindigkei…"
      ]
     },
     "metadata": {},
     "output_type": "display_data"
    },
    {
     "data": {
      "application/vnd.jupyter.widget-view+json": {
       "model_id": "a704afab0eee477781c350fa28435721",
       "version_major": 2,
       "version_minor": 0
      },
      "text/plain": [
       "BoundedFloatText(value=20.0, description='Wert [cm/s]', max=5000.0, min=0.1, step=0.01)"
      ]
     },
     "metadata": {},
     "output_type": "display_data"
    },
    {
     "data": {
      "application/vnd.jupyter.widget-view+json": {
       "model_id": "cfe77ee799064a50b865befa6b86c810",
       "version_major": 2,
       "version_minor": 0
      },
      "text/plain": [
       "Checkbox(value=True, description='Kontinuierliche Bewegung')"
      ]
     },
     "metadata": {},
     "output_type": "display_data"
    },
    {
     "data": {
      "application/vnd.jupyter.widget-view+json": {
       "model_id": "426642a4b3484341b7abe4b5fc03de1d",
       "version_major": 2,
       "version_minor": 0
      },
      "text/plain": [
       "HTML(value='6) Bitte wählen Sie die zutreffendste Beschreibung der Lichtverhältnisse der Prüfszene:')"
      ]
     },
     "metadata": {},
     "output_type": "display_data"
    },
    {
     "data": {
      "application/vnd.jupyter.widget-view+json": {
       "model_id": "34d09aac92a64fbdb34b5337be182745",
       "version_major": 2,
       "version_minor": 0
      },
      "text/plain": [
       "ToggleButtons(index=1, options=('Wenig Licht', 'Normal', 'Hoher Kontrast'), tooltips=('', '', ''), value='Norm…"
      ]
     },
     "metadata": {},
     "output_type": "display_data"
    },
    {
     "data": {
      "application/vnd.jupyter.widget-view+json": {
       "model_id": "38dcf2a4c8c6425a8a50d6bef5b0b3cd",
       "version_major": 2,
       "version_minor": 0
      },
      "text/plain": [
       "HTML(value='<b><br>B) Übersicht geeigneter Kameras & Detailspezifikation________________________________</b>')"
      ]
     },
     "metadata": {},
     "output_type": "display_data"
    },
    {
     "data": {
      "application/vnd.jupyter.widget-view+json": {
       "model_id": "9d6bcd43c1f742ce94fe9603e4767ab8",
       "version_major": 2,
       "version_minor": 0
      },
      "text/plain": [
       "HTML(value='<b>Mindestanforderungen:</b> Horizontale Auflösung: 960 px, Vertikale Auflösung: 800 px, Auflösung…"
      ]
     },
     "metadata": {},
     "output_type": "display_data"
    },
    {
     "data": {
      "application/vnd.plotly.v1+json": {
       "config": {
        "plotlyServerURL": "https://plot.ly"
       },
       "data": [
        {
         "customdata": [
          [
           4890
          ],
          [
           5190
          ],
          [
           7490
          ],
          [
           7790
          ],
          [
           2200
          ],
          [
           2200
          ],
          [
           2200
          ],
          [
           2200
          ],
          [
           2390
          ],
          [
           1900
          ],
          [
           1370
          ],
          [
           2250
          ],
          [
           1750
          ],
          [
           2350
          ],
          [
           2350
          ],
          [
           2080
          ],
          [
           1390
          ],
          [
           2500
          ],
          [
           1490
          ],
          [
           2270
          ],
          [
           1450
          ],
          [
           1550
          ],
          [
           2190
          ],
          [
           2290
          ],
          [
           3990
          ],
          [
           4450
          ],
          [
           4290
          ],
          [
           4770
          ],
          [
           1050
          ],
          [
           890
          ],
          [
           1170
          ],
          [
           399
          ],
          [
           449
          ],
          [
           1189
          ],
          [
           1089
          ],
          [
           549
          ],
          [
           1689
          ],
          [
           1589
          ],
          [
           390
          ],
          [
           1790
          ],
          [
           1990
          ],
          [
           2040
          ],
          [
           1840
          ],
          [
           1790
          ],
          [
           1840
          ],
          [
           950
          ],
          [
           1000
          ],
          [
           990
          ],
          [
           1040
          ],
          [
           990
          ],
          [
           1040
          ],
          [
           1240
          ],
          [
           1340
          ],
          [
           1390
          ],
          [
           1290
          ],
          [
           990
          ],
          [
           1040
          ],
          [
           1790
          ],
          [
           1840
          ],
          [
           1740
          ],
          [
           1840
          ],
          [
           1890
          ],
          [
           1790
          ],
          [
           2090
          ],
          [
           1290
          ],
          [
           1590
          ],
          [
           3655
          ],
          [
           680
          ],
          [
           680
          ],
          [
           680
          ],
          [
           600
          ],
          [
           660
          ],
          [
           660
          ],
          [
           660
          ],
          [
           4511
          ],
          [
           4750
          ],
          [
           6690
          ],
          [
           5640
          ],
          [
           5900
          ],
          [
           2430
          ],
          [
           2800
          ],
          [
           1800
          ],
          [
           1800
          ],
          [
           2000
          ],
          [
           7440
          ],
          [
           2290
          ],
          [
           2290
          ],
          [
           2290
          ],
          [
           2270
          ],
          [
           5600
          ],
          [
           4730
          ],
          [
           6010
          ],
          [
           6010
          ],
          [
           7420
          ],
          [
           7250
          ],
          [
           7420
          ],
          [
           9840
          ],
          [
           7250
          ],
          [
           7650
          ],
          [
           3580
          ],
          [
           5720
          ],
          [
           4230
          ],
          [
           5900
          ],
          [
           461
          ],
          [
           480
          ],
          [
           604
          ],
          [
           851
          ],
          [
           898
          ],
          [
           4330
          ],
          [
           6000
          ],
          [
           1660
          ],
          [
           1660
          ],
          [
           2420
          ],
          [
           3360
          ],
          [
           6040
          ],
          [
           7620
          ],
          [
           4860
          ],
          [
           5700
          ],
          [
           8350
          ],
          [
           9880
          ],
          [
           9860
          ],
          [
           1380
          ],
          [
           1380
          ],
          [
           1710
          ],
          [
           1710
          ],
          [
           2190
          ],
          [
           2190
          ],
          [
           2550
          ],
          [
           3080
          ]
         ],
         "hoverlabel": {
          "namelength": 0
         },
         "hovertemplate": "<b>%{hovertext}</b><br><br>Auflösung [MP]=%{x}<br>Bildfrequenz [Hz]=%{y}<br>Pixelgröße [µm]=%{marker.size}<br>Listenpreis [€]=%{marker.color}",
         "hovertext": [
          "AV BONITO PRO X-1250B",
          "AV BONITO PRO X-1250B NIR",
          "AV BONITO PRO X-2620B",
          "AV BONITO PRO X-2620B NIR",
          "AV GB1380",
          "AV GB1380-P",
          "AV GB1380-PV",
          "AV GB1380-V",
          "AV GC-D1380H",
          "AV GC-D1600H",
          "AV GC1350",
          "AV GC1380",
          "AV GC1600",
          "AV GS1380",
          "AV GS1380-P",
          "AV GT1380",
          "AV GT1600",
          "AV GT1920",
          "AV GT1930",
          "AV GT1930L EF",
          "AV GT2000",
          "AV GT2000 NIR",
          "AV GT2050",
          "AV GT2050 NIR",
          "AV GT4090",
          "AV GT4090 NIR",
          "AV GT4096",
          "AV GT4096 NIR",
          "AV GUPPY F-146B",
          "AV GUPPY PRO F-146B",
          "AV GUPPY PRO F-201B",
          "AV MAKO G-131B POE",
          "AV MAKO G-192B POE",
          "AV MAKO G-223B NIR POE",
          "AV MAKO G-223B POE",
          "AV MAKO G-234B POE",
          "AV MAKO G-419B NIR POE",
          "AV MAKO G-419B POE",
          "AV MAKO U-130B",
          "AV MANTA G-145B",
          "AV MANTA G-145B NIR",
          "AV MANTA G-145B NIR POE",
          "AV MANTA G-145B POE",
          "AV MANTA G-145B-30FPS",
          "AV MANTA G-145B-30FPS POE",
          "AV MANTA G-146B",
          "AV MANTA G-146B POE",
          "AV MANTA G-201B",
          "AV MANTA G-201B POE",
          "AV MANTA G-201B-30FPS",
          "AV MANTA G-201B-30FPS POE",
          "AV MANTA G-223B",
          "AV MANTA G-223B NIR",
          "AV MANTA G-223B NIR POE",
          "AV MANTA G-223B POE",
          "AV MANTA G-235B",
          "AV MANTA G-235B POE",
          "AV MANTA G-283B",
          "AV MANTA G-283B POE",
          "AV MANTA G-419B",
          "AV MANTA G-419B NIR",
          "AV MANTA G-419B NIR POE",
          "AV MANTA G-419B POE",
          "AV STINGRAY-II F-145B",
          "AV STINGRAY-II F-146B",
          "AV STINGRAY-II F-201B",
          "JAI CM-140 GE-UV",
          "JAI GO-2400M-PGE",
          "JAI GO-2400M-PMCL",
          "JAI GO-2400M-USB",
          "JAI GO-2401M-PGE",
          "JAI GO-5000M-PGE",
          "JAI GO-5000M-PMCL",
          "JAI GO-5000M-USB",
          "JAI SP-12000M-CXP4-F",
          "JAI SP-12000M-CXP4-F-XT",
          "JAI SP-20000M-CXP2-F",
          "JAI SP-20000M-PMCL-F",
          "JAI SP-20000M-USB-F",
          "JAI SP-5000M-CXP2-C",
          "JAI SP-5000M-CXP4-C",
          "JAI SP-5000M-GE2-C",
          "JAI SP-5000M-PMCL-C",
          "JAI SP-5000M-USB-C",
          "DALSA GENIE NANO-CXP-M5100",
          "DALSA GENIE-HM1400",
          "DALSA GENIE-HM1400 CS",
          "DALSA GENIE-HM1400 XDR",
          "DALSA GENIE-M1410-2/3",
          "OPTRONIS CP-CYCLONE-5-700-M",
          "OPTRONIS CP70-1-M-1000",
          "OPTRONIS CP70-12-M-188",
          "OPTRONIS CP70-HD-M-900",
          "OPTRONIS CP80-25-M-72",
          "OPTRONIS CP80-4-M-500",
          "OPTRONIS CP90-25-M-72",
          "OPTRONIS CP90-25P-M-72",
          "OPTRONIS CP90-4-M-500",
          "DALSA FALCON2 FA-80-12M1H",
          "DALSA FALCON2 FA-80-4M180",
          "DALSA FALCON2 FA-80-8M100",
          "DALSA GENIE NANO-CL M4090",
          "DALSA GENIE NANO-CL M5100",
          "DALSA GENIE NANO-M1280",
          "DALSA GENIE NANO-M1920",
          "DALSA GENIE NANO-M1930",
          "DALSA GENIE NANO-M1940",
          "DALSA GENIE NANO-M2590",
          "DALSA GENIE NANOXL-M4090",
          "DALSA GENIE NANOXL-M5100",
          "DALSA GENIE TS-M1920",
          "DALSA GENIE TS-M1920 CS",
          "DALSA GENIE TS-M2048",
          "DALSA GENIE TS-M2500",
          "DALSA GENIE TS-M3500",
          "DALSA GENIE TS-M4096",
          "VIEWORKS VC-12MC-M65E0-FM",
          "VIEWORKS VC-12MX-M180E0-DIN-FM",
          "VIEWORKS VC-25MC-M30D0-FM",
          "VIEWORKS VC-25MX-M72D0-DIN-FM",
          "VIEWORKS VC-25MX-M81D0-DIN-FM",
          "VIEWORKS VC-2MC-M150E0-CM",
          "VIEWORKS VC-2MC-M150E0-FM",
          "VIEWORKS VC-2MC-M340E0-CM",
          "VIEWORKS VC-2MC-M340E0-FM",
          "VIEWORKS VC-4MC-M180E0-CM",
          "VIEWORKS VC-4MC-M180E0-FM",
          "VRMAGIC RIC10-24M-PRO WINDOW",
          "VRMAGIC RIC10-44M-PRO WINDOW"
         ],
         "legendgroup": "",
         "marker": {
          "color": [
           4890,
           5190,
           7490,
           7790,
           2200,
           2200,
           2200,
           2200,
           2390,
           1900,
           1370,
           2250,
           1750,
           2350,
           2350,
           2080,
           1390,
           2500,
           1490,
           2270,
           1450,
           1550,
           2190,
           2290,
           3990,
           4450,
           4290,
           4770,
           1050,
           890,
           1170,
           399,
           449,
           1189,
           1089,
           549,
           1689,
           1589,
           390,
           1790,
           1990,
           2040,
           1840,
           1790,
           1840,
           950,
           1000,
           990,
           1040,
           990,
           1040,
           1240,
           1340,
           1390,
           1290,
           990,
           1040,
           1790,
           1840,
           1740,
           1840,
           1890,
           1790,
           2090,
           1290,
           1590,
           3655,
           680,
           680,
           680,
           600,
           660,
           660,
           660,
           4511,
           4750,
           6690,
           5640,
           5900,
           2430,
           2800,
           1800,
           1800,
           2000,
           7440,
           2290,
           2290,
           2290,
           2270,
           5600,
           4730,
           6010,
           6010,
           7420,
           7250,
           7420,
           9840,
           7250,
           7650,
           3580,
           5720,
           4230,
           5900,
           461,
           480,
           604,
           851,
           898,
           4330,
           6000,
           1660,
           1660,
           2420,
           3360,
           6040,
           7620,
           4860,
           5700,
           8350,
           9880,
           9860,
           1380,
           1380,
           1710,
           1710,
           2190,
           2190,
           2550,
           3080
          ],
          "coloraxis": "coloraxis",
          "size": [
           4.5,
           4.5,
           4.5,
           4.5,
           6.45,
           6.45,
           6.45,
           6.45,
           6.45,
           4.4,
           4.65,
           6.45,
           4.4,
           6.45,
           6.45,
           6.45,
           4.4,
           4.54,
           5.86,
           5.86,
           5.5,
           5.5,
           5.5,
           5.5,
           4.5,
           4.5,
           4.5,
           4.5,
           4.65,
           4.65,
           4.4,
           5.3,
           4.5,
           5.5,
           5.5,
           5.86,
           5.5,
           5.5,
           4.8,
           6.45,
           6.45,
           6.45,
           6.45,
           6.45,
           6.45,
           4.65,
           4.65,
           4.4,
           4.4,
           4.4,
           4.4,
           5.5,
           5.5,
           5.5,
           5.5,
           5.86,
           5.86,
           4.54,
           4.54,
           5.5,
           5.5,
           5.5,
           5.5,
           6.45,
           4.65,
           4.4,
           4.65,
           5.86,
           5.86,
           5.86,
           5.86,
           5,
           5,
           5,
           6.4,
           6.4,
           6.4,
           6.4,
           6.4,
           5,
           5,
           5,
           5,
           5,
           4.5,
           7.4,
           7.4,
           7.4,
           6.45,
           5,
           6.6,
           5.5,
           5.5,
           4.5,
           7,
           4.5,
           4.5,
           7,
           6,
           6,
           6,
           4.5,
           4.5,
           4.8,
           5.86,
           4.8,
           5.86,
           4.8,
           4.5,
           4.5,
           5.5,
           5.5,
           5.5,
           6,
           6,
           6,
           5.5,
           5.5,
           4.5,
           4.5,
           4.5,
           5.5,
           5.5,
           5.5,
           5.5,
           5.5,
           5.5,
           5.5,
           5.5
          ],
          "sizemode": "area",
          "sizeref": 0.018500000000000003,
          "symbol": "circle"
         },
         "mode": "markers",
         "name": "",
         "showlegend": false,
         "type": "scatter",
         "x": [
          12.5,
          12.5,
          26.2,
          26.2,
          1.4,
          1.4,
          1.4,
          1.4,
          1.4,
          2,
          1.4,
          1.4,
          2,
          1.4,
          1.4,
          1.4,
          2,
          2.8,
          2.4,
          2.4,
          2.2,
          2.2,
          4.2,
          4.2,
          12.6,
          12.6,
          16.8,
          16.8,
          1.4,
          1.4,
          2,
          1.3,
          1.9,
          2.2,
          2.2,
          2.4,
          4.2,
          4.2,
          1.3,
          1.4,
          1.4,
          1.4,
          1.4,
          1.4,
          1.4,
          1.4,
          1.4,
          2,
          2,
          2,
          2,
          2.2,
          2.2,
          2.2,
          2.2,
          2.4,
          2.4,
          2.8,
          2.8,
          4.2,
          4.2,
          4.2,
          4.2,
          1.4,
          1.4,
          2,
          1.4,
          2.4,
          2.4,
          2.4,
          2.4,
          5.2,
          5.2,
          5.2,
          12.6,
          12.6,
          19.7,
          19.7,
          19.7,
          5.2,
          5.2,
          5.2,
          5.2,
          5.2,
          26.2,
          1.4,
          1.4,
          1.4,
          1.4,
          4.9,
          1.3,
          12.5,
          2.1,
          26.2,
          4,
          26.2,
          26.2,
          4,
          12.6,
          4.2,
          8.3,
          16.8,
          26.1,
          1.3,
          2.4,
          2.5,
          2.4,
          5.3,
          16.8,
          26.2,
          2.2,
          2.2,
          2.2,
          5.2,
          7.7,
          12.6,
          12.6,
          12.6,
          26.2,
          26.2,
          26.2,
          2.2,
          2.2,
          2.2,
          2.2,
          4.2,
          4.2,
          2.2,
          4.2
         ],
         "xaxis": "x",
         "y": [
          145,
          145,
          80,
          80,
          30,
          30,
          30,
          30,
          30,
          25.8,
          20.1,
          20.2,
          15.2,
          30,
          30,
          30,
          25,
          40,
          50.7,
          50.7,
          53,
          53,
          28,
          28,
          9.6,
          9.6,
          7.2,
          7.2,
          17.7,
          17,
          14,
          62,
          60,
          49.5,
          49.5,
          41,
          26.3,
          26.3,
          168,
          15,
          15,
          15,
          15,
          30,
          30,
          17,
          18,
          14,
          14,
          30,
          30,
          53,
          53,
          53,
          53,
          50,
          50,
          30,
          30,
          28,
          28,
          28,
          28,
          16,
          15,
          14,
          31,
          48,
          165,
          159,
          41,
          22,
          107,
          62,
          188.8,
          188.8,
          30,
          30,
          16,
          211,
          253,
          44,
          137,
          62,
          80,
          75,
          75,
          75,
          21,
          705,
          1051,
          188,
          900,
          72,
          500,
          72,
          72,
          500,
          58,
          168,
          90,
          45,
          32,
          184,
          39,
          107,
          84,
          42.7,
          15.6,
          9.5,
          53,
          53,
          53,
          26,
          13,
          9,
          65,
          179.5,
          30.8,
          72,
          81,
          148.5,
          148.5,
          337.6,
          337.6,
          179.5,
          179.5,
          338,
          180
         ],
         "yaxis": "y"
        }
       ],
       "layout": {
        "coloraxis": {
         "colorbar": {
          "title": {
           "text": "Listenpreis [€]"
          }
         },
         "colorscale": [
          [
           0,
           "green"
          ],
          [
           0.1,
           "yellow"
          ],
          [
           1,
           "red"
          ]
         ]
        },
        "legend": {
         "itemsizing": "constant",
         "tracegroupgap": 0
        },
        "margin": {
         "t": 60
        },
        "template": {
         "data": {
          "bar": [
           {
            "error_x": {
             "color": "#2a3f5f"
            },
            "error_y": {
             "color": "#2a3f5f"
            },
            "marker": {
             "line": {
              "color": "#E5ECF6",
              "width": 0.5
             }
            },
            "type": "bar"
           }
          ],
          "barpolar": [
           {
            "marker": {
             "line": {
              "color": "#E5ECF6",
              "width": 0.5
             }
            },
            "type": "barpolar"
           }
          ],
          "carpet": [
           {
            "aaxis": {
             "endlinecolor": "#2a3f5f",
             "gridcolor": "white",
             "linecolor": "white",
             "minorgridcolor": "white",
             "startlinecolor": "#2a3f5f"
            },
            "baxis": {
             "endlinecolor": "#2a3f5f",
             "gridcolor": "white",
             "linecolor": "white",
             "minorgridcolor": "white",
             "startlinecolor": "#2a3f5f"
            },
            "type": "carpet"
           }
          ],
          "choropleth": [
           {
            "colorbar": {
             "outlinewidth": 0,
             "ticks": ""
            },
            "type": "choropleth"
           }
          ],
          "contour": [
           {
            "colorbar": {
             "outlinewidth": 0,
             "ticks": ""
            },
            "colorscale": [
             [
              0,
              "#0d0887"
             ],
             [
              0.1111111111111111,
              "#46039f"
             ],
             [
              0.2222222222222222,
              "#7201a8"
             ],
             [
              0.3333333333333333,
              "#9c179e"
             ],
             [
              0.4444444444444444,
              "#bd3786"
             ],
             [
              0.5555555555555556,
              "#d8576b"
             ],
             [
              0.6666666666666666,
              "#ed7953"
             ],
             [
              0.7777777777777778,
              "#fb9f3a"
             ],
             [
              0.8888888888888888,
              "#fdca26"
             ],
             [
              1,
              "#f0f921"
             ]
            ],
            "type": "contour"
           }
          ],
          "contourcarpet": [
           {
            "colorbar": {
             "outlinewidth": 0,
             "ticks": ""
            },
            "type": "contourcarpet"
           }
          ],
          "heatmap": [
           {
            "colorbar": {
             "outlinewidth": 0,
             "ticks": ""
            },
            "colorscale": [
             [
              0,
              "#0d0887"
             ],
             [
              0.1111111111111111,
              "#46039f"
             ],
             [
              0.2222222222222222,
              "#7201a8"
             ],
             [
              0.3333333333333333,
              "#9c179e"
             ],
             [
              0.4444444444444444,
              "#bd3786"
             ],
             [
              0.5555555555555556,
              "#d8576b"
             ],
             [
              0.6666666666666666,
              "#ed7953"
             ],
             [
              0.7777777777777778,
              "#fb9f3a"
             ],
             [
              0.8888888888888888,
              "#fdca26"
             ],
             [
              1,
              "#f0f921"
             ]
            ],
            "type": "heatmap"
           }
          ],
          "heatmapgl": [
           {
            "colorbar": {
             "outlinewidth": 0,
             "ticks": ""
            },
            "colorscale": [
             [
              0,
              "#0d0887"
             ],
             [
              0.1111111111111111,
              "#46039f"
             ],
             [
              0.2222222222222222,
              "#7201a8"
             ],
             [
              0.3333333333333333,
              "#9c179e"
             ],
             [
              0.4444444444444444,
              "#bd3786"
             ],
             [
              0.5555555555555556,
              "#d8576b"
             ],
             [
              0.6666666666666666,
              "#ed7953"
             ],
             [
              0.7777777777777778,
              "#fb9f3a"
             ],
             [
              0.8888888888888888,
              "#fdca26"
             ],
             [
              1,
              "#f0f921"
             ]
            ],
            "type": "heatmapgl"
           }
          ],
          "histogram": [
           {
            "marker": {
             "colorbar": {
              "outlinewidth": 0,
              "ticks": ""
             }
            },
            "type": "histogram"
           }
          ],
          "histogram2d": [
           {
            "colorbar": {
             "outlinewidth": 0,
             "ticks": ""
            },
            "colorscale": [
             [
              0,
              "#0d0887"
             ],
             [
              0.1111111111111111,
              "#46039f"
             ],
             [
              0.2222222222222222,
              "#7201a8"
             ],
             [
              0.3333333333333333,
              "#9c179e"
             ],
             [
              0.4444444444444444,
              "#bd3786"
             ],
             [
              0.5555555555555556,
              "#d8576b"
             ],
             [
              0.6666666666666666,
              "#ed7953"
             ],
             [
              0.7777777777777778,
              "#fb9f3a"
             ],
             [
              0.8888888888888888,
              "#fdca26"
             ],
             [
              1,
              "#f0f921"
             ]
            ],
            "type": "histogram2d"
           }
          ],
          "histogram2dcontour": [
           {
            "colorbar": {
             "outlinewidth": 0,
             "ticks": ""
            },
            "colorscale": [
             [
              0,
              "#0d0887"
             ],
             [
              0.1111111111111111,
              "#46039f"
             ],
             [
              0.2222222222222222,
              "#7201a8"
             ],
             [
              0.3333333333333333,
              "#9c179e"
             ],
             [
              0.4444444444444444,
              "#bd3786"
             ],
             [
              0.5555555555555556,
              "#d8576b"
             ],
             [
              0.6666666666666666,
              "#ed7953"
             ],
             [
              0.7777777777777778,
              "#fb9f3a"
             ],
             [
              0.8888888888888888,
              "#fdca26"
             ],
             [
              1,
              "#f0f921"
             ]
            ],
            "type": "histogram2dcontour"
           }
          ],
          "mesh3d": [
           {
            "colorbar": {
             "outlinewidth": 0,
             "ticks": ""
            },
            "type": "mesh3d"
           }
          ],
          "parcoords": [
           {
            "line": {
             "colorbar": {
              "outlinewidth": 0,
              "ticks": ""
             }
            },
            "type": "parcoords"
           }
          ],
          "pie": [
           {
            "automargin": true,
            "type": "pie"
           }
          ],
          "scatter": [
           {
            "marker": {
             "colorbar": {
              "outlinewidth": 0,
              "ticks": ""
             }
            },
            "type": "scatter"
           }
          ],
          "scatter3d": [
           {
            "line": {
             "colorbar": {
              "outlinewidth": 0,
              "ticks": ""
             }
            },
            "marker": {
             "colorbar": {
              "outlinewidth": 0,
              "ticks": ""
             }
            },
            "type": "scatter3d"
           }
          ],
          "scattercarpet": [
           {
            "marker": {
             "colorbar": {
              "outlinewidth": 0,
              "ticks": ""
             }
            },
            "type": "scattercarpet"
           }
          ],
          "scattergeo": [
           {
            "marker": {
             "colorbar": {
              "outlinewidth": 0,
              "ticks": ""
             }
            },
            "type": "scattergeo"
           }
          ],
          "scattergl": [
           {
            "marker": {
             "colorbar": {
              "outlinewidth": 0,
              "ticks": ""
             }
            },
            "type": "scattergl"
           }
          ],
          "scattermapbox": [
           {
            "marker": {
             "colorbar": {
              "outlinewidth": 0,
              "ticks": ""
             }
            },
            "type": "scattermapbox"
           }
          ],
          "scatterpolar": [
           {
            "marker": {
             "colorbar": {
              "outlinewidth": 0,
              "ticks": ""
             }
            },
            "type": "scatterpolar"
           }
          ],
          "scatterpolargl": [
           {
            "marker": {
             "colorbar": {
              "outlinewidth": 0,
              "ticks": ""
             }
            },
            "type": "scatterpolargl"
           }
          ],
          "scatterternary": [
           {
            "marker": {
             "colorbar": {
              "outlinewidth": 0,
              "ticks": ""
             }
            },
            "type": "scatterternary"
           }
          ],
          "surface": [
           {
            "colorbar": {
             "outlinewidth": 0,
             "ticks": ""
            },
            "colorscale": [
             [
              0,
              "#0d0887"
             ],
             [
              0.1111111111111111,
              "#46039f"
             ],
             [
              0.2222222222222222,
              "#7201a8"
             ],
             [
              0.3333333333333333,
              "#9c179e"
             ],
             [
              0.4444444444444444,
              "#bd3786"
             ],
             [
              0.5555555555555556,
              "#d8576b"
             ],
             [
              0.6666666666666666,
              "#ed7953"
             ],
             [
              0.7777777777777778,
              "#fb9f3a"
             ],
             [
              0.8888888888888888,
              "#fdca26"
             ],
             [
              1,
              "#f0f921"
             ]
            ],
            "type": "surface"
           }
          ],
          "table": [
           {
            "cells": {
             "fill": {
              "color": "#EBF0F8"
             },
             "line": {
              "color": "white"
             }
            },
            "header": {
             "fill": {
              "color": "#C8D4E3"
             },
             "line": {
              "color": "white"
             }
            },
            "type": "table"
           }
          ]
         },
         "layout": {
          "annotationdefaults": {
           "arrowcolor": "#2a3f5f",
           "arrowhead": 0,
           "arrowwidth": 1
          },
          "coloraxis": {
           "colorbar": {
            "outlinewidth": 0,
            "ticks": ""
           }
          },
          "colorscale": {
           "diverging": [
            [
             0,
             "#8e0152"
            ],
            [
             0.1,
             "#c51b7d"
            ],
            [
             0.2,
             "#de77ae"
            ],
            [
             0.3,
             "#f1b6da"
            ],
            [
             0.4,
             "#fde0ef"
            ],
            [
             0.5,
             "#f7f7f7"
            ],
            [
             0.6,
             "#e6f5d0"
            ],
            [
             0.7,
             "#b8e186"
            ],
            [
             0.8,
             "#7fbc41"
            ],
            [
             0.9,
             "#4d9221"
            ],
            [
             1,
             "#276419"
            ]
           ],
           "sequential": [
            [
             0,
             "#0d0887"
            ],
            [
             0.1111111111111111,
             "#46039f"
            ],
            [
             0.2222222222222222,
             "#7201a8"
            ],
            [
             0.3333333333333333,
             "#9c179e"
            ],
            [
             0.4444444444444444,
             "#bd3786"
            ],
            [
             0.5555555555555556,
             "#d8576b"
            ],
            [
             0.6666666666666666,
             "#ed7953"
            ],
            [
             0.7777777777777778,
             "#fb9f3a"
            ],
            [
             0.8888888888888888,
             "#fdca26"
            ],
            [
             1,
             "#f0f921"
            ]
           ],
           "sequentialminus": [
            [
             0,
             "#0d0887"
            ],
            [
             0.1111111111111111,
             "#46039f"
            ],
            [
             0.2222222222222222,
             "#7201a8"
            ],
            [
             0.3333333333333333,
             "#9c179e"
            ],
            [
             0.4444444444444444,
             "#bd3786"
            ],
            [
             0.5555555555555556,
             "#d8576b"
            ],
            [
             0.6666666666666666,
             "#ed7953"
            ],
            [
             0.7777777777777778,
             "#fb9f3a"
            ],
            [
             0.8888888888888888,
             "#fdca26"
            ],
            [
             1,
             "#f0f921"
            ]
           ]
          },
          "colorway": [
           "#636efa",
           "#EF553B",
           "#00cc96",
           "#ab63fa",
           "#FFA15A",
           "#19d3f3",
           "#FF6692",
           "#B6E880",
           "#FF97FF",
           "#FECB52"
          ],
          "font": {
           "color": "#2a3f5f"
          },
          "geo": {
           "bgcolor": "white",
           "lakecolor": "white",
           "landcolor": "#E5ECF6",
           "showlakes": true,
           "showland": true,
           "subunitcolor": "white"
          },
          "hoverlabel": {
           "align": "left"
          },
          "hovermode": "closest",
          "mapbox": {
           "style": "light"
          },
          "paper_bgcolor": "white",
          "plot_bgcolor": "#E5ECF6",
          "polar": {
           "angularaxis": {
            "gridcolor": "white",
            "linecolor": "white",
            "ticks": ""
           },
           "bgcolor": "#E5ECF6",
           "radialaxis": {
            "gridcolor": "white",
            "linecolor": "white",
            "ticks": ""
           }
          },
          "scene": {
           "xaxis": {
            "backgroundcolor": "#E5ECF6",
            "gridcolor": "white",
            "gridwidth": 2,
            "linecolor": "white",
            "showbackground": true,
            "ticks": "",
            "zerolinecolor": "white"
           },
           "yaxis": {
            "backgroundcolor": "#E5ECF6",
            "gridcolor": "white",
            "gridwidth": 2,
            "linecolor": "white",
            "showbackground": true,
            "ticks": "",
            "zerolinecolor": "white"
           },
           "zaxis": {
            "backgroundcolor": "#E5ECF6",
            "gridcolor": "white",
            "gridwidth": 2,
            "linecolor": "white",
            "showbackground": true,
            "ticks": "",
            "zerolinecolor": "white"
           }
          },
          "shapedefaults": {
           "line": {
            "color": "#2a3f5f"
           }
          },
          "ternary": {
           "aaxis": {
            "gridcolor": "white",
            "linecolor": "white",
            "ticks": ""
           },
           "baxis": {
            "gridcolor": "white",
            "linecolor": "white",
            "ticks": ""
           },
           "bgcolor": "#E5ECF6",
           "caxis": {
            "gridcolor": "white",
            "linecolor": "white",
            "ticks": ""
           }
          },
          "title": {
           "x": 0.05
          },
          "xaxis": {
           "automargin": true,
           "gridcolor": "white",
           "linecolor": "white",
           "ticks": "",
           "title": {
            "standoff": 15
           },
           "zerolinecolor": "white",
           "zerolinewidth": 2
          },
          "yaxis": {
           "automargin": true,
           "gridcolor": "white",
           "linecolor": "white",
           "ticks": "",
           "title": {
            "standoff": 15
           },
           "zerolinecolor": "white",
           "zerolinewidth": 2
          }
         }
        },
        "xaxis": {
         "anchor": "y",
         "domain": [
          0,
          1
         ],
         "title": {
          "text": "Auflösung [MP]"
         },
         "type": "log"
        },
        "yaxis": {
         "anchor": "x",
         "domain": [
          0,
          1
         ],
         "title": {
          "text": "Bildfrequenz [Hz]"
         },
         "type": "log"
        }
       }
      },
      "text/html": [
       "<div>\n",
       "        \n",
       "        \n",
       "            <div id=\"225384e1-88e1-45f0-9a8a-9e2cb04f294f\" class=\"plotly-graph-div\" style=\"height:525px; width:100%;\"></div>\n",
       "            <script type=\"text/javascript\">\n",
       "                require([\"plotly\"], function(Plotly) {\n",
       "                    window.PLOTLYENV=window.PLOTLYENV || {};\n",
       "                    \n",
       "                if (document.getElementById(\"225384e1-88e1-45f0-9a8a-9e2cb04f294f\")) {\n",
       "                    Plotly.newPlot(\n",
       "                        '225384e1-88e1-45f0-9a8a-9e2cb04f294f',\n",
       "                        [{\"customdata\": [[4890.0], [5190.0], [7490.0], [7790.0], [2200.0], [2200.0], [2200.0], [2200.0], [2390.0], [1900.0], [1370.0], [2250.0], [1750.0], [2350.0], [2350.0], [2080.0], [1390.0], [2500.0], [1490.0], [2270.0], [1450.0], [1550.0], [2190.0], [2290.0], [3990.0], [4450.0], [4290.0], [4770.0], [1050.0], [890.0], [1170.0], [399.0], [449.0], [1189.0], [1089.0], [549.0], [1689.0], [1589.0], [390.0], [1790.0], [1990.0], [2040.0], [1840.0], [1790.0], [1840.0], [950.0], [1000.0], [990.0], [1040.0], [990.0], [1040.0], [1240.0], [1340.0], [1390.0], [1290.0], [990.0], [1040.0], [1790.0], [1840.0], [1740.0], [1840.0], [1890.0], [1790.0], [2090.0], [1290.0], [1590.0], [3655.0], [680.0], [680.0], [680.0], [600.0], [660.0], [660.0], [660.0], [4511.0], [4750.0], [6690.0], [5640.0], [5900.0], [2430.0], [2800.0], [1800.0], [1800.0], [2000.0], [7440.0], [2290.0], [2290.0], [2290.0], [2270.0], [5600.0], [4730.0], [6010.0], [6010.0], [7420.0], [7250.0], [7420.0], [9840.0], [7250.0], [7650.0], [3580.0], [5720.0], [4230.0], [5900.0], [461.0], [480.0], [604.0], [851.0], [898.0], [4330.0], [6000.0], [1660.0], [1660.0], [2420.0], [3360.0], [6040.0], [7620.0], [4860.0], [5700.0], [8350.0], [9880.0], [9860.0], [1380.0], [1380.0], [1710.0], [1710.0], [2190.0], [2190.0], [2550.0], [3080.0]], \"hoverlabel\": {\"namelength\": 0}, \"hovertemplate\": \"<b>%{hovertext}</b><br><br>Aufl\\u00f6sung [MP]=%{x}<br>Bildfrequenz [Hz]=%{y}<br>Pixelgr\\u00f6\\u00dfe [\\u00b5m]=%{marker.size}<br>Listenpreis [\\u20ac]=%{marker.color}\", \"hovertext\": [\"AV BONITO PRO X-1250B\", \"AV BONITO PRO X-1250B NIR\", \"AV BONITO PRO X-2620B\", \"AV BONITO PRO X-2620B NIR\", \"AV GB1380\", \"AV GB1380-P\", \"AV GB1380-PV\", \"AV GB1380-V\", \"AV GC-D1380H\", \"AV GC-D1600H\", \"AV GC1350\", \"AV GC1380\", \"AV GC1600\", \"AV GS1380\", \"AV GS1380-P\", \"AV GT1380\", \"AV GT1600\", \"AV GT1920\", \"AV GT1930\", \"AV GT1930L EF\", \"AV GT2000\", \"AV GT2000 NIR\", \"AV GT2050\", \"AV GT2050 NIR\", \"AV GT4090\", \"AV GT4090 NIR\", \"AV GT4096\", \"AV GT4096 NIR\", \"AV GUPPY F-146B\", \"AV GUPPY PRO F-146B\", \"AV GUPPY PRO F-201B\", \"AV MAKO G-131B POE\", \"AV MAKO G-192B POE\", \"AV MAKO G-223B NIR POE\", \"AV MAKO G-223B POE\", \"AV MAKO G-234B POE\", \"AV MAKO G-419B NIR POE\", \"AV MAKO G-419B POE\", \"AV MAKO U-130B\", \"AV MANTA G-145B\", \"AV MANTA G-145B NIR\", \"AV MANTA G-145B NIR POE\", \"AV MANTA G-145B POE\", \"AV MANTA G-145B-30FPS\", \"AV MANTA G-145B-30FPS POE\", \"AV MANTA G-146B\", \"AV MANTA G-146B POE\", \"AV MANTA G-201B\", \"AV MANTA G-201B POE\", \"AV MANTA G-201B-30FPS\", \"AV MANTA G-201B-30FPS POE\", \"AV MANTA G-223B\", \"AV MANTA G-223B NIR\", \"AV MANTA G-223B NIR POE\", \"AV MANTA G-223B POE\", \"AV MANTA G-235B\", \"AV MANTA G-235B POE\", \"AV MANTA G-283B\", \"AV MANTA G-283B POE\", \"AV MANTA G-419B\", \"AV MANTA G-419B NIR\", \"AV MANTA G-419B NIR POE\", \"AV MANTA G-419B POE\", \"AV STINGRAY-II F-145B\", \"AV STINGRAY-II F-146B\", \"AV STINGRAY-II F-201B\", \"JAI CM-140 GE-UV\", \"JAI GO-2400M-PGE\", \"JAI GO-2400M-PMCL\", \"JAI GO-2400M-USB\", \"JAI GO-2401M-PGE\", \"JAI GO-5000M-PGE\", \"JAI GO-5000M-PMCL\", \"JAI GO-5000M-USB\", \"JAI SP-12000M-CXP4-F\", \"JAI SP-12000M-CXP4-F-XT\", \"JAI SP-20000M-CXP2-F\", \"JAI SP-20000M-PMCL-F\", \"JAI SP-20000M-USB-F\", \"JAI SP-5000M-CXP2-C\", \"JAI SP-5000M-CXP4-C\", \"JAI SP-5000M-GE2-C\", \"JAI SP-5000M-PMCL-C\", \"JAI SP-5000M-USB-C\", \"DALSA GENIE NANO-CXP-M5100\", \"DALSA GENIE-HM1400\", \"DALSA GENIE-HM1400 CS\", \"DALSA GENIE-HM1400 XDR\", \"DALSA GENIE-M1410-2/3\", \"OPTRONIS CP-CYCLONE-5-700-M\", \"OPTRONIS CP70-1-M-1000\", \"OPTRONIS CP70-12-M-188\", \"OPTRONIS CP70-HD-M-900\", \"OPTRONIS CP80-25-M-72\", \"OPTRONIS CP80-4-M-500\", \"OPTRONIS CP90-25-M-72\", \"OPTRONIS CP90-25P-M-72\", \"OPTRONIS CP90-4-M-500\", \"DALSA FALCON2 FA-80-12M1H\", \"DALSA FALCON2 FA-80-4M180\", \"DALSA FALCON2 FA-80-8M100\", \"DALSA GENIE NANO-CL M4090\", \"DALSA GENIE NANO-CL M5100\", \"DALSA GENIE NANO-M1280\", \"DALSA GENIE NANO-M1920\", \"DALSA GENIE NANO-M1930\", \"DALSA GENIE NANO-M1940\", \"DALSA GENIE NANO-M2590\", \"DALSA GENIE NANOXL-M4090\", \"DALSA GENIE NANOXL-M5100\", \"DALSA GENIE TS-M1920\", \"DALSA GENIE TS-M1920 CS\", \"DALSA GENIE TS-M2048\", \"DALSA GENIE TS-M2500\", \"DALSA GENIE TS-M3500\", \"DALSA GENIE TS-M4096\", \"VIEWORKS VC-12MC-M65E0-FM\", \"VIEWORKS VC-12MX-M180E0-DIN-FM\", \"VIEWORKS VC-25MC-M30D0-FM\", \"VIEWORKS VC-25MX-M72D0-DIN-FM\", \"VIEWORKS VC-25MX-M81D0-DIN-FM\", \"VIEWORKS VC-2MC-M150E0-CM\", \"VIEWORKS VC-2MC-M150E0-FM\", \"VIEWORKS VC-2MC-M340E0-CM\", \"VIEWORKS VC-2MC-M340E0-FM\", \"VIEWORKS VC-4MC-M180E0-CM\", \"VIEWORKS VC-4MC-M180E0-FM\", \"VRMAGIC RIC10-24M-PRO WINDOW\", \"VRMAGIC RIC10-44M-PRO WINDOW\"], \"legendgroup\": \"\", \"marker\": {\"color\": [4890.0, 5190.0, 7490.0, 7790.0, 2200.0, 2200.0, 2200.0, 2200.0, 2390.0, 1900.0, 1370.0, 2250.0, 1750.0, 2350.0, 2350.0, 2080.0, 1390.0, 2500.0, 1490.0, 2270.0, 1450.0, 1550.0, 2190.0, 2290.0, 3990.0, 4450.0, 4290.0, 4770.0, 1050.0, 890.0, 1170.0, 399.0, 449.0, 1189.0, 1089.0, 549.0, 1689.0, 1589.0, 390.0, 1790.0, 1990.0, 2040.0, 1840.0, 1790.0, 1840.0, 950.0, 1000.0, 990.0, 1040.0, 990.0, 1040.0, 1240.0, 1340.0, 1390.0, 1290.0, 990.0, 1040.0, 1790.0, 1840.0, 1740.0, 1840.0, 1890.0, 1790.0, 2090.0, 1290.0, 1590.0, 3655.0, 680.0, 680.0, 680.0, 600.0, 660.0, 660.0, 660.0, 4511.0, 4750.0, 6690.0, 5640.0, 5900.0, 2430.0, 2800.0, 1800.0, 1800.0, 2000.0, 7440.0, 2290.0, 2290.0, 2290.0, 2270.0, 5600.0, 4730.0, 6010.0, 6010.0, 7420.0, 7250.0, 7420.0, 9840.0, 7250.0, 7650.0, 3580.0, 5720.0, 4230.0, 5900.0, 461.0, 480.0, 604.0, 851.0, 898.0, 4330.0, 6000.0, 1660.0, 1660.0, 2420.0, 3360.0, 6040.0, 7620.0, 4860.0, 5700.0, 8350.0, 9880.0, 9860.0, 1380.0, 1380.0, 1710.0, 1710.0, 2190.0, 2190.0, 2550.0, 3080.0], \"coloraxis\": \"coloraxis\", \"size\": [4.5, 4.5, 4.5, 4.5, 6.45, 6.45, 6.45, 6.45, 6.45, 4.4, 4.65, 6.45, 4.4, 6.45, 6.45, 6.45, 4.4, 4.54, 5.86, 5.86, 5.5, 5.5, 5.5, 5.5, 4.5, 4.5, 4.5, 4.5, 4.65, 4.65, 4.4, 5.3, 4.5, 5.5, 5.5, 5.86, 5.5, 5.5, 4.8, 6.45, 6.45, 6.45, 6.45, 6.45, 6.45, 4.65, 4.65, 4.4, 4.4, 4.4, 4.4, 5.5, 5.5, 5.5, 5.5, 5.86, 5.86, 4.54, 4.54, 5.5, 5.5, 5.5, 5.5, 6.45, 4.65, 4.4, 4.65, 5.86, 5.86, 5.86, 5.86, 5.0, 5.0, 5.0, 6.4, 6.4, 6.4, 6.4, 6.4, 5.0, 5.0, 5.0, 5.0, 5.0, 4.5, 7.4, 7.4, 7.4, 6.45, 5.0, 6.6, 5.5, 5.5, 4.5, 7.0, 4.5, 4.5, 7.0, 6.0, 6.0, 6.0, 4.5, 4.5, 4.8, 5.86, 4.8, 5.86, 4.8, 4.5, 4.5, 5.5, 5.5, 5.5, 6.0, 6.0, 6.0, 5.5, 5.5, 4.5, 4.5, 4.5, 5.5, 5.5, 5.5, 5.5, 5.5, 5.5, 5.5, 5.5], \"sizemode\": \"area\", \"sizeref\": 0.018500000000000003, \"symbol\": \"circle\"}, \"mode\": \"markers\", \"name\": \"\", \"showlegend\": false, \"type\": \"scatter\", \"x\": [12.5, 12.5, 26.2, 26.2, 1.4, 1.4, 1.4, 1.4, 1.4, 2.0, 1.4, 1.4, 2.0, 1.4, 1.4, 1.4, 2.0, 2.8, 2.4, 2.4, 2.2, 2.2, 4.2, 4.2, 12.6, 12.6, 16.8, 16.8, 1.4, 1.4, 2.0, 1.3, 1.9, 2.2, 2.2, 2.4, 4.2, 4.2, 1.3, 1.4, 1.4, 1.4, 1.4, 1.4, 1.4, 1.4, 1.4, 2.0, 2.0, 2.0, 2.0, 2.2, 2.2, 2.2, 2.2, 2.4, 2.4, 2.8, 2.8, 4.2, 4.2, 4.2, 4.2, 1.4, 1.4, 2.0, 1.4, 2.4, 2.4, 2.4, 2.4, 5.2, 5.2, 5.2, 12.6, 12.6, 19.7, 19.7, 19.7, 5.2, 5.2, 5.2, 5.2, 5.2, 26.2, 1.4, 1.4, 1.4, 1.4, 4.9, 1.3, 12.5, 2.1, 26.2, 4.0, 26.2, 26.2, 4.0, 12.6, 4.2, 8.3, 16.8, 26.1, 1.3, 2.4, 2.5, 2.4, 5.3, 16.8, 26.2, 2.2, 2.2, 2.2, 5.2, 7.7, 12.6, 12.6, 12.6, 26.2, 26.2, 26.2, 2.2, 2.2, 2.2, 2.2, 4.2, 4.2, 2.2, 4.2], \"xaxis\": \"x\", \"y\": [145.0, 145.0, 80.0, 80.0, 30.0, 30.0, 30.0, 30.0, 30.0, 25.8, 20.1, 20.2, 15.2, 30.0, 30.0, 30.0, 25.0, 40.0, 50.7, 50.7, 53.0, 53.0, 28.0, 28.0, 9.6, 9.6, 7.2, 7.2, 17.7, 17.0, 14.0, 62.0, 60.0, 49.5, 49.5, 41.0, 26.3, 26.3, 168.0, 15.0, 15.0, 15.0, 15.0, 30.0, 30.0, 17.0, 18.0, 14.0, 14.0, 30.0, 30.0, 53.0, 53.0, 53.0, 53.0, 50.0, 50.0, 30.0, 30.0, 28.0, 28.0, 28.0, 28.0, 16.0, 15.0, 14.0, 31.0, 48.0, 165.0, 159.0, 41.0, 22.0, 107.0, 62.0, 188.8, 188.8, 30.0, 30.0, 16.0, 211.0, 253.0, 44.0, 137.0, 62.0, 80.0, 75.0, 75.0, 75.0, 21.0, 705.0, 1051.0, 188.0, 900.0, 72.0, 500.0, 72.0, 72.0, 500.0, 58.0, 168.0, 90.0, 45.0, 32.0, 184.0, 39.0, 107.0, 84.0, 42.7, 15.6, 9.5, 53.0, 53.0, 53.0, 26.0, 13.0, 9.0, 65.0, 179.5, 30.8, 72.0, 81.0, 148.5, 148.5, 337.6, 337.6, 179.5, 179.5, 338.0, 180.0], \"yaxis\": \"y\"}],\n",
       "                        {\"coloraxis\": {\"colorbar\": {\"title\": {\"text\": \"Listenpreis [\\u20ac]\"}}, \"colorscale\": [[0, \"green\"], [0.1, \"yellow\"], [1, \"red\"]]}, \"legend\": {\"itemsizing\": \"constant\", \"tracegroupgap\": 0}, \"margin\": {\"t\": 60}, \"template\": {\"data\": {\"bar\": [{\"error_x\": {\"color\": \"#2a3f5f\"}, \"error_y\": {\"color\": \"#2a3f5f\"}, \"marker\": {\"line\": {\"color\": \"#E5ECF6\", \"width\": 0.5}}, \"type\": \"bar\"}], \"barpolar\": [{\"marker\": {\"line\": {\"color\": \"#E5ECF6\", \"width\": 0.5}}, \"type\": \"barpolar\"}], \"carpet\": [{\"aaxis\": {\"endlinecolor\": \"#2a3f5f\", \"gridcolor\": \"white\", \"linecolor\": \"white\", \"minorgridcolor\": \"white\", \"startlinecolor\": \"#2a3f5f\"}, \"baxis\": {\"endlinecolor\": \"#2a3f5f\", \"gridcolor\": \"white\", \"linecolor\": \"white\", \"minorgridcolor\": \"white\", \"startlinecolor\": \"#2a3f5f\"}, \"type\": \"carpet\"}], \"choropleth\": [{\"colorbar\": {\"outlinewidth\": 0, \"ticks\": \"\"}, \"type\": \"choropleth\"}], \"contour\": [{\"colorbar\": {\"outlinewidth\": 0, \"ticks\": \"\"}, \"colorscale\": [[0.0, \"#0d0887\"], [0.1111111111111111, \"#46039f\"], [0.2222222222222222, \"#7201a8\"], [0.3333333333333333, \"#9c179e\"], [0.4444444444444444, \"#bd3786\"], [0.5555555555555556, \"#d8576b\"], [0.6666666666666666, \"#ed7953\"], [0.7777777777777778, \"#fb9f3a\"], [0.8888888888888888, \"#fdca26\"], [1.0, \"#f0f921\"]], \"type\": \"contour\"}], \"contourcarpet\": [{\"colorbar\": {\"outlinewidth\": 0, \"ticks\": \"\"}, \"type\": \"contourcarpet\"}], \"heatmap\": [{\"colorbar\": {\"outlinewidth\": 0, \"ticks\": \"\"}, \"colorscale\": [[0.0, \"#0d0887\"], [0.1111111111111111, \"#46039f\"], [0.2222222222222222, \"#7201a8\"], [0.3333333333333333, \"#9c179e\"], [0.4444444444444444, \"#bd3786\"], [0.5555555555555556, \"#d8576b\"], [0.6666666666666666, \"#ed7953\"], [0.7777777777777778, \"#fb9f3a\"], [0.8888888888888888, \"#fdca26\"], [1.0, \"#f0f921\"]], \"type\": \"heatmap\"}], \"heatmapgl\": [{\"colorbar\": {\"outlinewidth\": 0, \"ticks\": \"\"}, \"colorscale\": [[0.0, \"#0d0887\"], [0.1111111111111111, \"#46039f\"], [0.2222222222222222, \"#7201a8\"], [0.3333333333333333, \"#9c179e\"], [0.4444444444444444, \"#bd3786\"], [0.5555555555555556, \"#d8576b\"], [0.6666666666666666, \"#ed7953\"], [0.7777777777777778, \"#fb9f3a\"], [0.8888888888888888, \"#fdca26\"], [1.0, \"#f0f921\"]], \"type\": \"heatmapgl\"}], \"histogram\": [{\"marker\": {\"colorbar\": {\"outlinewidth\": 0, \"ticks\": \"\"}}, \"type\": \"histogram\"}], \"histogram2d\": [{\"colorbar\": {\"outlinewidth\": 0, \"ticks\": \"\"}, \"colorscale\": [[0.0, \"#0d0887\"], [0.1111111111111111, \"#46039f\"], [0.2222222222222222, \"#7201a8\"], [0.3333333333333333, \"#9c179e\"], [0.4444444444444444, \"#bd3786\"], [0.5555555555555556, \"#d8576b\"], [0.6666666666666666, \"#ed7953\"], [0.7777777777777778, \"#fb9f3a\"], [0.8888888888888888, \"#fdca26\"], [1.0, \"#f0f921\"]], \"type\": \"histogram2d\"}], \"histogram2dcontour\": [{\"colorbar\": {\"outlinewidth\": 0, \"ticks\": \"\"}, \"colorscale\": [[0.0, \"#0d0887\"], [0.1111111111111111, \"#46039f\"], [0.2222222222222222, \"#7201a8\"], [0.3333333333333333, \"#9c179e\"], [0.4444444444444444, \"#bd3786\"], [0.5555555555555556, \"#d8576b\"], [0.6666666666666666, \"#ed7953\"], [0.7777777777777778, \"#fb9f3a\"], [0.8888888888888888, \"#fdca26\"], [1.0, \"#f0f921\"]], \"type\": \"histogram2dcontour\"}], \"mesh3d\": [{\"colorbar\": {\"outlinewidth\": 0, \"ticks\": \"\"}, \"type\": \"mesh3d\"}], \"parcoords\": [{\"line\": {\"colorbar\": {\"outlinewidth\": 0, \"ticks\": \"\"}}, \"type\": \"parcoords\"}], \"pie\": [{\"automargin\": true, \"type\": \"pie\"}], \"scatter\": [{\"marker\": {\"colorbar\": {\"outlinewidth\": 0, \"ticks\": \"\"}}, \"type\": \"scatter\"}], \"scatter3d\": [{\"line\": {\"colorbar\": {\"outlinewidth\": 0, \"ticks\": \"\"}}, \"marker\": {\"colorbar\": {\"outlinewidth\": 0, \"ticks\": \"\"}}, \"type\": \"scatter3d\"}], \"scattercarpet\": [{\"marker\": {\"colorbar\": {\"outlinewidth\": 0, \"ticks\": \"\"}}, \"type\": \"scattercarpet\"}], \"scattergeo\": [{\"marker\": {\"colorbar\": {\"outlinewidth\": 0, \"ticks\": \"\"}}, \"type\": \"scattergeo\"}], \"scattergl\": [{\"marker\": {\"colorbar\": {\"outlinewidth\": 0, \"ticks\": \"\"}}, \"type\": \"scattergl\"}], \"scattermapbox\": [{\"marker\": {\"colorbar\": {\"outlinewidth\": 0, \"ticks\": \"\"}}, \"type\": \"scattermapbox\"}], \"scatterpolar\": [{\"marker\": {\"colorbar\": {\"outlinewidth\": 0, \"ticks\": \"\"}}, \"type\": \"scatterpolar\"}], \"scatterpolargl\": [{\"marker\": {\"colorbar\": {\"outlinewidth\": 0, \"ticks\": \"\"}}, \"type\": \"scatterpolargl\"}], \"scatterternary\": [{\"marker\": {\"colorbar\": {\"outlinewidth\": 0, \"ticks\": \"\"}}, \"type\": \"scatterternary\"}], \"surface\": [{\"colorbar\": {\"outlinewidth\": 0, \"ticks\": \"\"}, \"colorscale\": [[0.0, \"#0d0887\"], [0.1111111111111111, \"#46039f\"], [0.2222222222222222, \"#7201a8\"], [0.3333333333333333, \"#9c179e\"], [0.4444444444444444, \"#bd3786\"], [0.5555555555555556, \"#d8576b\"], [0.6666666666666666, \"#ed7953\"], [0.7777777777777778, \"#fb9f3a\"], [0.8888888888888888, \"#fdca26\"], [1.0, \"#f0f921\"]], \"type\": \"surface\"}], \"table\": [{\"cells\": {\"fill\": {\"color\": \"#EBF0F8\"}, \"line\": {\"color\": \"white\"}}, \"header\": {\"fill\": {\"color\": \"#C8D4E3\"}, \"line\": {\"color\": \"white\"}}, \"type\": \"table\"}]}, \"layout\": {\"annotationdefaults\": {\"arrowcolor\": \"#2a3f5f\", \"arrowhead\": 0, \"arrowwidth\": 1}, \"coloraxis\": {\"colorbar\": {\"outlinewidth\": 0, \"ticks\": \"\"}}, \"colorscale\": {\"diverging\": [[0, \"#8e0152\"], [0.1, \"#c51b7d\"], [0.2, \"#de77ae\"], [0.3, \"#f1b6da\"], [0.4, \"#fde0ef\"], [0.5, \"#f7f7f7\"], [0.6, \"#e6f5d0\"], [0.7, \"#b8e186\"], [0.8, \"#7fbc41\"], [0.9, \"#4d9221\"], [1, \"#276419\"]], \"sequential\": [[0.0, \"#0d0887\"], [0.1111111111111111, \"#46039f\"], [0.2222222222222222, \"#7201a8\"], [0.3333333333333333, \"#9c179e\"], [0.4444444444444444, \"#bd3786\"], [0.5555555555555556, \"#d8576b\"], [0.6666666666666666, \"#ed7953\"], [0.7777777777777778, \"#fb9f3a\"], [0.8888888888888888, \"#fdca26\"], [1.0, \"#f0f921\"]], \"sequentialminus\": [[0.0, \"#0d0887\"], [0.1111111111111111, \"#46039f\"], [0.2222222222222222, \"#7201a8\"], [0.3333333333333333, \"#9c179e\"], [0.4444444444444444, \"#bd3786\"], [0.5555555555555556, \"#d8576b\"], [0.6666666666666666, \"#ed7953\"], [0.7777777777777778, \"#fb9f3a\"], [0.8888888888888888, \"#fdca26\"], [1.0, \"#f0f921\"]]}, \"colorway\": [\"#636efa\", \"#EF553B\", \"#00cc96\", \"#ab63fa\", \"#FFA15A\", \"#19d3f3\", \"#FF6692\", \"#B6E880\", \"#FF97FF\", \"#FECB52\"], \"font\": {\"color\": \"#2a3f5f\"}, \"geo\": {\"bgcolor\": \"white\", \"lakecolor\": \"white\", \"landcolor\": \"#E5ECF6\", \"showlakes\": true, \"showland\": true, \"subunitcolor\": \"white\"}, \"hoverlabel\": {\"align\": \"left\"}, \"hovermode\": \"closest\", \"mapbox\": {\"style\": \"light\"}, \"paper_bgcolor\": \"white\", \"plot_bgcolor\": \"#E5ECF6\", \"polar\": {\"angularaxis\": {\"gridcolor\": \"white\", \"linecolor\": \"white\", \"ticks\": \"\"}, \"bgcolor\": \"#E5ECF6\", \"radialaxis\": {\"gridcolor\": \"white\", \"linecolor\": \"white\", \"ticks\": \"\"}}, \"scene\": {\"xaxis\": {\"backgroundcolor\": \"#E5ECF6\", \"gridcolor\": \"white\", \"gridwidth\": 2, \"linecolor\": \"white\", \"showbackground\": true, \"ticks\": \"\", \"zerolinecolor\": \"white\"}, \"yaxis\": {\"backgroundcolor\": \"#E5ECF6\", \"gridcolor\": \"white\", \"gridwidth\": 2, \"linecolor\": \"white\", \"showbackground\": true, \"ticks\": \"\", \"zerolinecolor\": \"white\"}, \"zaxis\": {\"backgroundcolor\": \"#E5ECF6\", \"gridcolor\": \"white\", \"gridwidth\": 2, \"linecolor\": \"white\", \"showbackground\": true, \"ticks\": \"\", \"zerolinecolor\": \"white\"}}, \"shapedefaults\": {\"line\": {\"color\": \"#2a3f5f\"}}, \"ternary\": {\"aaxis\": {\"gridcolor\": \"white\", \"linecolor\": \"white\", \"ticks\": \"\"}, \"baxis\": {\"gridcolor\": \"white\", \"linecolor\": \"white\", \"ticks\": \"\"}, \"bgcolor\": \"#E5ECF6\", \"caxis\": {\"gridcolor\": \"white\", \"linecolor\": \"white\", \"ticks\": \"\"}}, \"title\": {\"x\": 0.05}, \"xaxis\": {\"automargin\": true, \"gridcolor\": \"white\", \"linecolor\": \"white\", \"ticks\": \"\", \"title\": {\"standoff\": 15}, \"zerolinecolor\": \"white\", \"zerolinewidth\": 2}, \"yaxis\": {\"automargin\": true, \"gridcolor\": \"white\", \"linecolor\": \"white\", \"ticks\": \"\", \"title\": {\"standoff\": 15}, \"zerolinecolor\": \"white\", \"zerolinewidth\": 2}}}, \"xaxis\": {\"anchor\": \"y\", \"domain\": [0.0, 1.0], \"title\": {\"text\": \"Aufl\\u00f6sung [MP]\"}, \"type\": \"log\"}, \"yaxis\": {\"anchor\": \"x\", \"domain\": [0.0, 1.0], \"title\": {\"text\": \"Bildfrequenz [Hz]\"}, \"type\": \"log\"}},\n",
       "                        {\"responsive\": true}\n",
       "                    ).then(function(){\n",
       "                            \n",
       "var gd = document.getElementById('225384e1-88e1-45f0-9a8a-9e2cb04f294f');\n",
       "var x = new MutationObserver(function (mutations, observer) {{\n",
       "        var display = window.getComputedStyle(gd).display;\n",
       "        if (!display || display === 'none') {{\n",
       "            console.log([gd, 'removed!']);\n",
       "            Plotly.purge(gd);\n",
       "            observer.disconnect();\n",
       "        }}\n",
       "}});\n",
       "\n",
       "// Listen for the removal of the full notebook cells\n",
       "var notebookContainer = gd.closest('#notebook-container');\n",
       "if (notebookContainer) {{\n",
       "    x.observe(notebookContainer, {childList: true});\n",
       "}}\n",
       "\n",
       "// Listen for the clearing of the current output cell\n",
       "var outputEl = gd.closest('.output');\n",
       "if (outputEl) {{\n",
       "    x.observe(outputEl, {childList: true});\n",
       "}}\n",
       "\n",
       "                        })\n",
       "                };\n",
       "                });\n",
       "            </script>\n",
       "        </div>"
      ]
     },
     "metadata": {},
     "output_type": "display_data"
    },
    {
     "data": {
      "application/vnd.jupyter.widget-view+json": {
       "model_id": "2183a59916ac43aeb6eb46334ff196c6",
       "version_major": 2,
       "version_minor": 0
      },
      "text/plain": [
       "HBox(children=(VBox(children=(IntSlider(value=10000, continuous_update=False, description='Preis [€]:', max=58…"
      ]
     },
     "metadata": {},
     "output_type": "display_data"
    },
    {
     "data": {
      "application/vnd.jupyter.widget-view+json": {
       "model_id": "b1e45b77455b4c808d764c205f2828f3",
       "version_major": 2,
       "version_minor": 0
      },
      "text/plain": [
       "IntSlider(value=5, continuous_update=False, description='#Resultate', max=129)"
      ]
     },
     "metadata": {},
     "output_type": "display_data"
    },
    {
     "data": {
      "text/html": [
       "<div>\n",
       "<style scoped>\n",
       "    .dataframe tbody tr th:only-of-type {\n",
       "        vertical-align: middle;\n",
       "    }\n",
       "\n",
       "    .dataframe tbody tr th {\n",
       "        vertical-align: top;\n",
       "    }\n",
       "\n",
       "    .dataframe thead th {\n",
       "        text-align: right;\n",
       "    }\n",
       "</style>\n",
       "<table border=\"1\" class=\"dataframe\">\n",
       "  <thead>\n",
       "    <tr style=\"text-align: right;\">\n",
       "      <th></th>\n",
       "      <th>Hersteller</th>\n",
       "      <th>Name</th>\n",
       "      <th>Listenpreis [€]</th>\n",
       "      <th>Auflösung [MP]</th>\n",
       "      <th>Pixelgröße [µm]</th>\n",
       "      <th>Bildfrequenz [Hz]</th>\n",
       "      <th>Gehäusetyp</th>\n",
       "      <th>Objektivanschluss</th>\n",
       "      <th>Horizontale Aufl. [Px]</th>\n",
       "      <th>Vertikale Aufl. [Px]</th>\n",
       "      <th>Sensortyp</th>\n",
       "      <th>Sensorgröße [mm]</th>\n",
       "      <th>Sensormodel</th>\n",
       "      <th>Sensorformat</th>\n",
       "      <th>Seitenverhältnis</th>\n",
       "      <th>Spektrale Empfindlichkeit</th>\n",
       "      <th>Shuttertyp</th>\n",
       "      <th>Dynamic Range [dB]</th>\n",
       "      <th>S/N-ratio [dB]</th>\n",
       "      <th>Ausgabeformate</th>\n",
       "      <th>Schnittstellenkonfiguration</th>\n",
       "      <th>Schnittstelle</th>\n",
       "      <th>Sensorkonfiguration</th>\n",
       "      <th>Link-href</th>\n",
       "    </tr>\n",
       "  </thead>\n",
       "  <tbody>\n",
       "    <tr>\n",
       "      <th>284</th>\n",
       "      <td>Allied Vision</td>\n",
       "      <td>AV MAKO U-130B</td>\n",
       "      <td>390.0</td>\n",
       "      <td>1.3</td>\n",
       "      <td>4.80</td>\n",
       "      <td>168.0</td>\n",
       "      <td>Small</td>\n",
       "      <td>C-Mount</td>\n",
       "      <td>1280</td>\n",
       "      <td>1024</td>\n",
       "      <td>CMOS</td>\n",
       "      <td>7.9</td>\n",
       "      <td>Python 1300</td>\n",
       "      <td>1/2\"</td>\n",
       "      <td>1.33</td>\n",
       "      <td>Monochrome</td>\n",
       "      <td>Global shutter/Prog scan</td>\n",
       "      <td>NaN</td>\n",
       "      <td>NaN</td>\n",
       "      <td>Mono8</td>\n",
       "      <td>NaN</td>\n",
       "      <td>NaN</td>\n",
       "      <td>Single sensor</td>\n",
       "      <td>https://www.stemmer-imaging.com/de-de/produkte/av-mako-u-130b/</td>\n",
       "    </tr>\n",
       "    <tr>\n",
       "      <th>261</th>\n",
       "      <td>Allied Vision</td>\n",
       "      <td>AV MAKO G-131B POE</td>\n",
       "      <td>399.0</td>\n",
       "      <td>1.3</td>\n",
       "      <td>5.30</td>\n",
       "      <td>62.0</td>\n",
       "      <td>Small</td>\n",
       "      <td>C-Mount</td>\n",
       "      <td>1280</td>\n",
       "      <td>1024</td>\n",
       "      <td>CMOS</td>\n",
       "      <td>8.7</td>\n",
       "      <td>EV76C560</td>\n",
       "      <td>1/1.8\"</td>\n",
       "      <td>1.33</td>\n",
       "      <td>Monochrome</td>\n",
       "      <td>Global shutter/Prog scan</td>\n",
       "      <td>NaN</td>\n",
       "      <td>NaN</td>\n",
       "      <td>Mono8</td>\n",
       "      <td>POE</td>\n",
       "      <td>NaN</td>\n",
       "      <td>Single sensor</td>\n",
       "      <td>https://www.stemmer-imaging.com/de-de/produkte/av-mako-g-131b-poe/</td>\n",
       "    </tr>\n",
       "    <tr>\n",
       "      <th>265</th>\n",
       "      <td>Allied Vision</td>\n",
       "      <td>AV MAKO G-192B POE</td>\n",
       "      <td>449.0</td>\n",
       "      <td>1.9</td>\n",
       "      <td>4.50</td>\n",
       "      <td>60.0</td>\n",
       "      <td>Small</td>\n",
       "      <td>C-Mount</td>\n",
       "      <td>1600</td>\n",
       "      <td>1200</td>\n",
       "      <td>CMOS</td>\n",
       "      <td>8.9</td>\n",
       "      <td>EV76C570</td>\n",
       "      <td>1/1.8\"</td>\n",
       "      <td>1.33</td>\n",
       "      <td>Monochrome</td>\n",
       "      <td>Global shutter/Prog scan</td>\n",
       "      <td>NaN</td>\n",
       "      <td>NaN</td>\n",
       "      <td>Mono8</td>\n",
       "      <td>POE</td>\n",
       "      <td>NaN</td>\n",
       "      <td>Single sensor</td>\n",
       "      <td>https://www.stemmer-imaging.com/de-de/produkte/av-mako-g-192b-poe/</td>\n",
       "    </tr>\n",
       "    <tr>\n",
       "      <th>588</th>\n",
       "      <td>Teledyne DALSA</td>\n",
       "      <td>DALSA GENIE NANO-M1280</td>\n",
       "      <td>461.0</td>\n",
       "      <td>1.3</td>\n",
       "      <td>4.80</td>\n",
       "      <td>184.0</td>\n",
       "      <td>Small</td>\n",
       "      <td>C-Mount</td>\n",
       "      <td>1280</td>\n",
       "      <td>1024</td>\n",
       "      <td>CMOS</td>\n",
       "      <td>7.9</td>\n",
       "      <td>Python 1300 P1</td>\n",
       "      <td>1/2\"</td>\n",
       "      <td>1.33</td>\n",
       "      <td>Monochrome</td>\n",
       "      <td>Global shutter/Prog scan</td>\n",
       "      <td>62.0</td>\n",
       "      <td>NaN</td>\n",
       "      <td>NaN</td>\n",
       "      <td>POE</td>\n",
       "      <td>NaN</td>\n",
       "      <td>Single sensor</td>\n",
       "      <td>https://www.stemmer-imaging.com/de-de/produkte/dalsa-genie-nano-m1280/</td>\n",
       "    </tr>\n",
       "    <tr>\n",
       "      <th>591</th>\n",
       "      <td>Teledyne DALSA</td>\n",
       "      <td>DALSA GENIE NANO-M1920</td>\n",
       "      <td>480.0</td>\n",
       "      <td>2.4</td>\n",
       "      <td>5.86</td>\n",
       "      <td>39.0</td>\n",
       "      <td>Small</td>\n",
       "      <td>C-Mount</td>\n",
       "      <td>1936</td>\n",
       "      <td>1216</td>\n",
       "      <td>CMOS</td>\n",
       "      <td>13.4</td>\n",
       "      <td>Pregius IMX249</td>\n",
       "      <td>1/1.2\"</td>\n",
       "      <td>1.90</td>\n",
       "      <td>Monochrome</td>\n",
       "      <td>Global shutter/Prog scan</td>\n",
       "      <td>75.0</td>\n",
       "      <td>NaN</td>\n",
       "      <td>Mono8</td>\n",
       "      <td>POE</td>\n",
       "      <td>NaN</td>\n",
       "      <td>Single sensor</td>\n",
       "      <td>https://www.stemmer-imaging.com/de-de/produkte/dalsa-genie-nano-m1920/</td>\n",
       "    </tr>\n",
       "  </tbody>\n",
       "</table>\n",
       "</div>"
      ],
      "text/plain": [
       "         Hersteller                    Name  Listenpreis [€]  Auflösung [MP]  \\\n",
       "284   Allied Vision          AV MAKO U-130B            390.0             1.3   \n",
       "261   Allied Vision      AV MAKO G-131B POE            399.0             1.3   \n",
       "265   Allied Vision      AV MAKO G-192B POE            449.0             1.9   \n",
       "588  Teledyne DALSA  DALSA GENIE NANO-M1280            461.0             1.3   \n",
       "591  Teledyne DALSA  DALSA GENIE NANO-M1920            480.0             2.4   \n",
       "\n",
       "     Pixelgröße [µm]  Bildfrequenz [Hz] Gehäusetyp Objektivanschluss  \\\n",
       "284             4.80              168.0      Small           C-Mount   \n",
       "261             5.30               62.0      Small           C-Mount   \n",
       "265             4.50               60.0      Small           C-Mount   \n",
       "588             4.80              184.0      Small           C-Mount   \n",
       "591             5.86               39.0      Small           C-Mount   \n",
       "\n",
       "     Horizontale Aufl. [Px]  Vertikale Aufl. [Px] Sensortyp  Sensorgröße [mm]  \\\n",
       "284                    1280                  1024      CMOS               7.9   \n",
       "261                    1280                  1024      CMOS               8.7   \n",
       "265                    1600                  1200      CMOS               8.9   \n",
       "588                    1280                  1024      CMOS               7.9   \n",
       "591                    1936                  1216      CMOS              13.4   \n",
       "\n",
       "        Sensormodel Sensorformat  Seitenverhältnis Spektrale Empfindlichkeit  \\\n",
       "284     Python 1300         1/2\"              1.33                Monochrome   \n",
       "261        EV76C560       1/1.8\"              1.33                Monochrome   \n",
       "265        EV76C570       1/1.8\"              1.33                Monochrome   \n",
       "588  Python 1300 P1         1/2\"              1.33                Monochrome   \n",
       "591  Pregius IMX249       1/1.2\"              1.90                Monochrome   \n",
       "\n",
       "                   Shuttertyp  Dynamic Range [dB]  S/N-ratio [dB]  \\\n",
       "284  Global shutter/Prog scan                 NaN             NaN   \n",
       "261  Global shutter/Prog scan                 NaN             NaN   \n",
       "265  Global shutter/Prog scan                 NaN             NaN   \n",
       "588  Global shutter/Prog scan                62.0             NaN   \n",
       "591  Global shutter/Prog scan                75.0             NaN   \n",
       "\n",
       "    Ausgabeformate Schnittstellenkonfiguration Schnittstelle  \\\n",
       "284          Mono8                         NaN           NaN   \n",
       "261          Mono8                         POE           NaN   \n",
       "265          Mono8                         POE           NaN   \n",
       "588            NaN                         POE           NaN   \n",
       "591          Mono8                         POE           NaN   \n",
       "\n",
       "    Sensorkonfiguration  \\\n",
       "284       Single sensor   \n",
       "261       Single sensor   \n",
       "265       Single sensor   \n",
       "588       Single sensor   \n",
       "591       Single sensor   \n",
       "\n",
       "                                                                  Link-href  \n",
       "284          https://www.stemmer-imaging.com/de-de/produkte/av-mako-u-130b/  \n",
       "261      https://www.stemmer-imaging.com/de-de/produkte/av-mako-g-131b-poe/  \n",
       "265      https://www.stemmer-imaging.com/de-de/produkte/av-mako-g-192b-poe/  \n",
       "588  https://www.stemmer-imaging.com/de-de/produkte/dalsa-genie-nano-m1280/  \n",
       "591  https://www.stemmer-imaging.com/de-de/produkte/dalsa-genie-nano-m1920/  "
      ]
     },
     "metadata": {},
     "output_type": "display_data"
    },
    {
     "data": {
      "application/vnd.jupyter.widget-view+json": {
       "model_id": "d85dd22697b3414ba2cf1ac4bc751dad",
       "version_major": 2,
       "version_minor": 0
      },
      "text/plain": [
       "HTML(value='<b><br>C) Kameraauswahl____________________________________________</b>')"
      ]
     },
     "metadata": {},
     "output_type": "display_data"
    },
    {
     "data": {
      "application/vnd.jupyter.widget-view+json": {
       "model_id": "02ec26ebe2584b4ba82026a394815c16",
       "version_major": 2,
       "version_minor": 0
      },
      "text/plain": [
       "HTML(value='Wählen Sie aus den zur Verfügung stehenden Kameras ein Modell aus, welches für die weiteren Berech…"
      ]
     },
     "metadata": {},
     "output_type": "display_data"
    },
    {
     "data": {
      "application/vnd.jupyter.widget-view+json": {
       "model_id": "d13862f4668a45298c716b93b19cd335",
       "version_major": 2,
       "version_minor": 0
      },
      "text/plain": [
       "Dropdown(description='Auswahl:', options=('AV MAKO U-130B', 'AV MAKO G-131B POE', 'AV MAKO G-192B POE', 'DALSA…"
      ]
     },
     "metadata": {},
     "output_type": "display_data"
    },
    {
     "data": {
      "application/vnd.jupyter.widget-view+json": {
       "model_id": "56ce57c390ac455a983edb35f1f6d62f",
       "version_major": 2,
       "version_minor": 0
      },
      "text/plain": [
       "HTML(value='<b><br><br>')"
      ]
     },
     "metadata": {},
     "output_type": "display_data"
    }
   ],
   "source": [
    "## new version\n",
    "text_c1 = widgets.HTML(value='<b>A) Spezifikation Anwendungsfall____________________________________________ </b>')\n",
    "text_c2 = widgets.HTML(value='1) Wie groß ist das benötigte Sichtfeld in x-Richtung? (Objekt inkl. Randbereich)')\n",
    "text_c3 = widgets.HTML(value='2) Wie groß ist das benötigte Sichtfeld in y-Richtung? (Objekt inkl. Randbereich)')\n",
    "text_c4 = widgets.HTML(value='3) Wie groß ist das kleinste aufzulösende Detail des Objektes?')\n",
    "text_c5 = widgets.HTML(value='4) Wie viele Bilder müssen maximal pro Sekunde gemacht werden?')\n",
    "text_c6 = widgets.HTML(value='5) Bewegt sich das Objekt kontinuierlich fort (Fließmontage)? Falls ja, mit welcher Geschwindigkeit?')\n",
    "# ToDo: adapt change to backend\n",
    "text_c7 = widgets.HTML(value='6) Bitte wählen Sie die zutreffendste Beschreibung der Lichtverhältnisse der Prüfszene:')\n",
    "text_c8 = widgets.HTML(value='<b><br>B) Übersicht geeigneter Kameras & Detailspezifikation________________________________</b>')\n",
    "text_c9 = widgets.HTML(value='<b><br>C) Kameraauswahl____________________________________________</b>')\n",
    "text_c10 = widgets.HTML(value='Wählen Sie aus den zur Verfügung stehenden Kameras ein Modell aus, welches für die weiteren Berechnungen verwendet werden soll.')\n",
    "# GUI element\n",
    "\n",
    "distance_x = widgets.BoundedFloatText(\n",
    "    value=10,\n",
    "    min=0.1, # 1mm as limit\n",
    "    max=2000,\n",
    "    step=1,\n",
    "    description='x-Wert [cm]',\n",
    "    disabled=False\n",
    ")\n",
    "\n",
    "distance_y = widgets.BoundedFloatText(\n",
    "    value=12,\n",
    "    min=0.01, \n",
    "    max=1000,\n",
    "    step=1,\n",
    "    description='y-Wert [cm]',\n",
    "    disabled = False\n",
    ")\n",
    "\n",
    "min_details = widgets.BoundedFloatText(\n",
    "    value=0.25,\n",
    "    min=0.01, # 10µm as limit\n",
    "    max=10.0,\n",
    "    step=0.01,\n",
    "    description='Wert [mm]',\n",
    "    disabled=False\n",
    ")\n",
    "img_count = widgets.BoundedFloatText(\n",
    "    value=5,\n",
    "    min=0.01, # 1 image per 100 seconds as lower limit\n",
    "    max=5000,\n",
    "    step=0.01,\n",
    "    description='Wert [1/s]',\n",
    "    disabled=False\n",
    ") \n",
    "v_continous = widgets.BoundedFloatText(\n",
    "    value=20,\n",
    "    min=0.1, # 1cm per 10s as lower limit\n",
    "    max=5000, # 10m per 1s as upper limit\n",
    "    step=0.01,\n",
    "    description='Wert [cm/s]',\n",
    "    disabled=True\n",
    ")\n",
    "\n",
    "\n",
    "v_boolean = widgets.Checkbox(\n",
    "    value=False,\n",
    "    description='Kontinuierliche Bewegung',\n",
    "    disabled=False\n",
    ")\n",
    "choice_camera = widgets.Dropdown( # drop sown field for camera selection\n",
    "    options= ['A','B'],\n",
    "    value='A',\n",
    "    description='Auswahl:',\n",
    "    disabled = False,\n",
    "    readout = True,\n",
    "    readout_format = 's',\n",
    ")\n",
    "\n",
    "options_contrast = ['Wenig Licht', 'Normal', 'Hoher Kontrast']\n",
    "contrast = widgets.ToggleButtons(\n",
    "    options = options_contrast,\n",
    "    value = options_contrast[1],\n",
    "    description='',\n",
    "    disabled=False,\n",
    "    button_style='', # 'success', 'info', 'warning', 'danger' or ''\n",
    "    tooltips=['', '', ''],\n",
    ")\n",
    "price = widgets.IntSlider(\n",
    "    value=10000,\n",
    "    min=1,\n",
    "    max=100000,\n",
    "    step=10,\n",
    "    description='Preis [€]:',\n",
    "    disabled=False,\n",
    "    continuous_update=False,\n",
    "    orientation='horizontal',\n",
    "    readout=True,\n",
    "    readout_format='d'\n",
    ")\n",
    "style_price = {'description_width': 'initial'} # change css settings to show text completely\n",
    "price_boolean = widgets.Checkbox(\n",
    "    value=False,\n",
    "    description='Zeige Kameras ohne Preisinformationen',\n",
    "    disabled=False,\n",
    "    style = style_price\n",
    ")\n",
    "\n",
    "Slider_c_results = widgets.IntSlider(\n",
    "    value=5,\n",
    "    min=0,\n",
    "    max=100,\n",
    "    step=1,\n",
    "    description='#Resultate',\n",
    "    disabled=False,\n",
    "    continuous_update=False,\n",
    "    orientation='horizontal',\n",
    "    readout=True,\n",
    "    readout_format='d',\n",
    "    #layout = layout_slider\n",
    ")\n",
    "\n",
    "camera_Hersteller= widgets.SelectMultiple(\n",
    "    options=cameras['Hersteller'].unique(),\n",
    "    value= list(cameras['Hersteller'].unique()),\n",
    "    rows=10,\n",
    "    description='Hersteller',\n",
    "    disabled=False\n",
    ")\n",
    "\n",
    "camera_housing= widgets.SelectMultiple(\n",
    "    options=list(cameras['Gehäusetyp'].unique()),\n",
    "    value= list(cameras['Gehäusetyp'].unique()),\n",
    "    rows=10,\n",
    "    description='Gehäusetyp',\n",
    "    disabled=False\n",
    ")\n",
    "\n",
    "#price_w = TwoByTwoLayout(top_left=price, top_right=price_boolean)\n",
    "price_w = HBox([VBox([price, price_boolean]),camera_Hersteller, camera_housing])\n",
    "#image_x_min = 1\n",
    "\n",
    "# functions\n",
    "def on_change_dx(change):\n",
    "    if change['type'] == 'change' and change['name'] == 'value':\n",
    "        image_size()\n",
    "\n",
    "def image_size():\n",
    "    # read current state\n",
    "    object_x = max(distance_x.value, distance_y.value)\n",
    "    object_y = min(distance_x.value, distance_y.value)\n",
    "    size = min_details.value\n",
    "    min_pix = 2 # standard number of pixel required for resolving minimum object size\n",
    "    smear_factor = 0.5 # factor smear effect for object movement (usually between 0.5 to 1)\n",
    "    freq_discrete = img_count.value\n",
    "    freq_boolean = v_boolean.value\n",
    "    \n",
    "    warning = widgets.HTML(value='Es sind keine Kameramodelle in diesem Leistungsbereich vorhanden. Sollten sie eine sehr hohe Bildfrequenz benötigen, so sollten Sie Zeilenkameras in Betrachtung ziehen.')\n",
    "    # calculate min required pixels x-size\n",
    "    global image_x_min\n",
    "    image_x_min = math.ceil(min_pix * object_x /(0.1 * size))\n",
    "    image_y_min = math.ceil(min_pix * object_y /(0.1 * size))\n",
    "    \n",
    "    # calculate the required frame rate\n",
    "    frequency_c = freq_discrete # ?change to include values for continous flow\n",
    "    \n",
    "    \n",
    "    \n",
    "    \n",
    "    #determine required contrast\n",
    "    if contrast.value == options_contrast[1]:\n",
    "        pix_size_min = 4.2\n",
    "        pix_size_max = 8\n",
    "    elif contrast.value == options_contrast[2]:\n",
    "        pix_size_min = 7\n",
    "        pix_size_max = 100\n",
    "    else:\n",
    "        pix_size_min = 0.1\n",
    "        pix_size_max = 4.2\n",
    "    \n",
    "    # determine acontinous mode and shutter requirement\n",
    "    # calculate the maximum exposure time\n",
    "    if freq_boolean == True:\n",
    "        speed_continous = v_continous.value\n",
    "        v_continous.disabled = False\n",
    "        shutter = 'Rolling shutter'\n",
    "        global exposure_time\n",
    "        exposure_time = 100 * smear_factor / (speed_continous * image_x_min / (10 * object_x))    \n",
    "    else:\n",
    "        v_continous.disabled = True\n",
    "        speed_continous = 0       \n",
    "        # figure for output graphics withhout rolling shutter   \n",
    "        shutter = ''\n",
    "        exposure_time = 1 / freq_discrete *1000\n",
    "           \n",
    "    # calculate the required time of exposure -> not used yet\n",
    "     \n",
    "    \n",
    "\n",
    "    \n",
    "     \n",
    "    # figure for output graphics   \n",
    "    camera_preselection = cameras.loc[(cameras['Horizontale Aufl. [Px]'] >= image_x_min) \n",
    "                                 & (cameras['Vertikale Aufl. [Px]'] >= image_y_min)\n",
    "                                 & (cameras['Spektrale Empfindlichkeit'] == colour)\n",
    "                                 & (cameras['Bildfrequenz [Hz]'] >= frequency_c)\n",
    "                                 & (cameras['Shuttertyp'] != shutter)\n",
    "                                 & (cameras['Pixelgröße [µm]'] > pix_size_min)\n",
    "                                 & (cameras['Pixelgröße [µm]'] < pix_size_max)]\n",
    "    \n",
    "    # adopt price range for price range slider \n",
    "    price.max = camera_preselection['Listenpreis [€]'].max()+500    \n",
    "    price.min = camera_preselection['Listenpreis [€]'].min()\n",
    "    \n",
    "    \n",
    "    #select cameras within price range, chekc if camera has a price (and if this should be considered)\n",
    "    global camera_selection\n",
    "    camera_selection = camera_preselection.loc[((camera_preselection['Listenpreis [€]']<= price.value) |\n",
    "                                               (camera_preselection['Listenpreis [€]'].isnull() & price_boolean.value))\n",
    "                                               & (camera_preselection['Hersteller'].isin(camera_Hersteller.value))\n",
    "                                               & (camera_preselection['Gehäusetyp'].isin(camera_housing.value))]\n",
    "    # result visualisation \n",
    "    results_c = widgets.HTML(value= '<b>Mindestanforderungen:</b> Horizontale Auflösung: %d px, Vertikale Auflösung: %d px, Auflösung: %.2f MP<br>Max. Belichtungszeit: %.2f ms<br>Anzahl geeigneter Kameras: %d<br> Anzahl aktuell gezeigter Kameras: %d' \n",
    "                             %(image_x_min, image_y_min, image_x_min*image_y_min/1000000, exposure_time,len(camera_preselection.index),len(camera_selection.index)))\n",
    "    clear_output(wait=True)\n",
    "    if ((len(camera_selection.index)) > 0 & (len(camera_preselection.index) > 0)): # check if result shows any cameras    \n",
    "        fig = px.scatter(camera_selection, \n",
    "            x='Auflösung [MP]', y='Bildfrequenz [Hz]', size='Pixelgröße [µm]', color='Listenpreis [€]', \n",
    "            color_continuous_scale=[(0,\"green\"), (0.1, \"yellow\"), (1,\"red\")], hover_name=\"Name\", hover_data=['Listenpreis [€]'], log_x=True, log_y= True, size_max=20)\n",
    "        # create dataframe of visualized cameras\n",
    "        df_camera_selection = camera_selection.sort_values(by='Listenpreis [€]', ascending=True, na_position='last')        \n",
    "        # adopt selection range for dropdown\n",
    "        choice_camera.options = list(df_camera_selection['Name'])\n",
    "        Slider_c_results.max = len(camera_selection.index)\n",
    "        #if freq_boolean == True: # differentiate possible GUI scenarios\n",
    "        display(text_c1, text_c2, distance_x, text_c3,distance_y, text_c4,min_details, text_c5,img_count, text_c6,v_continous,v_boolean, text_c7, contrast, text_c8, results_c, fig, price_w, Slider_c_results, df_camera_selection.head(Slider_c_results.value),text_c9, text_c10, choice_camera, doublebreak)        \n",
    "    else:    \n",
    "        display(text_c1, text_c2, distance_x, text_c3,distance_y, text_c4,min_details, text_c5,img_count, text_c6,v_continous,v_boolean, text_c7, contrast, text_c8, results_c, price_w, warning, doublebreak)\n",
    "    \n",
    "# initial state, observation         \n",
    "#display(text_c1, text_c2, distance_x, text_c3,distance_y, text_c4,min_details, text_c5,img_count, text_c6,v_continous,v_boolean, text_c7, contrast)\n",
    "distance_x.observe(on_change_dx)\n",
    "distance_y.observe(on_change_dx)\n",
    "min_details.observe(on_change_dx)\n",
    "img_count.observe(on_change_dx)\n",
    "v_continous.observe(on_change_dx)\n",
    "v_boolean.observe(on_change_dx)\n",
    "contrast.observe(on_change_dx)\n",
    "price.observe(on_change_dx)\n",
    "price_boolean.observe(on_change_dx)\n",
    "Slider_c_results.observe(on_change_dx)\n",
    "camera_Hersteller.observe(on_change_dx)\n",
    "camera_housing.observe(on_change_dx)\n",
    "\n",
    "image_size()"
   ]
  },
  {
   "cell_type": "code",
   "execution_count": 27,
   "metadata": {},
   "outputs": [
    {
     "data": {
      "text/plain": [
       "0.625"
      ]
     },
     "execution_count": 27,
     "metadata": {},
     "output_type": "execute_result"
    }
   ],
   "source": []
  },
  {
   "cell_type": "markdown",
   "metadata": {},
   "source": [
    " ## 3) Vorauswahl Objektiv   "
   ]
  },
  {
   "cell_type": "markdown",
   "metadata": {},
   "source": [
    "Bitte beantworten Sie die folgenden Fragen zur Vorauswahl eines geeigneten Objektivtyps."
   ]
  },
  {
   "cell_type": "code",
   "execution_count": 8,
   "metadata": {},
   "outputs": [
    {
     "data": {
      "application/vnd.jupyter.widget-view+json": {
       "model_id": "0f2746cfe0d544f1a983db5524a40218",
       "version_major": 2,
       "version_minor": 0
      },
      "text/plain": [
       "HTML(value='1) Verfügt die Anwendung über ein festes Sichtfeld (Objekt befindet sich immer in einem definierte…"
      ]
     },
     "metadata": {},
     "output_type": "display_data"
    },
    {
     "data": {
      "application/vnd.jupyter.widget-view+json": {
       "model_id": "d37e777e41964ee1a1b738cb913c2e7a",
       "version_major": 2,
       "version_minor": 0
      },
      "text/plain": [
       "Dropdown(description='Antwort:', index=1, options=('Nein', 'Ja'), value='Ja')"
      ]
     },
     "metadata": {},
     "output_type": "display_data"
    },
    {
     "data": {
      "application/vnd.jupyter.widget-view+json": {
       "model_id": "0f65b27a67664b2188af9371d1e0eefd",
       "version_major": 2,
       "version_minor": 0
      },
      "text/plain": [
       "HTML(value='2) Bedarf es eines extremen Weitwinkels / 360° Blickfelds für die Anwendung (Beispiel: Inspektion …"
      ]
     },
     "metadata": {},
     "output_type": "display_data"
    },
    {
     "data": {
      "application/vnd.jupyter.widget-view+json": {
       "model_id": "ee67ccd721504c63b81a6678e16fb481",
       "version_major": 2,
       "version_minor": 0
      },
      "text/plain": [
       "Dropdown(description='Antwort:', options=('Nein', 'Ja'), value='Nein')"
      ]
     },
     "metadata": {},
     "output_type": "display_data"
    },
    {
     "data": {
      "application/vnd.jupyter.widget-view+json": {
       "model_id": "0dbbdadcf042445e987b2da3ef409260",
       "version_major": 2,
       "version_minor": 0
      },
      "text/plain": [
       "HTML(value='3) Handelt es sich um eine sehr präzise Messaufgabe, bei der perspektivische Verzerrungen oder Ver…"
      ]
     },
     "metadata": {},
     "output_type": "display_data"
    },
    {
     "data": {
      "application/vnd.jupyter.widget-view+json": {
       "model_id": "a5e7d78d16ef48dda0821fd883626b8e",
       "version_major": 2,
       "version_minor": 0
      },
      "text/plain": [
       "Dropdown(description='Antwort:', options=('Nein', 'Ja'), value='Nein')"
      ]
     },
     "metadata": {},
     "output_type": "display_data"
    },
    {
     "data": {
      "application/vnd.jupyter.widget-view+json": {
       "model_id": "e27dacf7a8af46be86c3ee8d0e93acfa",
       "version_major": 2,
       "version_minor": 0
      },
      "text/plain": [
       "HTML(value='<b>Festbrennweitenobjektiv</b>')"
      ]
     },
     "metadata": {},
     "output_type": "display_data"
    },
    {
     "data": {
      "application/vnd.jupyter.widget-view+json": {
       "model_id": "4724e9df81fd4cb1ae1ae3233be633de",
       "version_major": 2,
       "version_minor": 0
      },
      "text/plain": [
       "HTML(value='<b><br><br>')"
      ]
     },
     "metadata": {},
     "output_type": "display_data"
    }
   ],
   "source": [
    "text_o1 = widgets.HTML(value='1) Verfügt die Anwendung über ein festes Sichtfeld (Objekt befindet sich immer in einem definierten Arbeitsbereich mit festem Abstand zur Kamera)? - D.h., das Kamerasichtfeld muss während der Anwendung nicht dynamisch angepasst werden?')\n",
    "text_o2 = widgets.HTML(value='2) Bedarf es eines extremen Weitwinkels / 360° Blickfelds für die Anwendung (Beispiel: Inspektion der Innenseite eines zylindrischen Körpers)?')\n",
    "text_o3 = widgets.HTML(value='3) Handelt es sich um eine sehr präzise Messaufgabe, bei der perspektivische Verzerrungen oder Verzeichnungen das Ergebnis verfälschen würden?') # Explain these terminologies\n",
    "\n",
    "\n",
    "options_qo1=['Nein','Ja']\n",
    "lense = 'Festbrennweite'\n",
    "\n",
    "q_o1 = widgets.Dropdown(\n",
    "    options= options_qo1,\n",
    "    \n",
    "    value=options_qo1[1],\n",
    "    description='Antwort:',\n",
    "    disabled=False,\n",
    ")\n",
    "q_o2 = widgets.Dropdown(\n",
    "    options= options_qo1,\n",
    "    value=options_qo1[0],\n",
    "    description='Antwort:',\n",
    "    disabled=False,\n",
    ")\n",
    "q_o3 = widgets.Dropdown(\n",
    "    options= options_qo1,\n",
    "    value=options_qo1[0],\n",
    "    description='Antwort:',\n",
    "    disabled=False,\n",
    ")\n",
    "\n",
    "# decision logic\n",
    "def result_qo():\n",
    "    global lense\n",
    "    r_o1 = q_o1.value\n",
    "    r_o2 = q_o2.value\n",
    "    r_o3 = q_o3.value\n",
    "       \n",
    "    if r_o2 == options_qo1[1]: # Spezialfall\n",
    "        results_qo = widgets.HTML(value='<b>Spezialfall: Fish-eye Optik</b>')\n",
    "    else:\n",
    "        if r_o1 == options_qo1[0]: # dynamisch\n",
    "            if r_o3 == options_qo1[1]: # Telezentrie mehrere\n",
    "                results_qo = widgets.HTML(value='<b>Mehrere telezentrische Objektive</b>')\n",
    "                lense = 'Telezentrisch'\n",
    "            else: #  zoomObjektiv  \n",
    "                results_qo = widgets.HTML(value='<b>Zoom Objektiv</b>')\n",
    "        else: # statisch \n",
    "            if r_o3 == options_qo1[1]: # Telezentrie normal\n",
    "                results_qo = widgets.HTML(value='<b>Telezentrisches Objektiv</b>')\n",
    "                lense = 'Telezentrisch'\n",
    "            else: #  zoomObjektiv  \n",
    "                results_qo = widgets.HTML(value='<b>Festbrennweitenobjektiv</b>')\n",
    "                lense = 'Festbrennweite'\n",
    "           \n",
    "    clear_output(wait=True)\n",
    "    display(text_o1, q_o1, text_o2, q_o2, text_o3, q_o3, results_qo, doublebreak)\n",
    "           \n",
    "\n",
    "def on_change_qo(change):\n",
    "    if change['type'] == 'change' and change['name'] == 'value':\n",
    "        result_qo()\n",
    "         \n",
    "\n",
    "q_o1.observe(on_change_qo)\n",
    "q_o2.observe(on_change_qo)\n",
    "q_o3.observe(on_change_qo)\n",
    "result_qo()\n",
    "\n",
    "# Logik zur Wertübergabe"
   ]
  },
  {
   "cell_type": "markdown",
   "metadata": {},
   "source": [
    "## 4) Detailauswahl Objektive"
   ]
  },
  {
   "cell_type": "markdown",
   "metadata": {},
   "source": [
    "Falls bei der vorherigen Objektivvorauswahl ein Festbrennweitenobjektiv oder telezentrisches Objektiv empfohlen wurde, so kann im Folgenden ein konkret passendes Produkt bestimmt werden."
   ]
  },
  {
   "cell_type": "code",
   "execution_count": null,
   "metadata": {},
   "outputs": [],
   "source": []
  },
  {
   "cell_type": "code",
   "execution_count": null,
   "metadata": {
    "scrolled": true
   },
   "outputs": [],
   "source": []
  },
  {
   "cell_type": "code",
   "execution_count": null,
   "metadata": {},
   "outputs": [],
   "source": []
  },
  {
   "cell_type": "code",
   "execution_count": null,
   "metadata": {},
   "outputs": [],
   "source": []
  },
  {
   "cell_type": "code",
   "execution_count": null,
   "metadata": {},
   "outputs": [],
   "source": []
  },
  {
   "cell_type": "code",
   "execution_count": 10,
   "metadata": {},
   "outputs": [],
   "source": [
    "# read data frame for Festbrennweiten\n",
    "lense_fixed = pd.read_excel('Data/lense_fixed.xlsx')\n",
    "lense_telecentric = pd.read_excel('Data/lense_telecentric.xlsx')"
   ]
  },
  {
   "cell_type": "code",
   "execution_count": 11,
   "metadata": {},
   "outputs": [],
   "source": [
    "# change toggle button\n",
    "lense_type_selection = widgets.ToggleButtons(\n",
    "    options = ['Festbrennweite', 'Telezentrisch'],\n",
    "    value = 'Festbrennweite',\n",
    "    disabled=False,\n",
    "    layout = widgets.Layout(width = '800px')\n",
    ")"
   ]
  },
  {
   "cell_type": "code",
   "execution_count": 9,
   "metadata": {},
   "outputs": [
    {
     "ename": "NameError",
     "evalue": "name 'lense_fixed' is not defined",
     "output_type": "error",
     "traceback": [
      "\u001b[0;31m---------------------------------------------------------------------------\u001b[0m",
      "\u001b[0;31mNameError\u001b[0m                                 Traceback (most recent call last)",
      "\u001b[0;32m<ipython-input-9-efd3197d19ea>\u001b[0m in \u001b[0;36m<module>\u001b[0;34m\u001b[0m\n\u001b[1;32m    117\u001b[0m \u001b[0;34m\u001b[0m\u001b[0m\n\u001b[1;32m    118\u001b[0m lense_f_Hersteller= widgets.SelectMultiple(\n\u001b[0;32m--> 119\u001b[0;31m     \u001b[0moptions\u001b[0m\u001b[0;34m=\u001b[0m\u001b[0mlense_fixed\u001b[0m\u001b[0;34m[\u001b[0m\u001b[0;34m'Hersteller'\u001b[0m\u001b[0;34m]\u001b[0m\u001b[0;34m.\u001b[0m\u001b[0munique\u001b[0m\u001b[0;34m(\u001b[0m\u001b[0;34m)\u001b[0m\u001b[0;34m,\u001b[0m\u001b[0;34m\u001b[0m\u001b[0;34m\u001b[0m\u001b[0m\n\u001b[0m\u001b[1;32m    120\u001b[0m     \u001b[0mvalue\u001b[0m\u001b[0;34m=\u001b[0m \u001b[0mlist\u001b[0m\u001b[0;34m(\u001b[0m\u001b[0mlense_fixed\u001b[0m\u001b[0;34m[\u001b[0m\u001b[0;34m'Hersteller'\u001b[0m\u001b[0;34m]\u001b[0m\u001b[0;34m.\u001b[0m\u001b[0munique\u001b[0m\u001b[0;34m(\u001b[0m\u001b[0;34m)\u001b[0m\u001b[0;34m)\u001b[0m\u001b[0;34m,\u001b[0m\u001b[0;34m\u001b[0m\u001b[0;34m\u001b[0m\u001b[0m\n\u001b[1;32m    121\u001b[0m     \u001b[0mrows\u001b[0m\u001b[0;34m=\u001b[0m\u001b[0;36m10\u001b[0m\u001b[0;34m,\u001b[0m\u001b[0;34m\u001b[0m\u001b[0;34m\u001b[0m\u001b[0m\n",
      "\u001b[0;31mNameError\u001b[0m: name 'lense_fixed' is not defined"
     ]
    }
   ],
   "source": [
    "###### Objekte Festbrennweite\n",
    "text_l0 = widgets.HTML(value='<b>A) Ausgewählte Kamera_____________________________________________________________</b>')\n",
    "text_l1 = widgets.HTML(value='1) Was ist der minimal und maximal zulässige Abstand zwischen Objekt und Objektiv?')\n",
    "text_l2 = widgets.HTML(value='2) Was ist der relevante Tiefenbereich des Objekts, der scharf abgebildet werden muss?')\n",
    "text_l3 = widgets.HTML(value='<b><br>C) Übersicht geeigneter Objektive & Detailspezifikation________________________________</b>')\n",
    "text_l4 = widgets.HTML(value='Spektrale Empfindlichkeit:')\n",
    "text_l5 = widgets.HTML(value='Blendentyp:')\n",
    "text_l6 = widgets.HTML(value='<b><br>B) Weitere Spezifikationen des Anwendungsfall_______________________________________</b>')\n",
    "warning_compatibility = widgets.HTML(value='<b>Keine passenden Objektive für die Kamera vorhanden. Bitte überprüfen Sie den Objektivanschluss der ausgewählten Kamera.</b>')\n",
    "\n",
    "\n",
    "# create rerelevant GUI elements\n",
    "layout_slider = widgets.Layout(width = '500px')\n",
    "Slider_depth = widgets.FloatSlider(\n",
    "    value=2,\n",
    "    min=0,\n",
    "    max=25,\n",
    "    step=0.5,\n",
    "    disabled=False,\n",
    "    continuous_update=False,\n",
    "    orientation='horizontal',\n",
    "    readout=True,\n",
    "    readout_format='.1f',\n",
    ")\n",
    "Slider_oversize = widgets.FloatSlider(\n",
    "    value=1.8,\n",
    "    min=1,\n",
    "    max=3,\n",
    "    step=0.1,\n",
    "    description='Übermaß',\n",
    "    disabled=False,\n",
    "    continuous_update=False,\n",
    "    orientation='vertical',\n",
    "    readout=True,\n",
    "    #layout = layout_slider\n",
    ")\n",
    "\n",
    "Slider_l_price = widgets.IntSlider(\n",
    "    value=1000,\n",
    "    min=1,\n",
    "    max=4000,\n",
    "    step=20,\n",
    "    description='Preis max',\n",
    "    disabled=False,\n",
    "    continuous_update=False,\n",
    "    orientation='vertical',\n",
    "    readout=True,\n",
    "    readout_format='d',\n",
    "    #layout = layout_slider\n",
    ")\n",
    "\n",
    "Slider_l_results = widgets.IntSlider(\n",
    "    value=5,\n",
    "    min=0,\n",
    "    max=100,\n",
    "    step=1,\n",
    "    description='#Resultate',\n",
    "    disabled=False,\n",
    "    continuous_update=False,\n",
    "    orientation='horizontal',\n",
    "    readout=True,\n",
    "    readout_format='d',\n",
    "    #layout = layout_slider\n",
    ")\n",
    "\n",
    "Slider_l = widgets.IntRangeSlider(\n",
    "    value=[5, 300],\n",
    "    min=5,\n",
    "    max=300,\n",
    "    step=1,\n",
    "    disabled=False,\n",
    "    continuous_update=False,\n",
    "    orientation='horizontal',\n",
    "    readout=True,\n",
    "    readout_format='d',\n",
    "    layout = layout_slider\n",
    ")\n",
    "\n",
    "#style_price = {'description_width': 'initial'} # change css settings to show text completely\n",
    "monochrome_boolean = widgets.Checkbox(\n",
    "    value=True,\n",
    "    description='Monochrom',\n",
    "    disabled=False,\n",
    "    #style = style_price\n",
    ")\n",
    "\n",
    "colour_boolean = widgets.Checkbox(\n",
    "    value=True,\n",
    "    description='Colour',\n",
    "    disabled=False,\n",
    ")\n",
    "\n",
    "ir_boolean = widgets.Checkbox(\n",
    "    value=False,\n",
    "    description='Infrarot',\n",
    "    disabled=False,\n",
    ")\n",
    "\n",
    "uv_boolean = widgets.Checkbox(\n",
    "    value=False,\n",
    "    description='UV',\n",
    "    disabled=False,\n",
    ")\n",
    "\n",
    "blende_flexible_boolean = widgets.Checkbox(\n",
    "    value=True,\n",
    "    description='verstellbar',\n",
    "    disabled=False,\n",
    ")\n",
    "\n",
    "blende_fix_boolean = widgets.Checkbox(\n",
    "    value=True,\n",
    "    description='fixiert',\n",
    "    disabled=False,\n",
    "    tooltip='Enter the name of the Text field',\n",
    ")\n",
    "\n",
    "lense_f_Hersteller= widgets.SelectMultiple(\n",
    "    options=lense_fixed['Hersteller'].unique(),\n",
    "    value= list(lense_fixed['Hersteller'].unique()),\n",
    "    rows=10,\n",
    "    description='Hersteller',\n",
    "    disabled=False\n",
    ")\n",
    "\n",
    "\n",
    "adjustments = HBox([VBox([Label('Spektrale Empfindlichkeit:'), monochrome_boolean, colour_boolean, ir_boolean, uv_boolean]), \n",
    "                    VBox([text_l5, blende_flexible_boolean, blende_fix_boolean]), Slider_oversize, Slider_l_price, lense_f_Hersteller])\n",
    "distance_z = HBox([Label('Abstand [cm]:'), Slider_l])\n",
    "depth_z = HBox([Label('Tiefe [cm]:'), Slider_depth])"
   ]
  },
  {
   "cell_type": "code",
   "execution_count": 12,
   "metadata": {},
   "outputs": [],
   "source": [
    "###################### Objekte Telezentrie\n",
    "\n",
    "text_t0 = widgets.HTML(value='<b>A) Ausgewählte Kamera_____________________________________________________________</b>')\n",
    "text_t1 = widgets.HTML(value='1) Was ist der minimal und maximal zulässige Abstand zwischen Objekt und Objektiv?')\n",
    "text_t2 = widgets.HTML(value='2) Was ist der relevante Tiefenbereich des Objekts, der scharf abgebildet werden muss?')\n",
    "text_t3 = widgets.HTML(value='<b><br>C) Übersicht geeigneter Objektive & Detailspezifikation________________________________</b>')\n",
    "text_t4 = widgets.HTML(value='Spektrale Empfindlichkeit:')\n",
    "text_t5 = widgets.HTML(value='Blendentyp:')\n",
    "text_t6 = widgets.HTML(value='<b><br>B) Weitere Spezifikationen des Anwendungsfall_______________________________________</b>')\n",
    "warning_compatibility = widgets.HTML(value='<b>Keine passenden Objektive für die Kamera vorhanden. Bitte überprüfen Sie den Objektivanschluss der ausgewählten Kamera.</b>')\n",
    "\n",
    "# create rerelevant GUI elements\n",
    "layout_slider = widgets.Layout(width = '500px')\n",
    "Slider_depth_t = widgets.FloatSlider(\n",
    "    value=2,\n",
    "    min=0,\n",
    "    max=25,\n",
    "    step=0.5,\n",
    "    disabled=False,\n",
    "    continuous_update=False,\n",
    "    orientation='horizontal',\n",
    "    readout=True,\n",
    "    readout_format='.1f',\n",
    ")\n",
    "Slider_oversize_t = widgets.FloatSlider(\n",
    "    value=1.8,\n",
    "    min=1,\n",
    "    max=3,\n",
    "    step=0.1,\n",
    "    description='Übermaß',\n",
    "    disabled=False,\n",
    "    continuous_update=False,\n",
    "    orientation='vertical',\n",
    "    readout=True,\n",
    "    #layout = layout_slider\n",
    ")\n",
    "\n",
    "Slider_price_t = widgets.IntSlider(\n",
    "    value=4000,\n",
    "    min=1,\n",
    "    max=5000,\n",
    "    step=20,\n",
    "    description='Preis max',\n",
    "    disabled=False,\n",
    "    continuous_update=False,\n",
    "    orientation='vertical',\n",
    "    readout=True,\n",
    "    readout_format='d',\n",
    "    #layout = layout_slider\n",
    ")\n",
    "\n",
    "Slider_results_t = widgets.IntSlider(\n",
    "    value=5,\n",
    "    min=0,\n",
    "    max=100,\n",
    "    step=1,\n",
    "    description='#Resultate',\n",
    "    disabled=False,\n",
    "    continuous_update=False,\n",
    "    orientation='horizontal',\n",
    "    readout=True,\n",
    "    readout_format='d',\n",
    "    #layout = layout_slider\n",
    ")\n",
    "\n",
    "Slider_distance_t = widgets.IntRangeSlider(\n",
    "    value=[2, 60],\n",
    "    min=2,\n",
    "    max=60,\n",
    "    step=1,\n",
    "    disabled=False,\n",
    "    continuous_update=False,\n",
    "    orientation='horizontal',\n",
    "    readout=True,\n",
    "    readout_format='d',\n",
    "    layout = layout_slider\n",
    ")\n",
    "\n",
    "\n",
    "\n",
    "#style_price = {'description_width': 'initial'} # change css settings to show text completely\n",
    "monochrome_boolean_t = widgets.Checkbox(\n",
    "    value=True,\n",
    "    description='Monochrom',\n",
    "    disabled=False,\n",
    "    #style = style_price\n",
    ")\n",
    "\n",
    "colour_boolean_t = widgets.Checkbox(\n",
    "    value=True,\n",
    "    description='Colour',\n",
    "    disabled=False,\n",
    ")\n",
    "\n",
    "ir_boolean_t = widgets.Checkbox(\n",
    "    value=False,\n",
    "    description='Infrarot',\n",
    "    disabled=False,\n",
    ")\n",
    "\n",
    "uv_boolean_t = widgets.Checkbox(\n",
    "    value=False,\n",
    "    description='UV',\n",
    "    disabled=False,\n",
    ")\n",
    "Blende_t_t_flexible_boolean = widgets.Checkbox(\n",
    "    value=True,\n",
    "    description='Verstellbar',\n",
    "    disabled=False,\n",
    ")\n",
    "Blende_t_t_fix_boolean = widgets.Checkbox(\n",
    "    value=True,\n",
    "    description='Fixiert',\n",
    "    disabled=False,\n",
    ")\n",
    "simpleTel_boolean = widgets.Checkbox(\n",
    "    value=True,\n",
    "    description='Einfach objektseitig',\n",
    "    disabled=False\n",
    ")\n",
    "biTel_boolean = widgets.Checkbox(\n",
    "    value=True,\n",
    "    description='Bi-telezentrisch',\n",
    "    disabled=False\n",
    ")\n",
    "lense_t_Hersteller= widgets.SelectMultiple(\n",
    "    options=lense_telecentric['Hersteller'].unique(),\n",
    "    value= list(lense_telecentric['Hersteller'].unique()),\n",
    "    rows=10,\n",
    "    description='Hersteller',\n",
    "    disabled=False\n",
    ")\n",
    "\n",
    "\n",
    "#adjustments_t = HBox([VBox([Label('Spektrale Empfindlichkeit:'), monochrome_boolean_t, colour_boolean_t, ir_boolean_t, uv_boolean_t]), \n",
    "#                    VBox([text_t5, Blende_t_t_flexible_boolean, Blende_t_t_fix_boolean,Label('Telezentrieart:'),simpleTel_boolean,biTel_boolean ]), Slider_oversize_t, Slider_price_t, lense_t_Hersteller])\n",
    "\n",
    "distance_z_t = HBox([Label('Abstand [cm]:'),Slider_distance_t])\n",
    "depth_z_t = HBox([Label('Tiefe [cm]:'), Slider_depth_t])"
   ]
  },
  {
   "cell_type": "code",
   "execution_count": 13,
   "metadata": {},
   "outputs": [],
   "source": [
    "# Auswahllogik Festbrennweite\n",
    "# Auswahllogik Festbrennweite\n",
    "def result_lense_f():\n",
    "    # clear current display\n",
    "    clear_output(wait = True)\n",
    "    # get distance inputs\n",
    "    z_min = Slider_l.value[0]*10 # minimal distance in mm\n",
    "    z_max = Slider_l.value[1]*10\n",
    "    depth = Slider_depth.value * 10\n",
    "    # get currently selected camera\n",
    "    global cam_selected\n",
    "    cam_selected = cameras.loc[(cameras['Name'] == choice_camera.value)]  \n",
    "    # get sensor size\n",
    "    sensor_diameter = cam_selected['Sensorgröße [mm]'].values[0]\n",
    "     \n",
    "    # calculate adjusted field of view according to selected sensor \n",
    "    FOV_horizontal = max(distance_x.value, distance_y.value) # FOV in cm\n",
    "    FOV_vertical = FOV_horizontal * cam_selected['Vertikale Aufl. [Px]'] / cam_selected['Horizontale Aufl. [Px]']\n",
    "    FOV_diameter = (FOV_horizontal**2 + FOV_vertical**2)**0.5\n",
    "    \n",
    "    # calculate range of focal length in dependence of selected range field\n",
    "    f_min = z_min * sensor_diameter / (sensor_diameter + 10 * FOV_diameter) \n",
    "    f_max = z_max * sensor_diameter / (sensor_diameter + 10 * FOV_diameter) \n",
    "    \n",
    "    # check different selections for spectral sensitivity\n",
    "    lense_f_sensitivity = []\n",
    "    if monochrome_boolean.value:\n",
    "        lense_f_sensitivity.append('Monochrome')\n",
    "    if colour_boolean.value:\n",
    "        lense_f_sensitivity.append('Colour')\n",
    "    if ir_boolean.value:\n",
    "        lense_f_sensitivity.append('IR')\n",
    "        lense_f_sensitivity.append('SWIR')\n",
    "        lense_f_sensitivity.append('VISNIR')\n",
    "    if uv_boolean.value:\n",
    "        lense_f_sensitivity.append('UV')\n",
    "        \n",
    "        \n",
    "    # check different selections for spectral sensitivity\n",
    "    lense_f_flexibility = []\n",
    "    if blende_flexible_boolean.value:\n",
    "        lense_f_flexibility.append('flexible')\n",
    "    if blende_fix_boolean.value:\n",
    "        lense_f_flexibility.append('fix')\n",
    "   \n",
    "    \n",
    "    #select fitting lenses\n",
    "    lense_f_preselection = lense_fixed.loc[\n",
    "                                (lense_fixed['Min Pixelgröße [µm]'] <= float(cam_selected['Pixelgröße [µm]'])) # pixel size\n",
    "                                 & (lense_fixed['Bilddiagonale [mm]'] >= float(cam_selected['Sensorgröße [mm]']))# Sensor size krasses Overfitting\n",
    "                                 & (lense_fixed['Objektivanschluss'] == cam_selected['Objektivanschluss'].values[0]) # mounting standard\n",
    "                                 & (lense_fixed['Spektrale Empfindlichkeit'].isin(lense_f_sensitivity)) # control spectral sensitivity\n",
    "                                ]\n",
    "    \n",
    "    if len(lense_f_preselection) > 0: #check if suitable lenses exist\n",
    "        # oversizing calculation\n",
    "        lense_f_preselection['Überdimensionierung Bilddiagonale'] = lense_f_preselection['Bilddiagonale [mm]']/sensor_diameter\n",
    "        \n",
    "        # Calculate the adapted focal length -> depends on the ration of Sensorgröße to Bilddiagonale (Frp factor)\n",
    "        lense_f_preselection['Brennweite_real'] = lense_f_preselection['Brennweite [mm]'] * lense_f_preselection['Überdimensionierung Bilddiagonale']\n",
    "                                               \n",
    "        # Berechnung Abreitsabstand\n",
    "        lense_f_preselection['Arbeitsabstand [cm]'] = (lense_f_preselection['Brennweite_real']*(cam_selected['Sensorgröße [mm]'].values[0] \n",
    "                                                + 10 * FOV_diameter.values[0]) / cam_selected['Sensorgröße [mm]'].values[0]) *0.1\n",
    "        #calculaiton Blende\n",
    "        global Blende  \n",
    "        Blende = ((depth * lense_f_preselection['Brennweite_real'] **2)\n",
    "                                                / (2 * lense_f_preselection['Arbeitsabstand [cm]']* 10 * float(cam_selected['Pixelgröße [µm]']*0.001) \n",
    "                                                * (lense_f_preselection['Arbeitsabstand [cm]']* 10 - lense_f_preselection['Brennweite_real'])))\n",
    "\n",
    "        if Blende.mean() > 11:\n",
    "            Blende_warning = 'Blendenzahl sehr kritisch: Größerer Bildsensor empfohlen'\n",
    "        elif Blende.mean() > 8:  \n",
    "            Blende_warning = 'Blende kritisch'\n",
    "        else:  \n",
    "            Blende_warning = 'Blende unkritisch'    \n",
    "\n",
    "        \n",
    "\n",
    "        #adjust slider range for oversizing\n",
    "        Slider_oversize.max = lense_f_preselection['Überdimensionierung Bilddiagonale'].max()+0.2\n",
    "        #adjust slider range price tag\n",
    "        Slider_l_price.min = lense_f_preselection['Listenpreis [€]'].min()\n",
    "        Slider_l_price.max = lense_f_preselection['Listenpreis [€]'].max()+20\n",
    "\n",
    "\n",
    "        # finale Auswahl inklusive bevorzugter Auswahloptionen: Arbeitsabstand, Preis, Robustheit etc.\n",
    "        # Delete lenses with blende = fix und Blende zu klein\n",
    "        blende_klein = lense_f_preselection[(lense_f_preselection['Blendentyp'] == 'fix') & (lense_f_preselection['Blendenzahl'] < Blende.mean())].index\n",
    "        lense_f_preselection.drop(blende_klein, inplace = True)\n",
    "\n",
    "\n",
    "        lense_f_selection = lense_f_preselection.loc[(lense_f_preselection['Arbeitsabstand [cm]'] >= z_min/10) # working distance\n",
    "                                                     & (lense_f_preselection['Arbeitsabstand [cm]'] <= z_max/10) # working distance\n",
    "                                                     & (lense_f_preselection['Arbeitsabstand [cm]']*10 >= lense_f_preselection['MOD [mm]']) # Überprüfung Einhaltung MOD\n",
    "                                                     & (lense_f_preselection['Blendentyp'].isin(lense_f_flexibility)) \n",
    "                                                     & (lense_f_preselection['Überdimensionierung Bilddiagonale'] <= Slider_oversize.value)\n",
    "                                                     & (lense_f_preselection['Listenpreis [€]'] <= Slider_l_price.value)\n",
    "                                                     & (lense_f_preselection['Hersteller'].isin(lense_f_Hersteller.value))\n",
    "                                                    ] \n",
    "\n",
    "        # check required schärfentiefe / with modified brennweite , special robustness\n",
    "        results_l_f = widgets.HTML(value= '<b>Mindestanforderungen:</b> Minimale Brennweite: %.2f mm, Maximale Brennweite: %.2f mm<br> Empfohlene eninzustellende Blende: %.1f<br> Warnung Blende: %s<br> Diagonale Bildsensor %.1f<br>Anzahl geeigneter Objektive: %d<br> Anzahl aktuell gezeigter Objektive: %d' \n",
    "                                 %(f_min, f_max, Blende.mean(), Blende_warning,sensor_diameter, len(lense_f_preselection.index), len(lense_f_selection.index)))\n",
    "\n",
    "        \n",
    "        if (len(lense_f_selection.index) > 0): #suitable lenses were found \n",
    "            # bubble chart for presenting\n",
    "            chart_l_f = px.scatter(lense_f_selection, x = 'Arbeitsabstand [cm]', y = 'Überdimensionierung Bilddiagonale', \n",
    "                            size='Min Pixelgröße [µm]', color='Listenpreis [€]', color_continuous_scale=[(0,\"green\"), \n",
    "                            (0.1, \"yellow\"), (1,\"red\")], hover_name=\"Name\", hover_data = ['Listenpreis [€]'], log_x=False, log_y= False, size_max=20)\n",
    "            #change chart axes\n",
    "            chart_l_f.update_xaxes(range=[0, 300])\n",
    "            chart_l_f.update_yaxes(range=[0.8, lense_f_preselection['Überdimensionierung Bilddiagonale'].max()+0.3])\n",
    "            # create dataframe of slected lenses, sorted by price\n",
    "            global df_lense_f_selection\n",
    "            df_lense_f_selection = lense_f_selection.sort_values(by='Listenpreis [€]', ascending=True, na_position='last')        \n",
    "            # adopt selection range for slider limits\n",
    "            Slider_l_results.max = len(lense_f_selection.index)\n",
    "            # show all created elements\n",
    "            display(lense_type_selection, text_l0,cam_selected, text_l6, text_l1, distance_z, text_l2, depth_z, text_l3, results_l_f, chart_l_f, adjustments,df_lense_f_selection.head(Slider_l_results.value), Slider_l_results, doublebreak)\n",
    "        else: # no suitable lenses with the current parameter settings -> user need to make adjustments  \n",
    "            #\n",
    "            display(lense_type_selection, text_l0,cam_selected, text_l6, text_l1, text_l6, distance_z, text_l2, depth_z, text_l3, results_l_f, adjustments, doublebreak)\n",
    "    else: # no suitable lenses for the current camera\n",
    "        display(lense_type_selection, text_l0,cam_selected, text_l6, text_l1, distance_z, text_l2, depth_z, text_l3,adjustments, warning_compatibility, doublebreak)\n",
    "                            "
   ]
  },
  {
   "cell_type": "code",
   "execution_count": 14,
   "metadata": {},
   "outputs": [],
   "source": [
    "# Auswahllogik Telezntrisches Objektiv\n",
    "def result_lense_t(): \n",
    "    # clear current display\n",
    "    clear_output(wait = True)\n",
    "    # get distance inputs\n",
    "    z_min = Slider_distance_t.value[0]*10 # minimal distance in mm\n",
    "    z_max = Slider_distance_t.value[1]*10\n",
    "    depth = Slider_depth_t.value * 10\n",
    "    # get currently selected camera\n",
    "    global cam_selected\n",
    "    cam_selected = cameras.loc[(cameras['Name'] == choice_camera.value)]  \n",
    "    # get sensor size\n",
    "    sensor_diameter = cam_selected['Sensorgröße [mm]'].values[0]\n",
    "     \n",
    "    # calculate adjusted field of view according to selected sensor \n",
    "    FOV_horizontal = max(distance_x.value, distance_y.value) # FOV in cm\n",
    "    FOV_vertical = FOV_horizontal * cam_selected['Vertikale Aufl. [Px]'] / cam_selected['Horizontale Aufl. [Px]']\n",
    "    FOV_diameter = (FOV_horizontal**2 + FOV_vertical**2)**0.5\n",
    "      \n",
    "    # check different selections for spectral sensitivity\n",
    "    lense_t_sensitivity = []\n",
    "    if monochrome_boolean_t.value:\n",
    "        lense_t_sensitivity.append('Visible')\n",
    "    if colour_boolean_t.value:\n",
    "        lense_t_sensitivity.append('Visible')\n",
    "    if ir_boolean_t.value:\n",
    "        lense_t_sensitivity.append('IR')\n",
    "        lense_t_sensitivity.append('SWIR')\n",
    "        lense_t_sensitivity.append('VISNIR')\n",
    "    if uv_boolean_t.value:\n",
    "        lense_t_sensitivity.append('UV')\n",
    "        \n",
    "        \n",
    "    # check different selections for spectral sensitivity\n",
    "    lense_t_flexibility = []\n",
    "    if Blende_t_t_flexible_boolean.value:\n",
    "        lense_t_flexibility.append('flexible')\n",
    "    if Blende_t_t_fix_boolean.value:\n",
    "        lense_t_flexibility.append('fix')\n",
    "    \n",
    "    telecentricity_type = []\n",
    "    if simpleTel_boolean.value:\n",
    "        telecentricity_type.append('no')\n",
    "    if biTel_boolean.value:\n",
    "        telecentricity_type.append('yes')    \n",
    "        \n",
    "        \n",
    "    lense_telecentric['FOV Diagonale [cm]'] = round(cam_selected['Sensorgröße [mm]'].values[0] * 0.1 / lense_telecentric['Magnification (max)'], 2)\n",
    "    #select fitting lenses\n",
    "    lense_t_preselection = lense_telecentric.loc[\n",
    "                                (lense_telecentric['Min Pixelgröße [µm]'] <= float(cam_selected['Pixelgröße [µm]'])) # pixel size\n",
    "                                 & (lense_telecentric['Bilddiagonale [mm]'] >= float(cam_selected['Sensorgröße [mm]']))# Sensor size krasses Overfitting\n",
    "                                 & (lense_telecentric['Objektivanschluss'] == cam_selected['Objektivanschluss'].values[0]) # mounting standard\n",
    "                                 & (lense_telecentric['Spektrale Empfindlichkeit'].isin(lense_t_sensitivity)) # control spectral sensitivity\n",
    "                                 & (lense_telecentric['FOV Diagonale [cm]'] >= float(FOV_diameter))\n",
    "                                ]\n",
    "    count_lense_t = len(lense_t_preselection.index)\n",
    "    info_usecase_t = widgets.HTML(value= 'Benötigtes Sichtfeld (FOV Diagonale): %.1f cm  <br> Anzahl Kamera-kompatible telezentrische Objektive: %d' \n",
    "                                 %(FOV_diameter, count_lense_t))\n",
    "    \n",
    "    \n",
    "    if len(lense_t_preselection) > 0: #check if suitable lenses exist\n",
    "        # oversizing calculation\n",
    "        lense_t_preselection['Überdimensionierung Bilddiagonale'] = round(lense_t_preselection['Bilddiagonale [mm]']/sensor_diameter, 2)\n",
    "        lense_t_preselection['Approx. Schärfentiefe (aktuelle Konfig.) [mm]'] = round(8 * cam_selected['Pixelgröße [µm]'].values[0]*0.001 * lense_t_preselection['Blendenzahl'] / (lense_t_preselection['Magnification (max)']**2),2)\n",
    "        lense_t_preselection['Min. benötigte Blende'] = round((depth * lense_t_preselection['Magnification (max)']**2) / (8 * cam_selected['Pixelgröße [µm]'].values[0] * 0.001), 2)\n",
    "                \n",
    "        #adjust slider range for oversizing\n",
    "        Slider_oversize_t.max = lense_t_preselection['Überdimensionierung Bilddiagonale'].max()+0.2\n",
    "        #adjust slider range price tag\n",
    "        Slider_price_t.min = lense_t_preselection['Listenpreis [€]'].min()\n",
    "        Slider_price_t.max = lense_t_preselection['Listenpreis [€]'].max()+20\n",
    "\n",
    "        # Delete lenses with Blende_t = fix und Blende_t zu klein\n",
    "        Blende_t_low = lense_t_preselection[(lense_t_preselection['Blendentyp'] == 'fix') & (lense_t_preselection['Blendenzahl'] < lense_t_preselection['Min. benötigte Blende'])].index\n",
    "        lense_t_preselection.drop(Blende_t_low, inplace = True)\n",
    "\n",
    "\n",
    "        lense_t_selection = lense_t_preselection.loc[(lense_t_preselection['Messabstand [mm]'] >= z_min) # working distance\n",
    "                                                     & (lense_t_preselection['Messabstand [mm]'] <= z_max) # working distance\n",
    "                                                     & (lense_t_preselection['Blendentyp'].isin(lense_t_flexibility)) \n",
    "                                                     & (lense_t_preselection['Überdimensionierung Bilddiagonale'] <= Slider_oversize_t.value)\n",
    "                                                     & (lense_t_preselection['Listenpreis [€]'] <= Slider_price_t.value)\n",
    "                                                     & ((lense_t_preselection['Min. benötigte Blende'] <= 25) | (lense_t_preselection['Min. benötigte Blende'] <= lense_t_preselection['Blendenzahl']))\n",
    "                                                     & (lense_t_preselection['Hersteller'].isin(lense_t_Hersteller.value))\n",
    "                                                     & (lense_t_preselection['Bi-Telezentrie'].isin(telecentricity_type))\n",
    "                                                    ] \n",
    "                \n",
    "        results_l_t = widgets.HTML(value= 'Anzahl kompatibler Objektive: %d / %d' \n",
    "                                 %(len(lense_t_selection.index), count_lense_t))\n",
    "        \n",
    "        adjustments_t = HBox([VBox([results_l_t, Label('Spektrale Empfindlichkeit:'), monochrome_boolean_t, colour_boolean_t, ir_boolean_t, uv_boolean_t]), \n",
    "                    VBox([text_t5, Blende_t_t_flexible_boolean, Blende_t_t_fix_boolean,Label('Telezentrieart:'),simpleTel_boolean,biTel_boolean ]), Slider_oversize_t, Slider_price_t, lense_t_Hersteller])\n",
    "   \n",
    "        if (len(lense_t_selection.index) > 0): #suitable lenses were found \n",
    "            ##### evtl eher mögliche Objektgröße\n",
    "            # bubble chart for presenting\n",
    "            chart_l_t = px.scatter(lense_t_selection, x = 'Messabstand [mm]', y = 'Überdimensionierung Bilddiagonale', \n",
    "                            size='FOV Diagonale [cm]', color='Listenpreis [€]', color_continuous_scale=[(0,\"green\"), \n",
    "                            (0.1, \"yellow\"), (1,\"red\")], hover_name=\"Name\", hover_data = ['Listenpreis [€]'], log_x=False, log_y= False, size_max=20)\n",
    "            #change chart axes\n",
    "            ##### anpassen\n",
    "            chart_l_t.update_xaxes(range=[0, 600])\n",
    "            chart_l_t.update_yaxes(range=[0.8, lense_t_preselection['Überdimensionierung Bilddiagonale'].max()+0.3])\n",
    "            # create dataframe of slected lenses, sorted by price\n",
    "            global df_lense_t_selection\n",
    "            df_lense_t_selection = lense_t_selection.sort_values(by='Listenpreis [€]', ascending=True, na_position='last')        \n",
    "            # adopt selection range for slider limits\n",
    "            Slider_results_t.max = len(lense_t_selection.index)\n",
    "            # show all created elements\n",
    "            clear_output(wait = True)\n",
    "            display(lense_type_selection, text_t0, cam_selected, info_usecase_t, text_t6, text_t1, distance_z_t, text_t2, depth_z_t, text_t3, chart_l_t, adjustments_t,df_lense_t_selection.head(Slider_results_t.value), Slider_results_t, doublebreak)\n",
    "        else: # no suitable lenses with the current parameter settings -> user need to make adjustments_t  \n",
    "            display(lense_type_selection, text_t0, cam_selected, info_usecase_t, text_t6, text_t1, distance_z_t, text_t2, depth_z_t, text_t3, adjustments_t, doublebreak)\n",
    "    else: # no suitable lenses for the current camera\n",
    "        display(lense_type_selection, text_t0, cam_selected, info_usecase_t, text_t6, text_t1, distance_z_t, text_t2, depth_z_t, text_t3,warning_compatibility, doublebreak)\n",
    "        "
   ]
  },
  {
   "cell_type": "code",
   "execution_count": 15,
   "metadata": {
    "scrolled": false
   },
   "outputs": [
    {
     "data": {
      "application/vnd.jupyter.widget-view+json": {
       "model_id": "f4a6ee55e7c34a8cb0ee5726200f7cad",
       "version_major": 2,
       "version_minor": 0
      },
      "text/plain": [
       "ToggleButtons(layout=Layout(width='800px'), options=('Festbrennweite', 'Telezentrisch'), value='Festbrennweite…"
      ]
     },
     "metadata": {},
     "output_type": "display_data"
    },
    {
     "data": {
      "application/vnd.jupyter.widget-view+json": {
       "model_id": "eefe6652c63b464ea3dbb3983e90e121",
       "version_major": 2,
       "version_minor": 0
      },
      "text/plain": [
       "HTML(value='<b>A) Ausgewählte Kamera_____________________________________________________________</b>')"
      ]
     },
     "metadata": {},
     "output_type": "display_data"
    },
    {
     "data": {
      "text/html": [
       "<div>\n",
       "<style scoped>\n",
       "    .dataframe tbody tr th:only-of-type {\n",
       "        vertical-align: middle;\n",
       "    }\n",
       "\n",
       "    .dataframe tbody tr th {\n",
       "        vertical-align: top;\n",
       "    }\n",
       "\n",
       "    .dataframe thead th {\n",
       "        text-align: right;\n",
       "    }\n",
       "</style>\n",
       "<table border=\"1\" class=\"dataframe\">\n",
       "  <thead>\n",
       "    <tr style=\"text-align: right;\">\n",
       "      <th></th>\n",
       "      <th>Hersteller</th>\n",
       "      <th>Name</th>\n",
       "      <th>Listenpreis [€]</th>\n",
       "      <th>Auflösung [MP]</th>\n",
       "      <th>Pixelgröße [µm]</th>\n",
       "      <th>Bildfrequenz [Hz]</th>\n",
       "      <th>Gehäusetyp</th>\n",
       "      <th>Objektivanschluss</th>\n",
       "      <th>Horizontale Aufl. [Px]</th>\n",
       "      <th>Vertikale Aufl. [Px]</th>\n",
       "      <th>Sensortyp</th>\n",
       "      <th>Sensorgröße [mm]</th>\n",
       "      <th>Sensormodel</th>\n",
       "      <th>Sensorformat</th>\n",
       "      <th>Seitenverhältnis</th>\n",
       "      <th>Spektrale Empfindlichkeit</th>\n",
       "      <th>Shuttertyp</th>\n",
       "      <th>Dynamic Range [dB]</th>\n",
       "      <th>S/N-ratio [dB]</th>\n",
       "      <th>Ausgabeformate</th>\n",
       "      <th>Schnittstellenkonfiguration</th>\n",
       "      <th>Schnittstelle</th>\n",
       "      <th>Sensorkonfiguration</th>\n",
       "      <th>Link-href</th>\n",
       "    </tr>\n",
       "  </thead>\n",
       "  <tbody>\n",
       "    <tr>\n",
       "      <th>680</th>\n",
       "      <td>VRmagic</td>\n",
       "      <td>VRMAGIC C-9+/BW-PRO WINDOW V2</td>\n",
       "      <td>299.0</td>\n",
       "      <td>1.3</td>\n",
       "      <td>5.2</td>\n",
       "      <td>30.0</td>\n",
       "      <td>Small</td>\n",
       "      <td>C-Mount</td>\n",
       "      <td>1288</td>\n",
       "      <td>1032</td>\n",
       "      <td>CMOS</td>\n",
       "      <td>8.6</td>\n",
       "      <td>MT9M001</td>\n",
       "      <td>1/2\"</td>\n",
       "      <td>1.33</td>\n",
       "      <td>Monochrome</td>\n",
       "      <td>Rolling shutter</td>\n",
       "      <td>NaN</td>\n",
       "      <td>NaN</td>\n",
       "      <td>NaN</td>\n",
       "      <td>NaN</td>\n",
       "      <td>NaN</td>\n",
       "      <td>Single sensor</td>\n",
       "      <td>https://www.stemmer-imaging.com/de-de/produkte/vrmagic-c-9bw-pro-window-v2/</td>\n",
       "    </tr>\n",
       "  </tbody>\n",
       "</table>\n",
       "</div>"
      ],
      "text/plain": [
       "    Hersteller                           Name  Listenpreis [€]  \\\n",
       "680    VRmagic  VRMAGIC C-9+/BW-PRO WINDOW V2            299.0   \n",
       "\n",
       "     Auflösung [MP]  Pixelgröße [µm]  Bildfrequenz [Hz] Gehäusetyp  \\\n",
       "680             1.3              5.2               30.0      Small   \n",
       "\n",
       "    Objektivanschluss  Horizontale Aufl. [Px]  Vertikale Aufl. [Px] Sensortyp  \\\n",
       "680           C-Mount                    1288                  1032      CMOS   \n",
       "\n",
       "     Sensorgröße [mm] Sensormodel Sensorformat  Seitenverhältnis  \\\n",
       "680               8.6     MT9M001         1/2\"              1.33   \n",
       "\n",
       "    Spektrale Empfindlichkeit       Shuttertyp  Dynamic Range [dB]  \\\n",
       "680                Monochrome  Rolling shutter                 NaN   \n",
       "\n",
       "     S/N-ratio [dB] Ausgabeformate Schnittstellenkonfiguration Schnittstelle  \\\n",
       "680             NaN            NaN                         NaN           NaN   \n",
       "\n",
       "    Sensorkonfiguration  \\\n",
       "680       Single sensor   \n",
       "\n",
       "                                                                       Link-href  \n",
       "680  https://www.stemmer-imaging.com/de-de/produkte/vrmagic-c-9bw-pro-window-v2/  "
      ]
     },
     "metadata": {},
     "output_type": "display_data"
    },
    {
     "data": {
      "application/vnd.jupyter.widget-view+json": {
       "model_id": "996faf2f166543e6a67150c587a74e4d",
       "version_major": 2,
       "version_minor": 0
      },
      "text/plain": [
       "HTML(value='<b><br>B) Weitere Spezifikationen des Anwendungsfall_______________________________________</b>')"
      ]
     },
     "metadata": {},
     "output_type": "display_data"
    },
    {
     "data": {
      "application/vnd.jupyter.widget-view+json": {
       "model_id": "63ee4b2f41be4d78baa6906a304a47ce",
       "version_major": 2,
       "version_minor": 0
      },
      "text/plain": [
       "HTML(value='1) Was ist der minimal und maximal zulässige Abstand zwischen Objekt und Objektiv?')"
      ]
     },
     "metadata": {},
     "output_type": "display_data"
    },
    {
     "data": {
      "application/vnd.jupyter.widget-view+json": {
       "model_id": "c06c3dc83eb447d7a5cac94ab18d9f99",
       "version_major": 2,
       "version_minor": 0
      },
      "text/plain": [
       "HBox(children=(Label(value='Abstand [cm]:'), IntRangeSlider(value=(5, 300), continuous_update=False, layout=La…"
      ]
     },
     "metadata": {},
     "output_type": "display_data"
    },
    {
     "data": {
      "application/vnd.jupyter.widget-view+json": {
       "model_id": "5084c71a55b74a2ebb138a7ff0248d1e",
       "version_major": 2,
       "version_minor": 0
      },
      "text/plain": [
       "HTML(value='2) Was ist der relevante Tiefenbereich des Objektes, der scharf abgebildet werden muss?')"
      ]
     },
     "metadata": {},
     "output_type": "display_data"
    },
    {
     "data": {
      "application/vnd.jupyter.widget-view+json": {
       "model_id": "b06fcba0e8a14eb9b8734d8b6a0d3fb8",
       "version_major": 2,
       "version_minor": 0
      },
      "text/plain": [
       "HBox(children=(Label(value='Tiefe [cm]:'), FloatSlider(value=2.0, continuous_update=False, max=25.0, readout_f…"
      ]
     },
     "metadata": {},
     "output_type": "display_data"
    },
    {
     "data": {
      "application/vnd.jupyter.widget-view+json": {
       "model_id": "a13f5acd0e244c67b4db0cb789b5b770",
       "version_major": 2,
       "version_minor": 0
      },
      "text/plain": [
       "HTML(value='<b><br>C) Übersicht geeigneter Objektive & Detailspezifikation________________________________</b>…"
      ]
     },
     "metadata": {},
     "output_type": "display_data"
    },
    {
     "data": {
      "application/vnd.jupyter.widget-view+json": {
       "model_id": "c7d2fe4fa60445a78d4838da7c6f667f",
       "version_major": 2,
       "version_minor": 0
      },
      "text/plain": [
       "HTML(value='<b>Mindestanforderungen:</b> Minimale Brennweite: 2.65 mm, Maximale Brennweite: 158.90 mm<br> Empf…"
      ]
     },
     "metadata": {},
     "output_type": "display_data"
    },
    {
     "data": {
      "application/vnd.plotly.v1+json": {
       "config": {
        "plotlyServerURL": "https://plot.ly"
       },
       "data": [
        {
         "customdata": [
          [
           358
          ],
          [
           378
          ],
          [
           135
          ],
          [
           135
          ],
          [
           170
          ],
          [
           208
          ],
          [
           302
          ],
          [
           282
          ],
          [
           181
          ],
          [
           282
          ],
          [
           252
          ],
          [
           170
          ],
          [
           252
          ],
          [
           252
          ],
          [
           170
          ],
          [
           252
          ],
          [
           252
          ],
          [
           170
          ],
          [
           252
          ],
          [
           252
          ],
          [
           170
          ],
          [
           252
          ],
          [
           329
          ],
          [
           358
          ],
          [
           795
          ],
          [
           220
          ],
          [
           732
          ],
          [
           220
          ],
          [
           732
          ],
          [
           214
          ],
          [
           220
          ],
          [
           288
          ],
          [
           261
          ],
          [
           829
          ],
          [
           227
          ],
          [
           710
          ],
          [
           304
          ],
          [
           217
          ],
          [
           686
          ],
          [
           283
          ],
          [
           217
          ],
          [
           652
          ],
          [
           283
          ],
          [
           217
          ],
          [
           652
          ],
          [
           283
          ],
          [
           217
          ],
          [
           652
          ],
          [
           283
          ],
          [
           217
          ],
          [
           882
          ],
          [
           767
          ],
          [
           326
          ],
          [
           228
          ],
          [
           984
          ],
          [
           499
          ],
          [
           323
          ],
          [
           399
          ],
          [
           323
          ],
          [
           399
          ],
          [
           225
          ],
          [
           226
          ],
          [
           226
          ],
          [
           177
          ],
          [
           150
          ],
          [
           177
          ],
          [
           145
          ],
          [
           145
          ],
          [
           145
          ],
          [
           804
          ],
          [
           741
          ],
          [
           741
          ],
          [
           741
          ],
          [
           741
          ],
          [
           741
          ],
          [
           741
          ]
         ],
         "hoverlabel": {
          "namelength": 0
         },
         "hovertemplate": "<b>%{hovertext}</b><br><br>Arbeitsabstand [cm]=%{x}<br>Überdimensionierung Bilddiagonale=%{y}<br>Min Pixelgröße [µm]=%{marker.size}<br>Listenpreis [€]=%{marker.color}",
         "hovertext": [
          "CVO GM5HR33514MCN",
          "CVO GMA5HR31218MCN",
          "CVO GMTHR33520MCN",
          "CVO GMTHR35028MCN",
          "CVO GMXHR38014MCN",
          "COMPUTAR M0824-MPW2",
          "COMPUTAR M0880-MPW2-R",
          "COMPUTAR M1211-MPW2-R",
          "COMPUTAR M1224-MPW2",
          "COMPUTAR M1280-MPW2-R",
          "COMPUTAR M1611-MPW2-R",
          "COMPUTAR M1620-MPW2",
          "COMPUTAR M1680-MPW2-R",
          "COMPUTAR M2511-MPW2-R",
          "COMPUTAR M2518-MPW2",
          "COMPUTAR M2580-MPW2-R",
          "COMPUTAR M3511-MPW2-R",
          "COMPUTAR M3520-MPW2",
          "COMPUTAR M3580-MPW2-R",
          "COMPUTAR M5011-MPW2-R",
          "COMPUTAR M5028-MPW2",
          "COMPUTAR M5080-MPW2-R",
          "FUJINON HF16SA-1/1,4",
          "FUJINON HF35SA-1/1,4",
          "FUJINON HF1218-12M",
          "FUJINON HF12XA-5M",
          "FUJINON HF1618-12M",
          "FUJINON HF16XA-5M",
          "FUJINON HF2518-12M",
          "FUJINON HF25XA-5M",
          "FUJINON HF35XA-5M",
          "FUJINON HF50XA-5M",
          "FUJINON HF6XA-5M",
          "FUJINON HF818-12M",
          "FUJINON HF8XA-5M",
          "KOWA LM12JC10M",
          "KOWA LM12JC3M2",
          "KOWA LM12JCM-V",
          "KOWA LM16JC10M",
          "KOWA LM16JC3M2",
          "KOWA LM16JCM-V",
          "KOWA LM25JC10M",
          "KOWA LM25JC3M2",
          "KOWA LM25JCM-V",
          "KOWA LM35JC10M",
          "KOWA LM35JC3M2",
          "KOWA LM35JCM-V",
          "KOWA LM50JC10M",
          "KOWA LM50JC3M2",
          "KOWA LM50JCM-V",
          "KOWA LM5JC10M",
          "KOWA LM8JC10M",
          "KOWA LM8JC3M",
          "KOWA LM8JCM-V",
          "QIOPTIQ MEVIS-C 1616",
          "RICOH FL-CC0814-5M",
          "RICOH FL-CC1218-5MX",
          "RICOH FL-CC1614-5M",
          "RICOH FL-CC1618-5MX",
          "RICOH FL-CC2514-5M",
          "TAMRON 23FM16SP",
          "TAMRON 23FM25SP",
          "TAMRON 23FM50SP",
          "TAMRON M118FM06",
          "TAMRON M118FM08",
          "TAMRON M118FM12",
          "TAMRON M118FM16",
          "TAMRON M118FM25",
          "TAMRON M118FM50",
          "TAMRON M23FM06",
          "TAMRON M23FM08",
          "TAMRON M23FM12",
          "TAMRON M23FM16",
          "TAMRON M23FM25",
          "TAMRON M23FM35",
          "TAMRON M23FM50"
         ],
         "legendgroup": "",
         "marker": {
          "color": [
           358,
           378,
           135,
           135,
           170,
           208,
           302,
           282,
           181,
           282,
           252,
           170,
           252,
           252,
           170,
           252,
           252,
           170,
           252,
           252,
           170,
           252,
           329,
           358,
           795,
           220,
           732,
           220,
           732,
           214,
           220,
           288,
           261,
           829,
           227,
           710,
           304,
           217,
           686,
           283,
           217,
           652,
           283,
           217,
           652,
           283,
           217,
           652,
           283,
           217,
           882,
           767,
           326,
           228,
           984,
           499,
           323,
           399,
           323,
           399,
           225,
           226,
           226,
           177,
           150,
           177,
           145,
           145,
           145,
           804,
           741,
           741,
           741,
           741,
           741,
           741
          ],
          "coloraxis": "coloraxis",
          "size": [
           3.4,
           3.4,
           4.3,
           4.3,
           4.3,
           3.4,
           3.4,
           3.4,
           3.4,
           3.4,
           3.4,
           3.4,
           3.4,
           3.4,
           3.4,
           3.4,
           3.4,
           3.4,
           3.4,
           3.4,
           3.4,
           3.4,
           3.4,
           3.4,
           2.1,
           3.45,
           2.1,
           3.45,
           2.1,
           3.45,
           3.45,
           3.45,
           3.45,
           2.1,
           3.45,
           2.5,
           4.1,
           4.5,
           2.5,
           4.1,
           4.5,
           2.5,
           4.1,
           4.5,
           2.5,
           4.1,
           4.5,
           2.5,
           4.1,
           4.5,
           2.5,
           2.5,
           4.1,
           4.5,
           2,
           3.45,
           5,
           3.45,
           5,
           3.45,
           4.5,
           4.5,
           4.5,
           3.5,
           3.5,
           3.5,
           3.5,
           3.5,
           3.5,
           2.5,
           2.5,
           2.5,
           2.5,
           2.5,
           2.5,
           2.5
          ],
          "sizemode": "area",
          "sizeref": 0.0125,
          "symbol": "circle"
         },
         "mode": "markers",
         "name": "",
         "showlegend": false,
         "type": "scatter",
         "x": [
          84.52100727424875,
          28.97863106545671,
          84.52100727424875,
          120.74429610606961,
          19.31908737697114,
          19.31908737697114,
          19.31908737697114,
          28.97863106545671,
          28.97863106545671,
          28.97863106545671,
          38.63817475394228,
          38.63817475394228,
          38.63817475394228,
          60.372148053034806,
          60.372148053034806,
          60.372148053034806,
          84.52100727424875,
          84.52100727424875,
          84.52100727424875,
          120.74429610606961,
          120.74429610606961,
          120.74429610606961,
          38.63817475394228,
          84.52100727424875,
          32.930262574382624,
          28.97863106545671,
          43.9070167658435,
          43.9070167658435,
          68.60471369663047,
          68.60471369663047,
          96.04659917528267,
          142.69780448899135,
          14.489315532728355,
          19.31908737697114,
          19.31908737697114,
          28.97863106545671,
          28.97863106545671,
          28.97863106545671,
          38.63817475394228,
          38.63817475394228,
          38.63817475394228,
          60.372148053034806,
          60.372148053034806,
          60.372148053034806,
          84.52100727424875,
          84.52100727424875,
          84.52100727424875,
          120.74429610606961,
          120.74429610606961,
          120.74429610606961,
          12.074429610606963,
          20.526530338031833,
          19.31908737697114,
          19.31908737697114,
          38.63817475394228,
          19.31908737697114,
          28.97863106545671,
          38.63817475394228,
          38.63817475394228,
          60.372148053034806,
          38.63817475394228,
          60.372148053034806,
          120.74429610606961,
          11.854894526777745,
          15.806526035703659,
          23.70978905355549,
          31.613052071407317,
          49.395393861573936,
          98.79078772314787,
          14.489315532728355,
          19.31908737697114,
          28.97863106545671,
          38.63817475394228,
          60.372148053034806,
          84.52100727424875,
          120.74429610606961
         ],
         "xaxis": "x",
         "y": [
          1.2790697674418605,
          1.2790697674418605,
          1.2790697674418605,
          1.2790697674418605,
          1.2790697674418605,
          1.2790697674418605,
          1.2790697674418605,
          1.2790697674418605,
          1.2790697674418605,
          1.2790697674418605,
          1.2790697674418605,
          1.2790697674418605,
          1.2790697674418605,
          1.2790697674418605,
          1.2790697674418605,
          1.2790697674418605,
          1.2790697674418605,
          1.2790697674418605,
          1.2790697674418605,
          1.2790697674418605,
          1.2790697674418605,
          1.2790697674418605,
          1.2790697674418605,
          1.2790697674418605,
          1.4534883720930234,
          1.2790697674418605,
          1.4534883720930234,
          1.4534883720930234,
          1.4534883720930234,
          1.4534883720930234,
          1.4534883720930234,
          1.5116279069767442,
          1.2790697674418605,
          1.2790697674418605,
          1.2790697674418605,
          1.2790697674418605,
          1.2790697674418605,
          1.2790697674418605,
          1.2790697674418605,
          1.2790697674418605,
          1.2790697674418605,
          1.2790697674418605,
          1.2790697674418605,
          1.2790697674418605,
          1.2790697674418605,
          1.2790697674418605,
          1.2790697674418605,
          1.2790697674418605,
          1.2790697674418605,
          1.2790697674418605,
          1.2790697674418605,
          1.2790697674418605,
          1.2790697674418605,
          1.2790697674418605,
          1.2790697674418605,
          1.2790697674418605,
          1.2790697674418605,
          1.2790697674418605,
          1.2790697674418605,
          1.2790697674418605,
          1.2790697674418605,
          1.2790697674418605,
          1.2790697674418605,
          1.0465116279069768,
          1.0465116279069768,
          1.0465116279069768,
          1.0465116279069768,
          1.0465116279069768,
          1.0465116279069768,
          1.2790697674418605,
          1.2790697674418605,
          1.2790697674418605,
          1.2790697674418605,
          1.2790697674418605,
          1.2790697674418605,
          1.2790697674418605
         ],
         "yaxis": "y"
        }
       ],
       "layout": {
        "coloraxis": {
         "colorbar": {
          "title": {
           "text": "Listenpreis [€]"
          }
         },
         "colorscale": [
          [
           0,
           "green"
          ],
          [
           0.1,
           "yellow"
          ],
          [
           1,
           "red"
          ]
         ]
        },
        "legend": {
         "itemsizing": "constant",
         "tracegroupgap": 0
        },
        "margin": {
         "t": 60
        },
        "template": {
         "data": {
          "bar": [
           {
            "error_x": {
             "color": "#2a3f5f"
            },
            "error_y": {
             "color": "#2a3f5f"
            },
            "marker": {
             "line": {
              "color": "#E5ECF6",
              "width": 0.5
             }
            },
            "type": "bar"
           }
          ],
          "barpolar": [
           {
            "marker": {
             "line": {
              "color": "#E5ECF6",
              "width": 0.5
             }
            },
            "type": "barpolar"
           }
          ],
          "carpet": [
           {
            "aaxis": {
             "endlinecolor": "#2a3f5f",
             "gridcolor": "white",
             "linecolor": "white",
             "minorgridcolor": "white",
             "startlinecolor": "#2a3f5f"
            },
            "baxis": {
             "endlinecolor": "#2a3f5f",
             "gridcolor": "white",
             "linecolor": "white",
             "minorgridcolor": "white",
             "startlinecolor": "#2a3f5f"
            },
            "type": "carpet"
           }
          ],
          "choropleth": [
           {
            "colorbar": {
             "outlinewidth": 0,
             "ticks": ""
            },
            "type": "choropleth"
           }
          ],
          "contour": [
           {
            "colorbar": {
             "outlinewidth": 0,
             "ticks": ""
            },
            "colorscale": [
             [
              0,
              "#0d0887"
             ],
             [
              0.1111111111111111,
              "#46039f"
             ],
             [
              0.2222222222222222,
              "#7201a8"
             ],
             [
              0.3333333333333333,
              "#9c179e"
             ],
             [
              0.4444444444444444,
              "#bd3786"
             ],
             [
              0.5555555555555556,
              "#d8576b"
             ],
             [
              0.6666666666666666,
              "#ed7953"
             ],
             [
              0.7777777777777778,
              "#fb9f3a"
             ],
             [
              0.8888888888888888,
              "#fdca26"
             ],
             [
              1,
              "#f0f921"
             ]
            ],
            "type": "contour"
           }
          ],
          "contourcarpet": [
           {
            "colorbar": {
             "outlinewidth": 0,
             "ticks": ""
            },
            "type": "contourcarpet"
           }
          ],
          "heatmap": [
           {
            "colorbar": {
             "outlinewidth": 0,
             "ticks": ""
            },
            "colorscale": [
             [
              0,
              "#0d0887"
             ],
             [
              0.1111111111111111,
              "#46039f"
             ],
             [
              0.2222222222222222,
              "#7201a8"
             ],
             [
              0.3333333333333333,
              "#9c179e"
             ],
             [
              0.4444444444444444,
              "#bd3786"
             ],
             [
              0.5555555555555556,
              "#d8576b"
             ],
             [
              0.6666666666666666,
              "#ed7953"
             ],
             [
              0.7777777777777778,
              "#fb9f3a"
             ],
             [
              0.8888888888888888,
              "#fdca26"
             ],
             [
              1,
              "#f0f921"
             ]
            ],
            "type": "heatmap"
           }
          ],
          "heatmapgl": [
           {
            "colorbar": {
             "outlinewidth": 0,
             "ticks": ""
            },
            "colorscale": [
             [
              0,
              "#0d0887"
             ],
             [
              0.1111111111111111,
              "#46039f"
             ],
             [
              0.2222222222222222,
              "#7201a8"
             ],
             [
              0.3333333333333333,
              "#9c179e"
             ],
             [
              0.4444444444444444,
              "#bd3786"
             ],
             [
              0.5555555555555556,
              "#d8576b"
             ],
             [
              0.6666666666666666,
              "#ed7953"
             ],
             [
              0.7777777777777778,
              "#fb9f3a"
             ],
             [
              0.8888888888888888,
              "#fdca26"
             ],
             [
              1,
              "#f0f921"
             ]
            ],
            "type": "heatmapgl"
           }
          ],
          "histogram": [
           {
            "marker": {
             "colorbar": {
              "outlinewidth": 0,
              "ticks": ""
             }
            },
            "type": "histogram"
           }
          ],
          "histogram2d": [
           {
            "colorbar": {
             "outlinewidth": 0,
             "ticks": ""
            },
            "colorscale": [
             [
              0,
              "#0d0887"
             ],
             [
              0.1111111111111111,
              "#46039f"
             ],
             [
              0.2222222222222222,
              "#7201a8"
             ],
             [
              0.3333333333333333,
              "#9c179e"
             ],
             [
              0.4444444444444444,
              "#bd3786"
             ],
             [
              0.5555555555555556,
              "#d8576b"
             ],
             [
              0.6666666666666666,
              "#ed7953"
             ],
             [
              0.7777777777777778,
              "#fb9f3a"
             ],
             [
              0.8888888888888888,
              "#fdca26"
             ],
             [
              1,
              "#f0f921"
             ]
            ],
            "type": "histogram2d"
           }
          ],
          "histogram2dcontour": [
           {
            "colorbar": {
             "outlinewidth": 0,
             "ticks": ""
            },
            "colorscale": [
             [
              0,
              "#0d0887"
             ],
             [
              0.1111111111111111,
              "#46039f"
             ],
             [
              0.2222222222222222,
              "#7201a8"
             ],
             [
              0.3333333333333333,
              "#9c179e"
             ],
             [
              0.4444444444444444,
              "#bd3786"
             ],
             [
              0.5555555555555556,
              "#d8576b"
             ],
             [
              0.6666666666666666,
              "#ed7953"
             ],
             [
              0.7777777777777778,
              "#fb9f3a"
             ],
             [
              0.8888888888888888,
              "#fdca26"
             ],
             [
              1,
              "#f0f921"
             ]
            ],
            "type": "histogram2dcontour"
           }
          ],
          "mesh3d": [
           {
            "colorbar": {
             "outlinewidth": 0,
             "ticks": ""
            },
            "type": "mesh3d"
           }
          ],
          "parcoords": [
           {
            "line": {
             "colorbar": {
              "outlinewidth": 0,
              "ticks": ""
             }
            },
            "type": "parcoords"
           }
          ],
          "pie": [
           {
            "automargin": true,
            "type": "pie"
           }
          ],
          "scatter": [
           {
            "marker": {
             "colorbar": {
              "outlinewidth": 0,
              "ticks": ""
             }
            },
            "type": "scatter"
           }
          ],
          "scatter3d": [
           {
            "line": {
             "colorbar": {
              "outlinewidth": 0,
              "ticks": ""
             }
            },
            "marker": {
             "colorbar": {
              "outlinewidth": 0,
              "ticks": ""
             }
            },
            "type": "scatter3d"
           }
          ],
          "scattercarpet": [
           {
            "marker": {
             "colorbar": {
              "outlinewidth": 0,
              "ticks": ""
             }
            },
            "type": "scattercarpet"
           }
          ],
          "scattergeo": [
           {
            "marker": {
             "colorbar": {
              "outlinewidth": 0,
              "ticks": ""
             }
            },
            "type": "scattergeo"
           }
          ],
          "scattergl": [
           {
            "marker": {
             "colorbar": {
              "outlinewidth": 0,
              "ticks": ""
             }
            },
            "type": "scattergl"
           }
          ],
          "scattermapbox": [
           {
            "marker": {
             "colorbar": {
              "outlinewidth": 0,
              "ticks": ""
             }
            },
            "type": "scattermapbox"
           }
          ],
          "scatterpolar": [
           {
            "marker": {
             "colorbar": {
              "outlinewidth": 0,
              "ticks": ""
             }
            },
            "type": "scatterpolar"
           }
          ],
          "scatterpolargl": [
           {
            "marker": {
             "colorbar": {
              "outlinewidth": 0,
              "ticks": ""
             }
            },
            "type": "scatterpolargl"
           }
          ],
          "scatterternary": [
           {
            "marker": {
             "colorbar": {
              "outlinewidth": 0,
              "ticks": ""
             }
            },
            "type": "scatterternary"
           }
          ],
          "surface": [
           {
            "colorbar": {
             "outlinewidth": 0,
             "ticks": ""
            },
            "colorscale": [
             [
              0,
              "#0d0887"
             ],
             [
              0.1111111111111111,
              "#46039f"
             ],
             [
              0.2222222222222222,
              "#7201a8"
             ],
             [
              0.3333333333333333,
              "#9c179e"
             ],
             [
              0.4444444444444444,
              "#bd3786"
             ],
             [
              0.5555555555555556,
              "#d8576b"
             ],
             [
              0.6666666666666666,
              "#ed7953"
             ],
             [
              0.7777777777777778,
              "#fb9f3a"
             ],
             [
              0.8888888888888888,
              "#fdca26"
             ],
             [
              1,
              "#f0f921"
             ]
            ],
            "type": "surface"
           }
          ],
          "table": [
           {
            "cells": {
             "fill": {
              "color": "#EBF0F8"
             },
             "line": {
              "color": "white"
             }
            },
            "header": {
             "fill": {
              "color": "#C8D4E3"
             },
             "line": {
              "color": "white"
             }
            },
            "type": "table"
           }
          ]
         },
         "layout": {
          "annotationdefaults": {
           "arrowcolor": "#2a3f5f",
           "arrowhead": 0,
           "arrowwidth": 1
          },
          "coloraxis": {
           "colorbar": {
            "outlinewidth": 0,
            "ticks": ""
           }
          },
          "colorscale": {
           "diverging": [
            [
             0,
             "#8e0152"
            ],
            [
             0.1,
             "#c51b7d"
            ],
            [
             0.2,
             "#de77ae"
            ],
            [
             0.3,
             "#f1b6da"
            ],
            [
             0.4,
             "#fde0ef"
            ],
            [
             0.5,
             "#f7f7f7"
            ],
            [
             0.6,
             "#e6f5d0"
            ],
            [
             0.7,
             "#b8e186"
            ],
            [
             0.8,
             "#7fbc41"
            ],
            [
             0.9,
             "#4d9221"
            ],
            [
             1,
             "#276419"
            ]
           ],
           "sequential": [
            [
             0,
             "#0d0887"
            ],
            [
             0.1111111111111111,
             "#46039f"
            ],
            [
             0.2222222222222222,
             "#7201a8"
            ],
            [
             0.3333333333333333,
             "#9c179e"
            ],
            [
             0.4444444444444444,
             "#bd3786"
            ],
            [
             0.5555555555555556,
             "#d8576b"
            ],
            [
             0.6666666666666666,
             "#ed7953"
            ],
            [
             0.7777777777777778,
             "#fb9f3a"
            ],
            [
             0.8888888888888888,
             "#fdca26"
            ],
            [
             1,
             "#f0f921"
            ]
           ],
           "sequentialminus": [
            [
             0,
             "#0d0887"
            ],
            [
             0.1111111111111111,
             "#46039f"
            ],
            [
             0.2222222222222222,
             "#7201a8"
            ],
            [
             0.3333333333333333,
             "#9c179e"
            ],
            [
             0.4444444444444444,
             "#bd3786"
            ],
            [
             0.5555555555555556,
             "#d8576b"
            ],
            [
             0.6666666666666666,
             "#ed7953"
            ],
            [
             0.7777777777777778,
             "#fb9f3a"
            ],
            [
             0.8888888888888888,
             "#fdca26"
            ],
            [
             1,
             "#f0f921"
            ]
           ]
          },
          "colorway": [
           "#636efa",
           "#EF553B",
           "#00cc96",
           "#ab63fa",
           "#FFA15A",
           "#19d3f3",
           "#FF6692",
           "#B6E880",
           "#FF97FF",
           "#FECB52"
          ],
          "font": {
           "color": "#2a3f5f"
          },
          "geo": {
           "bgcolor": "white",
           "lakecolor": "white",
           "landcolor": "#E5ECF6",
           "showlakes": true,
           "showland": true,
           "subunitcolor": "white"
          },
          "hoverlabel": {
           "align": "left"
          },
          "hovermode": "closest",
          "mapbox": {
           "style": "light"
          },
          "paper_bgcolor": "white",
          "plot_bgcolor": "#E5ECF6",
          "polar": {
           "angularaxis": {
            "gridcolor": "white",
            "linecolor": "white",
            "ticks": ""
           },
           "bgcolor": "#E5ECF6",
           "radialaxis": {
            "gridcolor": "white",
            "linecolor": "white",
            "ticks": ""
           }
          },
          "scene": {
           "xaxis": {
            "backgroundcolor": "#E5ECF6",
            "gridcolor": "white",
            "gridwidth": 2,
            "linecolor": "white",
            "showbackground": true,
            "ticks": "",
            "zerolinecolor": "white"
           },
           "yaxis": {
            "backgroundcolor": "#E5ECF6",
            "gridcolor": "white",
            "gridwidth": 2,
            "linecolor": "white",
            "showbackground": true,
            "ticks": "",
            "zerolinecolor": "white"
           },
           "zaxis": {
            "backgroundcolor": "#E5ECF6",
            "gridcolor": "white",
            "gridwidth": 2,
            "linecolor": "white",
            "showbackground": true,
            "ticks": "",
            "zerolinecolor": "white"
           }
          },
          "shapedefaults": {
           "line": {
            "color": "#2a3f5f"
           }
          },
          "ternary": {
           "aaxis": {
            "gridcolor": "white",
            "linecolor": "white",
            "ticks": ""
           },
           "baxis": {
            "gridcolor": "white",
            "linecolor": "white",
            "ticks": ""
           },
           "bgcolor": "#E5ECF6",
           "caxis": {
            "gridcolor": "white",
            "linecolor": "white",
            "ticks": ""
           }
          },
          "title": {
           "x": 0.05
          },
          "xaxis": {
           "automargin": true,
           "gridcolor": "white",
           "linecolor": "white",
           "ticks": "",
           "title": {
            "standoff": 15
           },
           "zerolinecolor": "white",
           "zerolinewidth": 2
          },
          "yaxis": {
           "automargin": true,
           "gridcolor": "white",
           "linecolor": "white",
           "ticks": "",
           "title": {
            "standoff": 15
           },
           "zerolinecolor": "white",
           "zerolinewidth": 2
          }
         }
        },
        "xaxis": {
         "anchor": "y",
         "domain": [
          0,
          1
         ],
         "range": [
          0,
          300
         ],
         "title": {
          "text": "Arbeitsabstand [cm]"
         }
        },
        "yaxis": {
         "anchor": "x",
         "domain": [
          0,
          1
         ],
         "range": [
          0.8,
          2.8116279069767445
         ],
         "title": {
          "text": "Überdimensionierung Bilddiagonale"
         }
        }
       }
      },
      "text/html": [
       "<div>\n",
       "        \n",
       "        \n",
       "            <div id=\"0d2a3cee-dad7-42b5-be4c-4f32965504a0\" class=\"plotly-graph-div\" style=\"height:525px; width:100%;\"></div>\n",
       "            <script type=\"text/javascript\">\n",
       "                require([\"plotly\"], function(Plotly) {\n",
       "                    window.PLOTLYENV=window.PLOTLYENV || {};\n",
       "                    \n",
       "                if (document.getElementById(\"0d2a3cee-dad7-42b5-be4c-4f32965504a0\")) {\n",
       "                    Plotly.newPlot(\n",
       "                        '0d2a3cee-dad7-42b5-be4c-4f32965504a0',\n",
       "                        [{\"customdata\": [[358.0], [378.0], [135.0], [135.0], [170.0], [208.0], [302.0], [282.0], [181.0], [282.0], [252.0], [170.0], [252.0], [252.0], [170.0], [252.0], [252.0], [170.0], [252.0], [252.0], [170.0], [252.0], [329.0], [358.0], [795.0], [220.0], [732.0], [220.0], [732.0], [214.0], [220.0], [288.0], [261.0], [829.0], [227.0], [710.0], [304.0], [217.0], [686.0], [283.0], [217.0], [652.0], [283.0], [217.0], [652.0], [283.0], [217.0], [652.0], [283.0], [217.0], [882.0], [767.0], [326.0], [228.0], [984.0], [499.0], [323.0], [399.0], [323.0], [399.0], [225.0], [226.0], [226.0], [177.0], [150.0], [177.0], [145.0], [145.0], [145.0], [804.0], [741.0], [741.0], [741.0], [741.0], [741.0], [741.0]], \"hoverlabel\": {\"namelength\": 0}, \"hovertemplate\": \"<b>%{hovertext}</b><br><br>Arbeitsabstand [cm]=%{x}<br>\\u00dcberdimensionierung Bilddiagonale=%{y}<br>Min Pixelgr\\u00f6\\u00dfe [\\u00b5m]=%{marker.size}<br>Listenpreis [\\u20ac]=%{marker.color}\", \"hovertext\": [\"CVO GM5HR33514MCN\", \"CVO GMA5HR31218MCN\", \"CVO GMTHR33520MCN\", \"CVO GMTHR35028MCN\", \"CVO GMXHR38014MCN\", \"COMPUTAR M0824-MPW2\", \"COMPUTAR M0880-MPW2-R\", \"COMPUTAR M1211-MPW2-R\", \"COMPUTAR M1224-MPW2\", \"COMPUTAR M1280-MPW2-R\", \"COMPUTAR M1611-MPW2-R\", \"COMPUTAR M1620-MPW2\", \"COMPUTAR M1680-MPW2-R\", \"COMPUTAR M2511-MPW2-R\", \"COMPUTAR M2518-MPW2\", \"COMPUTAR M2580-MPW2-R\", \"COMPUTAR M3511-MPW2-R\", \"COMPUTAR M3520-MPW2\", \"COMPUTAR M3580-MPW2-R\", \"COMPUTAR M5011-MPW2-R\", \"COMPUTAR M5028-MPW2\", \"COMPUTAR M5080-MPW2-R\", \"FUJINON HF16SA-1/1,4\", \"FUJINON HF35SA-1/1,4\", \"FUJINON HF1218-12M\", \"FUJINON HF12XA-5M\", \"FUJINON HF1618-12M\", \"FUJINON HF16XA-5M\", \"FUJINON HF2518-12M\", \"FUJINON HF25XA-5M\", \"FUJINON HF35XA-5M\", \"FUJINON HF50XA-5M\", \"FUJINON HF6XA-5M\", \"FUJINON HF818-12M\", \"FUJINON HF8XA-5M\", \"KOWA LM12JC10M\", \"KOWA LM12JC3M2\", \"KOWA LM12JCM-V\", \"KOWA LM16JC10M\", \"KOWA LM16JC3M2\", \"KOWA LM16JCM-V\", \"KOWA LM25JC10M\", \"KOWA LM25JC3M2\", \"KOWA LM25JCM-V\", \"KOWA LM35JC10M\", \"KOWA LM35JC3M2\", \"KOWA LM35JCM-V\", \"KOWA LM50JC10M\", \"KOWA LM50JC3M2\", \"KOWA LM50JCM-V\", \"KOWA LM5JC10M\", \"KOWA LM8JC10M\", \"KOWA LM8JC3M\", \"KOWA LM8JCM-V\", \"QIOPTIQ MEVIS-C 1616\", \"RICOH FL-CC0814-5M\", \"RICOH FL-CC1218-5MX\", \"RICOH FL-CC1614-5M\", \"RICOH FL-CC1618-5MX\", \"RICOH FL-CC2514-5M\", \"TAMRON 23FM16SP\", \"TAMRON 23FM25SP\", \"TAMRON 23FM50SP\", \"TAMRON M118FM06\", \"TAMRON M118FM08\", \"TAMRON M118FM12\", \"TAMRON M118FM16\", \"TAMRON M118FM25\", \"TAMRON M118FM50\", \"TAMRON M23FM06\", \"TAMRON M23FM08\", \"TAMRON M23FM12\", \"TAMRON M23FM16\", \"TAMRON M23FM25\", \"TAMRON M23FM35\", \"TAMRON M23FM50\"], \"legendgroup\": \"\", \"marker\": {\"color\": [358.0, 378.0, 135.0, 135.0, 170.0, 208.0, 302.0, 282.0, 181.0, 282.0, 252.0, 170.0, 252.0, 252.0, 170.0, 252.0, 252.0, 170.0, 252.0, 252.0, 170.0, 252.0, 329.0, 358.0, 795.0, 220.0, 732.0, 220.0, 732.0, 214.0, 220.0, 288.0, 261.0, 829.0, 227.0, 710.0, 304.0, 217.0, 686.0, 283.0, 217.0, 652.0, 283.0, 217.0, 652.0, 283.0, 217.0, 652.0, 283.0, 217.0, 882.0, 767.0, 326.0, 228.0, 984.0, 499.0, 323.0, 399.0, 323.0, 399.0, 225.0, 226.0, 226.0, 177.0, 150.0, 177.0, 145.0, 145.0, 145.0, 804.0, 741.0, 741.0, 741.0, 741.0, 741.0, 741.0], \"coloraxis\": \"coloraxis\", \"size\": [3.4, 3.4, 4.3, 4.3, 4.3, 3.4, 3.4, 3.4, 3.4, 3.4, 3.4, 3.4, 3.4, 3.4, 3.4, 3.4, 3.4, 3.4, 3.4, 3.4, 3.4, 3.4, 3.4, 3.4, 2.1, 3.45, 2.1, 3.45, 2.1, 3.45, 3.45, 3.45, 3.45, 2.1, 3.45, 2.5, 4.1, 4.5, 2.5, 4.1, 4.5, 2.5, 4.1, 4.5, 2.5, 4.1, 4.5, 2.5, 4.1, 4.5, 2.5, 2.5, 4.1, 4.5, 2.0, 3.45, 5.0, 3.45, 5.0, 3.45, 4.5, 4.5, 4.5, 3.5, 3.5, 3.5, 3.5, 3.5, 3.5, 2.5, 2.5, 2.5, 2.5, 2.5, 2.5, 2.5], \"sizemode\": \"area\", \"sizeref\": 0.0125, \"symbol\": \"circle\"}, \"mode\": \"markers\", \"name\": \"\", \"showlegend\": false, \"type\": \"scatter\", \"x\": [84.52100727424875, 28.97863106545671, 84.52100727424875, 120.74429610606961, 19.31908737697114, 19.31908737697114, 19.31908737697114, 28.97863106545671, 28.97863106545671, 28.97863106545671, 38.63817475394228, 38.63817475394228, 38.63817475394228, 60.372148053034806, 60.372148053034806, 60.372148053034806, 84.52100727424875, 84.52100727424875, 84.52100727424875, 120.74429610606961, 120.74429610606961, 120.74429610606961, 38.63817475394228, 84.52100727424875, 32.930262574382624, 28.97863106545671, 43.9070167658435, 43.9070167658435, 68.60471369663047, 68.60471369663047, 96.04659917528267, 142.69780448899135, 14.489315532728355, 19.31908737697114, 19.31908737697114, 28.97863106545671, 28.97863106545671, 28.97863106545671, 38.63817475394228, 38.63817475394228, 38.63817475394228, 60.372148053034806, 60.372148053034806, 60.372148053034806, 84.52100727424875, 84.52100727424875, 84.52100727424875, 120.74429610606961, 120.74429610606961, 120.74429610606961, 12.074429610606963, 20.526530338031833, 19.31908737697114, 19.31908737697114, 38.63817475394228, 19.31908737697114, 28.97863106545671, 38.63817475394228, 38.63817475394228, 60.372148053034806, 38.63817475394228, 60.372148053034806, 120.74429610606961, 11.854894526777745, 15.806526035703659, 23.70978905355549, 31.613052071407317, 49.395393861573936, 98.79078772314787, 14.489315532728355, 19.31908737697114, 28.97863106545671, 38.63817475394228, 60.372148053034806, 84.52100727424875, 120.74429610606961], \"xaxis\": \"x\", \"y\": [1.2790697674418605, 1.2790697674418605, 1.2790697674418605, 1.2790697674418605, 1.2790697674418605, 1.2790697674418605, 1.2790697674418605, 1.2790697674418605, 1.2790697674418605, 1.2790697674418605, 1.2790697674418605, 1.2790697674418605, 1.2790697674418605, 1.2790697674418605, 1.2790697674418605, 1.2790697674418605, 1.2790697674418605, 1.2790697674418605, 1.2790697674418605, 1.2790697674418605, 1.2790697674418605, 1.2790697674418605, 1.2790697674418605, 1.2790697674418605, 1.4534883720930234, 1.2790697674418605, 1.4534883720930234, 1.4534883720930234, 1.4534883720930234, 1.4534883720930234, 1.4534883720930234, 1.5116279069767442, 1.2790697674418605, 1.2790697674418605, 1.2790697674418605, 1.2790697674418605, 1.2790697674418605, 1.2790697674418605, 1.2790697674418605, 1.2790697674418605, 1.2790697674418605, 1.2790697674418605, 1.2790697674418605, 1.2790697674418605, 1.2790697674418605, 1.2790697674418605, 1.2790697674418605, 1.2790697674418605, 1.2790697674418605, 1.2790697674418605, 1.2790697674418605, 1.2790697674418605, 1.2790697674418605, 1.2790697674418605, 1.2790697674418605, 1.2790697674418605, 1.2790697674418605, 1.2790697674418605, 1.2790697674418605, 1.2790697674418605, 1.2790697674418605, 1.2790697674418605, 1.2790697674418605, 1.0465116279069768, 1.0465116279069768, 1.0465116279069768, 1.0465116279069768, 1.0465116279069768, 1.0465116279069768, 1.2790697674418605, 1.2790697674418605, 1.2790697674418605, 1.2790697674418605, 1.2790697674418605, 1.2790697674418605, 1.2790697674418605], \"yaxis\": \"y\"}],\n",
       "                        {\"coloraxis\": {\"colorbar\": {\"title\": {\"text\": \"Listenpreis [\\u20ac]\"}}, \"colorscale\": [[0, \"green\"], [0.1, \"yellow\"], [1, \"red\"]]}, \"legend\": {\"itemsizing\": \"constant\", \"tracegroupgap\": 0}, \"margin\": {\"t\": 60}, \"template\": {\"data\": {\"bar\": [{\"error_x\": {\"color\": \"#2a3f5f\"}, \"error_y\": {\"color\": \"#2a3f5f\"}, \"marker\": {\"line\": {\"color\": \"#E5ECF6\", \"width\": 0.5}}, \"type\": \"bar\"}], \"barpolar\": [{\"marker\": {\"line\": {\"color\": \"#E5ECF6\", \"width\": 0.5}}, \"type\": \"barpolar\"}], \"carpet\": [{\"aaxis\": {\"endlinecolor\": \"#2a3f5f\", \"gridcolor\": \"white\", \"linecolor\": \"white\", \"minorgridcolor\": \"white\", \"startlinecolor\": \"#2a3f5f\"}, \"baxis\": {\"endlinecolor\": \"#2a3f5f\", \"gridcolor\": \"white\", \"linecolor\": \"white\", \"minorgridcolor\": \"white\", \"startlinecolor\": \"#2a3f5f\"}, \"type\": \"carpet\"}], \"choropleth\": [{\"colorbar\": {\"outlinewidth\": 0, \"ticks\": \"\"}, \"type\": \"choropleth\"}], \"contour\": [{\"colorbar\": {\"outlinewidth\": 0, \"ticks\": \"\"}, \"colorscale\": [[0.0, \"#0d0887\"], [0.1111111111111111, \"#46039f\"], [0.2222222222222222, \"#7201a8\"], [0.3333333333333333, \"#9c179e\"], [0.4444444444444444, \"#bd3786\"], [0.5555555555555556, \"#d8576b\"], [0.6666666666666666, \"#ed7953\"], [0.7777777777777778, \"#fb9f3a\"], [0.8888888888888888, \"#fdca26\"], [1.0, \"#f0f921\"]], \"type\": \"contour\"}], \"contourcarpet\": [{\"colorbar\": {\"outlinewidth\": 0, \"ticks\": \"\"}, \"type\": \"contourcarpet\"}], \"heatmap\": [{\"colorbar\": {\"outlinewidth\": 0, \"ticks\": \"\"}, \"colorscale\": [[0.0, \"#0d0887\"], [0.1111111111111111, \"#46039f\"], [0.2222222222222222, \"#7201a8\"], [0.3333333333333333, \"#9c179e\"], [0.4444444444444444, \"#bd3786\"], [0.5555555555555556, \"#d8576b\"], [0.6666666666666666, \"#ed7953\"], [0.7777777777777778, \"#fb9f3a\"], [0.8888888888888888, \"#fdca26\"], [1.0, \"#f0f921\"]], \"type\": \"heatmap\"}], \"heatmapgl\": [{\"colorbar\": {\"outlinewidth\": 0, \"ticks\": \"\"}, \"colorscale\": [[0.0, \"#0d0887\"], [0.1111111111111111, \"#46039f\"], [0.2222222222222222, \"#7201a8\"], [0.3333333333333333, \"#9c179e\"], [0.4444444444444444, \"#bd3786\"], [0.5555555555555556, \"#d8576b\"], [0.6666666666666666, \"#ed7953\"], [0.7777777777777778, \"#fb9f3a\"], [0.8888888888888888, \"#fdca26\"], [1.0, \"#f0f921\"]], \"type\": \"heatmapgl\"}], \"histogram\": [{\"marker\": {\"colorbar\": {\"outlinewidth\": 0, \"ticks\": \"\"}}, \"type\": \"histogram\"}], \"histogram2d\": [{\"colorbar\": {\"outlinewidth\": 0, \"ticks\": \"\"}, \"colorscale\": [[0.0, \"#0d0887\"], [0.1111111111111111, \"#46039f\"], [0.2222222222222222, \"#7201a8\"], [0.3333333333333333, \"#9c179e\"], [0.4444444444444444, \"#bd3786\"], [0.5555555555555556, \"#d8576b\"], [0.6666666666666666, \"#ed7953\"], [0.7777777777777778, \"#fb9f3a\"], [0.8888888888888888, \"#fdca26\"], [1.0, \"#f0f921\"]], \"type\": \"histogram2d\"}], \"histogram2dcontour\": [{\"colorbar\": {\"outlinewidth\": 0, \"ticks\": \"\"}, \"colorscale\": [[0.0, \"#0d0887\"], [0.1111111111111111, \"#46039f\"], [0.2222222222222222, \"#7201a8\"], [0.3333333333333333, \"#9c179e\"], [0.4444444444444444, \"#bd3786\"], [0.5555555555555556, \"#d8576b\"], [0.6666666666666666, \"#ed7953\"], [0.7777777777777778, \"#fb9f3a\"], [0.8888888888888888, \"#fdca26\"], [1.0, \"#f0f921\"]], \"type\": \"histogram2dcontour\"}], \"mesh3d\": [{\"colorbar\": {\"outlinewidth\": 0, \"ticks\": \"\"}, \"type\": \"mesh3d\"}], \"parcoords\": [{\"line\": {\"colorbar\": {\"outlinewidth\": 0, \"ticks\": \"\"}}, \"type\": \"parcoords\"}], \"pie\": [{\"automargin\": true, \"type\": \"pie\"}], \"scatter\": [{\"marker\": {\"colorbar\": {\"outlinewidth\": 0, \"ticks\": \"\"}}, \"type\": \"scatter\"}], \"scatter3d\": [{\"line\": {\"colorbar\": {\"outlinewidth\": 0, \"ticks\": \"\"}}, \"marker\": {\"colorbar\": {\"outlinewidth\": 0, \"ticks\": \"\"}}, \"type\": \"scatter3d\"}], \"scattercarpet\": [{\"marker\": {\"colorbar\": {\"outlinewidth\": 0, \"ticks\": \"\"}}, \"type\": \"scattercarpet\"}], \"scattergeo\": [{\"marker\": {\"colorbar\": {\"outlinewidth\": 0, \"ticks\": \"\"}}, \"type\": \"scattergeo\"}], \"scattergl\": [{\"marker\": {\"colorbar\": {\"outlinewidth\": 0, \"ticks\": \"\"}}, \"type\": \"scattergl\"}], \"scattermapbox\": [{\"marker\": {\"colorbar\": {\"outlinewidth\": 0, \"ticks\": \"\"}}, \"type\": \"scattermapbox\"}], \"scatterpolar\": [{\"marker\": {\"colorbar\": {\"outlinewidth\": 0, \"ticks\": \"\"}}, \"type\": \"scatterpolar\"}], \"scatterpolargl\": [{\"marker\": {\"colorbar\": {\"outlinewidth\": 0, \"ticks\": \"\"}}, \"type\": \"scatterpolargl\"}], \"scatterternary\": [{\"marker\": {\"colorbar\": {\"outlinewidth\": 0, \"ticks\": \"\"}}, \"type\": \"scatterternary\"}], \"surface\": [{\"colorbar\": {\"outlinewidth\": 0, \"ticks\": \"\"}, \"colorscale\": [[0.0, \"#0d0887\"], [0.1111111111111111, \"#46039f\"], [0.2222222222222222, \"#7201a8\"], [0.3333333333333333, \"#9c179e\"], [0.4444444444444444, \"#bd3786\"], [0.5555555555555556, \"#d8576b\"], [0.6666666666666666, \"#ed7953\"], [0.7777777777777778, \"#fb9f3a\"], [0.8888888888888888, \"#fdca26\"], [1.0, \"#f0f921\"]], \"type\": \"surface\"}], \"table\": [{\"cells\": {\"fill\": {\"color\": \"#EBF0F8\"}, \"line\": {\"color\": \"white\"}}, \"header\": {\"fill\": {\"color\": \"#C8D4E3\"}, \"line\": {\"color\": \"white\"}}, \"type\": \"table\"}]}, \"layout\": {\"annotationdefaults\": {\"arrowcolor\": \"#2a3f5f\", \"arrowhead\": 0, \"arrowwidth\": 1}, \"coloraxis\": {\"colorbar\": {\"outlinewidth\": 0, \"ticks\": \"\"}}, \"colorscale\": {\"diverging\": [[0, \"#8e0152\"], [0.1, \"#c51b7d\"], [0.2, \"#de77ae\"], [0.3, \"#f1b6da\"], [0.4, \"#fde0ef\"], [0.5, \"#f7f7f7\"], [0.6, \"#e6f5d0\"], [0.7, \"#b8e186\"], [0.8, \"#7fbc41\"], [0.9, \"#4d9221\"], [1, \"#276419\"]], \"sequential\": [[0.0, \"#0d0887\"], [0.1111111111111111, \"#46039f\"], [0.2222222222222222, \"#7201a8\"], [0.3333333333333333, \"#9c179e\"], [0.4444444444444444, \"#bd3786\"], [0.5555555555555556, \"#d8576b\"], [0.6666666666666666, \"#ed7953\"], [0.7777777777777778, \"#fb9f3a\"], [0.8888888888888888, \"#fdca26\"], [1.0, \"#f0f921\"]], \"sequentialminus\": [[0.0, \"#0d0887\"], [0.1111111111111111, \"#46039f\"], [0.2222222222222222, \"#7201a8\"], [0.3333333333333333, \"#9c179e\"], [0.4444444444444444, \"#bd3786\"], [0.5555555555555556, \"#d8576b\"], [0.6666666666666666, \"#ed7953\"], [0.7777777777777778, \"#fb9f3a\"], [0.8888888888888888, \"#fdca26\"], [1.0, \"#f0f921\"]]}, \"colorway\": [\"#636efa\", \"#EF553B\", \"#00cc96\", \"#ab63fa\", \"#FFA15A\", \"#19d3f3\", \"#FF6692\", \"#B6E880\", \"#FF97FF\", \"#FECB52\"], \"font\": {\"color\": \"#2a3f5f\"}, \"geo\": {\"bgcolor\": \"white\", \"lakecolor\": \"white\", \"landcolor\": \"#E5ECF6\", \"showlakes\": true, \"showland\": true, \"subunitcolor\": \"white\"}, \"hoverlabel\": {\"align\": \"left\"}, \"hovermode\": \"closest\", \"mapbox\": {\"style\": \"light\"}, \"paper_bgcolor\": \"white\", \"plot_bgcolor\": \"#E5ECF6\", \"polar\": {\"angularaxis\": {\"gridcolor\": \"white\", \"linecolor\": \"white\", \"ticks\": \"\"}, \"bgcolor\": \"#E5ECF6\", \"radialaxis\": {\"gridcolor\": \"white\", \"linecolor\": \"white\", \"ticks\": \"\"}}, \"scene\": {\"xaxis\": {\"backgroundcolor\": \"#E5ECF6\", \"gridcolor\": \"white\", \"gridwidth\": 2, \"linecolor\": \"white\", \"showbackground\": true, \"ticks\": \"\", \"zerolinecolor\": \"white\"}, \"yaxis\": {\"backgroundcolor\": \"#E5ECF6\", \"gridcolor\": \"white\", \"gridwidth\": 2, \"linecolor\": \"white\", \"showbackground\": true, \"ticks\": \"\", \"zerolinecolor\": \"white\"}, \"zaxis\": {\"backgroundcolor\": \"#E5ECF6\", \"gridcolor\": \"white\", \"gridwidth\": 2, \"linecolor\": \"white\", \"showbackground\": true, \"ticks\": \"\", \"zerolinecolor\": \"white\"}}, \"shapedefaults\": {\"line\": {\"color\": \"#2a3f5f\"}}, \"ternary\": {\"aaxis\": {\"gridcolor\": \"white\", \"linecolor\": \"white\", \"ticks\": \"\"}, \"baxis\": {\"gridcolor\": \"white\", \"linecolor\": \"white\", \"ticks\": \"\"}, \"bgcolor\": \"#E5ECF6\", \"caxis\": {\"gridcolor\": \"white\", \"linecolor\": \"white\", \"ticks\": \"\"}}, \"title\": {\"x\": 0.05}, \"xaxis\": {\"automargin\": true, \"gridcolor\": \"white\", \"linecolor\": \"white\", \"ticks\": \"\", \"title\": {\"standoff\": 15}, \"zerolinecolor\": \"white\", \"zerolinewidth\": 2}, \"yaxis\": {\"automargin\": true, \"gridcolor\": \"white\", \"linecolor\": \"white\", \"ticks\": \"\", \"title\": {\"standoff\": 15}, \"zerolinecolor\": \"white\", \"zerolinewidth\": 2}}}, \"xaxis\": {\"anchor\": \"y\", \"domain\": [0.0, 1.0], \"range\": [0, 300], \"title\": {\"text\": \"Arbeitsabstand [cm]\"}}, \"yaxis\": {\"anchor\": \"x\", \"domain\": [0.0, 1.0], \"range\": [0.8, 2.8116279069767445], \"title\": {\"text\": \"\\u00dcberdimensionierung Bilddiagonale\"}}},\n",
       "                        {\"responsive\": true}\n",
       "                    ).then(function(){\n",
       "                            \n",
       "var gd = document.getElementById('0d2a3cee-dad7-42b5-be4c-4f32965504a0');\n",
       "var x = new MutationObserver(function (mutations, observer) {{\n",
       "        var display = window.getComputedStyle(gd).display;\n",
       "        if (!display || display === 'none') {{\n",
       "            console.log([gd, 'removed!']);\n",
       "            Plotly.purge(gd);\n",
       "            observer.disconnect();\n",
       "        }}\n",
       "}});\n",
       "\n",
       "// Listen for the removal of the full notebook cells\n",
       "var notebookContainer = gd.closest('#notebook-container');\n",
       "if (notebookContainer) {{\n",
       "    x.observe(notebookContainer, {childList: true});\n",
       "}}\n",
       "\n",
       "// Listen for the clearing of the current output cell\n",
       "var outputEl = gd.closest('.output');\n",
       "if (outputEl) {{\n",
       "    x.observe(outputEl, {childList: true});\n",
       "}}\n",
       "\n",
       "                        })\n",
       "                };\n",
       "                });\n",
       "            </script>\n",
       "        </div>"
      ]
     },
     "metadata": {},
     "output_type": "display_data"
    },
    {
     "data": {
      "application/vnd.jupyter.widget-view+json": {
       "model_id": "3004570fe2434ca3b1d8822bff5d041c",
       "version_major": 2,
       "version_minor": 0
      },
      "text/plain": [
       "HBox(children=(VBox(children=(Label(value='Spektrale Empfindlichkeit:'), Checkbox(value=True, description='Mon…"
      ]
     },
     "metadata": {},
     "output_type": "display_data"
    },
    {
     "data": {
      "text/html": [
       "<div>\n",
       "<style scoped>\n",
       "    .dataframe tbody tr th:only-of-type {\n",
       "        vertical-align: middle;\n",
       "    }\n",
       "\n",
       "    .dataframe tbody tr th {\n",
       "        vertical-align: top;\n",
       "    }\n",
       "\n",
       "    .dataframe thead th {\n",
       "        text-align: right;\n",
       "    }\n",
       "</style>\n",
       "<table border=\"1\" class=\"dataframe\">\n",
       "  <thead>\n",
       "    <tr style=\"text-align: right;\">\n",
       "      <th></th>\n",
       "      <th>Name</th>\n",
       "      <th>Hersteller</th>\n",
       "      <th>Listenpreis [€]</th>\n",
       "      <th>Brennweite [mm]</th>\n",
       "      <th>MOD [mm]</th>\n",
       "      <th>Min Pixelgröße [µm]</th>\n",
       "      <th>Bilddiagonale [mm]</th>\n",
       "      <th>Max Sensorgröße</th>\n",
       "      <th>Spektrale Empfindlichkeit</th>\n",
       "      <th>Blendenzahl</th>\n",
       "      <th>Blendentyp</th>\n",
       "      <th>Objektivanschluss</th>\n",
       "      <th>Filtergewinde</th>\n",
       "      <th>Länge [mm]</th>\n",
       "      <th>Link-href</th>\n",
       "      <th>Überdimensionierung Bilddiagonale</th>\n",
       "      <th>Brennweite_real</th>\n",
       "      <th>Arbeitsabstand [cm]</th>\n",
       "    </tr>\n",
       "  </thead>\n",
       "  <tbody>\n",
       "    <tr>\n",
       "      <th>13</th>\n",
       "      <td>CVO GMTHR33520MCN</td>\n",
       "      <td>Common Vision Optics</td>\n",
       "      <td>135.0</td>\n",
       "      <td>35.0</td>\n",
       "      <td>250.0</td>\n",
       "      <td>4.3</td>\n",
       "      <td>11.0</td>\n",
       "      <td>2/3\"</td>\n",
       "      <td>Colour</td>\n",
       "      <td>2.0</td>\n",
       "      <td>flexible</td>\n",
       "      <td>C-Mount</td>\n",
       "      <td>M25.5 x 0.5</td>\n",
       "      <td>39.0</td>\n",
       "      <td>https://www.stemmer-imaging.com/de-de/produkte/cvo-gmthr33520mcn/</td>\n",
       "      <td>1.279070</td>\n",
       "      <td>44.767442</td>\n",
       "      <td>84.521007</td>\n",
       "    </tr>\n",
       "    <tr>\n",
       "      <th>14</th>\n",
       "      <td>CVO GMTHR35028MCN</td>\n",
       "      <td>Common Vision Optics</td>\n",
       "      <td>135.0</td>\n",
       "      <td>50.0</td>\n",
       "      <td>500.0</td>\n",
       "      <td>4.3</td>\n",
       "      <td>11.0</td>\n",
       "      <td>2/3\"</td>\n",
       "      <td>Colour</td>\n",
       "      <td>2.8</td>\n",
       "      <td>flexible</td>\n",
       "      <td>C-Mount</td>\n",
       "      <td>M25.5 x 0.75</td>\n",
       "      <td>39.0</td>\n",
       "      <td>https://www.stemmer-imaging.com/de-de/produkte/cvo-gmthr35028mcn/</td>\n",
       "      <td>1.279070</td>\n",
       "      <td>63.953488</td>\n",
       "      <td>120.744296</td>\n",
       "    </tr>\n",
       "    <tr>\n",
       "      <th>261</th>\n",
       "      <td>TAMRON M118FM25</td>\n",
       "      <td>Tamron</td>\n",
       "      <td>145.0</td>\n",
       "      <td>25.0</td>\n",
       "      <td>100.0</td>\n",
       "      <td>3.5</td>\n",
       "      <td>9.0</td>\n",
       "      <td>1/1.8\"</td>\n",
       "      <td>Monochrome</td>\n",
       "      <td>1.6</td>\n",
       "      <td>flexible</td>\n",
       "      <td>C-Mount</td>\n",
       "      <td>M25.5 x 0.5</td>\n",
       "      <td>35.0</td>\n",
       "      <td>https://www.stemmer-imaging.com/de-de/produkte/tamron-m118-fm25/</td>\n",
       "      <td>1.046512</td>\n",
       "      <td>26.162791</td>\n",
       "      <td>49.395394</td>\n",
       "    </tr>\n",
       "    <tr>\n",
       "      <th>262</th>\n",
       "      <td>TAMRON M118FM50</td>\n",
       "      <td>Tamron</td>\n",
       "      <td>145.0</td>\n",
       "      <td>50.0</td>\n",
       "      <td>200.0</td>\n",
       "      <td>3.5</td>\n",
       "      <td>9.0</td>\n",
       "      <td>1/1.8\"</td>\n",
       "      <td>Monochrome</td>\n",
       "      <td>2.8</td>\n",
       "      <td>flexible</td>\n",
       "      <td>C-Mount</td>\n",
       "      <td>M25.5 x 0.5</td>\n",
       "      <td>62.6</td>\n",
       "      <td>https://www.stemmer-imaging.com/de-de/produkte/tamron-m118-fm50/</td>\n",
       "      <td>1.046512</td>\n",
       "      <td>52.325581</td>\n",
       "      <td>98.790788</td>\n",
       "    </tr>\n",
       "    <tr>\n",
       "      <th>260</th>\n",
       "      <td>TAMRON M118FM16</td>\n",
       "      <td>Tamron</td>\n",
       "      <td>145.0</td>\n",
       "      <td>16.0</td>\n",
       "      <td>100.0</td>\n",
       "      <td>3.5</td>\n",
       "      <td>9.0</td>\n",
       "      <td>1/1.8\"</td>\n",
       "      <td>Monochrome</td>\n",
       "      <td>1.4</td>\n",
       "      <td>flexible</td>\n",
       "      <td>C-Mount</td>\n",
       "      <td>M25.5 x 0.5</td>\n",
       "      <td>24.1</td>\n",
       "      <td>https://www.stemmer-imaging.com/de-de/produkte/tamron-m118-fm16/</td>\n",
       "      <td>1.046512</td>\n",
       "      <td>16.744186</td>\n",
       "      <td>31.613052</td>\n",
       "    </tr>\n",
       "  </tbody>\n",
       "</table>\n",
       "</div>"
      ],
      "text/plain": [
       "                  Name            Hersteller  Listenpreis [€]  \\\n",
       "13   CVO GMTHR33520MCN  Common Vision Optics            135.0   \n",
       "14   CVO GMTHR35028MCN  Common Vision Optics            135.0   \n",
       "261    TAMRON M118FM25                Tamron            145.0   \n",
       "262    TAMRON M118FM50                Tamron            145.0   \n",
       "260    TAMRON M118FM16                Tamron            145.0   \n",
       "\n",
       "     Brennweite [mm]  MOD [mm]  Min Pixelgröße [µm]  Bilddiagonale [mm]  \\\n",
       "13              35.0     250.0                  4.3                11.0   \n",
       "14              50.0     500.0                  4.3                11.0   \n",
       "261             25.0     100.0                  3.5                 9.0   \n",
       "262             50.0     200.0                  3.5                 9.0   \n",
       "260             16.0     100.0                  3.5                 9.0   \n",
       "\n",
       "    Max Sensorgröße Spektrale Empfindlichkeit  Blendenzahl Blendentyp  \\\n",
       "13             2/3\"                    Colour          2.0   flexible   \n",
       "14             2/3\"                    Colour          2.8   flexible   \n",
       "261          1/1.8\"                Monochrome          1.6   flexible   \n",
       "262          1/1.8\"                Monochrome          2.8   flexible   \n",
       "260          1/1.8\"                Monochrome          1.4   flexible   \n",
       "\n",
       "    Objektivanschluss Filtergewinde  Länge [mm]  \\\n",
       "13            C-Mount   M25.5 x 0.5        39.0   \n",
       "14            C-Mount  M25.5 x 0.75        39.0   \n",
       "261           C-Mount   M25.5 x 0.5        35.0   \n",
       "262           C-Mount   M25.5 x 0.5        62.6   \n",
       "260           C-Mount   M25.5 x 0.5        24.1   \n",
       "\n",
       "                                                             Link-href  \\\n",
       "13   https://www.stemmer-imaging.com/de-de/produkte/cvo-gmthr33520mcn/   \n",
       "14   https://www.stemmer-imaging.com/de-de/produkte/cvo-gmthr35028mcn/   \n",
       "261   https://www.stemmer-imaging.com/de-de/produkte/tamron-m118-fm25/   \n",
       "262   https://www.stemmer-imaging.com/de-de/produkte/tamron-m118-fm50/   \n",
       "260   https://www.stemmer-imaging.com/de-de/produkte/tamron-m118-fm16/   \n",
       "\n",
       "     Überdimensionierung Bilddiagonale  Brennweite_real  Arbeitsabstand [cm]  \n",
       "13                            1.279070        44.767442            84.521007  \n",
       "14                            1.279070        63.953488           120.744296  \n",
       "261                           1.046512        26.162791            49.395394  \n",
       "262                           1.046512        52.325581            98.790788  \n",
       "260                           1.046512        16.744186            31.613052  "
      ]
     },
     "metadata": {},
     "output_type": "display_data"
    },
    {
     "data": {
      "application/vnd.jupyter.widget-view+json": {
       "model_id": "a7ba63f6658241c49e73d224a8d24758",
       "version_major": 2,
       "version_minor": 0
      },
      "text/plain": [
       "IntSlider(value=5, continuous_update=False, description='#Resultate', max=76)"
      ]
     },
     "metadata": {},
     "output_type": "display_data"
    },
    {
     "data": {
      "application/vnd.jupyter.widget-view+json": {
       "model_id": "d4d1a9a169b4438097a033b0700322f1",
       "version_major": 2,
       "version_minor": 0
      },
      "text/plain": [
       "HTML(value='<b><br><br>')"
      ]
     },
     "metadata": {},
     "output_type": "display_data"
    }
   ],
   "source": [
    "\n",
    "# click control Festbrennweite\n",
    "def on_change_lense(change):\n",
    "    if change['type'] == 'change' and change['name'] == 'value':\n",
    "        result_lense_f()\n",
    "\n",
    "# dclick control Telezentrie\n",
    "def on_change_lense_t(change):\n",
    "    if change['type'] == 'change' and change['name'] == 'value':\n",
    "        result_lense_t()\n",
    "\n",
    "# switch function\n",
    "def mode_ql():\n",
    "    if lense_type_selection.value == 'Festbrennweite':\n",
    "        result_lense_f()\n",
    "    else:\n",
    "        result_lense_t()\n",
    "\n",
    "# click control Festbrennweite\n",
    "def selection_ql(change):\n",
    "    if change['type'] == 'change' and change['name'] == 'value':\n",
    "        mode_ql()          \n",
    "\n",
    "# observe elements Fesbrennweite\n",
    "Slider_l.observe(on_change_lense)\n",
    "Slider_depth.observe(on_change_lense)\n",
    "monochrome_boolean.observe(on_change_lense)\n",
    "colour_boolean.observe(on_change_lense)\n",
    "ir_boolean.observe(on_change_lense)\n",
    "uv_boolean.observe(on_change_lense)\n",
    "blende_flexible_boolean.observe(on_change_lense)\n",
    "blende_fix_boolean.observe(on_change_lense)\n",
    "Slider_oversize.observe(on_change_lense)\n",
    "Slider_l_price.observe(on_change_lense)\n",
    "lense_f_Hersteller.observe(on_change_lense)\n",
    "Slider_l_results.observe(on_change_lense)\n",
    "\n",
    "# observe elements Telezentrie\n",
    "Slider_distance_t.observe(on_change_lense_t)\n",
    "Slider_depth_t.observe(on_change_lense_t)\n",
    "monochrome_boolean_t.observe(on_change_lense_t)\n",
    "colour_boolean_t.observe(on_change_lense_t)\n",
    "ir_boolean_t.observe(on_change_lense_t)\n",
    "uv_boolean_t.observe(on_change_lense_t)\n",
    "Blende_t_t_flexible_boolean.observe(on_change_lense_t)\n",
    "Blende_t_t_fix_boolean.observe(on_change_lense_t)\n",
    "Slider_oversize_t.observe(on_change_lense_t)\n",
    "Slider_price_t.observe(on_change_lense_t)\n",
    "lense_t_Hersteller.observe(on_change_lense_t)\n",
    "Slider_results_t.observe(on_change_lense_t)\n",
    "simpleTel_boolean.observe(on_change_lense_t)\n",
    "biTel_boolean.observe(on_change_lense_t)\n",
    "\n",
    "# observe elements switch\n",
    "lense_type_selection.observe(selection_ql)\n",
    "\n",
    "# start screen\n",
    "result_lense_f()\n",
    "\n"
   ]
  },
  {
   "cell_type": "code",
   "execution_count": null,
   "metadata": {},
   "outputs": [],
   "source": []
  },
  {
   "cell_type": "code",
   "execution_count": null,
   "metadata": {},
   "outputs": [],
   "source": []
  },
  {
   "cell_type": "code",
   "execution_count": null,
   "metadata": {},
   "outputs": [],
   "source": []
  },
  {
   "cell_type": "code",
   "execution_count": null,
   "metadata": {},
   "outputs": [],
   "source": []
  },
  {
   "cell_type": "code",
   "execution_count": null,
   "metadata": {},
   "outputs": [],
   "source": []
  },
  {
   "cell_type": "markdown",
   "metadata": {},
   "source": [
    "## 5) Auswahl Beleuchtungsart"
   ]
  },
  {
   "cell_type": "code",
   "execution_count": null,
   "metadata": {},
   "outputs": [],
   "source": [
    "   "
   ]
  },
  {
   "cell_type": "code",
   "execution_count": null,
   "metadata": {},
   "outputs": [],
   "source": []
  },
  {
   "cell_type": "code",
   "execution_count": 19,
   "metadata": {
    "scrolled": false
   },
   "outputs": [
    {
     "data": {
      "application/vnd.jupyter.widget-view+json": {
       "model_id": "d38ab403f0ca42cf844efd828e2821a4",
       "version_major": 2,
       "version_minor": 0
      },
      "text/plain": [
       "ToggleButtons(index=1, layout=Layout(width='800px'), options=('Entscheidungshilfe', 'Übersicht'), value='Übers…"
      ]
     },
     "metadata": {},
     "output_type": "display_data"
    },
    {
     "data": {
      "application/vnd.jupyter.widget-view+json": {
       "model_id": "2590c04d2bf74368849f14806da703cf",
       "version_major": 2,
       "version_minor": 0
      },
      "text/plain": [
       "HTML(value='<a href=\"https://www.stemmer-imaging.com/de-de/produkte/kategorie/led-ringleuchten/\" target=\"_blan…"
      ]
     },
     "metadata": {},
     "output_type": "display_data"
    },
    {
     "data": {
      "application/vnd.jupyter.widget-view+json": {
       "model_id": "ec18528912c34037b41c9bc9c55d6743",
       "version_major": 2,
       "version_minor": 0
      },
      "text/plain": [
       "HBox(children=(VBox(children=(HTML(value='Beleuchtungsanordnung:'), Image(value=b'\\x89PNG\\r\\n\\x1a\\n\\x00\\x00\\x0…"
      ]
     },
     "metadata": {},
     "output_type": "display_data"
    },
    {
     "data": {
      "application/vnd.jupyter.widget-view+json": {
       "model_id": "dbd6cd2f72a840ec901d93460bff8351",
       "version_major": 2,
       "version_minor": 0
      },
      "text/plain": [
       "HTML(value='<a href=\"https://www.stemmer-imaging.com/de-de/produkte/kategorie/led-koaxialbeleuchtungen/\" targe…"
      ]
     },
     "metadata": {},
     "output_type": "display_data"
    },
    {
     "data": {
      "application/vnd.jupyter.widget-view+json": {
       "model_id": "9a6993fc33a94800ae83f41ba8b39c1f",
       "version_major": 2,
       "version_minor": 0
      },
      "text/plain": [
       "HBox(children=(VBox(children=(HTML(value='Beleuchtungsanordnung:'), Image(value=b'\\x89PNG\\r\\n\\x1a\\n\\x00\\x00\\x0…"
      ]
     },
     "metadata": {},
     "output_type": "display_data"
    },
    {
     "data": {
      "application/vnd.jupyter.widget-view+json": {
       "model_id": "1bb82a2d61f04a208e69adece8505040",
       "version_major": 2,
       "version_minor": 0
      },
      "text/plain": [
       "HTML(value='<a href=\"https://www.stemmer-imaging.com/de-de/produkte/kategorie/led-koaxialbeleuchtungen/\" targe…"
      ]
     },
     "metadata": {},
     "output_type": "display_data"
    },
    {
     "data": {
      "application/vnd.jupyter.widget-view+json": {
       "model_id": "acff9ead1423457f9c1910142f3f7140",
       "version_major": 2,
       "version_minor": 0
      },
      "text/plain": [
       "HBox(children=(VBox(children=(HTML(value='Beleuchtungsanordnung:'), Image(value=b'\\x89PNG\\r\\n\\x1a\\n\\x00\\x00\\x0…"
      ]
     },
     "metadata": {},
     "output_type": "display_data"
    },
    {
     "data": {
      "application/vnd.jupyter.widget-view+json": {
       "model_id": "a3178ca9ac274ce3b4272e962492dd41",
       "version_major": 2,
       "version_minor": 0
      },
      "text/plain": [
       "HTML(value='<a href=\"https://www.stemmer-imaging.com/de-de/produkte/kategorie/led-dom-beleuchtungen/\" target=\"…"
      ]
     },
     "metadata": {},
     "output_type": "display_data"
    },
    {
     "data": {
      "application/vnd.jupyter.widget-view+json": {
       "model_id": "ea65d9858b4f4daab2121269210ea25f",
       "version_major": 2,
       "version_minor": 0
      },
      "text/plain": [
       "HBox(children=(VBox(children=(HTML(value='Beleuchtungsanordnung:'), Image(value=b'\\x89PNG\\r\\n\\x1a\\n\\x00\\x00\\x0…"
      ]
     },
     "metadata": {},
     "output_type": "display_data"
    },
    {
     "data": {
      "application/vnd.jupyter.widget-view+json": {
       "model_id": "67ea7cd93f454cd3bada0381d8c1a24b",
       "version_major": 2,
       "version_minor": 0
      },
      "text/plain": [
       "HTML(value='<a href=\"https://www.stemmer-imaging.com/de-de/produkte/serie/ccs-ldr2/\" target=\"_blank\"><b>Flachd…"
      ]
     },
     "metadata": {},
     "output_type": "display_data"
    },
    {
     "data": {
      "application/vnd.jupyter.widget-view+json": {
       "model_id": "f141b312813b48e0b12ce59467e4a61c",
       "version_major": 2,
       "version_minor": 0
      },
      "text/plain": [
       "HBox(children=(VBox(children=(HTML(value='Beleuchtungsanordnung:'), Image(value=b'\\x89PNG\\r\\n\\x1a\\n\\x00\\x00\\x0…"
      ]
     },
     "metadata": {},
     "output_type": "display_data"
    },
    {
     "data": {
      "application/vnd.jupyter.widget-view+json": {
       "model_id": "7b781df726f24f3987565b9a22361bc8",
       "version_major": 2,
       "version_minor": 0
      },
      "text/plain": [
       "HTML(value='<a href=\"https://www.stemmer-imaging.com/de-de/produkte/kategorie/telezentrische-led-beleuchtungen…"
      ]
     },
     "metadata": {},
     "output_type": "display_data"
    },
    {
     "data": {
      "application/vnd.jupyter.widget-view+json": {
       "model_id": "8cbeac2803ec4f9880c1bf12396d8d45",
       "version_major": 2,
       "version_minor": 0
      },
      "text/plain": [
       "HBox(children=(VBox(children=(HTML(value='Beleuchtungsanordnung:'), Image(value=b'\\x89PNG\\r\\n\\x1a\\n\\x00\\x00\\x0…"
      ]
     },
     "metadata": {},
     "output_type": "display_data"
    },
    {
     "data": {
      "application/vnd.jupyter.widget-view+json": {
       "model_id": "1484b837417f4b97bc8bfeb8fe6e8fe4",
       "version_major": 2,
       "version_minor": 0
      },
      "text/plain": [
       "HTML(value='<a href=\"https://www.stemmer-imaging.com/de-de/produkte/kategorie/led-dunkelfeldbeleuchtungen/\" ta…"
      ]
     },
     "metadata": {},
     "output_type": "display_data"
    },
    {
     "data": {
      "application/vnd.jupyter.widget-view+json": {
       "model_id": "a37fd696a1bd46a29a9740e0f088b7a3",
       "version_major": 2,
       "version_minor": 0
      },
      "text/plain": [
       "HBox(children=(VBox(children=(HTML(value='Beleuchtungsanordnung:'), Image(value=b'\\x89PNG\\r\\n\\x1a\\n\\x00\\x00\\x0…"
      ]
     },
     "metadata": {},
     "output_type": "display_data"
    },
    {
     "data": {
      "application/vnd.jupyter.widget-view+json": {
       "model_id": "f863fa0e5001440197e2bdfc65bd38d2",
       "version_major": 2,
       "version_minor": 0
      },
      "text/plain": [
       "HTML(value='<a href=\"https://www.stemmer-imaging.com/de-de/produkte/kategorie/led-dunkelfeldbeleuchtungen/\" ta…"
      ]
     },
     "metadata": {},
     "output_type": "display_data"
    },
    {
     "data": {
      "application/vnd.jupyter.widget-view+json": {
       "model_id": "0636727c4413423e8922b881ce298f67",
       "version_major": 2,
       "version_minor": 0
      },
      "text/plain": [
       "HBox(children=(VBox(children=(HTML(value='Beleuchtungsanordnung:'), Image(value=b'\\x89PNG\\r\\n\\x1a\\n\\x00\\x00\\x0…"
      ]
     },
     "metadata": {},
     "output_type": "display_data"
    },
    {
     "data": {
      "application/vnd.jupyter.widget-view+json": {
       "model_id": "85ff444e37e04ddfacf521172ac42d75",
       "version_major": 2,
       "version_minor": 0
      },
      "text/plain": [
       "HTML(value='<a href=\"https://www.stemmer-imaging.com/de-de/produkte/kategorie/led-dunkelfeldbeleuchtungen/\" ta…"
      ]
     },
     "metadata": {},
     "output_type": "display_data"
    },
    {
     "data": {
      "application/vnd.jupyter.widget-view+json": {
       "model_id": "02ea4badd9c8437b9fbadcf96f35e971",
       "version_major": 2,
       "version_minor": 0
      },
      "text/plain": [
       "HBox(children=(VBox(children=(HTML(value='Beleuchtungsanordnung:'), Image(value=b'\\x89PNG\\r\\n\\x1a\\n\\x00\\x00\\x0…"
      ]
     },
     "metadata": {},
     "output_type": "display_data"
    },
    {
     "data": {
      "application/vnd.jupyter.widget-view+json": {
       "model_id": "b67aa34f803c4375bb93a577474fa003",
       "version_major": 2,
       "version_minor": 0
      },
      "text/plain": [
       "HTML(value='<a href=\"https://www.stemmer-imaging.com/de-de/produkte/kategorie/led-leuchtfelder-fuer-durchlicht…"
      ]
     },
     "metadata": {},
     "output_type": "display_data"
    },
    {
     "data": {
      "application/vnd.jupyter.widget-view+json": {
       "model_id": "170419251632417183d877017cf5bcf2",
       "version_major": 2,
       "version_minor": 0
      },
      "text/plain": [
       "HBox(children=(VBox(children=(HTML(value='Beleuchtungsanordnung:'), Image(value=b'\\x89PNG\\r\\n\\x1a\\n\\x00\\x00\\x0…"
      ]
     },
     "metadata": {},
     "output_type": "display_data"
    },
    {
     "data": {
      "application/vnd.jupyter.widget-view+json": {
       "model_id": "8c8605dff217411896ea5b0b40145604",
       "version_major": 2,
       "version_minor": 0
      },
      "text/plain": [
       "HTML(value='<a href=\"https://www.stemmer-imaging.com/de-de/produkte/kategorie/led-leuchtfelder-fuer-durchlicht…"
      ]
     },
     "metadata": {},
     "output_type": "display_data"
    },
    {
     "data": {
      "application/vnd.jupyter.widget-view+json": {
       "model_id": "3781c73a42e04f13ae0348c587536caf",
       "version_major": 2,
       "version_minor": 0
      },
      "text/plain": [
       "HBox(children=(VBox(children=(HTML(value='Beleuchtungsanordnung:'), Image(value=b'\\x89PNG\\r\\n\\x1a\\n\\x00\\x00\\x0…"
      ]
     },
     "metadata": {},
     "output_type": "display_data"
    },
    {
     "data": {
      "application/vnd.jupyter.widget-view+json": {
       "model_id": "3a6c8081cdcc4645a9efd471c6d96cc6",
       "version_major": 2,
       "version_minor": 0
      },
      "text/plain": [
       "HTML(value='<a href=\"https://www.stemmer-imaging.com/de-de/produkte/kategorie/telezentrische-led-beleuchtungen…"
      ]
     },
     "metadata": {},
     "output_type": "display_data"
    },
    {
     "data": {
      "application/vnd.jupyter.widget-view+json": {
       "model_id": "9b6c2c7d69754a949a97656063c89474",
       "version_major": 2,
       "version_minor": 0
      },
      "text/plain": [
       "HBox(children=(VBox(children=(HTML(value='Beleuchtungsanordnung:'), Image(value=b'\\x89PNG\\r\\n\\x1a\\n\\x00\\x00\\x0…"
      ]
     },
     "metadata": {},
     "output_type": "display_data"
    },
    {
     "data": {
      "application/vnd.jupyter.widget-view+json": {
       "model_id": "d4d1a9a169b4438097a033b0700322f1",
       "version_major": 2,
       "version_minor": 0
      },
      "text/plain": [
       "HTML(value='<b><br><br>')"
      ]
     },
     "metadata": {},
     "output_type": "display_data"
    }
   ],
   "source": [
    "# Auswahl geeignete Beleuchtungsanordnung\n",
    "# Grundsatzfrage: telezentrische Beleuchtung extra, Zusatzfaktor\n",
    "# other decisions: flash light?,\n",
    "# Hübsche Bilder Fragen\n",
    "# Warnung: rein qualitativ logsiche Ergebnisse, testen erforderlich\n",
    "\n",
    "text_b1 = widgets.HTML(value='1) Ist das zu untersuchende Objekt flach oder eher wellig / konkav / konvex?')\n",
    "text_b2 = widgets.HTML(value='2) Reflektiert oder transmittiert das zu untersuchende Objekt Licht?')\n",
    "text_b3 = widgets.HTML(value='3) Sollen Flächen parallel zur Kamera im Vergleich zu Kanten / (nichtparallelen Flächen) hell oder dunkel wirken? (siehe Beispiel)') # Explain these terminologies\n",
    "text_b4 = widgets.HTML(value='4) Sollen zur Kamera nichtparallele Flächen / Kanten / Konturen / Unebenheiten hell oder dunkel wirken?') # Explain\n",
    "\n",
    "#Questions\n",
    "options_qb1 = ['Flach','Wellig / konkav / konvex']\n",
    "options_qb2 = ['Reflektierend', 'Transparent']\n",
    "options_qb3 = ['Hell','Dunkel']\n",
    "options_qb4 = ['Hell','Dunkel']\n",
    "\n",
    "\n",
    "q_b1 = widgets.Dropdown(\n",
    "    options= options_qb1,\n",
    "    value=options_qb1[0],\n",
    "    description='Antwort:',\n",
    "    disabled=False,\n",
    ")\n",
    "q_b2 = widgets.Dropdown(\n",
    "    options= options_qb2,\n",
    "    value=options_qb2[0],\n",
    "    description='Antwort:',\n",
    "    disabled=False,\n",
    ")\n",
    "q_b3 = widgets.Dropdown(\n",
    "    options= options_qb3,\n",
    "    value=options_qb3[0],\n",
    "    description='Antwort:',\n",
    "    disabled=False,\n",
    ")\n",
    "q_b4 = widgets.Dropdown(\n",
    "    options= options_qb3,\n",
    "    value=options_qb4[0],\n",
    "    description='Antwort:',\n",
    "    disabled=False,\n",
    ")\n",
    "mode_selection = widgets.ToggleButtons(\n",
    "    options = ['Entscheidungshilfe', 'Übersicht'],\n",
    "    value = 'Entscheidungshilfe',\n",
    "    disabled=False,\n",
    "    layout = widgets.Layout(width = '800px')\n",
    ")\n",
    "\n",
    "# decision logic\n",
    "def result_qb():\n",
    "    global lense\n",
    "    r_b1 = q_b1.value\n",
    "    r_b2 = q_b2.value\n",
    "    r_b3 = q_b3.value\n",
    "    r_b4 = q_b4.value\n",
    "    \n",
    "    \n",
    "    clear_output(wait=True)\n",
    "    display( mode_selection, text_b1, q_b1, text_b2, q_b2, text_b3, q_b3, text_b4, q_b4)\n",
    "    \n",
    "    if r_b1 == options_qb1[0]: #flach\n",
    "        if r_b2 == options_qb2[0]: #reflektierend\n",
    "            if r_b3 == options_qb3[0]: #Fläche hell\n",
    "                if r_b4 == options_qb4[0]: #Kanten hell\n",
    "                    display(widgets.HTML(value='<b>Standard Hellfeld, Standard Koaxial, Homogen koaxial</b>'))\n",
    "                    #Standard Hellfeld\n",
    "                    Hellfeld_fct()\n",
    "                    #Standard koaxial\n",
    "                    Standardkoaxial_fct()\n",
    "                    #Homogen koaxial diffus\n",
    "                    Homogenkoaxial_fct()\n",
    "                else:  # Kanten / Unebeheiten dunkel\n",
    "                    #telezentrisch koaxial\n",
    "                    display(widgets.HTML(value='<b>Telezentrisch koaxial</b>'))\n",
    "                    TelezentrischKoaxial_fct()\n",
    "            else: # fläche dunkel    \n",
    "                if r_b4 == options_qb4[0]: #Kanten hell\n",
    "                    #Dunkelfeldbeleuchtung\n",
    "                    ########Sonderfall nur Außenkonturen hell managen \n",
    "                    #Diffuse Durchlichtbeleuchtung\n",
    "                    #Telezentrische Hintergrundsbeleuchtung\n",
    "                    display(widgets.HTML(value='<b>Dunkelfeldbeleuchtung, diffuses Durchlicht, telezentrische Hintergrundsbeleuchtung</b>'))\n",
    "                    Dunkelfeldbeleuchtung_fct()\n",
    "                    Durchlichtdiffus_refl_fct()\n",
    "                    TelezentrischHintergrund_fct() \n",
    "                else: # Kanten dunkel-> existiert nicht\n",
    "                    ###### existiert nicht\n",
    "                    display(widgets.HTML(value='<b>Kein typischer Anwendungsfall</b>'))             \n",
    "        else: #transparent\n",
    "            if r_b3 == options_qb3[0]: #Fläche hell\n",
    "                if r_b4 == options_qb4[0]: #Kanten hell\n",
    "                    ####### existiert nicht\n",
    "                    display(widgets.HTML(value='<b>Kein typischer Anwendungsfall</b>'))\n",
    "                else:  # Kanten dunkel\n",
    "                    #Diffuses Durchlicht\n",
    "                    display(widgets.HTML(value='<b>Diffuses Durchlicht</b>'))\n",
    "                    Durchlichtdiffus_transp_fct()\n",
    "            else: # Fläche dunkel    \n",
    "                if r_b4 == options_qb4[0]: #Kanten hell\n",
    "                    # Dunkelfeld Durchlicht\n",
    "                    # Dunkelfeld transmissiv\n",
    "                    display(widgets.HTML(value='<b>Dunkelfeld Durchlicht, Dunkelfeld transmissiv</b>'))\n",
    "                    DunkelfeldDurchlicht_fct()\n",
    "                    DunkelfeldTransmissiv_fct()\n",
    "                else: # Kanten dunkel-> existiert nicht   \n",
    "                    ###### exisitert nicht \n",
    "                    display(widgets.HTML(value='<b>Kein typischer Anwendungsfall</b>'))\n",
    "    else: # komplex / wellig \n",
    "        if r_b2 == options_qb2[0]: #reflektierend\n",
    "            if r_b3 == options_qb3[0]: #Fläche hell\n",
    "                if r_b4 == options_qb4[0]: #Kanten hell\n",
    "                        #Homogen koaxial\n",
    "                        #Dom flach\n",
    "                        #Dom\n",
    "                        display(widgets.HTML(value='<b>Homogen koaxial, Dom, Dom flach</b>'))\n",
    "                        Homogenkoaxial_fct()\n",
    "                        Dom_fct()\n",
    "                        Flachdom_fct()       \n",
    "                else:  # Kanten dunkel\n",
    "                        #####telezentrisch koaxial (wie oben)\n",
    "                        display(widgets.HTML(value='<b>Telezentrisch koaxial</b>'))\n",
    "                        TelezentrischKoaxial_fct()\n",
    "            else: ###### Fläche dunkel   \n",
    "                if r_b4 == options_qb4[0]: #Kanten hell\n",
    "                        #Dunkelfeldbeleuchtung\n",
    "                        display(widgets.HTML(value='<b>Dunkelfeldbeleuchtung</b>'))\n",
    "                        Dunkelfeldbeleuchtung_fct()\n",
    "                else: # Kanten dunkel-> existiert nicht\n",
    "                        ###### existiert nicht\n",
    "                        display(widgets.HTML(value='<b>Kein typischer Anwendungsfall</b>'))\n",
    "        else: #transparent\n",
    "            if r_b3 == options_qb3[0]: #Fläche hell\n",
    "                if r_b4 == options_qb4[0]: #Kanten hell\n",
    "                        ####### existiert nicht\n",
    "                        display(widgets.HTML(value='<b>Kein typischer Anwendungsfall</b>'))\n",
    "                else:  # Kanten dunkel\n",
    "                        #Diffuses Durchlicht\n",
    "                        display(widgets.HTML(value='<b>Diffuses Durchlicht</b>'))\n",
    "                        Durchlichtdiffus_transp_fct()\n",
    "            else: # Fläche dunkel    \n",
    "                if r_b4 == options_qb4[0]: #Kanten hell\n",
    "                        # Telezentrische Hintergrundsbeleuchtung\n",
    "                        display(widgets.HTML(value='<b>Telezentrische Hintergrundsbeleuchtung</b>'))\n",
    "                        TelezentrischHintergrund_fct()\n",
    "                else: # Kanten dunkel-> existiert nicht   \n",
    "                        ###### exisiterit nicht\n",
    "                        display(widgets.HTML(value='<b>Kein typischer Anwendungsfall</b>'))\n",
    "    display(doublebreak)\n",
    "\n",
    "                        \n",
    "def mode_qb():\n",
    "    if mode_selection.value == 'Entscheidungshilfe':\n",
    "        result_qb()\n",
    "    else:\n",
    "        clear_output(wait=True)\n",
    "        display(mode_selection)\n",
    "        show_all_light()\n",
    "        display(doublebreak)\n",
    "        \n",
    "def on_change_qb(change):\n",
    "    if change['type'] == 'change' and change['name'] == 'value':\n",
    "        result_qb()\n",
    "\n",
    "def selection_qb(change):\n",
    "    if change['type'] == 'change' and change['name'] == 'value':\n",
    "        mode_qb()        \n",
    "                \n",
    "q_b1.observe(on_change_qb)\n",
    "q_b2.observe(on_change_qb)\n",
    "q_b3.observe(on_change_qb)\n",
    "q_b4.observe(on_change_qb)\n",
    "mode_selection.observe(selection_qb)\n",
    "result_qb()\n",
    "\n",
    "# Logik zur Wertübergabe"
   ]
  },
  {
   "cell_type": "markdown",
   "metadata": {},
   "source": [
    "Sample Images and dataset based on Stemmer Imaging"
   ]
  },
  {
   "cell_type": "code",
   "execution_count": null,
   "metadata": {
    "scrolled": false
   },
   "outputs": [],
   "source": []
  },
  {
   "cell_type": "code",
   "execution_count": null,
   "metadata": {},
   "outputs": [],
   "source": []
  },
  {
   "cell_type": "code",
   "execution_count": null,
   "metadata": {},
   "outputs": [],
   "source": []
  },
  {
   "cell_type": "code",
   "execution_count": null,
   "metadata": {},
   "outputs": [],
   "source": []
  },
  {
   "cell_type": "code",
   "execution_count": null,
   "metadata": {},
   "outputs": [],
   "source": []
  },
  {
   "cell_type": "code",
   "execution_count": null,
   "metadata": {},
   "outputs": [],
   "source": []
  },
  {
   "cell_type": "code",
   "execution_count": null,
   "metadata": {},
   "outputs": [],
   "source": []
  },
  {
   "cell_type": "code",
   "execution_count": 7,
   "metadata": {},
   "outputs": [],
   "source": []
  },
  {
   "cell_type": "code",
   "execution_count": null,
   "metadata": {},
   "outputs": [],
   "source": []
  },
  {
   "cell_type": "code",
   "execution_count": null,
   "metadata": {},
   "outputs": [],
   "source": []
  },
  {
   "cell_type": "code",
   "execution_count": null,
   "metadata": {},
   "outputs": [],
   "source": []
  },
  {
   "cell_type": "code",
   "execution_count": 333,
   "metadata": {},
   "outputs": [],
   "source": []
  },
  {
   "cell_type": "code",
   "execution_count": null,
   "metadata": {},
   "outputs": [],
   "source": []
  },
  {
   "cell_type": "code",
   "execution_count": null,
   "metadata": {},
   "outputs": [],
   "source": []
  },
  {
   "cell_type": "code",
   "execution_count": null,
   "metadata": {},
   "outputs": [],
   "source": []
  },
  {
   "cell_type": "code",
   "execution_count": null,
   "metadata": {
    "scrolled": false
   },
   "outputs": [],
   "source": []
  },
  {
   "cell_type": "code",
   "execution_count": null,
   "metadata": {},
   "outputs": [],
   "source": []
  },
  {
   "cell_type": "code",
   "execution_count": 42,
   "metadata": {},
   "outputs": [],
   "source": []
  },
  {
   "cell_type": "code",
   "execution_count": null,
   "metadata": {},
   "outputs": [],
   "source": []
  },
  {
   "cell_type": "code",
   "execution_count": null,
   "metadata": {},
   "outputs": [],
   "source": []
  },
  {
   "cell_type": "code",
   "execution_count": null,
   "metadata": {},
   "outputs": [],
   "source": []
  },
  {
   "cell_type": "code",
   "execution_count": null,
   "metadata": {},
   "outputs": [],
   "source": []
  },
  {
   "cell_type": "code",
   "execution_count": null,
   "metadata": {},
   "outputs": [],
   "source": []
  },
  {
   "cell_type": "code",
   "execution_count": null,
   "metadata": {},
   "outputs": [],
   "source": []
  },
  {
   "cell_type": "code",
   "execution_count": null,
   "metadata": {},
   "outputs": [],
   "source": []
  },
  {
   "cell_type": "code",
   "execution_count": null,
   "metadata": {},
   "outputs": [],
   "source": []
  },
  {
   "cell_type": "code",
   "execution_count": null,
   "metadata": {},
   "outputs": [],
   "source": []
  },
  {
   "cell_type": "code",
   "execution_count": null,
   "metadata": {},
   "outputs": [],
   "source": []
  },
  {
   "cell_type": "code",
   "execution_count": null,
   "metadata": {},
   "outputs": [],
   "source": []
  },
  {
   "cell_type": "code",
   "execution_count": null,
   "metadata": {},
   "outputs": [],
   "source": []
  },
  {
   "cell_type": "code",
   "execution_count": null,
   "metadata": {},
   "outputs": [],
   "source": []
  }
 ],
 "metadata": {
  "kernelspec": {
   "display_name": "Python 3",
   "language": "python",
   "name": "python3"
  },
  "language_info": {
   "codemirror_mode": {
    "name": "ipython",
    "version": 3
   },
   "file_extension": ".py",
   "mimetype": "text/x-python",
   "name": "python",
   "nbconvert_exporter": "python",
   "pygments_lexer": "ipython3",
   "version": "3.6.8"
  }
 },
 "nbformat": 4,
 "nbformat_minor": 2
}
