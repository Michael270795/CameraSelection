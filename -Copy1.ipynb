{
 "cells": [
  {
   "cell_type": "code",
   "execution_count": 1,
   "metadata": {},
   "outputs": [
    {
     "data": {
      "text/html": [
       "        <script type=\"text/javascript\">\n",
       "        window.PlotlyConfig = {MathJaxConfig: 'local'};\n",
       "        if (window.MathJax) {MathJax.Hub.Config({SVG: {font: \"STIX-Web\"}});}\n",
       "        if (typeof require !== 'undefined') {\n",
       "        require.undef(\"plotly\");\n",
       "        requirejs.config({\n",
       "            paths: {\n",
       "                'plotly': ['https://cdn.plot.ly/plotly-latest.min']\n",
       "            }\n",
       "        });\n",
       "        require(['plotly'], function(Plotly) {\n",
       "            window._Plotly = Plotly;\n",
       "        });\n",
       "        }\n",
       "        </script>\n",
       "        "
      ]
     },
     "metadata": {},
     "output_type": "display_data"
    },
    {
     "data": {
      "text/html": [
       "        <script type=\"text/javascript\">\n",
       "        window.PlotlyConfig = {MathJaxConfig: 'local'};\n",
       "        if (window.MathJax) {MathJax.Hub.Config({SVG: {font: \"STIX-Web\"}});}\n",
       "        if (typeof require !== 'undefined') {\n",
       "        require.undef(\"plotly\");\n",
       "        requirejs.config({\n",
       "            paths: {\n",
       "                'plotly': ['https://cdn.plot.ly/plotly-latest.min']\n",
       "            }\n",
       "        });\n",
       "        require(['plotly'], function(Plotly) {\n",
       "            window._Plotly = Plotly;\n",
       "        });\n",
       "        }\n",
       "        </script>\n",
       "        "
      ]
     },
     "metadata": {},
     "output_type": "display_data"
    }
   ],
   "source": [
    "# Test other ipywidgets\n",
    "import ipywidgets as widgets\n",
    "# important install appmode: https://github.com/oschuett/appmode\n",
    "# http://buklijas.info/blog/2018/10/01/making-web-apps-with-jupyter-notebook/\n",
    "# install aldr for panda excel extension\n",
    "from IPython.display import clear_output\n",
    "\n",
    "\n",
    "#plotly import\n",
    "import plotly.express as px\n",
    "# import der plotly library\n",
    "import plotly as py\n",
    "from plotly.offline import iplot, init_notebook_mode\n",
    "import plotly.graph_objs as go\n",
    "import cufflinks\n",
    "#cufflinks.go_offline(connected=True)\n",
    "init_notebook_mode(connected=True)\n",
    "cufflinks.go_offline()\n",
    "# Set global theme\n",
    "cufflinks.set_config_file(world_readable=True, theme='pearl')\n",
    "# import pandas\n",
    "import pandas as pd\n",
    "# show unlimited rows and columns\n",
    "pd.options.display.max_columns = None\n",
    "pd.options.display.max_rows = None\n",
    "# increase max column length to \n",
    "pd.options.display.max_colwidth = 100\n",
    "# interact for interactive module\n",
    "from ipywidgets import interact, interact_manual, Layout\n",
    "from ipywidgets import TwoByTwoLayout, HBox, Label, VBox\n",
    "# math for xeil operation\n",
    "import math"
   ]
  },
  {
   "cell_type": "markdown",
   "metadata": {},
   "source": [
    "# Entscheidungslogik industrielle Bildverarbeitung"
   ]
  },
  {
   "cell_type": "code",
   "execution_count": null,
   "metadata": {},
   "outputs": [],
   "source": []
  },
  {
   "cell_type": "code",
   "execution_count": null,
   "metadata": {},
   "outputs": [],
   "source": []
  },
  {
   "cell_type": "markdown",
   "metadata": {},
   "source": [
    "## 1) Vorauswahl Kamera"
   ]
  },
  {
   "cell_type": "markdown",
   "metadata": {},
   "source": [
    "Bitte beantworten Sie die folgenden Fragen zur allgemeinen Charakterisierung des Anwendungsfalls:"
   ]
  },
  {
   "cell_type": "code",
   "execution_count": 2,
   "metadata": {},
   "outputs": [
    {
     "data": {
      "application/vnd.jupyter.widget-view+json": {
       "model_id": "f555337dc0564769be2b2d299340cbac",
       "version_major": 2,
       "version_minor": 0
      },
      "text/plain": [
       "HTML(value='1) Sind die zu überprüfenden Merkmale innerhalb des menschlich sichtbaren Lichtbereiches identifiz…"
      ]
     },
     "metadata": {},
     "output_type": "display_data"
    },
    {
     "data": {
      "application/vnd.jupyter.widget-view+json": {
       "model_id": "444e5482bc1a4594a060dd602d2bfaad",
       "version_major": 2,
       "version_minor": 0
      },
      "text/plain": [
       "Dropdown(description='Antwort:', options=('Ja', 'Nein, sie könnten aber anhand ihrer chemischen Zusammensetzun…"
      ]
     },
     "metadata": {},
     "output_type": "display_data"
    },
    {
     "data": {
      "application/vnd.jupyter.widget-view+json": {
       "model_id": "08b0bbc2b9324beab7f44bd49f745d02",
       "version_major": 2,
       "version_minor": 0
      },
      "text/plain": [
       "HTML(value='2) Bedarf es zur Bildanalyse Farbinformationen oder sind monochromatische Bilder (schwarz-weiß) au…"
      ]
     },
     "metadata": {},
     "output_type": "display_data"
    },
    {
     "data": {
      "application/vnd.jupyter.widget-view+json": {
       "model_id": "0b0408ab2a944ac48484c93401ff3c19",
       "version_major": 2,
       "version_minor": 0
      },
      "text/plain": [
       "Dropdown(description='Antwort:', options=('Ja, monochromatische Bilder sind ausreichend.', 'Die Aufgabe bedarf…"
      ]
     },
     "metadata": {},
     "output_type": "display_data"
    },
    {
     "data": {
      "application/vnd.jupyter.widget-view+json": {
       "model_id": "506244fbd0c04899b3c0eec704d2e42a",
       "version_major": 2,
       "version_minor": 0
      },
      "text/plain": [
       "HTML(value='3) Sollen Tiefeninformationen von 3D-Objekten erfasst werden?')"
      ]
     },
     "metadata": {},
     "output_type": "display_data"
    },
    {
     "data": {
      "application/vnd.jupyter.widget-view+json": {
       "model_id": "8903046d4e5743fb90c77225a8c0d70e",
       "version_major": 2,
       "version_minor": 0
      },
      "text/plain": [
       "Dropdown(description='Antwort:', options=('Nein', 'Ja'), value='Nein')"
      ]
     },
     "metadata": {},
     "output_type": "display_data"
    },
    {
     "data": {
      "application/vnd.jupyter.widget-view+json": {
       "model_id": "ede7365dc79d49dab8ece67c5b438e78",
       "version_major": 2,
       "version_minor": 0
      },
      "text/plain": [
       "HTML(value='4) Ist das zu überprüfenden Objekt kontinuierlicher Art (Rollenware wie z. B. Folien oder Bleche) …"
      ]
     },
     "metadata": {},
     "output_type": "display_data"
    },
    {
     "data": {
      "application/vnd.jupyter.widget-view+json": {
       "model_id": "9243f1361b554e338e9f25dbe06fb4e4",
       "version_major": 2,
       "version_minor": 0
      },
      "text/plain": [
       "Dropdown(description='Antwort:', options=('Nein', 'Ja'), value='Nein')"
      ]
     },
     "metadata": {},
     "output_type": "display_data"
    },
    {
     "data": {
      "application/vnd.jupyter.widget-view+json": {
       "model_id": "34b6f084daca41ecad4756372fd16b36",
       "version_major": 2,
       "version_minor": 0
      },
      "text/plain": [
       "HTML(value='5) Ist das zu überprüfende Objekt zylindrischer Art, und soll dessen komplette Mantelfläche überpr…"
      ]
     },
     "metadata": {},
     "output_type": "display_data"
    },
    {
     "data": {
      "application/vnd.jupyter.widget-view+json": {
       "model_id": "bbdcb7a938144e03b9999a3dad0623c0",
       "version_major": 2,
       "version_minor": 0
      },
      "text/plain": [
       "Dropdown(description='Antwort:', options=('Nein', 'Ja'), value='Nein')"
      ]
     },
     "metadata": {},
     "output_type": "display_data"
    },
    {
     "data": {
      "application/vnd.jupyter.widget-view+json": {
       "model_id": "e4cb29c4a3dc4a4fa3fd613d6989fc72",
       "version_major": 2,
       "version_minor": 0
      },
      "text/plain": [
       "HTML(value='<b>2D Verarbeitung, monochromatisch')"
      ]
     },
     "metadata": {},
     "output_type": "display_data"
    },
    {
     "data": {
      "application/vnd.jupyter.widget-view+json": {
       "model_id": "9f395bf9d3604d6182cef1af67de3cd5",
       "version_major": 2,
       "version_minor": 0
      },
      "text/plain": [
       "HTML(value='<b><br><br>')"
      ]
     },
     "metadata": {},
     "output_type": "display_data"
    }
   ],
   "source": [
    "# function image upload\n",
    "text1 = widgets.HTML(value='1) Sind die zu überprüfenden Merkmale innerhalb des menschlich sichtbaren Lichtbereiches identifizierbar?')\n",
    "text2 = widgets.HTML(value='2) Bedarf es zur Bildanalyse Farbinformationen oder sind monochromatische Bilder (schwarz-weiß) ausreichend?')\n",
    "text3 = widgets.HTML(value='3) Sollen Tiefeninformationen von 3D-Objekten erfasst werden?')\n",
    "text4 = widgets.HTML(value='4) Ist das zu überprüfenden Objekt kontinuierlicher Art (Rollenware wie z. B. Folien oder Bleche) und wird mit hoher Geschwindigkeit im Sichtfeld der Kamera bewegt?')\n",
    "text5 = widgets.HTML(value='5) Ist das zu überprüfende Objekt zylindrischer Art, und soll dessen komplette Mantelfläche überprüft werden (z.B. Etikett auf einer Flasche)?')\n",
    "doublebreak = widgets.HTML(value='<b><br><br>')\n",
    "\n",
    "options_q1=['Ja', 'Nein, sie könnten aber anhand ihrer chemischen Zusammensetzung differenziert werden.', 'Nein, die zu auflösende Detailgröße ist kleiner als 500nm.'] \n",
    "options_q2=['Ja, monochromatische Bilder sind ausreichend.', 'Die Aufgabe bedarf spezifischer Farbinformationen (d.h. relevante Farbmerkmale können nicht aus Grauwerten gewonnen werden).']\n",
    "options_q3=['Nein','Ja']\n",
    "\n",
    "colour = 'Monochrome' # important: referenced in other code samples\n",
    "\n",
    "q1 = widgets.Dropdown(\n",
    "    options= options_q1,\n",
    "    value=options_q1[0],\n",
    "    description='Antwort:',\n",
    "    disabled=False,\n",
    ")\n",
    "q2 = widgets.Dropdown(\n",
    "    options= options_q2,\n",
    "    value=options_q2[0],\n",
    "    description='Antwort:',\n",
    "    disabled=False,\n",
    ")\n",
    "q3 = widgets.Dropdown(\n",
    "    options= options_q3,\n",
    "    value=options_q3[0],\n",
    "    description='Antwort:',\n",
    "    disabled=False,\n",
    ")\n",
    "q4 = widgets.Dropdown(\n",
    "    options= options_q3,\n",
    "    value=options_q3[0],\n",
    "    description='Antwort:',\n",
    "    disabled=False,\n",
    ")\n",
    "q5 = widgets.Dropdown(\n",
    "    options= options_q3,\n",
    "    value=options_q3[0],\n",
    "    description='Antwort:',\n",
    "    disabled=False,\n",
    ")\n",
    "# decision logic\n",
    "def result():\n",
    "    global colour\n",
    "    r1 = q1.value\n",
    "    r2 = q2.value\n",
    "    r3 = q3.value\n",
    "    r4 = q4.value\n",
    "    r5 = q5.value\n",
    "       \n",
    "    if r3 == options_q3[1]: #3D\n",
    "        results = widgets.HTML(value='<b>3D Verarbeitung')\n",
    "    else:\n",
    "        if (r4 == options_q3[0] and r5 == options_q3[0]): #2D\n",
    "            #results = widgets.HTML(value='2D Verarbeitung')\n",
    "            if r1 == options_q1[0]: # human visible\n",
    "                if r2 == options_q2[0]: # mono\n",
    "                    results = widgets.HTML(value='<b>2D Verarbeitung, monochromatisch')\n",
    "                    colour = 'Monochrome'\n",
    "                else:\n",
    "                    results = widgets.HTML(value='<b>2D Verarbeitung, farbig')\n",
    "                    colour = 'Colour'\n",
    "            if r1 == options_q1[1]: # IR\n",
    "                results = widgets.HTML(value='<b>2D Verarbeitung, hyperspektral')\n",
    "            if r1 == options_q1[2]: # UV\n",
    "                results = widgets.HTML(value='<b>2D Verarbeitung, UV')\n",
    "        else: # 1D    \n",
    "            #results = widgets.HTML(value='1D Verarbeitung')\n",
    "            if r1 == options_q1[0]: # human visible\n",
    "                if r2 == options_q2[0]: # mono\n",
    "                    results = widgets.HTML(value='<b>1D Verarbeitung, monochromatisch')\n",
    "                    colour = 'Monochrome'\n",
    "                else:\n",
    "                    results = widgets.HTML(value='<b>1D Verarbeitung, farbig')\n",
    "                    colour = 'Colour'\n",
    "            if r1 == options_q1[1]: # IR\n",
    "                results = widgets.HTML(value='<b>1D Verarbeitung, hyperspektral')\n",
    "            if r1 == options_q1[2]: # UV\n",
    "                results = widgets.HTML(value='<b>1D Verarbeitung, UV')\n",
    "    #    \n",
    "    clear_output(wait=True)\n",
    "    display(text1, q1, text2, q2, text3, q3, text4, q4, text5, q5, results, doublebreak)\n",
    "           \n",
    "\n",
    "def on_change(change):\n",
    "    if change['type'] == 'change' and change['name'] == 'value':\n",
    "        result()\n",
    "\n",
    "\n",
    "#display(text1,q1,text2,q2,text3,q3,text4,q4,text5,q5)        \n",
    "\n",
    "#r1 = q1.value\n",
    "#r2 = q2.value\n",
    "#r3 = q3.value\n",
    "#r4 = q4.value\n",
    "#r5 = q5.value\n",
    "\n",
    "q1.observe(on_change)\n",
    "q2.observe(on_change)\n",
    "q3.observe(on_change)\n",
    "q4.observe(on_change)\n",
    "q5.observe(on_change)\n",
    "\n",
    "result()"
   ]
  },
  {
   "cell_type": "code",
   "execution_count": 3,
   "metadata": {},
   "outputs": [],
   "source": [
    "# toDO: standardisiere Antwortmöglichkeiten?, Matrixdarstelung des Lösungsraums"
   ]
  },
  {
   "cell_type": "code",
   "execution_count": null,
   "metadata": {},
   "outputs": [],
   "source": []
  },
  {
   "cell_type": "code",
   "execution_count": null,
   "metadata": {},
   "outputs": [],
   "source": []
  },
  {
   "cell_type": "code",
   "execution_count": null,
   "metadata": {},
   "outputs": [],
   "source": []
  },
  {
   "cell_type": "code",
   "execution_count": null,
   "metadata": {},
   "outputs": [],
   "source": []
  },
  {
   "cell_type": "code",
   "execution_count": null,
   "metadata": {},
   "outputs": [],
   "source": []
  },
  {
   "cell_type": "code",
   "execution_count": null,
   "metadata": {},
   "outputs": [],
   "source": []
  },
  {
   "cell_type": "markdown",
   "metadata": {},
   "source": [
    "## 2) Auswahl Kameramodell"
   ]
  },
  {
   "cell_type": "code",
   "execution_count": 3,
   "metadata": {},
   "outputs": [],
   "source": [
    "cameras = pd.read_excel('Data/cameras.xls')\n",
    "cameras['Objektivanschluss'] = cameras['Objektivanschluss'].astype('str') "
   ]
  },
  {
   "cell_type": "code",
   "execution_count": null,
   "metadata": {},
   "outputs": [],
   "source": []
  },
  {
   "cell_type": "code",
   "execution_count": 5,
   "metadata": {},
   "outputs": [],
   "source": [
    "# toDo: weitere Präferenzoptionen einblenden (SNR, Hersteller, Gehäusetyp),"
   ]
  },
  {
   "cell_type": "code",
   "execution_count": 38,
   "metadata": {
    "scrolled": false
   },
   "outputs": [
    {
     "data": {
      "application/vnd.jupyter.widget-view+json": {
       "model_id": "b7875f9dc85c4cbfa5a26460313d6b12",
       "version_major": 2,
       "version_minor": 0
      },
      "text/plain": [
       "HTML(value='<b>A) Spezifikation Anwendungsfall____________________________________________ </b>')"
      ]
     },
     "metadata": {},
     "output_type": "display_data"
    },
    {
     "data": {
      "application/vnd.jupyter.widget-view+json": {
       "model_id": "5e7ceffe4f3b42de85ab5eaa032a8e2b",
       "version_major": 2,
       "version_minor": 0
      },
      "text/plain": [
       "HTML(value='1) Wie groß ist das benötigte Sichtfeld in x-Richtung? (Objekt inkl. evtll. Randbereich)')"
      ]
     },
     "metadata": {},
     "output_type": "display_data"
    },
    {
     "data": {
      "application/vnd.jupyter.widget-view+json": {
       "model_id": "338134b07af345eca634931391014c00",
       "version_major": 2,
       "version_minor": 0
      },
      "text/plain": [
       "BoundedFloatText(value=20.0, description='x-Wert [cm]', max=2000.0, min=0.1, step=1.0)"
      ]
     },
     "metadata": {},
     "output_type": "display_data"
    },
    {
     "data": {
      "application/vnd.jupyter.widget-view+json": {
       "model_id": "3cce40c9a9104e28bac1f561c5cd4da5",
       "version_major": 2,
       "version_minor": 0
      },
      "text/plain": [
       "HTML(value='2) Wie groß ist das benötigte Sichtfeld in y-Richtung?')"
      ]
     },
     "metadata": {},
     "output_type": "display_data"
    },
    {
     "data": {
      "application/vnd.jupyter.widget-view+json": {
       "model_id": "d31b66f2b4704d799f318631a17eb22e",
       "version_major": 2,
       "version_minor": 0
      },
      "text/plain": [
       "BoundedFloatText(value=20.0, description='y-Wert [cm]', max=1000.0, min=0.01, step=1.0)"
      ]
     },
     "metadata": {},
     "output_type": "display_data"
    },
    {
     "data": {
      "application/vnd.jupyter.widget-view+json": {
       "model_id": "c760df2ac24b463aa87026568a82352a",
       "version_major": 2,
       "version_minor": 0
      },
      "text/plain": [
       "HTML(value='3) Wie groß ist das kleinste aufzulösende Detail des Objektes?')"
      ]
     },
     "metadata": {},
     "output_type": "display_data"
    },
    {
     "data": {
      "application/vnd.jupyter.widget-view+json": {
       "model_id": "8875434c3d814337803ed2619a6038c5",
       "version_major": 2,
       "version_minor": 0
      },
      "text/plain": [
       "BoundedFloatText(value=0.1, description='Details [mm]', max=10.0, min=0.01, step=0.01)"
      ]
     },
     "metadata": {},
     "output_type": "display_data"
    },
    {
     "data": {
      "application/vnd.jupyter.widget-view+json": {
       "model_id": "38b6ea8ad196430f86bcd5e39a3b8e9b",
       "version_major": 2,
       "version_minor": 0
      },
      "text/plain": [
       "HTML(value='4) Wie viele Bilder müssen maximal pro Sekunde gemacht werden?')"
      ]
     },
     "metadata": {},
     "output_type": "display_data"
    },
    {
     "data": {
      "application/vnd.jupyter.widget-view+json": {
       "model_id": "e6a10be3c30145de92be2d076179e889",
       "version_major": 2,
       "version_minor": 0
      },
      "text/plain": [
       "BoundedFloatText(value=30.0, description='Wert [1/s]', max=5000.0, min=0.01, step=0.01)"
      ]
     },
     "metadata": {},
     "output_type": "display_data"
    },
    {
     "data": {
      "application/vnd.jupyter.widget-view+json": {
       "model_id": "6f7832ebf4d348a683713683b3906cd5",
       "version_major": 2,
       "version_minor": 0
      },
      "text/plain": [
       "HTML(value='5) Bewegt sich das Objekt kontinuierlich fort (Fließmontage)? Falls ja, mit welcher Geschwindigkei…"
      ]
     },
     "metadata": {},
     "output_type": "display_data"
    },
    {
     "data": {
      "application/vnd.jupyter.widget-view+json": {
       "model_id": "848b43eb48054a07a704068d5b45c66d",
       "version_major": 2,
       "version_minor": 0
      },
      "text/plain": [
       "BoundedFloatText(value=20.0, description='Wert [cm/s]', disabled=True, max=5000.0, min=0.1, step=0.01)"
      ]
     },
     "metadata": {},
     "output_type": "display_data"
    },
    {
     "data": {
      "application/vnd.jupyter.widget-view+json": {
       "model_id": "b6bd6b01bc3b49509796eefab8879585",
       "version_major": 2,
       "version_minor": 0
      },
      "text/plain": [
       "Checkbox(value=False, description='Kontinuierliche Bewegung')"
      ]
     },
     "metadata": {},
     "output_type": "display_data"
    },
    {
     "data": {
      "application/vnd.jupyter.widget-view+json": {
       "model_id": "2f40245d1a194c45a15a127e26951b47",
       "version_major": 2,
       "version_minor": 0
      },
      "text/plain": [
       "HTML(value='6) Bitte wählen Sie die zutreffendste Beschreibung der Lichtverhältnisse der Prüfszene:')"
      ]
     },
     "metadata": {},
     "output_type": "display_data"
    },
    {
     "data": {
      "application/vnd.jupyter.widget-view+json": {
       "model_id": "2f54f18b33d84d2f9258b4013fa24498",
       "version_major": 2,
       "version_minor": 0
      },
      "text/plain": [
       "ToggleButtons(description='Kontrast:', index=1, options=('Wenig Licht', 'Normal', 'Hoher Kontrast (HDR) nötig'…"
      ]
     },
     "metadata": {},
     "output_type": "display_data"
    },
    {
     "data": {
      "application/vnd.jupyter.widget-view+json": {
       "model_id": "93e0b6ebbd3f4feeb5cc0997ec39990a",
       "version_major": 2,
       "version_minor": 0
      },
      "text/plain": [
       "HTML(value='<b><br>B) Übersicht geeigneter Kameras & Detailspezifikation________________________________</b>')"
      ]
     },
     "metadata": {},
     "output_type": "display_data"
    },
    {
     "data": {
      "application/vnd.jupyter.widget-view+json": {
       "model_id": "d4ce2489a5b4419ab58127ae3f12903a",
       "version_major": 2,
       "version_minor": 0
      },
      "text/plain": [
       "HTML(value='<b>Mindestanforderungen:</b> Horizontale Auflösung: 4000 px, Vertikale Auflösung: 4000 px, Auflösu…"
      ]
     },
     "metadata": {},
     "output_type": "display_data"
    },
    {
     "data": {
      "application/vnd.plotly.v1+json": {
       "config": {
        "plotlyServerURL": "https://plot.ly"
       },
       "data": [
        {
         "customdata": [
          [
           7490
          ],
          [
           7790
          ],
          [
           7440
          ],
          [
           7420
          ],
          [
           7420
          ],
          [
           9840
          ],
          [
           4230
          ],
          [
           5900
          ],
          [
           8350
          ],
          [
           9880
          ],
          [
           9860
          ],
          [
           15960
          ]
         ],
         "hoverlabel": {
          "namelength": 0
         },
         "hovertemplate": "<b>%{hovertext}</b><br><br>Auflösung=%{x}<br>Bildfrequenz (Hz)=%{y}<br>Pixelgröße (µm)=%{marker.size}<br>Listenpreis [€]=%{marker.color}",
         "hovertext": [
          "AV BONITO PRO X-2620B",
          "AV BONITO PRO X-2620B NIR",
          "DALSA GENIE NANO-CXP-M5100",
          "OPTRONIS CP80-25-M-72",
          "OPTRONIS CP90-25-M-72",
          "OPTRONIS CP90-25P-M-72",
          "DALSA GENIE NANO-CL M4090",
          "DALSA GENIE NANO-CL M5100",
          "VIEWORKS VC-25MC-M30D0-FM",
          "VIEWORKS VC-25MX-M72D0-DIN-FM",
          "VIEWORKS VC-25MX-M81D0-DIN-FM",
          "VIEWORKS VC-50MX-M30E0-DIN-FM"
         ],
         "legendgroup": "",
         "marker": {
          "color": [
           7490,
           7790,
           7440,
           7420,
           7420,
           9840,
           4230,
           5900,
           8350,
           9880,
           9860,
           15960
          ],
          "coloraxis": "coloraxis",
          "size": [
           4.5,
           4.5,
           4.5,
           4.5,
           4.5,
           4.5,
           4.5,
           4.5,
           4.5,
           4.5,
           4.5,
           4.6
          ],
          "sizemode": "area",
          "sizeref": 0.0115,
          "symbol": "circle"
         },
         "mode": "markers",
         "name": "",
         "showlegend": false,
         "type": "scatter",
         "x": [
          26.2,
          26.2,
          26.2,
          26.2,
          26.2,
          26.2,
          16.8,
          26.1,
          26.2,
          26.2,
          26.2,
          47.6
         ],
         "xaxis": "x",
         "y": [
          80,
          80,
          80,
          72,
          72,
          72,
          45,
          32,
          30.8,
          72,
          81,
          30
         ],
         "yaxis": "y"
        }
       ],
       "layout": {
        "coloraxis": {
         "colorbar": {
          "title": {
           "text": "Listenpreis [€]"
          }
         },
         "colorscale": [
          [
           0,
           "green"
          ],
          [
           0.1,
           "yellow"
          ],
          [
           1,
           "red"
          ]
         ]
        },
        "legend": {
         "itemsizing": "constant",
         "tracegroupgap": 0
        },
        "margin": {
         "t": 60
        },
        "template": {
         "data": {
          "bar": [
           {
            "error_x": {
             "color": "#2a3f5f"
            },
            "error_y": {
             "color": "#2a3f5f"
            },
            "marker": {
             "line": {
              "color": "#E5ECF6",
              "width": 0.5
             }
            },
            "type": "bar"
           }
          ],
          "barpolar": [
           {
            "marker": {
             "line": {
              "color": "#E5ECF6",
              "width": 0.5
             }
            },
            "type": "barpolar"
           }
          ],
          "carpet": [
           {
            "aaxis": {
             "endlinecolor": "#2a3f5f",
             "gridcolor": "white",
             "linecolor": "white",
             "minorgridcolor": "white",
             "startlinecolor": "#2a3f5f"
            },
            "baxis": {
             "endlinecolor": "#2a3f5f",
             "gridcolor": "white",
             "linecolor": "white",
             "minorgridcolor": "white",
             "startlinecolor": "#2a3f5f"
            },
            "type": "carpet"
           }
          ],
          "choropleth": [
           {
            "colorbar": {
             "outlinewidth": 0,
             "ticks": ""
            },
            "type": "choropleth"
           }
          ],
          "contour": [
           {
            "colorbar": {
             "outlinewidth": 0,
             "ticks": ""
            },
            "colorscale": [
             [
              0,
              "#0d0887"
             ],
             [
              0.1111111111111111,
              "#46039f"
             ],
             [
              0.2222222222222222,
              "#7201a8"
             ],
             [
              0.3333333333333333,
              "#9c179e"
             ],
             [
              0.4444444444444444,
              "#bd3786"
             ],
             [
              0.5555555555555556,
              "#d8576b"
             ],
             [
              0.6666666666666666,
              "#ed7953"
             ],
             [
              0.7777777777777778,
              "#fb9f3a"
             ],
             [
              0.8888888888888888,
              "#fdca26"
             ],
             [
              1,
              "#f0f921"
             ]
            ],
            "type": "contour"
           }
          ],
          "contourcarpet": [
           {
            "colorbar": {
             "outlinewidth": 0,
             "ticks": ""
            },
            "type": "contourcarpet"
           }
          ],
          "heatmap": [
           {
            "colorbar": {
             "outlinewidth": 0,
             "ticks": ""
            },
            "colorscale": [
             [
              0,
              "#0d0887"
             ],
             [
              0.1111111111111111,
              "#46039f"
             ],
             [
              0.2222222222222222,
              "#7201a8"
             ],
             [
              0.3333333333333333,
              "#9c179e"
             ],
             [
              0.4444444444444444,
              "#bd3786"
             ],
             [
              0.5555555555555556,
              "#d8576b"
             ],
             [
              0.6666666666666666,
              "#ed7953"
             ],
             [
              0.7777777777777778,
              "#fb9f3a"
             ],
             [
              0.8888888888888888,
              "#fdca26"
             ],
             [
              1,
              "#f0f921"
             ]
            ],
            "type": "heatmap"
           }
          ],
          "heatmapgl": [
           {
            "colorbar": {
             "outlinewidth": 0,
             "ticks": ""
            },
            "colorscale": [
             [
              0,
              "#0d0887"
             ],
             [
              0.1111111111111111,
              "#46039f"
             ],
             [
              0.2222222222222222,
              "#7201a8"
             ],
             [
              0.3333333333333333,
              "#9c179e"
             ],
             [
              0.4444444444444444,
              "#bd3786"
             ],
             [
              0.5555555555555556,
              "#d8576b"
             ],
             [
              0.6666666666666666,
              "#ed7953"
             ],
             [
              0.7777777777777778,
              "#fb9f3a"
             ],
             [
              0.8888888888888888,
              "#fdca26"
             ],
             [
              1,
              "#f0f921"
             ]
            ],
            "type": "heatmapgl"
           }
          ],
          "histogram": [
           {
            "marker": {
             "colorbar": {
              "outlinewidth": 0,
              "ticks": ""
             }
            },
            "type": "histogram"
           }
          ],
          "histogram2d": [
           {
            "colorbar": {
             "outlinewidth": 0,
             "ticks": ""
            },
            "colorscale": [
             [
              0,
              "#0d0887"
             ],
             [
              0.1111111111111111,
              "#46039f"
             ],
             [
              0.2222222222222222,
              "#7201a8"
             ],
             [
              0.3333333333333333,
              "#9c179e"
             ],
             [
              0.4444444444444444,
              "#bd3786"
             ],
             [
              0.5555555555555556,
              "#d8576b"
             ],
             [
              0.6666666666666666,
              "#ed7953"
             ],
             [
              0.7777777777777778,
              "#fb9f3a"
             ],
             [
              0.8888888888888888,
              "#fdca26"
             ],
             [
              1,
              "#f0f921"
             ]
            ],
            "type": "histogram2d"
           }
          ],
          "histogram2dcontour": [
           {
            "colorbar": {
             "outlinewidth": 0,
             "ticks": ""
            },
            "colorscale": [
             [
              0,
              "#0d0887"
             ],
             [
              0.1111111111111111,
              "#46039f"
             ],
             [
              0.2222222222222222,
              "#7201a8"
             ],
             [
              0.3333333333333333,
              "#9c179e"
             ],
             [
              0.4444444444444444,
              "#bd3786"
             ],
             [
              0.5555555555555556,
              "#d8576b"
             ],
             [
              0.6666666666666666,
              "#ed7953"
             ],
             [
              0.7777777777777778,
              "#fb9f3a"
             ],
             [
              0.8888888888888888,
              "#fdca26"
             ],
             [
              1,
              "#f0f921"
             ]
            ],
            "type": "histogram2dcontour"
           }
          ],
          "mesh3d": [
           {
            "colorbar": {
             "outlinewidth": 0,
             "ticks": ""
            },
            "type": "mesh3d"
           }
          ],
          "parcoords": [
           {
            "line": {
             "colorbar": {
              "outlinewidth": 0,
              "ticks": ""
             }
            },
            "type": "parcoords"
           }
          ],
          "pie": [
           {
            "automargin": true,
            "type": "pie"
           }
          ],
          "scatter": [
           {
            "marker": {
             "colorbar": {
              "outlinewidth": 0,
              "ticks": ""
             }
            },
            "type": "scatter"
           }
          ],
          "scatter3d": [
           {
            "line": {
             "colorbar": {
              "outlinewidth": 0,
              "ticks": ""
             }
            },
            "marker": {
             "colorbar": {
              "outlinewidth": 0,
              "ticks": ""
             }
            },
            "type": "scatter3d"
           }
          ],
          "scattercarpet": [
           {
            "marker": {
             "colorbar": {
              "outlinewidth": 0,
              "ticks": ""
             }
            },
            "type": "scattercarpet"
           }
          ],
          "scattergeo": [
           {
            "marker": {
             "colorbar": {
              "outlinewidth": 0,
              "ticks": ""
             }
            },
            "type": "scattergeo"
           }
          ],
          "scattergl": [
           {
            "marker": {
             "colorbar": {
              "outlinewidth": 0,
              "ticks": ""
             }
            },
            "type": "scattergl"
           }
          ],
          "scattermapbox": [
           {
            "marker": {
             "colorbar": {
              "outlinewidth": 0,
              "ticks": ""
             }
            },
            "type": "scattermapbox"
           }
          ],
          "scatterpolar": [
           {
            "marker": {
             "colorbar": {
              "outlinewidth": 0,
              "ticks": ""
             }
            },
            "type": "scatterpolar"
           }
          ],
          "scatterpolargl": [
           {
            "marker": {
             "colorbar": {
              "outlinewidth": 0,
              "ticks": ""
             }
            },
            "type": "scatterpolargl"
           }
          ],
          "scatterternary": [
           {
            "marker": {
             "colorbar": {
              "outlinewidth": 0,
              "ticks": ""
             }
            },
            "type": "scatterternary"
           }
          ],
          "surface": [
           {
            "colorbar": {
             "outlinewidth": 0,
             "ticks": ""
            },
            "colorscale": [
             [
              0,
              "#0d0887"
             ],
             [
              0.1111111111111111,
              "#46039f"
             ],
             [
              0.2222222222222222,
              "#7201a8"
             ],
             [
              0.3333333333333333,
              "#9c179e"
             ],
             [
              0.4444444444444444,
              "#bd3786"
             ],
             [
              0.5555555555555556,
              "#d8576b"
             ],
             [
              0.6666666666666666,
              "#ed7953"
             ],
             [
              0.7777777777777778,
              "#fb9f3a"
             ],
             [
              0.8888888888888888,
              "#fdca26"
             ],
             [
              1,
              "#f0f921"
             ]
            ],
            "type": "surface"
           }
          ],
          "table": [
           {
            "cells": {
             "fill": {
              "color": "#EBF0F8"
             },
             "line": {
              "color": "white"
             }
            },
            "header": {
             "fill": {
              "color": "#C8D4E3"
             },
             "line": {
              "color": "white"
             }
            },
            "type": "table"
           }
          ]
         },
         "layout": {
          "annotationdefaults": {
           "arrowcolor": "#2a3f5f",
           "arrowhead": 0,
           "arrowwidth": 1
          },
          "coloraxis": {
           "colorbar": {
            "outlinewidth": 0,
            "ticks": ""
           }
          },
          "colorscale": {
           "diverging": [
            [
             0,
             "#8e0152"
            ],
            [
             0.1,
             "#c51b7d"
            ],
            [
             0.2,
             "#de77ae"
            ],
            [
             0.3,
             "#f1b6da"
            ],
            [
             0.4,
             "#fde0ef"
            ],
            [
             0.5,
             "#f7f7f7"
            ],
            [
             0.6,
             "#e6f5d0"
            ],
            [
             0.7,
             "#b8e186"
            ],
            [
             0.8,
             "#7fbc41"
            ],
            [
             0.9,
             "#4d9221"
            ],
            [
             1,
             "#276419"
            ]
           ],
           "sequential": [
            [
             0,
             "#0d0887"
            ],
            [
             0.1111111111111111,
             "#46039f"
            ],
            [
             0.2222222222222222,
             "#7201a8"
            ],
            [
             0.3333333333333333,
             "#9c179e"
            ],
            [
             0.4444444444444444,
             "#bd3786"
            ],
            [
             0.5555555555555556,
             "#d8576b"
            ],
            [
             0.6666666666666666,
             "#ed7953"
            ],
            [
             0.7777777777777778,
             "#fb9f3a"
            ],
            [
             0.8888888888888888,
             "#fdca26"
            ],
            [
             1,
             "#f0f921"
            ]
           ],
           "sequentialminus": [
            [
             0,
             "#0d0887"
            ],
            [
             0.1111111111111111,
             "#46039f"
            ],
            [
             0.2222222222222222,
             "#7201a8"
            ],
            [
             0.3333333333333333,
             "#9c179e"
            ],
            [
             0.4444444444444444,
             "#bd3786"
            ],
            [
             0.5555555555555556,
             "#d8576b"
            ],
            [
             0.6666666666666666,
             "#ed7953"
            ],
            [
             0.7777777777777778,
             "#fb9f3a"
            ],
            [
             0.8888888888888888,
             "#fdca26"
            ],
            [
             1,
             "#f0f921"
            ]
           ]
          },
          "colorway": [
           "#636efa",
           "#EF553B",
           "#00cc96",
           "#ab63fa",
           "#FFA15A",
           "#19d3f3",
           "#FF6692",
           "#B6E880",
           "#FF97FF",
           "#FECB52"
          ],
          "font": {
           "color": "#2a3f5f"
          },
          "geo": {
           "bgcolor": "white",
           "lakecolor": "white",
           "landcolor": "#E5ECF6",
           "showlakes": true,
           "showland": true,
           "subunitcolor": "white"
          },
          "hoverlabel": {
           "align": "left"
          },
          "hovermode": "closest",
          "mapbox": {
           "style": "light"
          },
          "paper_bgcolor": "white",
          "plot_bgcolor": "#E5ECF6",
          "polar": {
           "angularaxis": {
            "gridcolor": "white",
            "linecolor": "white",
            "ticks": ""
           },
           "bgcolor": "#E5ECF6",
           "radialaxis": {
            "gridcolor": "white",
            "linecolor": "white",
            "ticks": ""
           }
          },
          "scene": {
           "xaxis": {
            "backgroundcolor": "#E5ECF6",
            "gridcolor": "white",
            "gridwidth": 2,
            "linecolor": "white",
            "showbackground": true,
            "ticks": "",
            "zerolinecolor": "white"
           },
           "yaxis": {
            "backgroundcolor": "#E5ECF6",
            "gridcolor": "white",
            "gridwidth": 2,
            "linecolor": "white",
            "showbackground": true,
            "ticks": "",
            "zerolinecolor": "white"
           },
           "zaxis": {
            "backgroundcolor": "#E5ECF6",
            "gridcolor": "white",
            "gridwidth": 2,
            "linecolor": "white",
            "showbackground": true,
            "ticks": "",
            "zerolinecolor": "white"
           }
          },
          "shapedefaults": {
           "line": {
            "color": "#2a3f5f"
           }
          },
          "ternary": {
           "aaxis": {
            "gridcolor": "white",
            "linecolor": "white",
            "ticks": ""
           },
           "baxis": {
            "gridcolor": "white",
            "linecolor": "white",
            "ticks": ""
           },
           "bgcolor": "#E5ECF6",
           "caxis": {
            "gridcolor": "white",
            "linecolor": "white",
            "ticks": ""
           }
          },
          "title": {
           "x": 0.05
          },
          "xaxis": {
           "automargin": true,
           "gridcolor": "white",
           "linecolor": "white",
           "ticks": "",
           "title": {
            "standoff": 15
           },
           "zerolinecolor": "white",
           "zerolinewidth": 2
          },
          "yaxis": {
           "automargin": true,
           "gridcolor": "white",
           "linecolor": "white",
           "ticks": "",
           "title": {
            "standoff": 15
           },
           "zerolinecolor": "white",
           "zerolinewidth": 2
          }
         }
        },
        "xaxis": {
         "anchor": "y",
         "domain": [
          0,
          1
         ],
         "title": {
          "text": "Auflösung"
         },
         "type": "log"
        },
        "yaxis": {
         "anchor": "x",
         "domain": [
          0,
          1
         ],
         "title": {
          "text": "Bildfrequenz (Hz)"
         },
         "type": "log"
        }
       }
      },
      "text/html": [
       "<div>\n",
       "        \n",
       "        \n",
       "            <div id=\"b09819ce-1a7d-46a8-bb48-73318fc028e8\" class=\"plotly-graph-div\" style=\"height:525px; width:100%;\"></div>\n",
       "            <script type=\"text/javascript\">\n",
       "                require([\"plotly\"], function(Plotly) {\n",
       "                    window.PLOTLYENV=window.PLOTLYENV || {};\n",
       "                    \n",
       "                if (document.getElementById(\"b09819ce-1a7d-46a8-bb48-73318fc028e8\")) {\n",
       "                    Plotly.newPlot(\n",
       "                        'b09819ce-1a7d-46a8-bb48-73318fc028e8',\n",
       "                        [{\"customdata\": [[7490.0], [7790.0], [7440.0], [7420.0], [7420.0], [9840.0], [4230.0], [5900.0], [8350.0], [9880.0], [9860.0], [15960.0]], \"hoverlabel\": {\"namelength\": 0}, \"hovertemplate\": \"<b>%{hovertext}</b><br><br>Aufl\\u00f6sung=%{x}<br>Bildfrequenz (Hz)=%{y}<br>Pixelgr\\u00f6\\u00dfe (\\u00b5m)=%{marker.size}<br>Listenpreis [\\u20ac]=%{marker.color}\", \"hovertext\": [\"AV BONITO PRO X-2620B\", \"AV BONITO PRO X-2620B NIR\", \"DALSA GENIE NANO-CXP-M5100\", \"OPTRONIS CP80-25-M-72\", \"OPTRONIS CP90-25-M-72\", \"OPTRONIS CP90-25P-M-72\", \"DALSA GENIE NANO-CL M4090\", \"DALSA GENIE NANO-CL M5100\", \"VIEWORKS VC-25MC-M30D0-FM\", \"VIEWORKS VC-25MX-M72D0-DIN-FM\", \"VIEWORKS VC-25MX-M81D0-DIN-FM\", \"VIEWORKS VC-50MX-M30E0-DIN-FM\"], \"legendgroup\": \"\", \"marker\": {\"color\": [7490.0, 7790.0, 7440.0, 7420.0, 7420.0, 9840.0, 4230.0, 5900.0, 8350.0, 9880.0, 9860.0, 15960.0], \"coloraxis\": \"coloraxis\", \"size\": [4.5, 4.5, 4.5, 4.5, 4.5, 4.5, 4.5, 4.5, 4.5, 4.5, 4.5, 4.6], \"sizemode\": \"area\", \"sizeref\": 0.0115, \"symbol\": \"circle\"}, \"mode\": \"markers\", \"name\": \"\", \"showlegend\": false, \"type\": \"scatter\", \"x\": [26.2, 26.2, 26.2, 26.2, 26.2, 26.2, 16.8, 26.1, 26.2, 26.2, 26.2, 47.6], \"xaxis\": \"x\", \"y\": [80.0, 80.0, 80.0, 72.0, 72.0, 72.0, 45.0, 32.0, 30.8, 72.0, 81.0, 30.0], \"yaxis\": \"y\"}],\n",
       "                        {\"coloraxis\": {\"colorbar\": {\"title\": {\"text\": \"Listenpreis [\\u20ac]\"}}, \"colorscale\": [[0, \"green\"], [0.1, \"yellow\"], [1, \"red\"]]}, \"legend\": {\"itemsizing\": \"constant\", \"tracegroupgap\": 0}, \"margin\": {\"t\": 60}, \"template\": {\"data\": {\"bar\": [{\"error_x\": {\"color\": \"#2a3f5f\"}, \"error_y\": {\"color\": \"#2a3f5f\"}, \"marker\": {\"line\": {\"color\": \"#E5ECF6\", \"width\": 0.5}}, \"type\": \"bar\"}], \"barpolar\": [{\"marker\": {\"line\": {\"color\": \"#E5ECF6\", \"width\": 0.5}}, \"type\": \"barpolar\"}], \"carpet\": [{\"aaxis\": {\"endlinecolor\": \"#2a3f5f\", \"gridcolor\": \"white\", \"linecolor\": \"white\", \"minorgridcolor\": \"white\", \"startlinecolor\": \"#2a3f5f\"}, \"baxis\": {\"endlinecolor\": \"#2a3f5f\", \"gridcolor\": \"white\", \"linecolor\": \"white\", \"minorgridcolor\": \"white\", \"startlinecolor\": \"#2a3f5f\"}, \"type\": \"carpet\"}], \"choropleth\": [{\"colorbar\": {\"outlinewidth\": 0, \"ticks\": \"\"}, \"type\": \"choropleth\"}], \"contour\": [{\"colorbar\": {\"outlinewidth\": 0, \"ticks\": \"\"}, \"colorscale\": [[0.0, \"#0d0887\"], [0.1111111111111111, \"#46039f\"], [0.2222222222222222, \"#7201a8\"], [0.3333333333333333, \"#9c179e\"], [0.4444444444444444, \"#bd3786\"], [0.5555555555555556, \"#d8576b\"], [0.6666666666666666, \"#ed7953\"], [0.7777777777777778, \"#fb9f3a\"], [0.8888888888888888, \"#fdca26\"], [1.0, \"#f0f921\"]], \"type\": \"contour\"}], \"contourcarpet\": [{\"colorbar\": {\"outlinewidth\": 0, \"ticks\": \"\"}, \"type\": \"contourcarpet\"}], \"heatmap\": [{\"colorbar\": {\"outlinewidth\": 0, \"ticks\": \"\"}, \"colorscale\": [[0.0, \"#0d0887\"], [0.1111111111111111, \"#46039f\"], [0.2222222222222222, \"#7201a8\"], [0.3333333333333333, \"#9c179e\"], [0.4444444444444444, \"#bd3786\"], [0.5555555555555556, \"#d8576b\"], [0.6666666666666666, \"#ed7953\"], [0.7777777777777778, \"#fb9f3a\"], [0.8888888888888888, \"#fdca26\"], [1.0, \"#f0f921\"]], \"type\": \"heatmap\"}], \"heatmapgl\": [{\"colorbar\": {\"outlinewidth\": 0, \"ticks\": \"\"}, \"colorscale\": [[0.0, \"#0d0887\"], [0.1111111111111111, \"#46039f\"], [0.2222222222222222, \"#7201a8\"], [0.3333333333333333, \"#9c179e\"], [0.4444444444444444, \"#bd3786\"], [0.5555555555555556, \"#d8576b\"], [0.6666666666666666, \"#ed7953\"], [0.7777777777777778, \"#fb9f3a\"], [0.8888888888888888, \"#fdca26\"], [1.0, \"#f0f921\"]], \"type\": \"heatmapgl\"}], \"histogram\": [{\"marker\": {\"colorbar\": {\"outlinewidth\": 0, \"ticks\": \"\"}}, \"type\": \"histogram\"}], \"histogram2d\": [{\"colorbar\": {\"outlinewidth\": 0, \"ticks\": \"\"}, \"colorscale\": [[0.0, \"#0d0887\"], [0.1111111111111111, \"#46039f\"], [0.2222222222222222, \"#7201a8\"], [0.3333333333333333, \"#9c179e\"], [0.4444444444444444, \"#bd3786\"], [0.5555555555555556, \"#d8576b\"], [0.6666666666666666, \"#ed7953\"], [0.7777777777777778, \"#fb9f3a\"], [0.8888888888888888, \"#fdca26\"], [1.0, \"#f0f921\"]], \"type\": \"histogram2d\"}], \"histogram2dcontour\": [{\"colorbar\": {\"outlinewidth\": 0, \"ticks\": \"\"}, \"colorscale\": [[0.0, \"#0d0887\"], [0.1111111111111111, \"#46039f\"], [0.2222222222222222, \"#7201a8\"], [0.3333333333333333, \"#9c179e\"], [0.4444444444444444, \"#bd3786\"], [0.5555555555555556, \"#d8576b\"], [0.6666666666666666, \"#ed7953\"], [0.7777777777777778, \"#fb9f3a\"], [0.8888888888888888, \"#fdca26\"], [1.0, \"#f0f921\"]], \"type\": \"histogram2dcontour\"}], \"mesh3d\": [{\"colorbar\": {\"outlinewidth\": 0, \"ticks\": \"\"}, \"type\": \"mesh3d\"}], \"parcoords\": [{\"line\": {\"colorbar\": {\"outlinewidth\": 0, \"ticks\": \"\"}}, \"type\": \"parcoords\"}], \"pie\": [{\"automargin\": true, \"type\": \"pie\"}], \"scatter\": [{\"marker\": {\"colorbar\": {\"outlinewidth\": 0, \"ticks\": \"\"}}, \"type\": \"scatter\"}], \"scatter3d\": [{\"line\": {\"colorbar\": {\"outlinewidth\": 0, \"ticks\": \"\"}}, \"marker\": {\"colorbar\": {\"outlinewidth\": 0, \"ticks\": \"\"}}, \"type\": \"scatter3d\"}], \"scattercarpet\": [{\"marker\": {\"colorbar\": {\"outlinewidth\": 0, \"ticks\": \"\"}}, \"type\": \"scattercarpet\"}], \"scattergeo\": [{\"marker\": {\"colorbar\": {\"outlinewidth\": 0, \"ticks\": \"\"}}, \"type\": \"scattergeo\"}], \"scattergl\": [{\"marker\": {\"colorbar\": {\"outlinewidth\": 0, \"ticks\": \"\"}}, \"type\": \"scattergl\"}], \"scattermapbox\": [{\"marker\": {\"colorbar\": {\"outlinewidth\": 0, \"ticks\": \"\"}}, \"type\": \"scattermapbox\"}], \"scatterpolar\": [{\"marker\": {\"colorbar\": {\"outlinewidth\": 0, \"ticks\": \"\"}}, \"type\": \"scatterpolar\"}], \"scatterpolargl\": [{\"marker\": {\"colorbar\": {\"outlinewidth\": 0, \"ticks\": \"\"}}, \"type\": \"scatterpolargl\"}], \"scatterternary\": [{\"marker\": {\"colorbar\": {\"outlinewidth\": 0, \"ticks\": \"\"}}, \"type\": \"scatterternary\"}], \"surface\": [{\"colorbar\": {\"outlinewidth\": 0, \"ticks\": \"\"}, \"colorscale\": [[0.0, \"#0d0887\"], [0.1111111111111111, \"#46039f\"], [0.2222222222222222, \"#7201a8\"], [0.3333333333333333, \"#9c179e\"], [0.4444444444444444, \"#bd3786\"], [0.5555555555555556, \"#d8576b\"], [0.6666666666666666, \"#ed7953\"], [0.7777777777777778, \"#fb9f3a\"], [0.8888888888888888, \"#fdca26\"], [1.0, \"#f0f921\"]], \"type\": \"surface\"}], \"table\": [{\"cells\": {\"fill\": {\"color\": \"#EBF0F8\"}, \"line\": {\"color\": \"white\"}}, \"header\": {\"fill\": {\"color\": \"#C8D4E3\"}, \"line\": {\"color\": \"white\"}}, \"type\": \"table\"}]}, \"layout\": {\"annotationdefaults\": {\"arrowcolor\": \"#2a3f5f\", \"arrowhead\": 0, \"arrowwidth\": 1}, \"coloraxis\": {\"colorbar\": {\"outlinewidth\": 0, \"ticks\": \"\"}}, \"colorscale\": {\"diverging\": [[0, \"#8e0152\"], [0.1, \"#c51b7d\"], [0.2, \"#de77ae\"], [0.3, \"#f1b6da\"], [0.4, \"#fde0ef\"], [0.5, \"#f7f7f7\"], [0.6, \"#e6f5d0\"], [0.7, \"#b8e186\"], [0.8, \"#7fbc41\"], [0.9, \"#4d9221\"], [1, \"#276419\"]], \"sequential\": [[0.0, \"#0d0887\"], [0.1111111111111111, \"#46039f\"], [0.2222222222222222, \"#7201a8\"], [0.3333333333333333, \"#9c179e\"], [0.4444444444444444, \"#bd3786\"], [0.5555555555555556, \"#d8576b\"], [0.6666666666666666, \"#ed7953\"], [0.7777777777777778, \"#fb9f3a\"], [0.8888888888888888, \"#fdca26\"], [1.0, \"#f0f921\"]], \"sequentialminus\": [[0.0, \"#0d0887\"], [0.1111111111111111, \"#46039f\"], [0.2222222222222222, \"#7201a8\"], [0.3333333333333333, \"#9c179e\"], [0.4444444444444444, \"#bd3786\"], [0.5555555555555556, \"#d8576b\"], [0.6666666666666666, \"#ed7953\"], [0.7777777777777778, \"#fb9f3a\"], [0.8888888888888888, \"#fdca26\"], [1.0, \"#f0f921\"]]}, \"colorway\": [\"#636efa\", \"#EF553B\", \"#00cc96\", \"#ab63fa\", \"#FFA15A\", \"#19d3f3\", \"#FF6692\", \"#B6E880\", \"#FF97FF\", \"#FECB52\"], \"font\": {\"color\": \"#2a3f5f\"}, \"geo\": {\"bgcolor\": \"white\", \"lakecolor\": \"white\", \"landcolor\": \"#E5ECF6\", \"showlakes\": true, \"showland\": true, \"subunitcolor\": \"white\"}, \"hoverlabel\": {\"align\": \"left\"}, \"hovermode\": \"closest\", \"mapbox\": {\"style\": \"light\"}, \"paper_bgcolor\": \"white\", \"plot_bgcolor\": \"#E5ECF6\", \"polar\": {\"angularaxis\": {\"gridcolor\": \"white\", \"linecolor\": \"white\", \"ticks\": \"\"}, \"bgcolor\": \"#E5ECF6\", \"radialaxis\": {\"gridcolor\": \"white\", \"linecolor\": \"white\", \"ticks\": \"\"}}, \"scene\": {\"xaxis\": {\"backgroundcolor\": \"#E5ECF6\", \"gridcolor\": \"white\", \"gridwidth\": 2, \"linecolor\": \"white\", \"showbackground\": true, \"ticks\": \"\", \"zerolinecolor\": \"white\"}, \"yaxis\": {\"backgroundcolor\": \"#E5ECF6\", \"gridcolor\": \"white\", \"gridwidth\": 2, \"linecolor\": \"white\", \"showbackground\": true, \"ticks\": \"\", \"zerolinecolor\": \"white\"}, \"zaxis\": {\"backgroundcolor\": \"#E5ECF6\", \"gridcolor\": \"white\", \"gridwidth\": 2, \"linecolor\": \"white\", \"showbackground\": true, \"ticks\": \"\", \"zerolinecolor\": \"white\"}}, \"shapedefaults\": {\"line\": {\"color\": \"#2a3f5f\"}}, \"ternary\": {\"aaxis\": {\"gridcolor\": \"white\", \"linecolor\": \"white\", \"ticks\": \"\"}, \"baxis\": {\"gridcolor\": \"white\", \"linecolor\": \"white\", \"ticks\": \"\"}, \"bgcolor\": \"#E5ECF6\", \"caxis\": {\"gridcolor\": \"white\", \"linecolor\": \"white\", \"ticks\": \"\"}}, \"title\": {\"x\": 0.05}, \"xaxis\": {\"automargin\": true, \"gridcolor\": \"white\", \"linecolor\": \"white\", \"ticks\": \"\", \"title\": {\"standoff\": 15}, \"zerolinecolor\": \"white\", \"zerolinewidth\": 2}, \"yaxis\": {\"automargin\": true, \"gridcolor\": \"white\", \"linecolor\": \"white\", \"ticks\": \"\", \"title\": {\"standoff\": 15}, \"zerolinecolor\": \"white\", \"zerolinewidth\": 2}}}, \"xaxis\": {\"anchor\": \"y\", \"domain\": [0.0, 1.0], \"title\": {\"text\": \"Aufl\\u00f6sung\"}, \"type\": \"log\"}, \"yaxis\": {\"anchor\": \"x\", \"domain\": [0.0, 1.0], \"title\": {\"text\": \"Bildfrequenz (Hz)\"}, \"type\": \"log\"}},\n",
       "                        {\"responsive\": true}\n",
       "                    ).then(function(){\n",
       "                            \n",
       "var gd = document.getElementById('b09819ce-1a7d-46a8-bb48-73318fc028e8');\n",
       "var x = new MutationObserver(function (mutations, observer) {{\n",
       "        var display = window.getComputedStyle(gd).display;\n",
       "        if (!display || display === 'none') {{\n",
       "            console.log([gd, 'removed!']);\n",
       "            Plotly.purge(gd);\n",
       "            observer.disconnect();\n",
       "        }}\n",
       "}});\n",
       "\n",
       "// Listen for the removal of the full notebook cells\n",
       "var notebookContainer = gd.closest('#notebook-container');\n",
       "if (notebookContainer) {{\n",
       "    x.observe(notebookContainer, {childList: true});\n",
       "}}\n",
       "\n",
       "// Listen for the clearing of the current output cell\n",
       "var outputEl = gd.closest('.output');\n",
       "if (outputEl) {{\n",
       "    x.observe(outputEl, {childList: true});\n",
       "}}\n",
       "\n",
       "                        })\n",
       "                };\n",
       "                });\n",
       "            </script>\n",
       "        </div>"
      ]
     },
     "metadata": {},
     "output_type": "display_data"
    },
    {
     "data": {
      "application/vnd.jupyter.widget-view+json": {
       "model_id": "452e8f71b163457b9979da5050abc833",
       "version_major": 2,
       "version_minor": 0
      },
      "text/plain": [
       "HBox(children=(VBox(children=(IntSlider(value=16460, continuous_update=False, description='Preis [€]:', max=16…"
      ]
     },
     "metadata": {},
     "output_type": "display_data"
    },
    {
     "data": {
      "application/vnd.jupyter.widget-view+json": {
       "model_id": "b118d28c1bd24c5e9c2805b2431615ac",
       "version_major": 2,
       "version_minor": 0
      },
      "text/plain": [
       "IntSlider(value=12, continuous_update=False, description='#Resultate', max=12)"
      ]
     },
     "metadata": {},
     "output_type": "display_data"
    },
    {
     "data": {
      "text/html": [
       "<div>\n",
       "<style scoped>\n",
       "    .dataframe tbody tr th:only-of-type {\n",
       "        vertical-align: middle;\n",
       "    }\n",
       "\n",
       "    .dataframe tbody tr th {\n",
       "        vertical-align: top;\n",
       "    }\n",
       "\n",
       "    .dataframe thead th {\n",
       "        text-align: right;\n",
       "    }\n",
       "</style>\n",
       "<table border=\"1\" class=\"dataframe\">\n",
       "  <thead>\n",
       "    <tr style=\"text-align: right;\">\n",
       "      <th></th>\n",
       "      <th>Hersteller</th>\n",
       "      <th>Name</th>\n",
       "      <th>Listenpreis [€]</th>\n",
       "      <th>Auflösung</th>\n",
       "      <th>Pixelgröße (µm)</th>\n",
       "      <th>Bildfrequenz (Hz)</th>\n",
       "      <th>Gehäusetyp</th>\n",
       "      <th>Objektivanschluss</th>\n",
       "      <th>Horizontale Aufl (Px)</th>\n",
       "      <th>Vertikale Aufl (Px)</th>\n",
       "      <th>Sensortyp</th>\n",
       "      <th>Sensorgröße (mm)</th>\n",
       "      <th>Sensormodel</th>\n",
       "      <th>Sensorformat</th>\n",
       "      <th>Seitenverhältnis</th>\n",
       "      <th>Spektrale Empfindlichkeit</th>\n",
       "      <th>Shuttertyp</th>\n",
       "      <th>Dynamic Range [dB]</th>\n",
       "      <th>S/N-ratio [dB]</th>\n",
       "      <th>Ausgabeformate</th>\n",
       "      <th>Schnittstellenkonfiguration</th>\n",
       "      <th>Schnittstelle</th>\n",
       "      <th>Sensorkonfiguration</th>\n",
       "      <th>Link-href</th>\n",
       "    </tr>\n",
       "  </thead>\n",
       "  <tbody>\n",
       "    <tr>\n",
       "      <th>584</th>\n",
       "      <td>Teledyne DALSA</td>\n",
       "      <td>DALSA GENIE NANO-CL M4090</td>\n",
       "      <td>4230.0</td>\n",
       "      <td>16.8</td>\n",
       "      <td>4.5</td>\n",
       "      <td>45.0</td>\n",
       "      <td>Large format</td>\n",
       "      <td>M42</td>\n",
       "      <td>4096</td>\n",
       "      <td>4096</td>\n",
       "      <td>CMOS</td>\n",
       "      <td>26.0</td>\n",
       "      <td>Python 16K</td>\n",
       "      <td>APS-H</td>\n",
       "      <td>1.00</td>\n",
       "      <td>Monochrome</td>\n",
       "      <td>Global shutter</td>\n",
       "      <td>55.3</td>\n",
       "      <td>NaN</td>\n",
       "      <td>NaN</td>\n",
       "      <td>Full</td>\n",
       "      <td>NaN</td>\n",
       "      <td>Single sensor</td>\n",
       "      <td>https://www.stemmer-imaging.com/de-de/produkte/dalsa-genie-nano-cl-m4090/</td>\n",
       "    </tr>\n",
       "    <tr>\n",
       "      <th>586</th>\n",
       "      <td>Teledyne DALSA</td>\n",
       "      <td>DALSA GENIE NANO-CL M5100</td>\n",
       "      <td>5900.0</td>\n",
       "      <td>26.1</td>\n",
       "      <td>4.5</td>\n",
       "      <td>32.0</td>\n",
       "      <td>Large format</td>\n",
       "      <td>M42</td>\n",
       "      <td>5112</td>\n",
       "      <td>5112</td>\n",
       "      <td>CMOS</td>\n",
       "      <td>32.5</td>\n",
       "      <td>Python 25K</td>\n",
       "      <td>APS-H</td>\n",
       "      <td>1.00</td>\n",
       "      <td>Monochrome</td>\n",
       "      <td>Global shutter</td>\n",
       "      <td>55.0</td>\n",
       "      <td>NaN</td>\n",
       "      <td>NaN</td>\n",
       "      <td>Full</td>\n",
       "      <td>NaN</td>\n",
       "      <td>Single sensor</td>\n",
       "      <td>https://www.stemmer-imaging.com/de-de/produkte/dalsa-genie-nano-cl-m5100/</td>\n",
       "    </tr>\n",
       "    <tr>\n",
       "      <th>511</th>\n",
       "      <td>Optronis</td>\n",
       "      <td>OPTRONIS CP80-25-M-72</td>\n",
       "      <td>7420.0</td>\n",
       "      <td>26.2</td>\n",
       "      <td>4.5</td>\n",
       "      <td>72.0</td>\n",
       "      <td>Standard</td>\n",
       "      <td>M42</td>\n",
       "      <td>5120</td>\n",
       "      <td>5120</td>\n",
       "      <td>CMOS</td>\n",
       "      <td>32.6</td>\n",
       "      <td>VITA 25K</td>\n",
       "      <td>Large format</td>\n",
       "      <td>1.00</td>\n",
       "      <td>Monochrome</td>\n",
       "      <td>Global shutter/Prog scan</td>\n",
       "      <td>NaN</td>\n",
       "      <td>NaN</td>\n",
       "      <td>NaN</td>\n",
       "      <td>X4</td>\n",
       "      <td>NaN</td>\n",
       "      <td>Single sensor</td>\n",
       "      <td>https://www.stemmer-imaging.com/de-de/produkte/optronis-cp80-25-m-72/</td>\n",
       "    </tr>\n",
       "    <tr>\n",
       "      <th>517</th>\n",
       "      <td>Optronis</td>\n",
       "      <td>OPTRONIS CP90-25-M-72</td>\n",
       "      <td>7420.0</td>\n",
       "      <td>26.2</td>\n",
       "      <td>4.5</td>\n",
       "      <td>72.0</td>\n",
       "      <td>Standard</td>\n",
       "      <td>M42</td>\n",
       "      <td>5120</td>\n",
       "      <td>5120</td>\n",
       "      <td>CMOS</td>\n",
       "      <td>32.6</td>\n",
       "      <td>VITA 25K</td>\n",
       "      <td>Large format</td>\n",
       "      <td>1.00</td>\n",
       "      <td>Monochrome</td>\n",
       "      <td>Global shutter/Prog scan</td>\n",
       "      <td>NaN</td>\n",
       "      <td>NaN</td>\n",
       "      <td>NaN</td>\n",
       "      <td>4 Channel, CXP-6</td>\n",
       "      <td>NaN</td>\n",
       "      <td>Single sensor</td>\n",
       "      <td>https://www.stemmer-imaging.com/de-de/produkte/optronis-cp90-25-m-72/</td>\n",
       "    </tr>\n",
       "    <tr>\n",
       "      <th>474</th>\n",
       "      <td>Teledyne DALSA</td>\n",
       "      <td>DALSA GENIE NANO-CXP-M5100</td>\n",
       "      <td>7440.0</td>\n",
       "      <td>26.2</td>\n",
       "      <td>4.5</td>\n",
       "      <td>80.0</td>\n",
       "      <td>no information</td>\n",
       "      <td>M42</td>\n",
       "      <td>5120</td>\n",
       "      <td>5120</td>\n",
       "      <td>CMOS</td>\n",
       "      <td>32.5</td>\n",
       "      <td>Python 25K</td>\n",
       "      <td>NaN</td>\n",
       "      <td>1.00</td>\n",
       "      <td>Monochrome</td>\n",
       "      <td>Global shutter</td>\n",
       "      <td>55.0</td>\n",
       "      <td>NaN</td>\n",
       "      <td>NaN</td>\n",
       "      <td>NaN</td>\n",
       "      <td>NaN</td>\n",
       "      <td>NaN</td>\n",
       "      <td>https://www.stemmer-imaging.com/de-de/produkte/dalsa-genie-nano-cxp-m5100/</td>\n",
       "    </tr>\n",
       "    <tr>\n",
       "      <th>70</th>\n",
       "      <td>Allied Vision</td>\n",
       "      <td>AV BONITO PRO X-2620B</td>\n",
       "      <td>7490.0</td>\n",
       "      <td>26.2</td>\n",
       "      <td>4.5</td>\n",
       "      <td>80.0</td>\n",
       "      <td>Large format</td>\n",
       "      <td>F-Mount</td>\n",
       "      <td>5120</td>\n",
       "      <td>5120</td>\n",
       "      <td>CMOS</td>\n",
       "      <td>32.6</td>\n",
       "      <td>Python 25K</td>\n",
       "      <td>APS-H</td>\n",
       "      <td>1.00</td>\n",
       "      <td>Monochrome</td>\n",
       "      <td>Global shutter/Prog scan</td>\n",
       "      <td>NaN</td>\n",
       "      <td>NaN</td>\n",
       "      <td>Mono8</td>\n",
       "      <td>PoCXP</td>\n",
       "      <td>NaN</td>\n",
       "      <td>Single sensor</td>\n",
       "      <td>https://www.stemmer-imaging.com/de-de/produkte/av-bonito-pro-x-2620b/</td>\n",
       "    </tr>\n",
       "    <tr>\n",
       "      <th>71</th>\n",
       "      <td>Allied Vision</td>\n",
       "      <td>AV BONITO PRO X-2620B NIR</td>\n",
       "      <td>7790.0</td>\n",
       "      <td>26.2</td>\n",
       "      <td>4.5</td>\n",
       "      <td>80.0</td>\n",
       "      <td>Large format</td>\n",
       "      <td>F-Mount</td>\n",
       "      <td>5120</td>\n",
       "      <td>5120</td>\n",
       "      <td>CMOS</td>\n",
       "      <td>32.6</td>\n",
       "      <td>Python 25K</td>\n",
       "      <td>APS-H</td>\n",
       "      <td>1.00</td>\n",
       "      <td>Monochrome</td>\n",
       "      <td>Global shutter/Prog scan</td>\n",
       "      <td>NaN</td>\n",
       "      <td>NaN</td>\n",
       "      <td>Mono8</td>\n",
       "      <td>PoCXP</td>\n",
       "      <td>NaN</td>\n",
       "      <td>Single sensor</td>\n",
       "      <td>https://www.stemmer-imaging.com/de-de/produkte/av-bonito-pro-x-2620b-nir/</td>\n",
       "    </tr>\n",
       "    <tr>\n",
       "      <th>642</th>\n",
       "      <td>Vieworks</td>\n",
       "      <td>VIEWORKS VC-25MC-M30D0-FM</td>\n",
       "      <td>8350.0</td>\n",
       "      <td>26.2</td>\n",
       "      <td>4.5</td>\n",
       "      <td>30.8</td>\n",
       "      <td>Standard</td>\n",
       "      <td>M42</td>\n",
       "      <td>5120</td>\n",
       "      <td>5120</td>\n",
       "      <td>CMOS</td>\n",
       "      <td>32.0</td>\n",
       "      <td>VITA 25K</td>\n",
       "      <td>Large format</td>\n",
       "      <td>1.00</td>\n",
       "      <td>Monochrome</td>\n",
       "      <td>Global shutter/Prog scan</td>\n",
       "      <td>54.0</td>\n",
       "      <td>NaN</td>\n",
       "      <td>Mono8</td>\n",
       "      <td>Full</td>\n",
       "      <td>CameraLink</td>\n",
       "      <td>Single sensor</td>\n",
       "      <td>https://www.stemmer-imaging.com/de-de/produkte/vieworks-vc-25mc-m30d0-fm/</td>\n",
       "    </tr>\n",
       "    <tr>\n",
       "      <th>519</th>\n",
       "      <td>Optronis</td>\n",
       "      <td>OPTRONIS CP90-25P-M-72</td>\n",
       "      <td>9840.0</td>\n",
       "      <td>26.2</td>\n",
       "      <td>4.5</td>\n",
       "      <td>72.0</td>\n",
       "      <td>Standard</td>\n",
       "      <td>M42</td>\n",
       "      <td>5120</td>\n",
       "      <td>5120</td>\n",
       "      <td>CMOS</td>\n",
       "      <td>32.6</td>\n",
       "      <td>Python 25K</td>\n",
       "      <td>Large format</td>\n",
       "      <td>1.00</td>\n",
       "      <td>Monochrome</td>\n",
       "      <td>Global shutter/Prog scan</td>\n",
       "      <td>NaN</td>\n",
       "      <td>NaN</td>\n",
       "      <td>NaN</td>\n",
       "      <td>4 Channel, CXP-6</td>\n",
       "      <td>NaN</td>\n",
       "      <td>Single sensor</td>\n",
       "      <td>https://www.stemmer-imaging.com/de-de/produkte/optronis-cp90-25p-m-72/</td>\n",
       "    </tr>\n",
       "    <tr>\n",
       "      <th>646</th>\n",
       "      <td>Vieworks</td>\n",
       "      <td>VIEWORKS VC-25MX-M81D0-DIN-FM</td>\n",
       "      <td>9860.0</td>\n",
       "      <td>26.2</td>\n",
       "      <td>4.5</td>\n",
       "      <td>81.0</td>\n",
       "      <td>Standard</td>\n",
       "      <td>F-Mount</td>\n",
       "      <td>5120</td>\n",
       "      <td>5120</td>\n",
       "      <td>CMOS</td>\n",
       "      <td>35.0</td>\n",
       "      <td>Python 25K</td>\n",
       "      <td>Large format</td>\n",
       "      <td>1.00</td>\n",
       "      <td>Monochrome</td>\n",
       "      <td>NaN</td>\n",
       "      <td>54.0</td>\n",
       "      <td>NaN</td>\n",
       "      <td>Mono8</td>\n",
       "      <td>NaN</td>\n",
       "      <td>NaN</td>\n",
       "      <td>Single sensor</td>\n",
       "      <td>https://www.stemmer-imaging.com/de-de/produkte/vieworks-vc-25mx-m81d0-din-fm/</td>\n",
       "    </tr>\n",
       "    <tr>\n",
       "      <th>645</th>\n",
       "      <td>Vieworks</td>\n",
       "      <td>VIEWORKS VC-25MX-M72D0-DIN-FM</td>\n",
       "      <td>9880.0</td>\n",
       "      <td>26.2</td>\n",
       "      <td>4.5</td>\n",
       "      <td>72.0</td>\n",
       "      <td>Standard</td>\n",
       "      <td>M42</td>\n",
       "      <td>5120</td>\n",
       "      <td>5120</td>\n",
       "      <td>CMOS</td>\n",
       "      <td>32.0</td>\n",
       "      <td>VITA 25K</td>\n",
       "      <td>Large format</td>\n",
       "      <td>1.00</td>\n",
       "      <td>Monochrome</td>\n",
       "      <td>Global shutter/Prog scan</td>\n",
       "      <td>54.0</td>\n",
       "      <td>NaN</td>\n",
       "      <td>Mono8</td>\n",
       "      <td>X2</td>\n",
       "      <td>X2</td>\n",
       "      <td>Single sensor</td>\n",
       "      <td>https://www.stemmer-imaging.com/de-de/produkte/vieworks-vc-25mx-m72d0-din-fm/</td>\n",
       "    </tr>\n",
       "    <tr>\n",
       "      <th>670</th>\n",
       "      <td>Vieworks</td>\n",
       "      <td>VIEWORKS VC-50MX-M30E0-DIN-FM</td>\n",
       "      <td>15960.0</td>\n",
       "      <td>47.6</td>\n",
       "      <td>4.6</td>\n",
       "      <td>30.0</td>\n",
       "      <td>Standard</td>\n",
       "      <td>F-Mount</td>\n",
       "      <td>7920</td>\n",
       "      <td>6004</td>\n",
       "      <td>CMOS</td>\n",
       "      <td>35.0</td>\n",
       "      <td>CMV50000</td>\n",
       "      <td>Large format</td>\n",
       "      <td>1.33</td>\n",
       "      <td>Monochrome</td>\n",
       "      <td>NaN</td>\n",
       "      <td>64.0</td>\n",
       "      <td>NaN</td>\n",
       "      <td>Mono8</td>\n",
       "      <td>NaN</td>\n",
       "      <td>NaN</td>\n",
       "      <td>Single sensor</td>\n",
       "      <td>https://www.stemmer-imaging.com/de-de/produkte/vieworks-vc-50mx-m30d0-din-fm/</td>\n",
       "    </tr>\n",
       "  </tbody>\n",
       "</table>\n",
       "</div>"
      ],
      "text/plain": [
       "         Hersteller                           Name  Listenpreis [€]  \\\n",
       "584  Teledyne DALSA      DALSA GENIE NANO-CL M4090           4230.0   \n",
       "586  Teledyne DALSA      DALSA GENIE NANO-CL M5100           5900.0   \n",
       "511        Optronis          OPTRONIS CP80-25-M-72           7420.0   \n",
       "517        Optronis          OPTRONIS CP90-25-M-72           7420.0   \n",
       "474  Teledyne DALSA     DALSA GENIE NANO-CXP-M5100           7440.0   \n",
       "70    Allied Vision          AV BONITO PRO X-2620B           7490.0   \n",
       "71    Allied Vision      AV BONITO PRO X-2620B NIR           7790.0   \n",
       "642        Vieworks      VIEWORKS VC-25MC-M30D0-FM           8350.0   \n",
       "519        Optronis         OPTRONIS CP90-25P-M-72           9840.0   \n",
       "646        Vieworks  VIEWORKS VC-25MX-M81D0-DIN-FM           9860.0   \n",
       "645        Vieworks  VIEWORKS VC-25MX-M72D0-DIN-FM           9880.0   \n",
       "670        Vieworks  VIEWORKS VC-50MX-M30E0-DIN-FM          15960.0   \n",
       "\n",
       "     Auflösung  Pixelgröße (µm)  Bildfrequenz (Hz)      Gehäusetyp  \\\n",
       "584       16.8              4.5               45.0    Large format   \n",
       "586       26.1              4.5               32.0    Large format   \n",
       "511       26.2              4.5               72.0        Standard   \n",
       "517       26.2              4.5               72.0        Standard   \n",
       "474       26.2              4.5               80.0  no information   \n",
       "70        26.2              4.5               80.0    Large format   \n",
       "71        26.2              4.5               80.0    Large format   \n",
       "642       26.2              4.5               30.8        Standard   \n",
       "519       26.2              4.5               72.0        Standard   \n",
       "646       26.2              4.5               81.0        Standard   \n",
       "645       26.2              4.5               72.0        Standard   \n",
       "670       47.6              4.6               30.0        Standard   \n",
       "\n",
       "    Objektivanschluss  Horizontale Aufl (Px)  Vertikale Aufl (Px) Sensortyp  \\\n",
       "584               M42                   4096                 4096      CMOS   \n",
       "586               M42                   5112                 5112      CMOS   \n",
       "511               M42                   5120                 5120      CMOS   \n",
       "517               M42                   5120                 5120      CMOS   \n",
       "474               M42                   5120                 5120      CMOS   \n",
       "70            F-Mount                   5120                 5120      CMOS   \n",
       "71            F-Mount                   5120                 5120      CMOS   \n",
       "642               M42                   5120                 5120      CMOS   \n",
       "519               M42                   5120                 5120      CMOS   \n",
       "646           F-Mount                   5120                 5120      CMOS   \n",
       "645               M42                   5120                 5120      CMOS   \n",
       "670           F-Mount                   7920                 6004      CMOS   \n",
       "\n",
       "     Sensorgröße (mm) Sensormodel  Sensorformat  Seitenverhältnis  \\\n",
       "584              26.0  Python 16K         APS-H              1.00   \n",
       "586              32.5  Python 25K         APS-H              1.00   \n",
       "511              32.6    VITA 25K  Large format              1.00   \n",
       "517              32.6    VITA 25K  Large format              1.00   \n",
       "474              32.5  Python 25K           NaN              1.00   \n",
       "70               32.6  Python 25K         APS-H              1.00   \n",
       "71               32.6  Python 25K         APS-H              1.00   \n",
       "642              32.0    VITA 25K  Large format              1.00   \n",
       "519              32.6  Python 25K  Large format              1.00   \n",
       "646              35.0  Python 25K  Large format              1.00   \n",
       "645              32.0    VITA 25K  Large format              1.00   \n",
       "670              35.0    CMV50000  Large format              1.33   \n",
       "\n",
       "    Spektrale Empfindlichkeit                Shuttertyp  Dynamic Range [dB]  \\\n",
       "584                Monochrome            Global shutter                55.3   \n",
       "586                Monochrome            Global shutter                55.0   \n",
       "511                Monochrome  Global shutter/Prog scan                 NaN   \n",
       "517                Monochrome  Global shutter/Prog scan                 NaN   \n",
       "474                Monochrome            Global shutter                55.0   \n",
       "70                 Monochrome  Global shutter/Prog scan                 NaN   \n",
       "71                 Monochrome  Global shutter/Prog scan                 NaN   \n",
       "642                Monochrome  Global shutter/Prog scan                54.0   \n",
       "519                Monochrome  Global shutter/Prog scan                 NaN   \n",
       "646                Monochrome                       NaN                54.0   \n",
       "645                Monochrome  Global shutter/Prog scan                54.0   \n",
       "670                Monochrome                       NaN                64.0   \n",
       "\n",
       "     S/N-ratio [dB] Ausgabeformate Schnittstellenkonfiguration Schnittstelle  \\\n",
       "584             NaN            NaN                        Full           NaN   \n",
       "586             NaN            NaN                        Full           NaN   \n",
       "511             NaN            NaN                          X4           NaN   \n",
       "517             NaN            NaN            4 Channel, CXP-6           NaN   \n",
       "474             NaN            NaN                         NaN           NaN   \n",
       "70              NaN          Mono8                       PoCXP           NaN   \n",
       "71              NaN          Mono8                       PoCXP           NaN   \n",
       "642             NaN          Mono8                        Full    CameraLink   \n",
       "519             NaN            NaN            4 Channel, CXP-6           NaN   \n",
       "646             NaN          Mono8                         NaN           NaN   \n",
       "645             NaN          Mono8                          X2            X2   \n",
       "670             NaN          Mono8                         NaN           NaN   \n",
       "\n",
       "    Sensorkonfiguration  \\\n",
       "584       Single sensor   \n",
       "586       Single sensor   \n",
       "511       Single sensor   \n",
       "517       Single sensor   \n",
       "474                 NaN   \n",
       "70        Single sensor   \n",
       "71        Single sensor   \n",
       "642       Single sensor   \n",
       "519       Single sensor   \n",
       "646       Single sensor   \n",
       "645       Single sensor   \n",
       "670       Single sensor   \n",
       "\n",
       "                                                                         Link-href  \n",
       "584      https://www.stemmer-imaging.com/de-de/produkte/dalsa-genie-nano-cl-m4090/  \n",
       "586      https://www.stemmer-imaging.com/de-de/produkte/dalsa-genie-nano-cl-m5100/  \n",
       "511          https://www.stemmer-imaging.com/de-de/produkte/optronis-cp80-25-m-72/  \n",
       "517          https://www.stemmer-imaging.com/de-de/produkte/optronis-cp90-25-m-72/  \n",
       "474     https://www.stemmer-imaging.com/de-de/produkte/dalsa-genie-nano-cxp-m5100/  \n",
       "70           https://www.stemmer-imaging.com/de-de/produkte/av-bonito-pro-x-2620b/  \n",
       "71       https://www.stemmer-imaging.com/de-de/produkte/av-bonito-pro-x-2620b-nir/  \n",
       "642      https://www.stemmer-imaging.com/de-de/produkte/vieworks-vc-25mc-m30d0-fm/  \n",
       "519         https://www.stemmer-imaging.com/de-de/produkte/optronis-cp90-25p-m-72/  \n",
       "646  https://www.stemmer-imaging.com/de-de/produkte/vieworks-vc-25mx-m81d0-din-fm/  \n",
       "645  https://www.stemmer-imaging.com/de-de/produkte/vieworks-vc-25mx-m72d0-din-fm/  \n",
       "670  https://www.stemmer-imaging.com/de-de/produkte/vieworks-vc-50mx-m30d0-din-fm/  "
      ]
     },
     "metadata": {},
     "output_type": "display_data"
    },
    {
     "data": {
      "application/vnd.jupyter.widget-view+json": {
       "model_id": "3a79c1cdb7c04c908a6be29a67f935dc",
       "version_major": 2,
       "version_minor": 0
      },
      "text/plain": [
       "HTML(value='<b><br>C) Kameraauswahl____________________________________________</b>')"
      ]
     },
     "metadata": {},
     "output_type": "display_data"
    },
    {
     "data": {
      "application/vnd.jupyter.widget-view+json": {
       "model_id": "ce5b66704a3a48eeb4c68c4a226947e6",
       "version_major": 2,
       "version_minor": 0
      },
      "text/plain": [
       "HTML(value='Wählen Sie aus den zur Verfügung stehenden Kameras ein Modell aus, welches für die weiteren Berech…"
      ]
     },
     "metadata": {},
     "output_type": "display_data"
    },
    {
     "data": {
      "application/vnd.jupyter.widget-view+json": {
       "model_id": "98966355502a4eef803b04b0d91da144",
       "version_major": 2,
       "version_minor": 0
      },
      "text/plain": [
       "Dropdown(description='Auswahl:', options=('DALSA GENIE NANO-CL M4090', 'DALSA GENIE NANO-CL M5100', 'OPTRONIS …"
      ]
     },
     "metadata": {},
     "output_type": "display_data"
    },
    {
     "data": {
      "application/vnd.jupyter.widget-view+json": {
       "model_id": "9f395bf9d3604d6182cef1af67de3cd5",
       "version_major": 2,
       "version_minor": 0
      },
      "text/plain": [
       "HTML(value='<b><br><br>')"
      ]
     },
     "metadata": {},
     "output_type": "display_data"
    }
   ],
   "source": [
    "text_c1 = widgets.HTML(value='<b>A) Spezifikation Anwendungsfall____________________________________________ </b>')\n",
    "text_c2 = widgets.HTML(value='1) Wie groß ist das benötigte Sichtfeld in x-Richtung? (Objekt inkl. evtll. Randbereich)')\n",
    "text_c3 = widgets.HTML(value='2) Wie groß ist das benötigte Sichtfeld in y-Richtung?')\n",
    "text_c4 = widgets.HTML(value='3) Wie groß ist das kleinste aufzulösende Detail des Objektes?')\n",
    "text_c5 = widgets.HTML(value='4) Wie viele Bilder müssen maximal pro Sekunde gemacht werden?')\n",
    "text_c6 = widgets.HTML(value='5) Bewegt sich das Objekt kontinuierlich fort (Fließmontage)? Falls ja, mit welcher Geschwindigkeit?')\n",
    "# ToDo: adapt change to backend\n",
    "text_c7 = widgets.HTML(value='6) Bitte wählen Sie die zutreffendste Beschreibung der Lichtverhältnisse der Prüfszene:')\n",
    "text_c8 = widgets.HTML(value='<b><br>B) Übersicht geeigneter Kameras & Detailspezifikation________________________________</b>')\n",
    "text_c9 = widgets.HTML(value='<b><br>C) Kameraauswahl____________________________________________</b>')\n",
    "text_c10 = widgets.HTML(value='Wählen Sie aus den zur Verfügung stehenden Kameras ein Modell aus, welches für die weiteren Berechnungen verwendet werden soll.')\n",
    "# GUI element\n",
    "\n",
    "distance_x = widgets.BoundedFloatText(\n",
    "    value=10,\n",
    "    min=0.1, # 10µm as limit\n",
    "    max=2000,\n",
    "    step=1,\n",
    "    description='x-Wert [cm]',\n",
    "    disabled=False\n",
    ")\n",
    "\n",
    "distance_y = widgets.BoundedFloatText(\n",
    "    value=12,\n",
    "    min=0.01, # 10µm as limit\n",
    "    max=1000,\n",
    "    step=1,\n",
    "    description='y-Wert [cm]',\n",
    "    disabled = False\n",
    ")\n",
    "\n",
    "min_details = widgets.BoundedFloatText(\n",
    "    value=0.25,\n",
    "    min=0.01, # 10µm as limit\n",
    "    max=10.0,\n",
    "    step=0.01,\n",
    "    description='Details [mm]',\n",
    "    disabled=False\n",
    ")\n",
    "img_count = widgets.BoundedFloatText(\n",
    "    value=5,\n",
    "    min=0.01, # 1 image per 100 seconds as lower limit\n",
    "    max=5000,\n",
    "    step=0.01,\n",
    "    description='Wert [1/s]',\n",
    "    disabled=False\n",
    ") \n",
    "v_continous = widgets.BoundedFloatText(\n",
    "    value=20,\n",
    "    min=0.1, # 1cm per 10s as lower limit\n",
    "    max=5000, # 10m per 1s as upper limit\n",
    "    step=0.01,\n",
    "    description='Wert [cm/s]',\n",
    "    disabled=True\n",
    ")\n",
    "\n",
    "\n",
    "v_boolean = widgets.Checkbox(\n",
    "    value=False,\n",
    "    description='Kontinuierliche Bewegung',\n",
    "    disabled=False\n",
    ")\n",
    "choice_camera = widgets.Dropdown( # drop sown field for camera selection\n",
    "    options= ['A','B'],\n",
    "    value='A',\n",
    "    description='Auswahl:',\n",
    "    disabled = False,\n",
    "    readout = True,\n",
    "    readout_format = 's',\n",
    ")\n",
    "\n",
    "options_contrast = ['Wenig Licht', 'Normal', 'Hoher Kontrast (HDR) nötig']\n",
    "contrast = widgets.ToggleButtons(\n",
    "    options = options_contrast,\n",
    "    value = options_contrast[1],\n",
    "    description='Kontrast:',\n",
    "    disabled=False,\n",
    "    button_style='', # 'success', 'info', 'warning', 'danger' or ''\n",
    "    tooltips=['', '', ''],\n",
    ")\n",
    "price = widgets.IntSlider(\n",
    "    value=10000,\n",
    "    min=1,\n",
    "    max=100000,\n",
    "    step=10,\n",
    "    description='Preis [€]:',\n",
    "    disabled=False,\n",
    "    continuous_update=False,\n",
    "    orientation='horizontal',\n",
    "    readout=True,\n",
    "    readout_format='d'\n",
    ")\n",
    "style_price = {'description_width': 'initial'} # change css settings to show text completely\n",
    "price_boolean = widgets.Checkbox(\n",
    "    value=False,\n",
    "    description='Zeige Kameras ohne Preisinformationen',\n",
    "    disabled=False,\n",
    "    style = style_price\n",
    ")\n",
    "\n",
    "Slider_c_results = widgets.IntSlider(\n",
    "    value=5,\n",
    "    min=0,\n",
    "    max=100,\n",
    "    step=1,\n",
    "    description='#Resultate',\n",
    "    disabled=False,\n",
    "    continuous_update=False,\n",
    "    orientation='horizontal',\n",
    "    readout=True,\n",
    "    readout_format='d',\n",
    "    #layout = layout_slider\n",
    ")\n",
    "\n",
    "camera_Hersteller= widgets.SelectMultiple(\n",
    "    options=cameras['Hersteller'].unique(),\n",
    "    value= list(cameras['Hersteller'].unique()),\n",
    "    rows=10,\n",
    "    description='Hersteller',\n",
    "    disabled=False\n",
    ")\n",
    "\n",
    "camera_housing= widgets.SelectMultiple(\n",
    "    options=list(cameras['Gehäusetyp'].unique()),\n",
    "    value= list(cameras['Gehäusetyp'].unique()),\n",
    "    rows=10,\n",
    "    description='Gehäusetyp',\n",
    "    disabled=False\n",
    ")\n",
    "\n",
    "#price_w = TwoByTwoLayout(top_left=price, top_right=price_boolean)\n",
    "price_w = HBox([VBox([price, price_boolean]),camera_Hersteller, camera_housing])\n",
    "#image_x_min = 1\n",
    "\n",
    "# functions\n",
    "def on_change_dx(change):\n",
    "    if change['type'] == 'change' and change['name'] == 'value':\n",
    "        image_size()\n",
    "\n",
    "def image_size():\n",
    "    # read current state\n",
    "    object_x = max(distance_x.value, distance_y.value)\n",
    "    object_y = min(distance_x.value, distance_y.value)\n",
    "    size = min_details.value\n",
    "    min_pix = 2 # standard number of pixel required for resolving minimum object size\n",
    "    smear_factor = 0.4 #conservative factor smear effect for object movement\n",
    "    freq_discrete = img_count.value\n",
    "    freq_boolean = v_boolean.value\n",
    "    \n",
    "    warning = widgets.HTML(value='Es sind keine Kameramodelle in diesem Leistungsbereich vorhanden. Sollten sie eine sehr hohe Bildfrequenz benötigen, so sollten Sie Zeilenkameras in Betrachtung ziehen.')\n",
    "    # calculate min required pixels x-size\n",
    "    global image_x_min\n",
    "    image_x_min = math.ceil(min_pix * object_x /(0.1 * size))\n",
    "    image_y_min = math.ceil(min_pix * object_y /(0.1 * size))\n",
    "    \n",
    "    # calculate the required frame rate\n",
    "    frequency_c = freq_discrete # ?change to include values for continous flow\n",
    "    \n",
    "    #determine required contrast\n",
    "    if contrast.value == options_contrast[1]:\n",
    "        pix_size = 4.4\n",
    "    elif contrast.value == options_contrast[2]:\n",
    "        pix_size = 8\n",
    "    else:\n",
    "        pix_size = 0.1\n",
    "    \n",
    "    # determine acontinous mode and shutter requirement\n",
    "    if freq_boolean == True:\n",
    "        speed_continous = v_continous.value\n",
    "        v_continous.disabled = False\n",
    "        shutter = 'Rolling shutter'\n",
    "        # figure for output graphics withhout rolling shutter   \n",
    "    else:\n",
    "        v_continous.disabled = True\n",
    "        speed_continous = 1       \n",
    "        # figure for output graphics withhout rolling shutter   \n",
    "        shutter = ''\n",
    "           \n",
    "    # calculate the required time of exposure -> not used yet\n",
    "    exposure_time = 100 * smear_factor / (speed_continous * image_x_min / (10 * object_x)) \n",
    "    \n",
    "\n",
    "    \n",
    "     \n",
    "    # figure for output graphics   \n",
    "    camera_preselection = cameras.loc[(cameras['Horizontale Aufl (Px)'] >= image_x_min) \n",
    "                                 & (cameras['Vertikale Aufl (Px)'] >= image_y_min)\n",
    "                                 & (cameras['Spektrale Empfindlichkeit'] == colour)\n",
    "                                 & (cameras['Bildfrequenz (Hz)'] >= frequency_c)\n",
    "                                 & (cameras['Shuttertyp'] != shutter)\n",
    "                                 & (cameras['Pixelgröße (µm)'] > pix_size)]\n",
    "    \n",
    "    # adopt price range for price range slider \n",
    "    price.max = camera_preselection['Listenpreis [€]'].max()+500    \n",
    "    price.min = camera_preselection['Listenpreis [€]'].min()\n",
    "    \n",
    "    \n",
    "    #select cameras within price range, chekc if camera has a price (and if this should be considered)\n",
    "    global camera_selection\n",
    "    camera_selection = camera_preselection.loc[((camera_preselection['Listenpreis [€]']<= price.value) |\n",
    "                                               (camera_preselection['Listenpreis [€]'].isnull() & price_boolean.value))\n",
    "                                               & (camera_preselection['Hersteller'].isin(camera_Hersteller.value))\n",
    "                                               & (camera_preselection['Gehäusetyp'].isin(camera_housing.value))]\n",
    "    # result visualisation \n",
    "    results_c = widgets.HTML(value= '<b>Mindestanforderungen:</b> Horizontale Auflösung: %d px, Vertikale Auflösung: %d px, Auflösung: %.2f MP<br> Anzahl geeigneter Kameras: %d<br> Anzahl aktuell gezeigter Kameras: %d' \n",
    "                             %(image_x_min, image_y_min, image_x_min*image_y_min/1000000, len(camera_preselection.index),len(camera_selection.index)))\n",
    "    clear_output(wait=True)\n",
    "    if ((len(camera_selection.index)) > 0 & (len(camera_preselection.index) > 0)): # check if result shows any cameras    \n",
    "        fig = px.scatter(camera_selection, \n",
    "            x='Auflösung', y='Bildfrequenz (Hz)', size='Pixelgröße (µm)', color='Listenpreis [€]', \n",
    "            color_continuous_scale=[(0,\"green\"), (0.1, \"yellow\"), (1,\"red\")], hover_name=\"Name\", hover_data=['Listenpreis [€]'], log_x=True, log_y= True, size_max=20)\n",
    "        # create dataframe of visualized cameras\n",
    "        df_camera_selection = camera_selection.sort_values(by='Listenpreis [€]', ascending=True, na_position='last')        \n",
    "        # adopt selection range for dropdown\n",
    "        choice_camera.options = list(df_camera_selection['Name'])\n",
    "        Slider_c_results.max = len(camera_selection.index)\n",
    "        #if freq_boolean == True: # differentiate possible GUI scenarios\n",
    "        display(text_c1, text_c2, distance_x, text_c3,distance_y, text_c4,min_details, text_c5,img_count, text_c6,v_continous,v_boolean, text_c7, contrast, text_c8, results_c, fig, price_w, Slider_c_results, df_camera_selection.head(Slider_c_results.value),text_c9, text_c10, choice_camera, doublebreak)        \n",
    "    else:    \n",
    "        display(text_c1, text_c2, distance_x, text_c3,distance_y, text_c4,min_details, text_c5,img_count, text_c6,v_continous,v_boolean, text_c7, contrast, text_c8, results_c, price_w, warning, doublebreak)\n",
    "    \n",
    "# initial state, observation         \n",
    "#display(text_c1, text_c2, distance_x, text_c3,distance_y, text_c4,min_details, text_c5,img_count, text_c6,v_continous,v_boolean, text_c7, contrast)\n",
    "distance_x.observe(on_change_dx)\n",
    "distance_y.observe(on_change_dx)\n",
    "min_details.observe(on_change_dx)\n",
    "img_count.observe(on_change_dx)\n",
    "v_continous.observe(on_change_dx)\n",
    "v_boolean.observe(on_change_dx)\n",
    "contrast.observe(on_change_dx)\n",
    "price.observe(on_change_dx)\n",
    "price_boolean.observe(on_change_dx)\n",
    "Slider_c_results.observe(on_change_dx)\n",
    "camera_Hersteller.observe(on_change_dx)\n",
    "camera_housing.observe(on_change_dx)\n",
    "\n",
    "image_size()"
   ]
  },
  {
   "cell_type": "code",
   "execution_count": null,
   "metadata": {
    "scrolled": false
   },
   "outputs": [],
   "source": []
  },
  {
   "cell_type": "markdown",
   "metadata": {},
   "source": [
    " ## 3) Vorauswahl Objektiv   "
   ]
  },
  {
   "cell_type": "code",
   "execution_count": 30,
   "metadata": {},
   "outputs": [
    {
     "data": {
      "application/vnd.jupyter.widget-view+json": {
       "model_id": "b3e78750de904365bdf19f8b91b60687",
       "version_major": 2,
       "version_minor": 0
      },
      "text/plain": [
       "HTML(value='1) Verfügt die Anwendung über einen festes Sichtfeld (Objekt befindet sich immer in einem bestimmt…"
      ]
     },
     "metadata": {},
     "output_type": "display_data"
    },
    {
     "data": {
      "application/vnd.jupyter.widget-view+json": {
       "model_id": "8f3556bb27d044dfa13e3faac4d43295",
       "version_major": 2,
       "version_minor": 0
      },
      "text/plain": [
       "Dropdown(description='Antwort:', index=1, options=('Nein', 'Ja'), value='Ja')"
      ]
     },
     "metadata": {},
     "output_type": "display_data"
    },
    {
     "data": {
      "application/vnd.jupyter.widget-view+json": {
       "model_id": "061359bfcabc4ba58c18cd8193ac802f",
       "version_major": 2,
       "version_minor": 0
      },
      "text/plain": [
       "HTML(value='2) Bedarf es einem extremen Weitwinkel / 360° Blickfled für die Anwendung (z. B. bei der Inspektio…"
      ]
     },
     "metadata": {},
     "output_type": "display_data"
    },
    {
     "data": {
      "application/vnd.jupyter.widget-view+json": {
       "model_id": "cd22c0c8ed034c9582eafcacd39e37bc",
       "version_major": 2,
       "version_minor": 0
      },
      "text/plain": [
       "Dropdown(description='Antwort:', options=('Nein', 'Ja'), value='Nein')"
      ]
     },
     "metadata": {},
     "output_type": "display_data"
    },
    {
     "data": {
      "application/vnd.jupyter.widget-view+json": {
       "model_id": "9fe89ceaba6a41ce8f4faee6ac0a0ffd",
       "version_major": 2,
       "version_minor": 0
      },
      "text/plain": [
       "HTML(value='3) Handelt es sich um eine sehr präzise Messaufgabe, bei der perspektivische Verzerrungen oder Ver…"
      ]
     },
     "metadata": {},
     "output_type": "display_data"
    },
    {
     "data": {
      "application/vnd.jupyter.widget-view+json": {
       "model_id": "2b3cd23ee28546b3b0afb80e4df6b689",
       "version_major": 2,
       "version_minor": 0
      },
      "text/plain": [
       "Dropdown(description='Antwort:', options=('Nein', 'Ja'), value='Nein')"
      ]
     },
     "metadata": {},
     "output_type": "display_data"
    },
    {
     "data": {
      "application/vnd.jupyter.widget-view+json": {
       "model_id": "1aceac5ed18d4693834a759c1edb8e72",
       "version_major": 2,
       "version_minor": 0
      },
      "text/plain": [
       "HTML(value='<b>Festbrennweitenobjektiv</b>')"
      ]
     },
     "metadata": {},
     "output_type": "display_data"
    },
    {
     "data": {
      "application/vnd.jupyter.widget-view+json": {
       "model_id": "9f395bf9d3604d6182cef1af67de3cd5",
       "version_major": 2,
       "version_minor": 0
      },
      "text/plain": [
       "HTML(value='<b><br><br>')"
      ]
     },
     "metadata": {},
     "output_type": "display_data"
    }
   ],
   "source": [
    "text_o1 = widgets.HTML(value='1) Verfügt die Anwendung über einen festes Sichtfeld (Objekt befindet sich immer in einem bestimmten Abstand und definierten Arbeitsbereich)? - D.h., das Sichtfeld muss während der Anwendung nicht dynamisch angepasst werden?')\n",
    "text_o2 = widgets.HTML(value='2) Bedarf es einem extremen Weitwinkel / 360° Blickfled für die Anwendung (z. B. bei der Inspektion der Innenseite eines zylindrischen Körpers)?')\n",
    "text_o3 = widgets.HTML(value='3) Handelt es sich um eine sehr präzise Messaufgabe, bei der perspektivische Verzerrungen oder Verzeichnungen das Ergebnis verfälschen würden?') # Explain these terminologies\n",
    "\n",
    "\n",
    "options_qo1=['Nein','Ja']\n",
    "lense = 'Festbrennweite'\n",
    "\n",
    "q_o1 = widgets.Dropdown(\n",
    "    options= options_qo1,\n",
    "    \n",
    "    value=options_qo1[1],\n",
    "    description='Antwort:',\n",
    "    disabled=False,\n",
    ")\n",
    "q_o2 = widgets.Dropdown(\n",
    "    options= options_qo1,\n",
    "    value=options_qo1[0],\n",
    "    description='Antwort:',\n",
    "    disabled=False,\n",
    ")\n",
    "q_o3 = widgets.Dropdown(\n",
    "    options= options_qo1,\n",
    "    value=options_qo1[0],\n",
    "    description='Antwort:',\n",
    "    disabled=False,\n",
    ")\n",
    "\n",
    "# decision logic\n",
    "def result_qo():\n",
    "    global lense\n",
    "    r_o1 = q_o1.value\n",
    "    r_o2 = q_o2.value\n",
    "    r_o3 = q_o3.value\n",
    "       \n",
    "    if r_o2 == options_qo1[1]: # Spezialfall\n",
    "        results_qo = widgets.HTML(value='<b>Spezialfall: Fish-eye Optik</b>')\n",
    "    else:\n",
    "        if r_o1 == options_qo1[0]: # dynamisch\n",
    "            if r_o3 == options_qo1[1]: # Telezentrie mehrere\n",
    "                results_qo = widgets.HTML(value='<b>Mehrere telezentrische Objektive</b>')\n",
    "                lense = 'Telezentrisch'\n",
    "            else: #  zoomObjektiv  \n",
    "                results_qo = widgets.HTML(value='<b>Zoom Objektiv</b>')\n",
    "        else: # statisch \n",
    "            if r_o3 == options_qo1[1]: # Telezentrie normal\n",
    "                results_qo = widgets.HTML(value='<b>Telezentrisches Objektiv</b>')\n",
    "                lense = 'Telezentrisch'\n",
    "            else: #  zoomObjektiv  \n",
    "                results_qo = widgets.HTML(value='<b>Festbrennweitenobjektiv</b>')\n",
    "                lense = 'Festbrennweite'\n",
    "           \n",
    "    clear_output(wait=True)\n",
    "    display(text_o1, q_o1, text_o2, q_o2, text_o3, q_o3, results_qo, doublebreak)\n",
    "           \n",
    "\n",
    "def on_change_qo(change):\n",
    "    if change['type'] == 'change' and change['name'] == 'value':\n",
    "        result_qo()\n",
    "         \n",
    "\n",
    "q_o1.observe(on_change_qo)\n",
    "q_o2.observe(on_change_qo)\n",
    "q_o3.observe(on_change_qo)\n",
    "result_qo()\n",
    "\n",
    "# Logik zur Wertübergabe"
   ]
  },
  {
   "cell_type": "markdown",
   "metadata": {},
   "source": [
    "## 4) Detailauswahl Objektive"
   ]
  },
  {
   "cell_type": "code",
   "execution_count": null,
   "metadata": {},
   "outputs": [],
   "source": []
  },
  {
   "cell_type": "code",
   "execution_count": null,
   "metadata": {},
   "outputs": [],
   "source": []
  },
  {
   "cell_type": "code",
   "execution_count": null,
   "metadata": {
    "scrolled": true
   },
   "outputs": [],
   "source": []
  },
  {
   "cell_type": "code",
   "execution_count": null,
   "metadata": {},
   "outputs": [],
   "source": []
  },
  {
   "cell_type": "code",
   "execution_count": null,
   "metadata": {},
   "outputs": [],
   "source": []
  },
  {
   "cell_type": "code",
   "execution_count": null,
   "metadata": {},
   "outputs": [],
   "source": []
  },
  {
   "cell_type": "code",
   "execution_count": 45,
   "metadata": {},
   "outputs": [],
   "source": [
    "# read data frame for Festbrennweiten\n",
    "lense_fixed = pd.read_excel('Data/lense_fixed.xlsx')\n",
    "lense_telecentric = pd.read_excel('Data/lense_telecentric.xlsx')"
   ]
  },
  {
   "cell_type": "code",
   "execution_count": 46,
   "metadata": {},
   "outputs": [],
   "source": [
    "# change toggle button\n",
    "lense_type_selection = widgets.ToggleButtons(\n",
    "    options = ['Festbrennweite', 'Telezentrisch'],\n",
    "    value = 'Festbrennweite',\n",
    "    disabled=False,\n",
    "    layout = widgets.Layout(width = '800px')\n",
    ")"
   ]
  },
  {
   "cell_type": "code",
   "execution_count": 47,
   "metadata": {},
   "outputs": [],
   "source": [
    "###### Objekte Festbrennweite\n",
    "text_l0 = widgets.HTML(value='<b>A) Ausgewählte Kamera_____________________________________________________________</b>')\n",
    "text_l1 = widgets.HTML(value='1) Was ist der minimal und maximal zulässige Abstand zwischen Objekt und Objektiv?')\n",
    "text_l2 = widgets.HTML(value='2) Was ist der relevante Tiefenbereich des Objektes, der scharf abgebildet werden muss?')\n",
    "text_l3 = widgets.HTML(value='<b><br>C) Übersicht geeigneter Objektive & Detailspezifikation________________________________</b>')\n",
    "text_l4 = widgets.HTML(value='Spektrale Empfindlichkeit:')\n",
    "text_l5 = widgets.HTML(value='Blendentyp:')\n",
    "text_l6 = widgets.HTML(value='<b><br>B) Weitere Spezifikationen des Anwendungsfall_______________________________________</b>')\n",
    "warning_compatibility = widgets.HTML(value='<b>Keine passenden Objektive für die Kamera vorhanden. Bitte überprüfen Sie den Objektivanschluss der ausgewählten Kamera.</b>')\n",
    "\n",
    "\n",
    "# create rerelevant GUI elements\n",
    "layout_slider = widgets.Layout(width = '500px')\n",
    "Slider_depth = widgets.FloatSlider(\n",
    "    value=2,\n",
    "    min=0,\n",
    "    max=25,\n",
    "    step=0.5,\n",
    "    disabled=False,\n",
    "    continuous_update=False,\n",
    "    orientation='horizontal',\n",
    "    readout=True,\n",
    "    readout_format='.1f',\n",
    ")\n",
    "Slider_oversize = widgets.FloatSlider(\n",
    "    value=1.8,\n",
    "    min=1,\n",
    "    max=3,\n",
    "    step=0.1,\n",
    "    description='Übermaß',\n",
    "    disabled=False,\n",
    "    continuous_update=False,\n",
    "    orientation='vertical',\n",
    "    readout=True,\n",
    "    #layout = layout_slider\n",
    ")\n",
    "\n",
    "Slider_l_price = widgets.IntSlider(\n",
    "    value=1000,\n",
    "    min=1,\n",
    "    max=4000,\n",
    "    step=20,\n",
    "    description='Preis max',\n",
    "    disabled=False,\n",
    "    continuous_update=False,\n",
    "    orientation='vertical',\n",
    "    readout=True,\n",
    "    readout_format='d',\n",
    "    #layout = layout_slider\n",
    ")\n",
    "\n",
    "Slider_l_results = widgets.IntSlider(\n",
    "    value=5,\n",
    "    min=0,\n",
    "    max=100,\n",
    "    step=1,\n",
    "    description='#Resultate',\n",
    "    disabled=False,\n",
    "    continuous_update=False,\n",
    "    orientation='horizontal',\n",
    "    readout=True,\n",
    "    readout_format='d',\n",
    "    #layout = layout_slider\n",
    ")\n",
    "\n",
    "Slider_l = widgets.IntRangeSlider(\n",
    "    value=[5, 300],\n",
    "    min=5,\n",
    "    max=300,\n",
    "    step=1,\n",
    "    disabled=False,\n",
    "    continuous_update=False,\n",
    "    orientation='horizontal',\n",
    "    readout=True,\n",
    "    readout_format='d',\n",
    "    layout = layout_slider\n",
    ")\n",
    "\n",
    "#style_price = {'description_width': 'initial'} # change css settings to show text completely\n",
    "monochrome_boolean = widgets.Checkbox(\n",
    "    value=True,\n",
    "    description='Monochrom',\n",
    "    disabled=False,\n",
    "    #style = style_price\n",
    ")\n",
    "\n",
    "colour_boolean = widgets.Checkbox(\n",
    "    value=True,\n",
    "    description='Colour',\n",
    "    disabled=False,\n",
    ")\n",
    "\n",
    "ir_boolean = widgets.Checkbox(\n",
    "    value=False,\n",
    "    description='Infrarot',\n",
    "    disabled=False,\n",
    ")\n",
    "\n",
    "uv_boolean = widgets.Checkbox(\n",
    "    value=False,\n",
    "    description='UV',\n",
    "    disabled=False,\n",
    ")\n",
    "\n",
    "blende_flexible_boolean = widgets.Checkbox(\n",
    "    value=True,\n",
    "    description='verstellbar',\n",
    "    disabled=False,\n",
    ")\n",
    "\n",
    "blende_fix_boolean = widgets.Checkbox(\n",
    "    value=True,\n",
    "    description='fixiert',\n",
    "    disabled=False,\n",
    "    tooltip='Enter the name of the Text field',\n",
    ")\n",
    "\n",
    "lense_f_Hersteller= widgets.SelectMultiple(\n",
    "    options=lense_fixed['Hersteller'].unique(),\n",
    "    value= list(lense_fixed['Hersteller'].unique()),\n",
    "    rows=10,\n",
    "    description='Hersteller',\n",
    "    disabled=False\n",
    ")\n",
    "\n",
    "\n",
    "adjustments = HBox([VBox([Label('Spektrale Empfindlichkeit:'), monochrome_boolean, colour_boolean, ir_boolean, uv_boolean]), \n",
    "                    VBox([text_l5, blende_flexible_boolean, blende_fix_boolean]), Slider_oversize, Slider_l_price, lense_f_Hersteller])\n",
    "distance_z = HBox([Label('Abstand [cm]:'), Slider_l])\n",
    "depth_z = HBox([Label('Tiefe [cm]:'), Slider_depth])"
   ]
  },
  {
   "cell_type": "code",
   "execution_count": 48,
   "metadata": {},
   "outputs": [],
   "source": [
    "###################### Objekte Telezentrie\n",
    "\n",
    "text_t0 = widgets.HTML(value='<b>A) Ausgewählte Kamera_____________________________________________________________</b>')\n",
    "text_t1 = widgets.HTML(value='1) Was ist der minimal und maximal zulässige Abstand zwischen Objekt und Objektiv?')\n",
    "text_t2 = widgets.HTML(value='2) Was ist der relevante Tiefenbereich des Objektes, der scharf abgebildet werden muss?')\n",
    "text_t3 = widgets.HTML(value='<b><br>C) Übersicht geeigneter Objektive & Detailspezifikation________________________________</b>')\n",
    "text_t4 = widgets.HTML(value='Spektrale Empfindlichkeit:')\n",
    "text_t5 = widgets.HTML(value='Blendentyp:')\n",
    "text_t6 = widgets.HTML(value='<b><br>B) Weitere Spezifikationen des Anwendungsfall_______________________________________</b>')\n",
    "warning_compatibility = widgets.HTML(value='<b>Keine passenden Objektive für die Kamera vorhanden. Bitte überprüfen Sie den Objektivanschluss der ausgewählten Kamera.</b>')\n",
    "\n",
    "# create rerelevant GUI elements\n",
    "layout_slider = widgets.Layout(width = '500px')\n",
    "Slider_depth_t = widgets.FloatSlider(\n",
    "    value=2,\n",
    "    min=0,\n",
    "    max=25,\n",
    "    step=0.5,\n",
    "    disabled=False,\n",
    "    continuous_update=False,\n",
    "    orientation='horizontal',\n",
    "    readout=True,\n",
    "    readout_format='.1f',\n",
    ")\n",
    "Slider_oversize_t = widgets.FloatSlider(\n",
    "    value=1.8,\n",
    "    min=1,\n",
    "    max=3,\n",
    "    step=0.1,\n",
    "    description='Übermaß',\n",
    "    disabled=False,\n",
    "    continuous_update=False,\n",
    "    orientation='vertical',\n",
    "    readout=True,\n",
    "    #layout = layout_slider\n",
    ")\n",
    "\n",
    "Slider_price_t = widgets.IntSlider(\n",
    "    value=4000,\n",
    "    min=1,\n",
    "    max=5000,\n",
    "    step=20,\n",
    "    description='Preis max',\n",
    "    disabled=False,\n",
    "    continuous_update=False,\n",
    "    orientation='vertical',\n",
    "    readout=True,\n",
    "    readout_format='d',\n",
    "    #layout = layout_slider\n",
    ")\n",
    "\n",
    "Slider_results_t = widgets.IntSlider(\n",
    "    value=5,\n",
    "    min=0,\n",
    "    max=100,\n",
    "    step=1,\n",
    "    description='#Resultate',\n",
    "    disabled=False,\n",
    "    continuous_update=False,\n",
    "    orientation='horizontal',\n",
    "    readout=True,\n",
    "    readout_format='d',\n",
    "    #layout = layout_slider\n",
    ")\n",
    "\n",
    "Slider_distance_t = widgets.IntRangeSlider(\n",
    "    value=[2, 60],\n",
    "    min=2,\n",
    "    max=60,\n",
    "    step=1,\n",
    "    disabled=False,\n",
    "    continuous_update=False,\n",
    "    orientation='horizontal',\n",
    "    readout=True,\n",
    "    readout_format='d',\n",
    "    layout = layout_slider\n",
    ")\n",
    "\n",
    "\n",
    "\n",
    "#style_price = {'description_width': 'initial'} # change css settings to show text completely\n",
    "monochrome_boolean_t = widgets.Checkbox(\n",
    "    value=True,\n",
    "    description='Monochrom',\n",
    "    disabled=False,\n",
    "    #style = style_price\n",
    ")\n",
    "\n",
    "colour_boolean_t = widgets.Checkbox(\n",
    "    value=True,\n",
    "    description='Colour',\n",
    "    disabled=False,\n",
    ")\n",
    "\n",
    "ir_boolean_t = widgets.Checkbox(\n",
    "    value=False,\n",
    "    description='Infrarot',\n",
    "    disabled=False,\n",
    ")\n",
    "\n",
    "uv_boolean_t = widgets.Checkbox(\n",
    "    value=False,\n",
    "    description='UV',\n",
    "    disabled=False,\n",
    ")\n",
    "Blende_t_t_flexible_boolean = widgets.Checkbox(\n",
    "    value=True,\n",
    "    description='Verstellbar',\n",
    "    disabled=False,\n",
    ")\n",
    "Blende_t_t_fix_boolean = widgets.Checkbox(\n",
    "    value=True,\n",
    "    description='Fixiert',\n",
    "    disabled=False,\n",
    ")\n",
    "simpleTel_boolean = widgets.Checkbox(\n",
    "    value=True,\n",
    "    description='Einfach objektseitig',\n",
    "    disabled=False\n",
    ")\n",
    "biTel_boolean = widgets.Checkbox(\n",
    "    value=True,\n",
    "    description='Bi-telezentrisch',\n",
    "    disabled=False\n",
    ")\n",
    "lense_t_Hersteller= widgets.SelectMultiple(\n",
    "    options=lense_telecentric['Hersteller'].unique(),\n",
    "    value= list(lense_telecentric['Hersteller'].unique()),\n",
    "    rows=10,\n",
    "    description='Hersteller',\n",
    "    disabled=False\n",
    ")\n",
    "\n",
    "\n",
    "#adjustments_t = HBox([VBox([Label('Spektrale Empfindlichkeit:'), monochrome_boolean_t, colour_boolean_t, ir_boolean_t, uv_boolean_t]), \n",
    "#                    VBox([text_t5, Blende_t_t_flexible_boolean, Blende_t_t_fix_boolean,Label('Telezentrieart:'),simpleTel_boolean,biTel_boolean ]), Slider_oversize_t, Slider_price_t, lense_t_Hersteller])\n",
    "\n",
    "distance_z_t = HBox([Label('Abstand [cm]:'),Slider_distance_t])\n",
    "depth_z_t = HBox([Label('Tiefe [cm]:'), Slider_depth_t])"
   ]
  },
  {
   "cell_type": "code",
   "execution_count": 52,
   "metadata": {},
   "outputs": [],
   "source": [
    "# Auswahllogik Festbrennweite\n",
    "def result_lense_f():\n",
    "    # clear current display\n",
    "    clear_output(wait = True)\n",
    "    # get distance inputs\n",
    "    z_min = Slider_l.value[0]*10 # minimal distance in mm\n",
    "    z_max = Slider_l.value[1]*10\n",
    "    depth = Slider_depth.value * 10\n",
    "    # get currently selected camera\n",
    "    global cam_selected\n",
    "    cam_selected = cameras.loc[(cameras['Name'] == choice_camera.value)]  \n",
    "    # get sensor size\n",
    "    sensor_diameter = cam_selected['Sensorgröße (mm)'].values[0]\n",
    "     \n",
    "    # calculate adjusted field of view according to selected sensor \n",
    "    FOV_horizontal = max(distance_x.value, distance_y.value) # FOV in cm\n",
    "    FOV_vertical = FOV_horizontal * cam_selected['Vertikale Aufl (Px)'] / cam_selected['Horizontale Aufl (Px)']\n",
    "    FOV_diameter = (FOV_horizontal**2 + FOV_vertical**2)**0.5\n",
    "    \n",
    "    # calculate range of focal length in dependence of selected range field\n",
    "    f_min = z_min * sensor_diameter / (sensor_diameter + 10 * FOV_diameter) \n",
    "    f_max = z_max * sensor_diameter / (sensor_diameter + 10 * FOV_diameter) \n",
    "    \n",
    "    # check different selections for spectral sensitivity\n",
    "    lense_f_sensitivity = []\n",
    "    if monochrome_boolean.value:\n",
    "        lense_f_sensitivity.append('Monochrome')\n",
    "    if colour_boolean.value:\n",
    "        lense_f_sensitivity.append('Colour')\n",
    "    if ir_boolean.value:\n",
    "        lense_f_sensitivity.append('IR')\n",
    "        lense_f_sensitivity.append('SWIR')\n",
    "        lense_f_sensitivity.append('VISNIR')\n",
    "    if uv_boolean.value:\n",
    "        lense_f_sensitivity.append('UV')\n",
    "        \n",
    "        \n",
    "    # check different selections for spectral sensitivity\n",
    "    lense_f_flexibility = []\n",
    "    if blende_flexible_boolean.value:\n",
    "        lense_f_flexibility.append('flexible')\n",
    "    if blende_fix_boolean.value:\n",
    "        lense_f_flexibility.append('fix')\n",
    "   \n",
    "    \n",
    "    #select fitting lenses\n",
    "    lense_f_preselection = lense_fixed.loc[\n",
    "                                (lense_fixed['Min Pixelgröße [µm]'] <= float(cam_selected['Pixelgröße (µm)'])) # pixel size\n",
    "                                 & (lense_fixed['Bilddiagonale [mm]'] >= float(cam_selected['Sensorgröße (mm)']))# Sensor size krasses Overfitting\n",
    "                                 & (lense_fixed['Objektivanschluss'] == cam_selected['Objektivanschluss'].values[0]) # mounting standard\n",
    "                                 & (lense_fixed['Spektrale Empfindlichkeit'].isin(lense_f_sensitivity)) # control spectral sensitivity\n",
    "                                ]\n",
    "    \n",
    "    if len(lense_f_preselection) > 0: #check if suitable lenses exist\n",
    "        # oversizing calculation\n",
    "        lense_f_preselection['Überdimensionierung Bilddiagonale'] = lense_f_preselection['Bilddiagonale [mm]']/sensor_diameter\n",
    "        \n",
    "        # Calculate the adapted focal length -> depends on the ration of Sensorgröße to Bilddiagonale (Frp factor)\n",
    "        lense_f_preselection['Brennweite_real'] = lense_f_preselection['Brennweite [mm]'] * lense_f_preselection['Überdimensionierung Bilddiagonale']\n",
    "                                               \n",
    "        # Berechnung Abreitsabstand\n",
    "        lense_f_preselection['Arbeitsabstand [cm]'] = (lense_f_preselection['Brennweite_real']*(cam_selected['Sensorgröße (mm)'].values[0] \n",
    "                                                + 10 * FOV_diameter.values[0]) / cam_selected['Sensorgröße (mm)'].values[0]) *0.1\n",
    "        #calculaiton Blende\n",
    "        global Blende  \n",
    "        Blende = ((depth * lense_f_preselection['Brennweite_real'] **2)\n",
    "                                                / (2 * lense_f_preselection['Arbeitsabstand [cm]']* 10 * float(cam_selected['Pixelgröße (µm)']*0.001) \n",
    "                                                * (lense_f_preselection['Arbeitsabstand [cm]']* 10 - lense_f_preselection['Brennweite_real'])))\n",
    "\n",
    "        if Blende.mean() > 11:\n",
    "            Blende_warning = 'Blendenzahl sehr kritisch: Größerer Bildsensor empfohlen'\n",
    "        elif Blende.mean() > 8:  \n",
    "            Blende_warning = 'Blende kritisch'\n",
    "        else:  \n",
    "            Blende_warning = 'Blende unkritisch'    \n",
    "\n",
    "        \n",
    "\n",
    "        #adjust slider range for oversizing\n",
    "        Slider_oversize.max = lense_f_preselection['Überdimensionierung Bilddiagonale'].max()+0.2\n",
    "        #adjust slider range price tag\n",
    "        Slider_l_price.min = lense_f_preselection['Listenpreis [€]'].min()\n",
    "        Slider_l_price.max = lense_f_preselection['Listenpreis [€]'].max()+20\n",
    "\n",
    "\n",
    "        # finale Auswahl inklusive bevorzugter Auswahloptionen: Arbeitsabstand, Preis, Robustheit etc.\n",
    "        # Delete lenses with blende = fix und Blende zu klein\n",
    "        blende_klein = lense_f_preselection[(lense_f_preselection['Blendentyp'] == 'fix') & (lense_f_preselection['Blendenzahl'] < Blende.mean())].index\n",
    "        lense_f_preselection.drop(blende_klein, inplace = True)\n",
    "\n",
    "\n",
    "        lense_f_selection = lense_f_preselection.loc[(lense_f_preselection['Arbeitsabstand [cm]'] >= z_min/10) # working distance\n",
    "                                                     & (lense_f_preselection['Arbeitsabstand [cm]'] <= z_max/10) # working distance\n",
    "                                                     & (lense_f_preselection['Arbeitsabstand [cm]']*10 >= lense_f_preselection['MOD [mm]']) # Überprüfung Einhaltung MOD\n",
    "                                                     & (lense_f_preselection['Blendentyp'].isin(lense_f_flexibility)) \n",
    "                                                     & (lense_f_preselection['Überdimensionierung Bilddiagonale'] <= Slider_oversize.value)\n",
    "                                                     & (lense_f_preselection['Listenpreis [€]'] <= Slider_l_price.value)\n",
    "                                                     & (lense_f_preselection['Hersteller'].isin(lense_f_Hersteller.value))\n",
    "                                                    ] \n",
    "\n",
    "        # check required schärfentiefe / with modified brennweite , special robustness\n",
    "        results_l_f = widgets.HTML(value= '<b>Mindestanforderungen:</b> Minimale Brennweite: %.2f mm, Maximale Brennweite: %.2f mm<br> Empfohlene eninzustellende Blende: %.1f<br> Warnung Blende: %s<br> Diagonale Bildsensor %.1f<br>Anzahl geeigneter Objektive: %d<br> Anzahl aktuell gezeigter Objektive: %d' \n",
    "                                 %(f_min, f_max, Blende.mean(), Blende_warning,sensor_diameter, len(lense_f_preselection.index), len(lense_f_selection.index)))\n",
    "\n",
    "        \n",
    "        if (len(lense_f_selection.index) > 0): #suitable lenses were found \n",
    "            # bubble chart for presenting\n",
    "            chart_l_f = px.scatter(lense_f_selection, x = 'Arbeitsabstand [cm]', y = 'Überdimensionierung Bilddiagonale', \n",
    "                            size='Min Pixelgröße [µm]', color='Listenpreis [€]', color_continuous_scale=[(0,\"green\"), \n",
    "                            (0.1, \"yellow\"), (1,\"red\")], hover_name=\"Name\", hover_data = ['Listenpreis [€]'], log_x=False, log_y= False, size_max=20)\n",
    "            #change chart axes\n",
    "            chart_l_f.update_xaxes(range=[0, 300])\n",
    "            chart_l_f.update_yaxes(range=[0.8, lense_f_preselection['Überdimensionierung Bilddiagonale'].max()+0.3])\n",
    "            # create dataframe of slected lenses, sorted by price\n",
    "            global df_lense_f_selection\n",
    "            df_lense_f_selection = lense_f_selection.sort_values(by='Listenpreis [€]', ascending=True, na_position='last')        \n",
    "            # adopt selection range for slider limits\n",
    "            Slider_l_results.max = len(lense_f_selection.index)\n",
    "            # show all created elements\n",
    "            display(lense_type_selection, text_l0,cam_selected, text_l6, text_l1, distance_z, text_l2, depth_z, text_l3, results_l_f, chart_l_f, adjustments,df_lense_f_selection.head(Slider_l_results.value), Slider_l_results, doublebreak)\n",
    "        else: # no suitable lenses with the current parameter settings -> user need to make adjustments  \n",
    "            #\n",
    "            display(lense_type_selection, text_l0,cam_selected, text_l6, text_l1, text_l6, distance_z, text_l2, depth_z, text_l3, results_l_f, adjustments, doublebreak)\n",
    "    else: # no suitable lenses for the current camera\n",
    "        display(lense_type_selection, text_l0,cam_selected, text_l6, text_l1, distance_z, text_l2, depth_z, text_l3,adjustments, warning_compatibility, doublebreak)\n",
    "               "
   ]
  },
  {
   "cell_type": "code",
   "execution_count": 53,
   "metadata": {},
   "outputs": [],
   "source": [
    "# Auswahllogik Telezntrisches Objektiv\n",
    "def result_lense_t(): \n",
    "    # clear current display\n",
    "    clear_output(wait = True)\n",
    "    # get distance inputs\n",
    "    z_min = Slider_distance_t.value[0]*10 # minimal distance in mm\n",
    "    z_max = Slider_distance_t.value[1]*10\n",
    "    depth = Slider_depth_t.value * 10\n",
    "    # get currently selected camera\n",
    "    global cam_selected\n",
    "    cam_selected = cameras.loc[(cameras['Name'] == choice_camera.value)]  \n",
    "    # get sensor size\n",
    "    sensor_diameter = cam_selected['Sensorgröße (mm)'].values[0]\n",
    "     \n",
    "    # calculate adjusted field of view according to selected sensor \n",
    "    FOV_horizontal = max(distance_x.value, distance_y.value) # FOV in cm\n",
    "    FOV_vertical = FOV_horizontal * cam_selected['Vertikale Aufl (Px)'] / cam_selected['Horizontale Aufl (Px)']\n",
    "    FOV_diameter = (FOV_horizontal**2 + FOV_vertical**2)**0.5\n",
    "      \n",
    "    # check different selections for spectral sensitivity\n",
    "    lense_t_sensitivity = []\n",
    "    if monochrome_boolean_t.value:\n",
    "        lense_t_sensitivity.append('Visible')\n",
    "    if colour_boolean_t.value:\n",
    "        lense_t_sensitivity.append('Visible')\n",
    "    if ir_boolean_t.value:\n",
    "        lense_t_sensitivity.append('IR')\n",
    "        lense_t_sensitivity.append('SWIR')\n",
    "        lense_t_sensitivity.append('VISNIR')\n",
    "    if uv_boolean_t.value:\n",
    "        lense_t_sensitivity.append('UV')\n",
    "        \n",
    "        \n",
    "    # check different selections for spectral sensitivity\n",
    "    lense_t_flexibility = []\n",
    "    if Blende_t_t_flexible_boolean.value:\n",
    "        lense_t_flexibility.append('flexible')\n",
    "    if Blende_t_t_fix_boolean.value:\n",
    "        lense_t_flexibility.append('fix')\n",
    "    \n",
    "    telecentricity_type = []\n",
    "    if simpleTel_boolean.value:\n",
    "        telecentricity_type.append('no')\n",
    "    if biTel_boolean.value:\n",
    "        telecentricity_type.append('yes')    \n",
    "        \n",
    "        \n",
    "    lense_telecentric['FOV Diagonale [cm]'] = round(cam_selected['Sensorgröße (mm)'].values[0] * 0.1 / lense_telecentric['Magnification (max)'], 2)\n",
    "    #select fitting lenses\n",
    "    lense_t_preselection = lense_telecentric.loc[\n",
    "                                (lense_telecentric['Min Pixelgröße [µm]'] <= float(cam_selected['Pixelgröße (µm)'])) # pixel size\n",
    "                                 & (lense_telecentric['Bilddiagonale [mm]'] >= float(cam_selected['Sensorgröße (mm)']))# Sensor size krasses Overfitting\n",
    "                                 & (lense_telecentric['Objektivanschluss'] == cam_selected['Objektivanschluss'].values[0]) # mounting standard\n",
    "                                 & (lense_telecentric['Spektrale Empfindlichkeit'].isin(lense_t_sensitivity)) # control spectral sensitivity\n",
    "                                 & (lense_telecentric['FOV Diagonale [cm]'] >= float(FOV_diameter))\n",
    "                                ]\n",
    "    count_lense_t = len(lense_t_preselection.index)\n",
    "    info_usecase_t = widgets.HTML(value= 'Benötigtes Sichtfeld (FOV Diagonale): %.1f cm  <br> Anzahl Kamera-kompatible telezentrische Objektive: %d' \n",
    "                                 %(FOV_diameter, count_lense_t))\n",
    "    \n",
    "    \n",
    "    if len(lense_t_preselection) > 0: #check if suitable lenses exist\n",
    "        # oversizing calculation\n",
    "        lense_t_preselection['Überdimensionierung Bilddiagonale'] = round(lense_t_preselection['Bilddiagonale [mm]']/sensor_diameter, 2)\n",
    "        lense_t_preselection['Approx. Schärfentiefe (aktuelle Konfig.) [mm]'] = round(8 * cam_selected['Pixelgröße (µm)'].values[0]*0.001 * lense_t_preselection['Blendenzahl'] / (lense_t_preselection['Magnification (max)']**2),2)\n",
    "        lense_t_preselection['Min. benötigte Blende'] = round((depth * lense_t_preselection['Magnification (max)']**2) / (8 * cam_selected['Pixelgröße (µm)'].values[0] * 0.001), 2)\n",
    "                \n",
    "        #adjust slider range for oversizing\n",
    "        Slider_oversize_t.max = lense_t_preselection['Überdimensionierung Bilddiagonale'].max()+0.2\n",
    "        #adjust slider range price tag\n",
    "        Slider_price_t.min = lense_t_preselection['Listenpreis [€]'].min()\n",
    "        Slider_price_t.max = lense_t_preselection['Listenpreis [€]'].max()+20\n",
    "\n",
    "        # Delete lenses with Blende_t = fix und Blende_t zu klein\n",
    "        Blende_t_low = lense_t_preselection[(lense_t_preselection['Blendentyp'] == 'fix') & (lense_t_preselection['Blendenzahl'] < lense_t_preselection['Min. benötigte Blende'])].index\n",
    "        lense_t_preselection.drop(Blende_t_low, inplace = True)\n",
    "\n",
    "\n",
    "        lense_t_selection = lense_t_preselection.loc[(lense_t_preselection['Messabstand [mm]'] >= z_min) # working distance\n",
    "                                                     & (lense_t_preselection['Messabstand [mm]'] <= z_max) # working distance\n",
    "                                                     & (lense_t_preselection['Blendentyp'].isin(lense_t_flexibility)) \n",
    "                                                     & (lense_t_preselection['Überdimensionierung Bilddiagonale'] <= Slider_oversize_t.value)\n",
    "                                                     & (lense_t_preselection['Listenpreis [€]'] <= Slider_price_t.value)\n",
    "                                                     & ((lense_t_preselection['Min. benötigte Blende'] <= 25) | (lense_t_preselection['Min. benötigte Blende'] <= lense_t_preselection['Blendenzahl']))\n",
    "                                                     & (lense_t_preselection['Hersteller'].isin(lense_t_Hersteller.value))\n",
    "                                                     & (lense_t_preselection['Bi-Telezentrie'].isin(telecentricity_type))\n",
    "                                                    ] \n",
    "                \n",
    "        results_l_t = widgets.HTML(value= 'Anzahl kompatibler Objektive: %d / %d' \n",
    "                                 %(len(lense_t_selection.index), count_lense_t))\n",
    "        \n",
    "        adjustments_t = HBox([VBox([results_l_t, Label('Spektrale Empfindlichkeit:'), monochrome_boolean_t, colour_boolean_t, ir_boolean_t, uv_boolean_t]), \n",
    "                    VBox([text_t5, Blende_t_t_flexible_boolean, Blende_t_t_fix_boolean,Label('Telezentrieart:'),simpleTel_boolean,biTel_boolean ]), Slider_oversize_t, Slider_price_t, lense_t_Hersteller])\n",
    "   \n",
    "        if (len(lense_t_selection.index) > 0): #suitable lenses were found \n",
    "            ##### evtl eher mögliche Objektgröße\n",
    "            # bubble chart for presenting\n",
    "            chart_l_t = px.scatter(lense_t_selection, x = 'Messabstand [mm]', y = 'Überdimensionierung Bilddiagonale', \n",
    "                            size='FOV Diagonale [cm]', color='Listenpreis [€]', color_continuous_scale=[(0,\"green\"), \n",
    "                            (0.1, \"yellow\"), (1,\"red\")], hover_name=\"Name\", hover_data = ['Listenpreis [€]'], log_x=False, log_y= False, size_max=20)\n",
    "            #change chart axes\n",
    "            ##### anpassen\n",
    "            chart_l_t.update_xaxes(range=[0, 600])\n",
    "            chart_l_t.update_yaxes(range=[0.8, lense_t_preselection['Überdimensionierung Bilddiagonale'].max()+0.3])\n",
    "            # create dataframe of slected lenses, sorted by price\n",
    "            global df_lense_t_selection\n",
    "            df_lense_t_selection = lense_t_selection.sort_values(by='Listenpreis [€]', ascending=True, na_position='last')        \n",
    "            # adopt selection range for slider limits\n",
    "            Slider_results_t.max = len(lense_t_selection.index)\n",
    "            # show all created elements\n",
    "            clear_output(wait = True)\n",
    "            display(lense_type_selection, text_t0, cam_selected, info_usecase_t, text_t6, text_t1, distance_z_t, text_t2, depth_z_t, text_t3, chart_l_t, adjustments_t,df_lense_t_selection.head(Slider_results_t.value), Slider_results_t, doublebreak)\n",
    "        else: # no suitable lenses with the current parameter settings -> user need to make adjustments_t  \n",
    "            display(lense_type_selection, text_t0, cam_selected, info_usecase_t, text_t6, text_t1, distance_z_t, text_t2, depth_z_t, text_t3, adjustments_t, doublebreak)\n",
    "    else: # no suitable lenses for the current camera\n",
    "        display(lense_type_selection, text_t0, cam_selected, info_usecase_t, text_t6, text_t1, distance_z_t, text_t2, depth_z_t, text_t3,warning_compatibility, doublebreak)\n",
    "        "
   ]
  },
  {
   "cell_type": "code",
   "execution_count": 54,
   "metadata": {
    "scrolled": false
   },
   "outputs": [
    {
     "data": {
      "application/vnd.jupyter.widget-view+json": {
       "model_id": "461b206ac51d455a9dcd849b7997995c",
       "version_major": 2,
       "version_minor": 0
      },
      "text/plain": [
       "ToggleButtons(index=1, layout=Layout(width='800px'), options=('Festbrennweite', 'Telezentrisch'), value='Telez…"
      ]
     },
     "metadata": {},
     "output_type": "display_data"
    },
    {
     "data": {
      "application/vnd.jupyter.widget-view+json": {
       "model_id": "5dfe09869fee4df5890b28ecf0a04928",
       "version_major": 2,
       "version_minor": 0
      },
      "text/plain": [
       "HTML(value='<b>A) Ausgewählte Kamera_____________________________________________________________</b>')"
      ]
     },
     "metadata": {},
     "output_type": "display_data"
    },
    {
     "data": {
      "text/html": [
       "<div>\n",
       "<style scoped>\n",
       "    .dataframe tbody tr th:only-of-type {\n",
       "        vertical-align: middle;\n",
       "    }\n",
       "\n",
       "    .dataframe tbody tr th {\n",
       "        vertical-align: top;\n",
       "    }\n",
       "\n",
       "    .dataframe thead th {\n",
       "        text-align: right;\n",
       "    }\n",
       "</style>\n",
       "<table border=\"1\" class=\"dataframe\">\n",
       "  <thead>\n",
       "    <tr style=\"text-align: right;\">\n",
       "      <th></th>\n",
       "      <th>Hersteller</th>\n",
       "      <th>Name</th>\n",
       "      <th>Listenpreis [€]</th>\n",
       "      <th>Auflösung</th>\n",
       "      <th>Pixelgröße (µm)</th>\n",
       "      <th>Bildfrequenz (Hz)</th>\n",
       "      <th>Gehäusetyp</th>\n",
       "      <th>Objektivanschluss</th>\n",
       "      <th>Horizontale Aufl (Px)</th>\n",
       "      <th>Vertikale Aufl (Px)</th>\n",
       "      <th>Sensortyp</th>\n",
       "      <th>Sensorgröße (mm)</th>\n",
       "      <th>Sensormodel</th>\n",
       "      <th>Sensorformat</th>\n",
       "      <th>Seitenverhältnis</th>\n",
       "      <th>Spektrale Empfindlichkeit</th>\n",
       "      <th>Shuttertyp</th>\n",
       "      <th>Dynamic Range [dB]</th>\n",
       "      <th>S/N-ratio [dB]</th>\n",
       "      <th>Ausgabeformate</th>\n",
       "      <th>Schnittstellenkonfiguration</th>\n",
       "      <th>Schnittstelle</th>\n",
       "      <th>Sensorkonfiguration</th>\n",
       "      <th>Link-href</th>\n",
       "    </tr>\n",
       "  </thead>\n",
       "  <tbody>\n",
       "    <tr>\n",
       "      <th>70</th>\n",
       "      <td>Allied Vision</td>\n",
       "      <td>AV BONITO PRO X-2620B</td>\n",
       "      <td>7490.0</td>\n",
       "      <td>26.2</td>\n",
       "      <td>4.5</td>\n",
       "      <td>80.0</td>\n",
       "      <td>Large format</td>\n",
       "      <td>F-Mount</td>\n",
       "      <td>5120</td>\n",
       "      <td>5120</td>\n",
       "      <td>CMOS</td>\n",
       "      <td>32.6</td>\n",
       "      <td>Python 25K</td>\n",
       "      <td>APS-H</td>\n",
       "      <td>1.0</td>\n",
       "      <td>Monochrome</td>\n",
       "      <td>Global shutter/Prog scan</td>\n",
       "      <td>NaN</td>\n",
       "      <td>NaN</td>\n",
       "      <td>Mono8</td>\n",
       "      <td>PoCXP</td>\n",
       "      <td>NaN</td>\n",
       "      <td>Single sensor</td>\n",
       "      <td>https://www.stemmer-imaging.com/de-de/produkte/av-bonito-pro-x-2620b/</td>\n",
       "    </tr>\n",
       "  </tbody>\n",
       "</table>\n",
       "</div>"
      ],
      "text/plain": [
       "       Hersteller                   Name  Listenpreis [€]  Auflösung  \\\n",
       "70  Allied Vision  AV BONITO PRO X-2620B           7490.0       26.2   \n",
       "\n",
       "    Pixelgröße (µm)  Bildfrequenz (Hz)    Gehäusetyp Objektivanschluss  \\\n",
       "70              4.5               80.0  Large format           F-Mount   \n",
       "\n",
       "    Horizontale Aufl (Px)  Vertikale Aufl (Px) Sensortyp  Sensorgröße (mm)  \\\n",
       "70                   5120                 5120      CMOS              32.6   \n",
       "\n",
       "   Sensormodel Sensorformat  Seitenverhältnis Spektrale Empfindlichkeit  \\\n",
       "70  Python 25K        APS-H               1.0                Monochrome   \n",
       "\n",
       "                  Shuttertyp  Dynamic Range [dB]  S/N-ratio [dB]  \\\n",
       "70  Global shutter/Prog scan                 NaN             NaN   \n",
       "\n",
       "   Ausgabeformate Schnittstellenkonfiguration Schnittstelle  \\\n",
       "70          Mono8                       PoCXP           NaN   \n",
       "\n",
       "   Sensorkonfiguration  \\\n",
       "70       Single sensor   \n",
       "\n",
       "                                                                Link-href  \n",
       "70  https://www.stemmer-imaging.com/de-de/produkte/av-bonito-pro-x-2620b/  "
      ]
     },
     "metadata": {},
     "output_type": "display_data"
    },
    {
     "data": {
      "application/vnd.jupyter.widget-view+json": {
       "model_id": "9ea3eab5251145abb7d2b83a77b3de7d",
       "version_major": 2,
       "version_minor": 0
      },
      "text/plain": [
       "HTML(value='Benötigtes Sichtfeld (FOV Diagonale): 28.3 cm  <br> Anzahl Kamera-kompatible telezentrische Objekt…"
      ]
     },
     "metadata": {},
     "output_type": "display_data"
    },
    {
     "data": {
      "application/vnd.jupyter.widget-view+json": {
       "model_id": "274109d3878d4264ae1a7d82bcc09c37",
       "version_major": 2,
       "version_minor": 0
      },
      "text/plain": [
       "HTML(value='<b><br>B) Weitere Spezifikationen des Anwendungsfall_______________________________________</b>')"
      ]
     },
     "metadata": {},
     "output_type": "display_data"
    },
    {
     "data": {
      "application/vnd.jupyter.widget-view+json": {
       "model_id": "39df63e4a41d4d7885783c7e499a708a",
       "version_major": 2,
       "version_minor": 0
      },
      "text/plain": [
       "HTML(value='1) Was ist der minimal und maximal zulässige Abstand zwischen Objekt und Objektiv?')"
      ]
     },
     "metadata": {},
     "output_type": "display_data"
    },
    {
     "data": {
      "application/vnd.jupyter.widget-view+json": {
       "model_id": "375df85637884f2d91994c5060bd4f3d",
       "version_major": 2,
       "version_minor": 0
      },
      "text/plain": [
       "HBox(children=(Label(value='Abstand [cm]:'), IntRangeSlider(value=(2, 60), continuous_update=False, layout=Lay…"
      ]
     },
     "metadata": {},
     "output_type": "display_data"
    },
    {
     "data": {
      "application/vnd.jupyter.widget-view+json": {
       "model_id": "90d33d79f1e641eb81e0d854f2224d68",
       "version_major": 2,
       "version_minor": 0
      },
      "text/plain": [
       "HTML(value='2) Was ist der relevante Tiefenbereich des Objektes, der scharf abgebildet werden muss?')"
      ]
     },
     "metadata": {},
     "output_type": "display_data"
    },
    {
     "data": {
      "application/vnd.jupyter.widget-view+json": {
       "model_id": "1ea4c053c46248c7ae289d23401fb15e",
       "version_major": 2,
       "version_minor": 0
      },
      "text/plain": [
       "HBox(children=(Label(value='Tiefe [cm]:'), FloatSlider(value=0.0, continuous_update=False, max=25.0, readout_f…"
      ]
     },
     "metadata": {},
     "output_type": "display_data"
    },
    {
     "data": {
      "application/vnd.jupyter.widget-view+json": {
       "model_id": "c357f7ffa30a4fe39103df54b3d1f578",
       "version_major": 2,
       "version_minor": 0
      },
      "text/plain": [
       "HTML(value='<b><br>C) Übersicht geeigneter Objektive & Detailspezifikation________________________________</b>…"
      ]
     },
     "metadata": {},
     "output_type": "display_data"
    },
    {
     "data": {
      "application/vnd.jupyter.widget-view+json": {
       "model_id": "50250e4bc02e4ca1bdee85abcc073590",
       "version_major": 2,
       "version_minor": 0
      },
      "text/plain": [
       "HTML(value='<b>Keine passenden Objektive für die Kamera vorhanden. Bitte überprüfen Sie den Objektivanschluss …"
      ]
     },
     "metadata": {},
     "output_type": "display_data"
    },
    {
     "data": {
      "application/vnd.jupyter.widget-view+json": {
       "model_id": "9f395bf9d3604d6182cef1af67de3cd5",
       "version_major": 2,
       "version_minor": 0
      },
      "text/plain": [
       "HTML(value='<b><br><br>')"
      ]
     },
     "metadata": {},
     "output_type": "display_data"
    }
   ],
   "source": [
    "\n",
    "\n",
    "\n",
    "\n",
    "# click control Festbrennweite\n",
    "def on_change_lense(change):\n",
    "    if change['type'] == 'change' and change['name'] == 'value':\n",
    "        result_lense_f()\n",
    "\n",
    "# dclick control Telezentrie\n",
    "def on_change_lense_t(change):\n",
    "    if change['type'] == 'change' and change['name'] == 'value':\n",
    "        result_lense_t()\n",
    "\n",
    "# switch function\n",
    "def mode_ql():\n",
    "    if lense_type_selection.value == 'Festbrennweite':\n",
    "        result_lense_f()\n",
    "    else:\n",
    "        result_lense_t()\n",
    "\n",
    "# click control Festbrennweite\n",
    "def selection_ql(change):\n",
    "    if change['type'] == 'change' and change['name'] == 'value':\n",
    "        mode_ql()          \n",
    "\n",
    "# observe elements Fesbrennweite\n",
    "Slider_l.observe(on_change_lense)\n",
    "Slider_depth.observe(on_change_lense)\n",
    "monochrome_boolean.observe(on_change_lense)\n",
    "colour_boolean.observe(on_change_lense)\n",
    "ir_boolean.observe(on_change_lense)\n",
    "uv_boolean.observe(on_change_lense)\n",
    "blende_flexible_boolean.observe(on_change_lense)\n",
    "blende_fix_boolean.observe(on_change_lense)\n",
    "Slider_oversize.observe(on_change_lense)\n",
    "Slider_l_price.observe(on_change_lense)\n",
    "lense_f_Hersteller.observe(on_change_lense)\n",
    "Slider_l_results.observe(on_change_lense)\n",
    "\n",
    "# observe elements Telezentrie\n",
    "Slider_distance_t.observe(on_change_lense_t)\n",
    "Slider_depth_t.observe(on_change_lense_t)\n",
    "monochrome_boolean_t.observe(on_change_lense_t)\n",
    "colour_boolean_t.observe(on_change_lense_t)\n",
    "ir_boolean_t.observe(on_change_lense_t)\n",
    "uv_boolean_t.observe(on_change_lense_t)\n",
    "Blende_t_t_flexible_boolean.observe(on_change_lense_t)\n",
    "Blende_t_t_fix_boolean.observe(on_change_lense_t)\n",
    "Slider_oversize_t.observe(on_change_lense_t)\n",
    "Slider_price_t.observe(on_change_lense_t)\n",
    "lense_t_Hersteller.observe(on_change_lense_t)\n",
    "Slider_results_t.observe(on_change_lense_t)\n",
    "simpleTel_boolean.observe(on_change_lense_t)\n",
    "biTel_boolean.observe(on_change_lense_t)\n",
    "\n",
    "# observe elements switch\n",
    "lense_type_selection.observe(selection_ql)\n",
    "\n",
    "# start screen\n",
    "result_lense_f()\n",
    "\n"
   ]
  },
  {
   "cell_type": "code",
   "execution_count": null,
   "metadata": {},
   "outputs": [],
   "source": []
  },
  {
   "cell_type": "code",
   "execution_count": null,
   "metadata": {},
   "outputs": [],
   "source": []
  },
  {
   "cell_type": "code",
   "execution_count": null,
   "metadata": {},
   "outputs": [],
   "source": []
  },
  {
   "cell_type": "code",
   "execution_count": null,
   "metadata": {},
   "outputs": [],
   "source": []
  },
  {
   "cell_type": "code",
   "execution_count": null,
   "metadata": {},
   "outputs": [],
   "source": []
  },
  {
   "cell_type": "code",
   "execution_count": null,
   "metadata": {},
   "outputs": [],
   "source": []
  },
  {
   "cell_type": "markdown",
   "metadata": {},
   "source": [
    "## 5) Auswahl Beleuchtungsart"
   ]
  },
  {
   "cell_type": "code",
   "execution_count": 18,
   "metadata": {},
   "outputs": [],
   "source": [
    "text_image1 = widgets.HTML(value='Beleuchtungsanordnung:')\n",
    "text_image2 = widgets.HTML(value='Beispielapplikation:')\n",
    "\n",
    "Dom = widgets.Image(\n",
    "    value=open(\"Data/images/Dom.png\", 'rb').read(),\n",
    "    format='png',\n",
    "    width=300,\n",
    "    height=400,\n",
    ")\n",
    "Dom_bsp = widgets.Image(\n",
    "    value=open(\"Data/images/Dom_bsp.png\", 'rb').read(),\n",
    "    format='png',\n",
    "    width=900,\n",
    "    height=400,\n",
    ")\n",
    "Dunkelfeldbeleuchtung = widgets.Image(\n",
    "    value=open(\"Data/images/Dunkelfeldbeleuchtung.png\", 'rb').read(),\n",
    "    format='png',\n",
    "    width=300,\n",
    "    height=400,\n",
    ")\n",
    "Dunkelfeldbeleuchtung_bsp = widgets.Image(\n",
    "    value=open(\"Data/images/Dunkelfeldbeleuchtung_bsp.png\", 'rb').read(),\n",
    "    format='png',\n",
    "    width=900,\n",
    "    height=400,\n",
    ")\n",
    "DunkelfeldDurchlicht = widgets.Image(\n",
    "    value=open(\"Data/images/DunkelfeldDurchlicht.png\", 'rb').read(),\n",
    "    format='png',\n",
    "    width=300,\n",
    "    height=400,\n",
    ")\n",
    "DunkelfeldDurchlicht_bsp = widgets.Image(\n",
    "    value=open(\"Data/images/DunkelfeldDurchlicht_bsp.png\", 'rb').read(),\n",
    "    format='png',\n",
    "    width=900,\n",
    "    height=400,\n",
    ")\n",
    "DunkelfeldTransmissiv = widgets.Image(\n",
    "    value=open(\"Data/images/DunkelfeldTransmissiv.png\", 'rb').read(),\n",
    "    format='png',\n",
    "    width=300,\n",
    "    height=400,\n",
    ")\n",
    "DunkelfeldTransmissiv_bsp = widgets.Image(\n",
    "    value=open(\"Data/images/DunkelfeldTransmissiv_bsp.png\", 'rb').read(),\n",
    "    format='png',\n",
    "    width=900,\n",
    "    height=400,\n",
    ")\n",
    "Durchlichtdiffus = widgets.Image(\n",
    "    value=open(\"Data/images/Durchlichtdiffus.png\", 'rb').read(),\n",
    "    format='png',\n",
    "    width=300,\n",
    "    height=400,\n",
    ")\n",
    "Durchlichtdiffus_bsp_refl = widgets.Image(\n",
    "    value=open(\"Data/images/Durchlichtdiffus_bsp_refl.png\", 'rb').read(),\n",
    "    format='png',\n",
    "    width=900,\n",
    "    height=400,\n",
    ")\n",
    "Durchlichtdiffus_bsp_transp = widgets.Image(\n",
    "    value=open(\"Data/images/Durchlichtdiffus_bsp_transp.png\", 'rb').read(),\n",
    "    format='png',\n",
    "    width=900,\n",
    "    height=400,\n",
    ")\n",
    "Flachdom = widgets.Image(\n",
    "    value=open(\"Data/images/Flachdom.png\", 'rb').read(),\n",
    "    format='png',\n",
    "    width=300,\n",
    "    height=400,\n",
    ")\n",
    "Hellfeldbeleuchtung = widgets.Image(\n",
    "    value=open(\"Data/images/Hellfeldbeleuchtung.png\", 'rb').read(),\n",
    "    format='png',\n",
    "    width=300,\n",
    "    height=400,\n",
    ")\n",
    "Hellfeldbeleuchtung_bsp = widgets.Image(\n",
    "    value=open(\"Data/images/Hellfeldbeleuchtung_bsp.png\", 'rb').read(),\n",
    "    format='png',\n",
    "    width=900,\n",
    "    height=400,\n",
    ")\n",
    "Homogenkoaxial = widgets.Image(\n",
    "    value=open(\"Data/images/Homogenkoaxial.png\", 'rb').read(),\n",
    "    format='png',\n",
    "    width=300,\n",
    "    height=400,\n",
    ")\n",
    "Homogenkoaxial_bsp = widgets.Image(\n",
    "    value=open(\"Data/images/Homogenkoaxial_bsp.png\", 'rb').read(),\n",
    "    format='png',\n",
    "    width=900,\n",
    "    height=400,\n",
    ")\n",
    "Standardkoaxial = widgets.Image(\n",
    "    value=open(\"Data/images/Standardkoaxial.png\", \"rb\").read(),\n",
    "    format='png',\n",
    "    width=300,\n",
    "    height=400,\n",
    ")\n",
    "Standardkoaxial_bsp = widgets.Image(\n",
    "    value=open(\"Data/images/Standardkoaxial_bsp.png\", 'rb').read(),\n",
    "    format='png',\n",
    "    width=900,\n",
    "    height=400,\n",
    ")\n",
    "TelezentrischHintergrund = widgets.Image(\n",
    "    value=open(\"Data/images/TelezentrischHintergrund.png\", \"rb\").read(),\n",
    "    format='png',\n",
    "    width=300,\n",
    "    height=400,\n",
    ")\n",
    "TelezentrischHintergrund_bsp = widgets.Image(\n",
    "    value=open(\"Data/images/TelezentrischHintergrund_bsp.png\", 'rb').read(),\n",
    "    format='png',\n",
    "    width=900,\n",
    "    height=400,\n",
    ")\n",
    "TelezentrischKoaxial = widgets.Image(\n",
    "    value=open(\"Data/images/TelezentrischKoaxial.png\", \"rb\").read(),\n",
    "    format='png',\n",
    "    width=300,\n",
    "    height=400,\n",
    ")\n",
    "TelezentrischKoaxial_bsp = widgets.Image(\n",
    "    value=open(\"Data/images/TelezentrischKoaxial_bsp.png\", 'rb').read(),\n",
    "    format='png',\n",
    "    width=900,\n",
    "    height=400,\n",
    ")   \n",
    "def Hellfeld_fct():\n",
    "    #Hellfeld\n",
    "    display(widgets.HTML('<a href=\"https://www.stemmer-imaging.com/de-de/produkte/kategorie/led-ringleuchten/\" target=\"_blank\"><b>Hellfeldbeleuchtung</b></a>'),\n",
    "            HBox([VBox([text_image1, Hellfeldbeleuchtung]), VBox([text_image2, Hellfeldbeleuchtung_bsp])]))\n",
    "def Standardkoaxial_fct():\n",
    "    #Standard koaxial\n",
    "    display(widgets.HTML('<a href=\"https://www.stemmer-imaging.com/de-de/produkte/kategorie/led-koaxialbeleuchtungen/\" target=\"_blank\"><b>Koaxialbeleuchtung</b></a>'),\n",
    "            HBox([VBox([text_image1, Standardkoaxial]), VBox([text_image2, Standardkoaxial_bsp])]))\n",
    "def Homogenkoaxial_fct():\n",
    "    #Homogenkoaxial\n",
    "    display(widgets.HTML('<a href=\"https://www.stemmer-imaging.com/de-de/produkte/kategorie/led-koaxialbeleuchtungen/\" target=\"_blank\"><b>Koaxialbeleuchtung, homogen</b></a>'),\n",
    "            HBox([VBox([text_image1, Homogenkoaxial]), VBox([text_image2, Homogenkoaxial_bsp])]))\n",
    "def Dom_fct():\n",
    "    #Dom\n",
    "    display(widgets.HTML('<a href=\"https://www.stemmer-imaging.com/de-de/produkte/kategorie/led-dom-beleuchtungen/\" target=\"_blank\"><b>Dombeleuchtung</b></a>'),\n",
    "            HBox([VBox([text_image1, Dom]), VBox([text_image2, Dom_bsp])]))\n",
    "def Flachdom_fct():\n",
    "    # Flachdom\n",
    "    display(widgets.HTML('<a href=\"https://www.stemmer-imaging.com/de-de/produkte/serie/ccs-ldr2/\" target=\"_blank\"><b>Flachdom</b></a>'),\n",
    "            HBox([VBox([text_image1, Flachdom]), VBox([text_image2, Dom_bsp])]))\n",
    "def TelezentrischKoaxial_fct():\n",
    "    #Telezentrisch Koaxial\n",
    "    display(widgets.HTML('<a href=\"https://www.stemmer-imaging.com/de-de/produkte/kategorie/telezentrische-led-beleuchtungen/\" target=\"_blank\"><b>Koaxialbeleuchtung, Telezentrisch</b></a>'),\n",
    "            HBox([VBox([text_image1, TelezentrischKoaxial]), VBox([text_image2, TelezentrischKoaxial_bsp])]))\n",
    "def Dunkelfeldbeleuchtung_fct():\n",
    "    #Dunkelfeld\n",
    "    display(widgets.HTML('<a href=\"https://www.stemmer-imaging.com/de-de/produkte/kategorie/led-dunkelfeldbeleuchtungen/\" target=\"_blank\"><b>Dunkelfeld, Auflicht</b></a>'),\n",
    "            HBox([VBox([text_image1, Dunkelfeldbeleuchtung]), VBox([text_image2, Dunkelfeldbeleuchtung_bsp])]))\n",
    "def DunkelfeldDurchlicht_fct():\n",
    "    #Dunkelfeld Durchlicht\n",
    "    display(widgets.HTML('<a href=\"https://www.stemmer-imaging.com/de-de/produkte/kategorie/led-dunkelfeldbeleuchtungen/\" target=\"_blank\"><b>Dunkelfeld, Hintergrundbeleuchtung</b></a>'),\n",
    "            HBox([VBox([text_image1, DunkelfeldDurchlicht]), VBox([text_image2, DunkelfeldDurchlicht_bsp])]))\n",
    "def DunkelfeldTransmissiv_fct():\n",
    "    # Dunkelfeldtransmissiv\n",
    "    display(widgets.HTML('<a href=\"https://www.stemmer-imaging.com/de-de/produkte/kategorie/led-dunkelfeldbeleuchtungen/\" target=\"_blank\"><b>Dunkelfeld, Transmissiv</b></a>'),\n",
    "            HBox([VBox([text_image1, DunkelfeldTransmissiv]), VBox([text_image2, DunkelfeldTransmissiv_bsp])]))\n",
    "def Durchlichtdiffus_refl_fct():\n",
    "    # Durchlicht Diffus, reflektiv\n",
    "    display(widgets.HTML('<a href=\"https://www.stemmer-imaging.com/de-de/produkte/kategorie/led-leuchtfelder-fuer-durchlicht-anwendungen/\" target=\"_blank\"><b>Durchlicht, Diffus </b></a>'),\n",
    "            HBox([VBox([text_image1, Durchlichtdiffus]), VBox([text_image2, Durchlichtdiffus_bsp_refl])]))\n",
    "def Durchlichtdiffus_transp_fct():\n",
    "    # Durchlicht Diffus, transparent\n",
    "    display(widgets.HTML('<a href=\"https://www.stemmer-imaging.com/de-de/produkte/kategorie/led-leuchtfelder-fuer-durchlicht-anwendungen/\" target=\"_blank\"><b>Durchlicht, Diffus </b></a>'),\n",
    "            HBox([VBox([text_image1, Durchlichtdiffus]), VBox([text_image2, Durchlichtdiffus_bsp_transp])]))\n",
    "def TelezentrischHintergrund_fct():\n",
    "    #Telezentrisch Hintergrund\n",
    "    display(widgets.HTML('<a href=\"https://www.stemmer-imaging.com/de-de/produkte/kategorie/telezentrische-led-beleuchtungen/\" target=\"_blank\"><b>Durchlicht, Telezentrisch</b></a>'),\n",
    "            HBox([VBox([text_image1, TelezentrischHintergrund]), VBox([text_image2, TelezentrischHintergrund_bsp])]))\n",
    "def show_all_light():\n",
    "    Hellfeld_fct()\n",
    "    Standardkoaxial_fct()\n",
    "    Homogenkoaxial_fct()\n",
    "    Dom_fct()\n",
    "    Flachdom_fct()\n",
    "    TelezentrischKoaxial_fct()\n",
    "    Dunkelfeldbeleuchtung_fct()\n",
    "    DunkelfeldDurchlicht_fct()\n",
    "    DunkelfeldTransmissiv_fct()\n",
    "    Durchlichtdiffus_refl_fct()\n",
    "    Durchlichtdiffus_transp_fct()\n",
    "    TelezentrischHintergrund_fct()    "
   ]
  },
  {
   "cell_type": "code",
   "execution_count": null,
   "metadata": {},
   "outputs": [],
   "source": []
  },
  {
   "cell_type": "code",
   "execution_count": 19,
   "metadata": {
    "scrolled": false
   },
   "outputs": [
    {
     "data": {
      "application/vnd.jupyter.widget-view+json": {
       "model_id": "c99b3f610c5642d88c688496c9bb50e1",
       "version_major": 2,
       "version_minor": 0
      },
      "text/plain": [
       "ToggleButtons(layout=Layout(width='800px'), options=('Entscheidungshilfe', 'Übersicht'), value='Entscheidungsh…"
      ]
     },
     "metadata": {},
     "output_type": "display_data"
    },
    {
     "data": {
      "application/vnd.jupyter.widget-view+json": {
       "model_id": "5844943476404d23bc2f8ab7871f3571",
       "version_major": 2,
       "version_minor": 0
      },
      "text/plain": [
       "HTML(value='1) Ist das zu untersuchende Objekt flach oder eher wellig / konkav / konvex?')"
      ]
     },
     "metadata": {},
     "output_type": "display_data"
    },
    {
     "data": {
      "application/vnd.jupyter.widget-view+json": {
       "model_id": "bb6e94a2427d496c825d24af40acc3be",
       "version_major": 2,
       "version_minor": 0
      },
      "text/plain": [
       "Dropdown(description='Antwort:', options=('Flach', 'Wellig / konkav / konvex'), value='Flach')"
      ]
     },
     "metadata": {},
     "output_type": "display_data"
    },
    {
     "data": {
      "application/vnd.jupyter.widget-view+json": {
       "model_id": "841202e1c1b64d63a7788dfa48c8f240",
       "version_major": 2,
       "version_minor": 0
      },
      "text/plain": [
       "HTML(value='2) Reflektiert oder transmittiert das zu untersuchende Objekt Licht?')"
      ]
     },
     "metadata": {},
     "output_type": "display_data"
    },
    {
     "data": {
      "application/vnd.jupyter.widget-view+json": {
       "model_id": "39aef512aaac42dab3c68721157bde25",
       "version_major": 2,
       "version_minor": 0
      },
      "text/plain": [
       "Dropdown(description='Antwort:', options=('Reflektierend', 'Transparent'), value='Reflektierend')"
      ]
     },
     "metadata": {},
     "output_type": "display_data"
    },
    {
     "data": {
      "application/vnd.jupyter.widget-view+json": {
       "model_id": "d5da6581888b457bb71266c04cfb1a8d",
       "version_major": 2,
       "version_minor": 0
      },
      "text/plain": [
       "HTML(value='3) Sollen Flächen parallel zur Kamera im Vergleich zu Kanten / (nichtparallelen Flächen) hell oder…"
      ]
     },
     "metadata": {},
     "output_type": "display_data"
    },
    {
     "data": {
      "application/vnd.jupyter.widget-view+json": {
       "model_id": "e3ef9e60c0eb4261856eebc45710a326",
       "version_major": 2,
       "version_minor": 0
      },
      "text/plain": [
       "Dropdown(description='Antwort:', options=('Hell', 'Dunkel'), value='Hell')"
      ]
     },
     "metadata": {},
     "output_type": "display_data"
    },
    {
     "data": {
      "application/vnd.jupyter.widget-view+json": {
       "model_id": "38bb5ec56c49437682c2d9c65eabf39c",
       "version_major": 2,
       "version_minor": 0
      },
      "text/plain": [
       "HTML(value='4) Sollen zur Kamera nichtparallele Flächen / Kanten / Konturen / Unebenheiten hell oder dunkel wi…"
      ]
     },
     "metadata": {},
     "output_type": "display_data"
    },
    {
     "data": {
      "application/vnd.jupyter.widget-view+json": {
       "model_id": "8d3cc67e663f421592399de39ff4eb9d",
       "version_major": 2,
       "version_minor": 0
      },
      "text/plain": [
       "Dropdown(description='Antwort:', options=('Hell', 'Dunkel'), value='Hell')"
      ]
     },
     "metadata": {},
     "output_type": "display_data"
    },
    {
     "data": {
      "application/vnd.jupyter.widget-view+json": {
       "model_id": "5c56e61eb6bb46a4a120220b1732640f",
       "version_major": 2,
       "version_minor": 0
      },
      "text/plain": [
       "HTML(value='<b>Standard Hellfeld, Standard Koaxial, Homogen koaxial</b>')"
      ]
     },
     "metadata": {},
     "output_type": "display_data"
    },
    {
     "data": {
      "application/vnd.jupyter.widget-view+json": {
       "model_id": "a2185e1b8b1d4351929d8e22983ee607",
       "version_major": 2,
       "version_minor": 0
      },
      "text/plain": [
       "HTML(value='<a href=\"https://www.stemmer-imaging.com/de-de/produkte/kategorie/led-ringleuchten/\" target=\"_blan…"
      ]
     },
     "metadata": {},
     "output_type": "display_data"
    },
    {
     "data": {
      "application/vnd.jupyter.widget-view+json": {
       "model_id": "fd82a802731f47558f9a568183fc23e4",
       "version_major": 2,
       "version_minor": 0
      },
      "text/plain": [
       "HBox(children=(VBox(children=(HTML(value='Beleuchtungsanordnung:'), Image(value=b'\\x89PNG\\r\\n\\x1a\\n\\x00\\x00\\x0…"
      ]
     },
     "metadata": {},
     "output_type": "display_data"
    },
    {
     "data": {
      "application/vnd.jupyter.widget-view+json": {
       "model_id": "de29eec16c5544888d48c640b0670e6b",
       "version_major": 2,
       "version_minor": 0
      },
      "text/plain": [
       "HTML(value='<a href=\"https://www.stemmer-imaging.com/de-de/produkte/kategorie/led-koaxialbeleuchtungen/\" targe…"
      ]
     },
     "metadata": {},
     "output_type": "display_data"
    },
    {
     "data": {
      "application/vnd.jupyter.widget-view+json": {
       "model_id": "0baf3d422d9f4450ac42719ac4f1340e",
       "version_major": 2,
       "version_minor": 0
      },
      "text/plain": [
       "HBox(children=(VBox(children=(HTML(value='Beleuchtungsanordnung:'), Image(value=b'\\x89PNG\\r\\n\\x1a\\n\\x00\\x00\\x0…"
      ]
     },
     "metadata": {},
     "output_type": "display_data"
    },
    {
     "data": {
      "application/vnd.jupyter.widget-view+json": {
       "model_id": "ab3543a4f8a54e37937919e50d17208d",
       "version_major": 2,
       "version_minor": 0
      },
      "text/plain": [
       "HTML(value='<a href=\"https://www.stemmer-imaging.com/de-de/produkte/kategorie/led-koaxialbeleuchtungen/\" targe…"
      ]
     },
     "metadata": {},
     "output_type": "display_data"
    },
    {
     "data": {
      "application/vnd.jupyter.widget-view+json": {
       "model_id": "2e19639b938f49c8a71ad2964d68de99",
       "version_major": 2,
       "version_minor": 0
      },
      "text/plain": [
       "HBox(children=(VBox(children=(HTML(value='Beleuchtungsanordnung:'), Image(value=b'\\x89PNG\\r\\n\\x1a\\n\\x00\\x00\\x0…"
      ]
     },
     "metadata": {},
     "output_type": "display_data"
    },
    {
     "data": {
      "application/vnd.jupyter.widget-view+json": {
       "model_id": "275dd9c8a0ef4a7f87d2877a112b1b8d",
       "version_major": 2,
       "version_minor": 0
      },
      "text/plain": [
       "HTML(value='<b><br><br>')"
      ]
     },
     "metadata": {},
     "output_type": "display_data"
    }
   ],
   "source": [
    "# Auswahl geeignete Beleuchtungsanordnung\n",
    "# Grundsatzfrage: telezentrische Beleuchtung extra, Zusatzfaktor\n",
    "# other decisions: flash light?,\n",
    "# Hübsche Bilder Fragen\n",
    "# Warnung: rein qualitativ logsiche Ergebnisse, testen erforderlich\n",
    "\n",
    "text_b1 = widgets.HTML(value='1) Ist das zu untersuchende Objekt flach oder eher wellig / konkav / konvex?')\n",
    "text_b2 = widgets.HTML(value='2) Reflektiert oder transmittiert das zu untersuchende Objekt Licht?')\n",
    "text_b3 = widgets.HTML(value='3) Sollen Flächen parallel zur Kamera im Vergleich zu Kanten / (nichtparallelen Flächen) hell oder dunkel wirken? (siehe Beispiel)') # Explain these terminologies\n",
    "text_b4 = widgets.HTML(value='4) Sollen zur Kamera nichtparallele Flächen / Kanten / Konturen / Unebenheiten hell oder dunkel wirken?') # Explain\n",
    "\n",
    "#Questions\n",
    "options_qb1 = ['Flach','Wellig / konkav / konvex']\n",
    "options_qb2 = ['Reflektierend', 'Transparent']\n",
    "options_qb3 = ['Hell','Dunkel']\n",
    "options_qb4 = ['Hell','Dunkel']\n",
    "\n",
    "\n",
    "q_b1 = widgets.Dropdown(\n",
    "    options= options_qb1,\n",
    "    value=options_qb1[0],\n",
    "    description='Antwort:',\n",
    "    disabled=False,\n",
    ")\n",
    "q_b2 = widgets.Dropdown(\n",
    "    options= options_qb2,\n",
    "    value=options_qb2[0],\n",
    "    description='Antwort:',\n",
    "    disabled=False,\n",
    ")\n",
    "q_b3 = widgets.Dropdown(\n",
    "    options= options_qb3,\n",
    "    value=options_qb3[0],\n",
    "    description='Antwort:',\n",
    "    disabled=False,\n",
    ")\n",
    "q_b4 = widgets.Dropdown(\n",
    "    options= options_qb3,\n",
    "    value=options_qb4[0],\n",
    "    description='Antwort:',\n",
    "    disabled=False,\n",
    ")\n",
    "mode_selection = widgets.ToggleButtons(\n",
    "    options = ['Entscheidungshilfe', 'Übersicht'],\n",
    "    value = 'Entscheidungshilfe',\n",
    "    disabled=False,\n",
    "    layout = widgets.Layout(width = '800px')\n",
    ")\n",
    "\n",
    "# decision logic\n",
    "def result_qb():\n",
    "    global lense\n",
    "    r_b1 = q_b1.value\n",
    "    r_b2 = q_b2.value\n",
    "    r_b3 = q_b3.value\n",
    "    r_b4 = q_b4.value\n",
    "    \n",
    "    \n",
    "    clear_output(wait=True)\n",
    "    display(mode_selection, text_b1, q_b1, text_b2, q_b2, text_b3, q_b3, text_b4, q_b4)\n",
    "    \n",
    "    if r_b1 == options_qb1[0]: #flach\n",
    "        if r_b2 == options_qb2[0]: #reflektierend\n",
    "            if r_b3 == options_qb3[0]: #Fläche hell\n",
    "                if r_b4 == options_qb4[0]: #Kanten hell\n",
    "                    display(widgets.HTML(value='<b>Standard Hellfeld, Standard Koaxial, Homogen koaxial</b>'))\n",
    "                    #Standard Hellfeld\n",
    "                    Hellfeld_fct()\n",
    "                    #Standard koaxial\n",
    "                    Standardkoaxial_fct()\n",
    "                    #Homogen koaxial diffus\n",
    "                    Homogenkoaxial_fct()\n",
    "                else:  # Kanten / Unebeheiten dunkel\n",
    "                    #telezentrisch koaxial\n",
    "                    display(widgets.HTML(value='<b>Telezentrisch koaxial</b>'))\n",
    "                    TelezentrischKoaxial_fct()\n",
    "            else: # fläche dunkel    \n",
    "                if r_b4 == options_qb4[0]: #Kanten hell\n",
    "                    #Dunkelfeldbeleuchtung\n",
    "                    ########Sonderfall nur Außenkonturen hell managen \n",
    "                    #Diffuse Durchlichtbeleuchtung\n",
    "                    #Telezentrische Hintergrundsbeleuchtung\n",
    "                    display(widgets.HTML(value='<b>Dunkelfeldbeleuchtung, diffuses Durchlicht, telezentrische Hintergrundsbeleuchtung</b>'))\n",
    "                    Dunkelfeldbeleuchtung_fct()\n",
    "                    Durchlichtdiffus_refl_fct()\n",
    "                    TelezentrischHintergrund_fct() \n",
    "                else: # Kanten dunkel-> existiert nicht\n",
    "                    ###### existiert nicht\n",
    "                    display(widgets.HTML(value='<b>Kein typischer Anwendungsfall</b>'))             \n",
    "        else: #transparent\n",
    "            if r_b3 == options_qb3[0]: #Fläche hell\n",
    "                if r_b4 == options_qb4[0]: #Kanten hell\n",
    "                    ####### existiert nicht\n",
    "                    display(widgets.HTML(value='<b>Kein typischer Anwendungsfall</b>'))\n",
    "                else:  # Kanten dunkel\n",
    "                    #Diffuses Durchlicht\n",
    "                    display(widgets.HTML(value='<b>Diffuses Durchlicht</b>'))\n",
    "                    Durchlichtdiffus_transp_fct()\n",
    "            else: # Fläche dunkel    \n",
    "                if r_b4 == options_qb4[0]: #Kanten hell\n",
    "                    # Dunkelfeld Durchlicht\n",
    "                    # Dunkelfeld transmissiv\n",
    "                    display(widgets.HTML(value='<b>Dunkelfeld Durchlicht, Dunkelfeld transmissiv</b>'))\n",
    "                    DunkelfeldDurchlicht_fct()\n",
    "                    DunkelfeldTransmissiv_fct()\n",
    "                else: # Kanten dunkel-> existiert nicht   \n",
    "                    ###### exisitert nicht \n",
    "                    display(widgets.HTML(value='<b>Kein typischer Anwendungsfall</b>'))\n",
    "    else: # komplex / wellig \n",
    "        if r_b2 == options_qb2[0]: #reflektierend\n",
    "            if r_b3 == options_qb3[0]: #Fläche hell\n",
    "                if r_b4 == options_qb4[0]: #Kanten hell\n",
    "                        #Homogen koaxial\n",
    "                        #Dom flach\n",
    "                        #Dom\n",
    "                        display(widgets.HTML(value='<b>Homogen koaxial, Dom, Dom flach</b>'))\n",
    "                        Homogenkoaxial_fct()\n",
    "                        Dom_fct()\n",
    "                        Flachdom_fct()       \n",
    "                else:  # Kanten dunkel\n",
    "                        #####telezentrisch koaxial (wie oben)\n",
    "                        display(widgets.HTML(value='<b>Telezentrisch koaxial</b>'))\n",
    "                        TelezentrischKoaxial_fct()\n",
    "            else: ###### Fläche dunkel   \n",
    "                if r_b4 == options_qb4[0]: #Kanten hell\n",
    "                        #Dunkelfeldbeleuchtung\n",
    "                        display(widgets.HTML(value='<b>Dunkelfeldbeleuchtung</b>'))\n",
    "                        Dunkelfeldbeleuchtung_fct()\n",
    "                else: # Kanten dunkel-> existiert nicht\n",
    "                        ###### existiert nicht\n",
    "                        display(widgets.HTML(value='<b>Kein typischer Anwendungsfall</b>'))\n",
    "        else: #transparent\n",
    "            if r_b3 == options_qb3[0]: #Fläche hell\n",
    "                if r_b4 == options_qb4[0]: #Kanten hell\n",
    "                        ####### existiert nicht\n",
    "                        display(widgets.HTML(value='<b>Kein typischer Anwendungsfall</b>'))\n",
    "                else:  # Kanten dunkel\n",
    "                        #Diffuses Durchlicht\n",
    "                        display(widgets.HTML(value='<b>Diffuses Durchlicht</b>'))\n",
    "                        Durchlichtdiffus_transp_fct()\n",
    "            else: # Fläche dunkel    \n",
    "                if r_b4 == options_qb4[0]: #Kanten hell\n",
    "                        # Telezentrische Hintergrundsbeleuchtung\n",
    "                        display(widgets.HTML(value='<b>Telezentrische Hintergrundsbeleuchtung</b>'))\n",
    "                        TelezentrischHintergrund_fct()\n",
    "                else: # Kanten dunkel-> existiert nicht   \n",
    "                        ###### exisiterit nicht\n",
    "                        display(widgets.HTML(value='<b>Kein typischer Anwendungsfall</b>'))\n",
    "    display(doublebreak)\n",
    "\n",
    "                        \n",
    "def mode_qb():\n",
    "    if mode_selection.value == 'Entscheidungshilfe':\n",
    "        result_qb()\n",
    "    else:\n",
    "        clear_output(wait=True)\n",
    "        display(mode_selection)\n",
    "        show_all_light()\n",
    "        display(doublebreak)\n",
    "        \n",
    "def on_change_qb(change):\n",
    "    if change['type'] == 'change' and change['name'] == 'value':\n",
    "        result_qb()\n",
    "\n",
    "def selection_qb(change):\n",
    "    if change['type'] == 'change' and change['name'] == 'value':\n",
    "        mode_qb()        \n",
    "                \n",
    "q_b1.observe(on_change_qb)\n",
    "q_b2.observe(on_change_qb)\n",
    "q_b3.observe(on_change_qb)\n",
    "q_b4.observe(on_change_qb)\n",
    "mode_selection.observe(selection_qb)\n",
    "result_qb()\n",
    "\n",
    "# Logik zur Wertübergabe"
   ]
  },
  {
   "cell_type": "markdown",
   "metadata": {},
   "source": [
    "## 6) Auswahl ML vs konventionelle Bildverarbeitung"
   ]
  },
  {
   "cell_type": "code",
   "execution_count": null,
   "metadata": {
    "scrolled": false
   },
   "outputs": [],
   "source": []
  },
  {
   "cell_type": "code",
   "execution_count": null,
   "metadata": {},
   "outputs": [],
   "source": [
    "# 1 Transparenzbedarf\n",
    "# (2 Verfügbare Datenanzahl / Stückzahl von Fehlern / varianten)\n",
    "# 3 Verfügbare Rechenleistung / Einschränkungen coloud Service\n",
    "# 4: Auswahl der Aufgabenart: \n",
    "    # Konventionell muss mit drin sein falls: Barcode, Vermessung, \n",
    "    # DL möglcih falls: KLassifizierung (OCR)/ Objektlokalisierung / Anomaliedetektion\n",
    "# 5: Komplexität der Aufgabe (Beispiele für Formen geben, die nicht als Anomalie gelten sollen)"
   ]
  },
  {
   "cell_type": "code",
   "execution_count": 14,
   "metadata": {},
   "outputs": [
    {
     "data": {
      "application/vnd.jupyter.widget-view+json": {
       "model_id": "8f4f572335c94d1196ca1c9a70927256",
       "version_major": 2,
       "version_minor": 0
      },
      "text/plain": [
       "Button(description='Entscheidungshilfe', style=ButtonStyle(), tooltip='Click me')"
      ]
     },
     "metadata": {},
     "output_type": "display_data"
    }
   ],
   "source": [
    "\n",
    "widgets.Button(\n",
    "    description='Entscheidungshilfe',\n",
    "    disabled=False,\n",
    "    button_style='', # 'success', 'info', 'warning', 'danger' or ''\n",
    "    tooltip='Click me'\n",
    ")\n",
    "\n",
    "\n"
   ]
  },
  {
   "cell_type": "code",
   "execution_count": 6,
   "metadata": {},
   "outputs": [],
   "source": [
    "'''\n",
    "text_ml1 = widgets.HTML(value='1) Transparenzbedarf: <br> Bedarf die Anwendung klar definierten Regeln/Kriterien, anhand derer über die Qualität eines Objektes entschieden wird (z.B. aufgrund von vertraglichen Anforderungen)?')\n",
    "text_ml2 = widgets.HTML(value='2) Datengrundlage ?')\n",
    "text_ml3 = widgets.HTML(value='3) Handelt es sich um eine sehr präzise Messaufgabe, bei der perspektivische Verzerrungen oder Verzeichnungen das Ergebnis verfälschen würden?') # Explain these terminologies\n",
    "\n",
    "\n",
    "options_qml1=['Nein','Ja']\n",
    "options_qml2=['Ja, es bedarf menschlich klar nachvollziehbarer Logikkriterien', 'Nein, statistisch validierte Überprüfungsmethoden sind ausreichend']\n",
    "lense = 'Festbrennweite'\n",
    "\n",
    "q_ml1 = widgets.Dropdown(\n",
    "    options= options_qml2,\n",
    "    value=options_qml2[0],\n",
    "    description='Antwort:',\n",
    "    disabled=False,\n",
    ")\n",
    "q_ml2 = widgets.Dropdown(\n",
    "    options= options_qml1,\n",
    "    value=options_qml1[0],\n",
    "    description='Antwort:',\n",
    "    disabled=False,\n",
    ")\n",
    "q_ml3 = widgets.Dropdown(\n",
    "    options= options_qml1,\n",
    "    value=options_qml1[0],\n",
    "    description='Antwort:',\n",
    "    disabled=False,\n",
    ")\n",
    "\n",
    "# decision logic\n",
    "def result_qml():\n",
    "    global lense\n",
    "    r_ml1 = q_ml1.value\n",
    "    r_ml2 = q_ml2.value\n",
    "    r_ml3 = q_ml3.value\n",
    "       \n",
    "    if r_ml2 == options_qml1[1]: # Spezialfall\n",
    "        method = widgets.HTML(value='<b>Spezialfall: Fish-eye Optik</b>')\n",
    "    else:\n",
    "        if r_ml1 == options_qml1[0]: # dynamisch\n",
    "            if r_ml3 == options_qml1[1]: # Telezentrie mehrere\n",
    "                method = widgets.HTML(value='<b>Mehrere telezentrische Objektive</b>')\n",
    "                lense = 'Telezentrisch'\n",
    "            else: #  zoomObjektiv  \n",
    "                method = widgets.HTML(value='<b>Zoom Objektiv</b>')\n",
    "        else: # statisch \n",
    "            if r_ml3 == options_qml1[1]: # Telezentrie normal\n",
    "                method = widgets.HTML(value='<b>Telezentrisches Objektiv</b>')\n",
    "                lense = 'Telezentrisch'\n",
    "            else: #  zoomObjektiv  \n",
    "                method = widgets.HTML(value='<b>Festbrennweitenobjektiv</b>')\n",
    "                lense = 'Festbrennweite'\n",
    "           \n",
    "    clear_output(wait=True)\n",
    "    display(text_ml1, q_ml1, text_ml2, q_ml2, text_ml3, q_ml3, method, doublebreak)\n",
    "           \n",
    "\n",
    "def on_change_qo(change):\n",
    "    if change['type'] == 'change' and change['name'] == 'value':\n",
    "        result_qml()\n",
    "         \n",
    "\n",
    "q_ml1.observe(on_change_qo)\n",
    "q_ml2.observe(on_change_qo)\n",
    "q_ml3.observe(on_change_qo)\n",
    "result_qml()\n",
    "'''\n",
    "a = 0"
   ]
  },
  {
   "cell_type": "code",
   "execution_count": null,
   "metadata": {},
   "outputs": [],
   "source": []
  },
  {
   "cell_type": "code",
   "execution_count": null,
   "metadata": {},
   "outputs": [],
   "source": []
  },
  {
   "cell_type": "code",
   "execution_count": null,
   "metadata": {},
   "outputs": [],
   "source": []
  },
  {
   "cell_type": "code",
   "execution_count": null,
   "metadata": {},
   "outputs": [],
   "source": []
  },
  {
   "cell_type": "code",
   "execution_count": 7,
   "metadata": {},
   "outputs": [],
   "source": [
    "'''VBox([widgets.ToggleButton(\n",
    "    value=False,\n",
    "    description='Fixiert',\n",
    "    disabled=False,\n",
    "    button_style='', # 'success', 'info', 'warning', 'danger' or ''\n",
    "    tooltip='Hallo Welt',\n",
    "    icon='' # (FontAwesome names without the `fa-` prefix)\n",
    "),widgets.ToggleButton(\n",
    "    value=False,\n",
    "    description='Verstellbar',\n",
    "    disabled=False,\n",
    "    button_style='', # 'success', 'info', 'warning', 'danger' or ''\n",
    "    tooltip='Hallo Welt',\n",
    "    icon='' # (FontAwesome names without the `fa-` prefix)\n",
    ")])\n",
    "'''\n",
    "a = 0"
   ]
  },
  {
   "cell_type": "code",
   "execution_count": null,
   "metadata": {},
   "outputs": [],
   "source": [
    "\n",
    "\n"
   ]
  },
  {
   "cell_type": "code",
   "execution_count": null,
   "metadata": {},
   "outputs": [],
   "source": []
  },
  {
   "cell_type": "code",
   "execution_count": null,
   "metadata": {},
   "outputs": [],
   "source": []
  },
  {
   "cell_type": "code",
   "execution_count": 333,
   "metadata": {},
   "outputs": [],
   "source": []
  },
  {
   "cell_type": "code",
   "execution_count": null,
   "metadata": {},
   "outputs": [],
   "source": []
  },
  {
   "cell_type": "code",
   "execution_count": null,
   "metadata": {},
   "outputs": [],
   "source": []
  },
  {
   "cell_type": "code",
   "execution_count": null,
   "metadata": {},
   "outputs": [],
   "source": []
  },
  {
   "cell_type": "code",
   "execution_count": null,
   "metadata": {
    "scrolled": false
   },
   "outputs": [],
   "source": []
  },
  {
   "cell_type": "code",
   "execution_count": null,
   "metadata": {},
   "outputs": [],
   "source": []
  },
  {
   "cell_type": "code",
   "execution_count": 42,
   "metadata": {},
   "outputs": [],
   "source": []
  },
  {
   "cell_type": "code",
   "execution_count": null,
   "metadata": {},
   "outputs": [],
   "source": []
  },
  {
   "cell_type": "code",
   "execution_count": null,
   "metadata": {},
   "outputs": [],
   "source": []
  },
  {
   "cell_type": "code",
   "execution_count": null,
   "metadata": {},
   "outputs": [],
   "source": []
  },
  {
   "cell_type": "code",
   "execution_count": null,
   "metadata": {},
   "outputs": [],
   "source": []
  },
  {
   "cell_type": "code",
   "execution_count": null,
   "metadata": {},
   "outputs": [],
   "source": []
  },
  {
   "cell_type": "code",
   "execution_count": null,
   "metadata": {},
   "outputs": [],
   "source": []
  },
  {
   "cell_type": "code",
   "execution_count": null,
   "metadata": {},
   "outputs": [],
   "source": []
  },
  {
   "cell_type": "code",
   "execution_count": null,
   "metadata": {},
   "outputs": [],
   "source": []
  },
  {
   "cell_type": "code",
   "execution_count": null,
   "metadata": {},
   "outputs": [],
   "source": []
  },
  {
   "cell_type": "code",
   "execution_count": null,
   "metadata": {},
   "outputs": [],
   "source": []
  },
  {
   "cell_type": "code",
   "execution_count": null,
   "metadata": {},
   "outputs": [],
   "source": []
  },
  {
   "cell_type": "code",
   "execution_count": null,
   "metadata": {},
   "outputs": [],
   "source": []
  },
  {
   "cell_type": "code",
   "execution_count": null,
   "metadata": {},
   "outputs": [],
   "source": []
  }
 ],
 "metadata": {
  "kernelspec": {
   "display_name": "Python 3",
   "language": "python",
   "name": "python3"
  },
  "language_info": {
   "codemirror_mode": {
    "name": "ipython",
    "version": 3
   },
   "file_extension": ".py",
   "mimetype": "text/x-python",
   "name": "python",
   "nbconvert_exporter": "python",
   "pygments_lexer": "ipython3",
   "version": "3.6.8"
  }
 },
 "nbformat": 4,
 "nbformat_minor": 2
}
